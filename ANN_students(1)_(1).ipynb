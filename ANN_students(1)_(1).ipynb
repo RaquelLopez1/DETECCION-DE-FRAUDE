{
  "cells": [
    {
      "cell_type": "code",
      "execution_count": null,
      "metadata": {
        "id": "UVeblFb_Jx-1"
      },
      "outputs": [],
      "source": [
        "# Solo en google colab\n",
        "#Cambia el entorno de ejecución a TPU"
      ]
    },
    {
      "cell_type": "code",
      "execution_count": 2,
      "metadata": {
        "id": "PlPFjtU9Jx-3",
        "colab": {
          "base_uri": "https://localhost:8080/"
        },
        "outputId": "f21add61-e27c-42b7-a257-98a13fde4918"
      },
      "outputs": [
        {
          "output_type": "stream",
          "name": "stdout",
          "text": [
            "Collecting tensorflow_addons\n",
            "  Downloading tensorflow_addons-0.21.0-cp310-cp310-manylinux_2_17_x86_64.manylinux2014_x86_64.whl (612 kB)\n",
            "\u001b[?25l     \u001b[90m━━━━━━━━━━━━━━━━━━━━━━━━━━━━━━━━━━━━━━━━\u001b[0m \u001b[32m0.0/612.1 kB\u001b[0m \u001b[31m?\u001b[0m eta \u001b[36m-:--:--\u001b[0m\r\u001b[2K     \u001b[91m━━━━━━━━━━━━━━━━━━━━━━\u001b[0m\u001b[91m╸\u001b[0m\u001b[90m━━━━━━━━━━━━━━━\u001b[0m \u001b[32m368.6/612.1 kB\u001b[0m \u001b[31m10.7 MB/s\u001b[0m eta \u001b[36m0:00:01\u001b[0m\r\u001b[2K     \u001b[90m━━━━━━━━━━━━━━━━━━━━━━━━━━━━━━━━━━━━━━\u001b[0m \u001b[32m612.1/612.1 kB\u001b[0m \u001b[31m10.7 MB/s\u001b[0m eta \u001b[36m0:00:00\u001b[0m\n",
            "\u001b[?25hRequirement already satisfied: packaging in /usr/local/lib/python3.10/dist-packages (from tensorflow_addons) (23.1)\n",
            "Collecting typeguard<3.0.0,>=2.7 (from tensorflow_addons)\n",
            "  Downloading typeguard-2.13.3-py3-none-any.whl (17 kB)\n",
            "Installing collected packages: typeguard, tensorflow_addons\n",
            "Successfully installed tensorflow_addons-0.21.0 typeguard-2.13.3\n"
          ]
        }
      ],
      "source": [
        "# Solo en google colab\n",
        "# Instalar tensorflow_addons\n",
        "!pip install tensorflow_addons"
      ]
    },
    {
      "cell_type": "code",
      "execution_count": 11,
      "metadata": {
        "id": "ataoO787Jx-3"
      },
      "outputs": [],
      "source": [
        "import numpy as np\n",
        "import pandas as pd\n",
        "import tensorflow as tf\n",
        "import tensorflow_addons as tfa\n",
        "from tensorflow import keras #es una libreria\n",
        "from tensorflow.keras import layers\n",
        "import matplotlib as plt\n",
        "import seaborn as sns\n",
        "sns.set(style=\"darkgrid\")"
      ]
    },
    {
      "cell_type": "markdown",
      "metadata": {
        "id": "RaP2_73XJx-4"
      },
      "source": [
        "## Tensorflow\n",
        "\n",
        "¿Cuál es valor de $w$ que minimiza el valor de la siguiente función siendo $x = [100, -5, 2]$?\n",
        "\n",
        "$$x_0 + x_1w + x_2w^2$$\n",
        "\n",
        "#### Solución\n",
        "$w=5/4$\n",
        "\n",
        "### Definición del modelo"
      ]
    },
    {
      "cell_type": "code",
      "execution_count": 13,
      "metadata": {
        "id": "qQD73ppBJx-5",
        "colab": {
          "base_uri": "https://localhost:8080/"
        },
        "outputId": "3006dbb4-2dcb-414d-d1f3-0ab076071e8a"
      },
      "outputs": [
        {
          "output_type": "stream",
          "name": "stdout",
          "text": [
            "iterations:  0 ,\f:  98.0 ,\tw:  0.5\n",
            "iterations:  1 ,\f:  97.28 ,\tw:  0.8\n",
            "iterations:  2 ,\f:  97.0208 ,\tw:  0.98\n",
            "iterations:  3 ,\f:  96.92749 ,\tw:  1.088\n",
            "iterations:  4 ,\f:  96.8939 ,\tw:  1.1528001\n",
            "iterations:  5 ,\f:  96.881805 ,\tw:  1.1916801\n",
            "iterations:  6 ,\f:  96.87745 ,\tw:  1.215008\n",
            "iterations:  7 ,\f:  96.875885 ,\tw:  1.2290049\n",
            "iterations:  8 ,\f:  96.87532 ,\tw:  1.2374029\n",
            "iterations:  9 ,\f:  96.875114 ,\tw:  1.2424418\n",
            "iterations:  10 ,\f:  96.87504 ,\tw:  1.245465\n",
            "iterations:  11 ,\f:  96.875015 ,\tw:  1.247279\n",
            "iterations:  12 ,\f:  96.87501 ,\tw:  1.2483674\n",
            "iterations:  13 ,\f:  96.875 ,\tw:  1.2490205\n",
            "iterations:  14 ,\f:  96.875 ,\tw:  1.2494123\n",
            "iterations:  15 ,\f:  96.875 ,\tw:  1.2496474\n",
            "iterations:  16 ,\f:  96.875 ,\tw:  1.2497884\n",
            "iterations:  17 ,\f:  96.875 ,\tw:  1.249873\n",
            "iterations:  18 ,\f:  96.875 ,\tw:  1.2499238\n",
            "iterations:  19 ,\f:  96.875 ,\tw:  1.2499543\n"
          ]
        }
      ],
      "source": [
        "# Coeficientes a optimizar\n",
        "w = tf.Variable(0, name='w', dtype=tf.float32) #definido la variable\n",
        "# Función a optimizar/minimizar\n",
        "f = lambda: 2.*w**2. -5.*w + 100. #definido la función a minimizar\n",
        "\n",
        "# Optimizador de tipo descenso de gradiente estocástico\n",
        "optimizer = tf.optimizers.SGD(learning_rate=0.1) #algoritmo con los que voy a dar los saltos, SGD descenso del gradiente\n",
        "#learning_rate no puede ser ni muy grande ni muy pequeño\n",
        "# Iteramos 20 veces el optimizador\n",
        "for i in range(20):\n",
        "    optimizer.minimize(f,(w,))\n",
        "    print(\"iterations: \", i, \",\\f: \", f().numpy(), \",\\tw: \", w.numpy())"
      ]
    },
    {
      "cell_type": "markdown",
      "metadata": {
        "id": "KVnZkQ2gJx-5"
      },
      "source": [
        "## Perceptrón simple: Compuertas AND, OR y XOR"
      ]
    },
    {
      "cell_type": "code",
      "execution_count": 14,
      "metadata": {
        "id": "3eFWJe-wJx-5"
      },
      "outputs": [],
      "source": [
        "# Entradas a la compuerta\n",
        "X = np.array([[0.,0.],[0.,1.],[1.,0.],[1.,1.]], dtype=np.float32)\n",
        "\n",
        "y_and = np.array([[0.],[0.],[0.],[1.]], dtype=np.float32)\n",
        "\n",
        "y_or = np.array([[0.],[1.],[1.],[1.]], dtype=np.float32)\n",
        "\n",
        "y_xor = np.array([[0.],[1.],[1.],[0.]], dtype=np.float32)"
      ]
    },
    {
      "cell_type": "code",
      "execution_count": 21,
      "metadata": {
        "id": "lPbgU43HJx-6",
        "colab": {
          "base_uri": "https://localhost:8080/"
        },
        "outputId": "5fb804c8-c164-4463-e08b-6472df766f95"
      },
      "outputs": [
        {
          "output_type": "stream",
          "name": "stdout",
          "text": [
            "Output [0. 0. 0. 0.]\n"
          ]
        }
      ],
      "source": [
        "# Definimos los pesos y bias\n",
        "W = tf.constant([[0.], [0.]], name='w', dtype=tf.float32)\n",
        "b = tf.constant(0., name='b', dtype=tf.float32)\n",
        "\n",
        "# Perceptrón simple (con función de activación sigmoide)\n",
        "y_ = tf.nn.sigmoid(tf.matmul(X,W, name='mat_mul') + b, name='sigmoide')\n",
        "\n",
        "# Resultado\n",
        "print(\"Output\", np.round(y_.numpy()).reshape(4,))"
      ]
    },
    {
      "cell_type": "markdown",
      "metadata": {
        "id": "SE4dB3fIJx-6"
      },
      "source": [
        "#### Probemos ahora optimizando con tensorflow"
      ]
    },
    {
      "cell_type": "code",
      "execution_count": 24,
      "metadata": {
        "id": "d3Y3OQDoJx-6"
      },
      "outputs": [],
      "source": [
        "# Definimos los pesos, ahora son variables porque tenemos que optimizarlos\n",
        "W = tf.Variable(tf.random.normal(shape=[2,1],stddev=1./np.sqrt(2)), name='w', dtype=tf.float32)\n",
        "b = tf.Variable(tf.zeros(1), name='b', dtype=tf.float32)\n",
        "\n",
        "#Definimos las métricas\n",
        "cost = tf.metrics.Mean(name='cost')\n",
        "accuracy = tf.metrics.BinaryAccuracy(name='accuracy')\n",
        "\n",
        "#Definimos el optimizador (SGD)\n",
        "optimizer = tf.optimizers.SGD(learning_rate=0.25)\n",
        "\n",
        "@tf.function\n",
        "def train_step(X, y):\n",
        "    with tf.GradientTape() as tape:\n",
        "        # Se registran las funciones a optimizar\n",
        "        y_ = tf.nn.sigmoid(tf.matmul(X,W, name='mat_mul') + b, name='sigmoide')\n",
        "        # Usar binary_crossentropy\n",
        "        loss = tf.losses.binary_crossentropy(y,y_)\n",
        "    #Obtenemos los gradientes\n",
        "    gradients = tape.gradient(loss, (W, b))\n",
        "    #Optimizamos (1 paso)\n",
        "    optimizer.apply_gradients(zip(gradients, (W, b)))\n",
        "\n",
        "    #Calculamos las métricas\n",
        "    cost(loss)\n",
        "    accuracy(y, y_)"
      ]
    },
    {
      "cell_type": "markdown",
      "metadata": {
        "id": "_I9MxYYVJx-6"
      },
      "source": [
        "Probemos el funcionamiento de nuetro perceptron simple con las tres compuertas\n",
        "#### AND"
      ]
    },
    {
      "cell_type": "code",
      "execution_count": 25,
      "metadata": {
        "id": "rVP9sUXcJx-6",
        "colab": {
          "base_uri": "https://localhost:8080/"
        },
        "outputId": "03fdf805-c37f-4cf4-bab4-1a728b84c587"
      },
      "outputs": [
        {
          "output_type": "stream",
          "name": "stdout",
          "text": [
            "Epoch 1, Cost: 0.7306404709815979, Accuracy: 50.0\n",
            "Epoch 2, Cost: 0.6183978915214539, Accuracy: 75.0\n",
            "Epoch 3, Cost: 0.5641741752624512, Accuracy: 100.0\n",
            "Epoch 4, Cost: 0.5331952571868896, Accuracy: 75.0\n",
            "Epoch 5, Cost: 0.5114759206771851, Accuracy: 75.0\n",
            "Epoch 6, Cost: 0.4938541054725647, Accuracy: 75.0\n",
            "Epoch 7, Cost: 0.47838062047958374, Accuracy: 75.0\n",
            "Epoch 8, Cost: 0.46427249908447266, Accuracy: 75.0\n",
            "Epoch 9, Cost: 0.4511842131614685, Accuracy: 75.0\n",
            "Epoch 10, Cost: 0.43894070386886597, Accuracy: 75.0\n",
            "Epoch 11, Cost: 0.4274366796016693, Accuracy: 75.0\n",
            "Epoch 12, Cost: 0.41659748554229736, Accuracy: 75.0\n",
            "Epoch 13, Cost: 0.40636366605758667, Accuracy: 75.0\n",
            "Epoch 14, Cost: 0.396684467792511, Accuracy: 75.0\n",
            "Epoch 15, Cost: 0.38751521706581116, Accuracy: 100.0\n",
            "Epoch 16, Cost: 0.3788159191608429, Accuracy: 100.0\n",
            "Epoch 17, Cost: 0.3705504536628723, Accuracy: 100.0\n",
            "Epoch 18, Cost: 0.3626862168312073, Accuracy: 100.0\n",
            "Epoch 19, Cost: 0.3551936447620392, Accuracy: 100.0\n",
            "Epoch 20, Cost: 0.3480457663536072, Accuracy: 100.0\n",
            "Output [0. 0. 0. 1.]\n"
          ]
        }
      ],
      "source": [
        "EPOCHS = 20\n",
        "\n",
        "for epoch in range(EPOCHS):\n",
        "    # Reset the metrics at the start of the next epoch\n",
        "    cost.reset_states()\n",
        "    accuracy.reset_states()\n",
        "\n",
        "    train_step(X, y_and)\n",
        "\n",
        "    template = 'Epoch {}, Cost: {}, Accuracy: {}'\n",
        "    print(template.format(epoch+1,\n",
        "                        cost.result(),\n",
        "                        accuracy.result()*100))\n",
        "\n",
        "y_ = tf.nn.sigmoid(tf.matmul(X, W, name='matmul') + b, name=\"sigmoid\")\n",
        "print(\"Output\", np.round(y_.numpy()).reshape(4,))"
      ]
    },
    {
      "cell_type": "markdown",
      "metadata": {
        "id": "EqyyRL2wJx-6"
      },
      "source": [
        "#### OR\n",
        "Ejecutar primero el bloque donde se definen los pesos para reinicializar los valores"
      ]
    },
    {
      "cell_type": "code",
      "execution_count": 26,
      "metadata": {
        "id": "wcDiS3a8Jx-7",
        "colab": {
          "base_uri": "https://localhost:8080/"
        },
        "outputId": "ebe72262-7a17-49ec-9356-b7a9bac1bffe"
      },
      "outputs": [
        {
          "output_type": "stream",
          "name": "stdout",
          "text": [
            "Epoch 1, Cost: 0.8137547969818115, Accuracy: 50.0\n",
            "Epoch 2, Cost: 0.5090466141700745, Accuracy: 50.0\n",
            "Epoch 3, Cost: 0.3733975291252136, Accuracy: 100.0\n",
            "Epoch 4, Cost: 0.30594831705093384, Accuracy: 100.0\n",
            "Epoch 5, Cost: 0.2682705521583557, Accuracy: 100.0\n",
            "Epoch 6, Cost: 0.24512748420238495, Accuracy: 100.0\n",
            "Epoch 7, Cost: 0.22974658012390137, Accuracy: 100.0\n",
            "Epoch 8, Cost: 0.2188078910112381, Accuracy: 100.0\n",
            "Epoch 9, Cost: 0.210554301738739, Accuracy: 100.0\n",
            "Epoch 10, Cost: 0.20399850606918335, Accuracy: 100.0\n",
            "Epoch 11, Cost: 0.19855885207653046, Accuracy: 100.0\n",
            "Epoch 12, Cost: 0.19387929141521454, Accuracy: 100.0\n",
            "Epoch 13, Cost: 0.18973487615585327, Accuracy: 100.0\n",
            "Epoch 14, Cost: 0.18597976863384247, Accuracy: 100.0\n",
            "Epoch 15, Cost: 0.182516947388649, Accuracy: 100.0\n",
            "Epoch 16, Cost: 0.17928071320056915, Accuracy: 100.0\n",
            "Epoch 17, Cost: 0.17622552812099457, Accuracy: 100.0\n",
            "Epoch 18, Cost: 0.17331932485103607, Accuracy: 100.0\n",
            "Epoch 19, Cost: 0.17053893208503723, Accuracy: 100.0\n",
            "Epoch 20, Cost: 0.1678674966096878, Accuracy: 100.0\n",
            "Output [0. 1. 1. 1.]\n"
          ]
        }
      ],
      "source": [
        "EPOCHS = 20\n",
        "\n",
        "for epoch in range(EPOCHS):\n",
        "    # Reset the metrics at the start of the next epoch\n",
        "    cost.reset_states()\n",
        "    accuracy.reset_states()\n",
        "\n",
        "    train_step(X, y_or)\n",
        "\n",
        "    template = 'Epoch {}, Cost: {}, Accuracy: {}'\n",
        "    print(template.format(epoch+1,\n",
        "                        cost.result(),\n",
        "                        accuracy.result()*100))\n",
        "\n",
        "y_ = tf.nn.sigmoid(tf.matmul(X, W, name='matmul') + b, name=\"sigmoid\")\n",
        "print(\"Output\", np.round(y_.numpy()).reshape(4,))"
      ]
    },
    {
      "cell_type": "markdown",
      "metadata": {
        "id": "ucu5MrftJx-7"
      },
      "source": [
        "#### XOR\n",
        "Ejecutar primero el bloque donde se definen los pesos para reinicializar los valores"
      ]
    },
    {
      "cell_type": "code",
      "execution_count": 27,
      "metadata": {
        "id": "2BSI3w7sJx-7",
        "colab": {
          "base_uri": "https://localhost:8080/"
        },
        "outputId": "bd4da9dc-c506-4f72-e3c3-1a1402c02a4e"
      },
      "outputs": [
        {
          "output_type": "stream",
          "name": "stdout",
          "text": [
            "Epoch 1, Cost: 1.3225243091583252, Accuracy: 75.0\n",
            "Epoch 2, Cost: 1.1698497533798218, Accuracy: 75.0\n",
            "Epoch 3, Cost: 1.0545169115066528, Accuracy: 75.0\n",
            "Epoch 4, Cost: 0.972996175289154, Accuracy: 75.0\n",
            "Epoch 5, Cost: 0.9183843731880188, Accuracy: 75.0\n",
            "Epoch 6, Cost: 0.882753312587738, Accuracy: 75.0\n",
            "Epoch 7, Cost: 0.8592578172683716, Accuracy: 75.0\n",
            "Epoch 8, Cost: 0.8429831862449646, Accuracy: 25.0\n",
            "Epoch 9, Cost: 0.8308205604553223, Accuracy: 25.0\n",
            "Epoch 10, Cost: 0.820971667766571, Accuracy: 25.0\n",
            "Epoch 11, Cost: 0.8124614953994751, Accuracy: 25.0\n",
            "Epoch 12, Cost: 0.8047841787338257, Accuracy: 25.0\n",
            "Epoch 13, Cost: 0.797684907913208, Accuracy: 25.0\n",
            "Epoch 14, Cost: 0.7910361289978027, Accuracy: 25.0\n",
            "Epoch 15, Cost: 0.7847726941108704, Accuracy: 25.0\n",
            "Epoch 16, Cost: 0.7788592576980591, Accuracy: 25.0\n",
            "Epoch 17, Cost: 0.7732739448547363, Accuracy: 25.0\n",
            "Epoch 18, Cost: 0.7680010795593262, Accuracy: 25.0\n",
            "Epoch 19, Cost: 0.7630276083946228, Accuracy: 25.0\n",
            "Epoch 20, Cost: 0.7583413124084473, Accuracy: 25.0\n",
            "Output [0. 0. 0. 1.]\n"
          ]
        }
      ],
      "source": [
        "EPOCHS = 20\n",
        "\n",
        "for epoch in range(EPOCHS):\n",
        "    # Reset the metrics at the start of the next epoch\n",
        "    cost.reset_states()\n",
        "    accuracy.reset_states()\n",
        "\n",
        "    train_step(X, y_xor)\n",
        "\n",
        "    template = 'Epoch {}, Cost: {}, Accuracy: {}'\n",
        "    print(template.format(epoch+1,\n",
        "                        cost.result(),\n",
        "                        accuracy.result()*100))\n",
        "\n",
        "y_ = tf.nn.sigmoid(tf.matmul(X, W, name='matmul') + b, name=\"sigmoid\")\n",
        "print(\"Output\", np.round(y_.numpy()).reshape(4,))"
      ]
    },
    {
      "cell_type": "markdown",
      "metadata": {
        "id": "R0IE_0vPJx-7"
      },
      "source": [
        "#### ¿Qué ha sucedido con la compuerta XOR?"
      ]
    },
    {
      "cell_type": "markdown",
      "metadata": {
        "id": "zltc5oblJx-7"
      },
      "source": [
        "## Perceptrón Multicapa: Compuerta XOR\n",
        "Crear un perceptron multicapa con topología 2-2-1 (2 entradas, 2 ocultas y una salida)"
      ]
    },
    {
      "cell_type": "code",
      "execution_count": 28,
      "metadata": {
        "id": "N51ufDgQJx-7"
      },
      "outputs": [],
      "source": [
        "# Pesos del perceptrón multicapa\n",
        "Wh = tf.Variable(tf.random.normal(shape=[2,2],stddev=1./np.sqrt(2)), name='wh', dtype=tf.float32)\n",
        "bh = tf.Variable(tf.zeros(2), name='bh', dtype=tf.float32)\n",
        "\n",
        "Wo = tf.Variable(tf.random.normal(shape=[2,1],stddev=1./np.sqrt(2)), name='wh', dtype=tf.float32)\n",
        "bo = tf.Variable(tf.zeros(1), name='bh', dtype=tf.float32)\n",
        "\n",
        "#Definimos las métricas\n",
        "cost = tf.metrics.Mean(name='cost')\n",
        "accuracy = tf.metrics.BinaryAccuracy(name='accuracy')\n",
        "\n",
        "#Definimos el optimizador (SGD)\n",
        "optimizer = tf.optimizers.SGD(learning_rate=0.42)\n",
        "\n",
        "@tf.function\n",
        "def train_step(X, y):\n",
        "    with tf.GradientTape() as tape:\n",
        "        # Se registran las funciones a optimizar\n",
        "        # Perceptrón multicapa\n",
        "        #Capa oculta, usa la tangente hiberbolica porque es flexible que me permite usar variabilidad\n",
        "        a_h = tf.nn.tanh(tf.matmul(X, Wh) + bh, name='a_h')\n",
        "        #Capa de salida, sigmoide porque es de clasificacion binario\n",
        "        y_ = tf.nn.sigmoid(tf.matmul(a_h, Wo) + bo, name='y_')\n",
        "        # Usar binary_crossentropy\n",
        "        loss = tf.losses.binary_crossentropy(y,y_)\n",
        "    #Obtenemos los gradientes\n",
        "    gradients = tape.gradient(loss, (Wh, bh, Wo, bo))\n",
        "    #Optimizamos (1 paso)\n",
        "    optimizer.apply_gradients(zip(gradients, (Wh, bh, Wo, bo)))\n",
        "\n",
        "    #Calculamos las métricas\n",
        "    cost(loss)\n",
        "    accuracy(y,y_)"
      ]
    },
    {
      "cell_type": "markdown",
      "metadata": {
        "id": "fuEaUZQbJx-7"
      },
      "source": [
        "Ejecuta varias veces junto al anterior, no encuentra siempre la solución"
      ]
    },
    {
      "cell_type": "code",
      "execution_count": 29,
      "metadata": {
        "id": "ZWMeoypWJx-7",
        "colab": {
          "base_uri": "https://localhost:8080/"
        },
        "outputId": "67640252-6605-401a-d2ca-ed1de9afdc40"
      },
      "outputs": [
        {
          "output_type": "stream",
          "name": "stdout",
          "text": [
            "Epoch 1, Cost: 0.7496120929718018, Accuracy: 50.0\n",
            "Epoch 11, Cost: 0.6840208768844604, Accuracy: 50.0\n",
            "Epoch 21, Cost: 0.6359075307846069, Accuracy: 75.0\n",
            "Epoch 31, Cost: 0.5373520851135254, Accuracy: 75.0\n",
            "Epoch 41, Cost: 0.45352205634117126, Accuracy: 75.0\n",
            "Epoch 51, Cost: 0.40923011302948, Accuracy: 50.0\n",
            "Epoch 61, Cost: 0.38797223567962646, Accuracy: 50.0\n",
            "Epoch 71, Cost: 0.37663620710372925, Accuracy: 50.0\n",
            "Epoch 81, Cost: 0.36985790729522705, Accuracy: 50.0\n",
            "Epoch 91, Cost: 0.36543214321136475, Accuracy: 50.0\n",
            "Output [0. 0. 1. 1.]\n"
          ]
        }
      ],
      "source": [
        "EPOCHS = 100\n",
        "\n",
        "for epoch in range(EPOCHS):\n",
        "    # Reset the metrics at the start of the next epoch\n",
        "    cost.reset_states()\n",
        "    accuracy.reset_states()\n",
        "\n",
        "    train_step(X, y_xor)\n",
        "    if epoch%10==0:\n",
        "        template = 'Epoch {}, Cost: {}, Accuracy: {}'\n",
        "        print(template.format(epoch+1,\n",
        "                            cost.result(),\n",
        "                            accuracy.result()*100))\n",
        "\n",
        "y_ = tf.nn.sigmoid(tf.matmul(tf.nn.tanh(tf.matmul(X, Wh) + bh, name='a_h'), Wo) + bo, name='y_')\n",
        "print(\"Output\", np.round(y_.numpy()).reshape(4,))"
      ]
    },
    {
      "cell_type": "markdown",
      "metadata": {
        "id": "lwvr-TBKJx-7"
      },
      "source": [
        "## Problema regresión: Diabetes\n",
        "## TENEMOS QUE HACERLO NOSOTRAS"
      ]
    },
    {
      "cell_type": "code",
      "execution_count": 30,
      "metadata": {
        "id": "R7Z9G64fJx-8"
      },
      "outputs": [],
      "source": [
        "import io\n",
        "import requests\n",
        "\n",
        "\n",
        "# https://www4.stat.ncsu.edu/~boos/var.select/diabetes.html\n",
        "# age, sex, body mass index, average blood pressure, and six blood serum measurements\n",
        "url=\"https://www4.stat.ncsu.edu/~boos/var.select/diabetes.tab.txt\"\n",
        "c=requests.get(url).content\n",
        "diabetes=pd.read_csv(io.StringIO(c.decode('utf-8')), sep='\\t')"
      ]
    },
    {
      "cell_type": "code",
      "execution_count": 31,
      "metadata": {
        "id": "u7SZTpRaJx-8",
        "colab": {
          "base_uri": "https://localhost:8080/",
          "height": 206
        },
        "outputId": "563830a6-c290-4909-e113-e09a7025b2e7"
      },
      "outputs": [
        {
          "output_type": "execute_result",
          "data": {
            "text/plain": [
              "   AGE  SEX   BMI     BP   S1     S2    S3   S4      S5  S6    Y\n",
              "0   59    2  32.1  101.0  157   93.2  38.0  4.0  4.8598  87  151\n",
              "1   48    1  21.6   87.0  183  103.2  70.0  3.0  3.8918  69   75\n",
              "2   72    2  30.5   93.0  156   93.6  41.0  4.0  4.6728  85  141\n",
              "3   24    1  25.3   84.0  198  131.4  40.0  5.0  4.8903  89  206\n",
              "4   50    1  23.0  101.0  192  125.4  52.0  4.0  4.2905  80  135"
            ],
            "text/html": [
              "\n",
              "\n",
              "  <div id=\"df-bea46b6d-c558-44e9-b39a-f8f7ba6a0607\">\n",
              "    <div class=\"colab-df-container\">\n",
              "      <div>\n",
              "<style scoped>\n",
              "    .dataframe tbody tr th:only-of-type {\n",
              "        vertical-align: middle;\n",
              "    }\n",
              "\n",
              "    .dataframe tbody tr th {\n",
              "        vertical-align: top;\n",
              "    }\n",
              "\n",
              "    .dataframe thead th {\n",
              "        text-align: right;\n",
              "    }\n",
              "</style>\n",
              "<table border=\"1\" class=\"dataframe\">\n",
              "  <thead>\n",
              "    <tr style=\"text-align: right;\">\n",
              "      <th></th>\n",
              "      <th>AGE</th>\n",
              "      <th>SEX</th>\n",
              "      <th>BMI</th>\n",
              "      <th>BP</th>\n",
              "      <th>S1</th>\n",
              "      <th>S2</th>\n",
              "      <th>S3</th>\n",
              "      <th>S4</th>\n",
              "      <th>S5</th>\n",
              "      <th>S6</th>\n",
              "      <th>Y</th>\n",
              "    </tr>\n",
              "  </thead>\n",
              "  <tbody>\n",
              "    <tr>\n",
              "      <th>0</th>\n",
              "      <td>59</td>\n",
              "      <td>2</td>\n",
              "      <td>32.1</td>\n",
              "      <td>101.0</td>\n",
              "      <td>157</td>\n",
              "      <td>93.2</td>\n",
              "      <td>38.0</td>\n",
              "      <td>4.0</td>\n",
              "      <td>4.8598</td>\n",
              "      <td>87</td>\n",
              "      <td>151</td>\n",
              "    </tr>\n",
              "    <tr>\n",
              "      <th>1</th>\n",
              "      <td>48</td>\n",
              "      <td>1</td>\n",
              "      <td>21.6</td>\n",
              "      <td>87.0</td>\n",
              "      <td>183</td>\n",
              "      <td>103.2</td>\n",
              "      <td>70.0</td>\n",
              "      <td>3.0</td>\n",
              "      <td>3.8918</td>\n",
              "      <td>69</td>\n",
              "      <td>75</td>\n",
              "    </tr>\n",
              "    <tr>\n",
              "      <th>2</th>\n",
              "      <td>72</td>\n",
              "      <td>2</td>\n",
              "      <td>30.5</td>\n",
              "      <td>93.0</td>\n",
              "      <td>156</td>\n",
              "      <td>93.6</td>\n",
              "      <td>41.0</td>\n",
              "      <td>4.0</td>\n",
              "      <td>4.6728</td>\n",
              "      <td>85</td>\n",
              "      <td>141</td>\n",
              "    </tr>\n",
              "    <tr>\n",
              "      <th>3</th>\n",
              "      <td>24</td>\n",
              "      <td>1</td>\n",
              "      <td>25.3</td>\n",
              "      <td>84.0</td>\n",
              "      <td>198</td>\n",
              "      <td>131.4</td>\n",
              "      <td>40.0</td>\n",
              "      <td>5.0</td>\n",
              "      <td>4.8903</td>\n",
              "      <td>89</td>\n",
              "      <td>206</td>\n",
              "    </tr>\n",
              "    <tr>\n",
              "      <th>4</th>\n",
              "      <td>50</td>\n",
              "      <td>1</td>\n",
              "      <td>23.0</td>\n",
              "      <td>101.0</td>\n",
              "      <td>192</td>\n",
              "      <td>125.4</td>\n",
              "      <td>52.0</td>\n",
              "      <td>4.0</td>\n",
              "      <td>4.2905</td>\n",
              "      <td>80</td>\n",
              "      <td>135</td>\n",
              "    </tr>\n",
              "  </tbody>\n",
              "</table>\n",
              "</div>\n",
              "      <button class=\"colab-df-convert\" onclick=\"convertToInteractive('df-bea46b6d-c558-44e9-b39a-f8f7ba6a0607')\"\n",
              "              title=\"Convert this dataframe to an interactive table.\"\n",
              "              style=\"display:none;\">\n",
              "\n",
              "  <svg xmlns=\"http://www.w3.org/2000/svg\" height=\"24px\"viewBox=\"0 0 24 24\"\n",
              "       width=\"24px\">\n",
              "    <path d=\"M0 0h24v24H0V0z\" fill=\"none\"/>\n",
              "    <path d=\"M18.56 5.44l.94 2.06.94-2.06 2.06-.94-2.06-.94-.94-2.06-.94 2.06-2.06.94zm-11 1L8.5 8.5l.94-2.06 2.06-.94-2.06-.94L8.5 2.5l-.94 2.06-2.06.94zm10 10l.94 2.06.94-2.06 2.06-.94-2.06-.94-.94-2.06-.94 2.06-2.06.94z\"/><path d=\"M17.41 7.96l-1.37-1.37c-.4-.4-.92-.59-1.43-.59-.52 0-1.04.2-1.43.59L10.3 9.45l-7.72 7.72c-.78.78-.78 2.05 0 2.83L4 21.41c.39.39.9.59 1.41.59.51 0 1.02-.2 1.41-.59l7.78-7.78 2.81-2.81c.8-.78.8-2.07 0-2.86zM5.41 20L4 18.59l7.72-7.72 1.47 1.35L5.41 20z\"/>\n",
              "  </svg>\n",
              "      </button>\n",
              "\n",
              "\n",
              "\n",
              "    <div id=\"df-9ab9f9c9-88ab-455f-b720-fb91f5cb7595\">\n",
              "      <button class=\"colab-df-quickchart\" onclick=\"quickchart('df-9ab9f9c9-88ab-455f-b720-fb91f5cb7595')\"\n",
              "              title=\"Suggest charts.\"\n",
              "              style=\"display:none;\">\n",
              "\n",
              "<svg xmlns=\"http://www.w3.org/2000/svg\" height=\"24px\"viewBox=\"0 0 24 24\"\n",
              "     width=\"24px\">\n",
              "    <g>\n",
              "        <path d=\"M19 3H5c-1.1 0-2 .9-2 2v14c0 1.1.9 2 2 2h14c1.1 0 2-.9 2-2V5c0-1.1-.9-2-2-2zM9 17H7v-7h2v7zm4 0h-2V7h2v10zm4 0h-2v-4h2v4z\"/>\n",
              "    </g>\n",
              "</svg>\n",
              "      </button>\n",
              "    </div>\n",
              "\n",
              "<style>\n",
              "  .colab-df-quickchart {\n",
              "    background-color: #E8F0FE;\n",
              "    border: none;\n",
              "    border-radius: 50%;\n",
              "    cursor: pointer;\n",
              "    display: none;\n",
              "    fill: #1967D2;\n",
              "    height: 32px;\n",
              "    padding: 0 0 0 0;\n",
              "    width: 32px;\n",
              "  }\n",
              "\n",
              "  .colab-df-quickchart:hover {\n",
              "    background-color: #E2EBFA;\n",
              "    box-shadow: 0px 1px 2px rgba(60, 64, 67, 0.3), 0px 1px 3px 1px rgba(60, 64, 67, 0.15);\n",
              "    fill: #174EA6;\n",
              "  }\n",
              "\n",
              "  [theme=dark] .colab-df-quickchart {\n",
              "    background-color: #3B4455;\n",
              "    fill: #D2E3FC;\n",
              "  }\n",
              "\n",
              "  [theme=dark] .colab-df-quickchart:hover {\n",
              "    background-color: #434B5C;\n",
              "    box-shadow: 0px 1px 3px 1px rgba(0, 0, 0, 0.15);\n",
              "    filter: drop-shadow(0px 1px 2px rgba(0, 0, 0, 0.3));\n",
              "    fill: #FFFFFF;\n",
              "  }\n",
              "</style>\n",
              "\n",
              "    <script>\n",
              "      async function quickchart(key) {\n",
              "        const containerElement = document.querySelector('#' + key);\n",
              "        const charts = await google.colab.kernel.invokeFunction(\n",
              "            'suggestCharts', [key], {});\n",
              "      }\n",
              "    </script>\n",
              "\n",
              "      <script>\n",
              "\n",
              "function displayQuickchartButton(domScope) {\n",
              "  let quickchartButtonEl =\n",
              "    domScope.querySelector('#df-9ab9f9c9-88ab-455f-b720-fb91f5cb7595 button.colab-df-quickchart');\n",
              "  quickchartButtonEl.style.display =\n",
              "    google.colab.kernel.accessAllowed ? 'block' : 'none';\n",
              "}\n",
              "\n",
              "        displayQuickchartButton(document);\n",
              "      </script>\n",
              "      <style>\n",
              "    .colab-df-container {\n",
              "      display:flex;\n",
              "      flex-wrap:wrap;\n",
              "      gap: 12px;\n",
              "    }\n",
              "\n",
              "    .colab-df-convert {\n",
              "      background-color: #E8F0FE;\n",
              "      border: none;\n",
              "      border-radius: 50%;\n",
              "      cursor: pointer;\n",
              "      display: none;\n",
              "      fill: #1967D2;\n",
              "      height: 32px;\n",
              "      padding: 0 0 0 0;\n",
              "      width: 32px;\n",
              "    }\n",
              "\n",
              "    .colab-df-convert:hover {\n",
              "      background-color: #E2EBFA;\n",
              "      box-shadow: 0px 1px 2px rgba(60, 64, 67, 0.3), 0px 1px 3px 1px rgba(60, 64, 67, 0.15);\n",
              "      fill: #174EA6;\n",
              "    }\n",
              "\n",
              "    [theme=dark] .colab-df-convert {\n",
              "      background-color: #3B4455;\n",
              "      fill: #D2E3FC;\n",
              "    }\n",
              "\n",
              "    [theme=dark] .colab-df-convert:hover {\n",
              "      background-color: #434B5C;\n",
              "      box-shadow: 0px 1px 3px 1px rgba(0, 0, 0, 0.15);\n",
              "      filter: drop-shadow(0px 1px 2px rgba(0, 0, 0, 0.3));\n",
              "      fill: #FFFFFF;\n",
              "    }\n",
              "  </style>\n",
              "\n",
              "      <script>\n",
              "        const buttonEl =\n",
              "          document.querySelector('#df-bea46b6d-c558-44e9-b39a-f8f7ba6a0607 button.colab-df-convert');\n",
              "        buttonEl.style.display =\n",
              "          google.colab.kernel.accessAllowed ? 'block' : 'none';\n",
              "\n",
              "        async function convertToInteractive(key) {\n",
              "          const element = document.querySelector('#df-bea46b6d-c558-44e9-b39a-f8f7ba6a0607');\n",
              "          const dataTable =\n",
              "            await google.colab.kernel.invokeFunction('convertToInteractive',\n",
              "                                                     [key], {});\n",
              "          if (!dataTable) return;\n",
              "\n",
              "          const docLinkHtml = 'Like what you see? Visit the ' +\n",
              "            '<a target=\"_blank\" href=https://colab.research.google.com/notebooks/data_table.ipynb>data table notebook</a>'\n",
              "            + ' to learn more about interactive tables.';\n",
              "          element.innerHTML = '';\n",
              "          dataTable['output_type'] = 'display_data';\n",
              "          await google.colab.output.renderOutput(dataTable, element);\n",
              "          const docLink = document.createElement('div');\n",
              "          docLink.innerHTML = docLinkHtml;\n",
              "          element.appendChild(docLink);\n",
              "        }\n",
              "      </script>\n",
              "    </div>\n",
              "  </div>\n"
            ]
          },
          "metadata": {},
          "execution_count": 31
        }
      ],
      "source": [
        "diabetes.head()"
      ]
    },
    {
      "cell_type": "code",
      "execution_count": 35,
      "metadata": {
        "id": "i8HSAB-UJx-8"
      },
      "outputs": [],
      "source": [
        "from sklearn.model_selection import train_test_split\n",
        "\n",
        "diabetes['SEX'] -= 1\n",
        "X_train, X_test, y_train, y_test = train_test_split(diabetes.drop('Y', axis=1).values,\n",
        "                                                    #Aniadimos una dimension para que sea un vector columna\n",
        "                                                    diabetes['Y'].values[..., np.newaxis],\n",
        "                                                    test_size=0.2, random_state=0)"
      ]
    },
    {
      "cell_type": "code",
      "source": [],
      "metadata": {
        "id": "ADnXzy622IHn"
      },
      "execution_count": null,
      "outputs": []
    },
    {
      "cell_type": "code",
      "execution_count": 33,
      "metadata": {
        "id": "-Mrm64ABJx-8"
      },
      "outputs": [],
      "source": [
        "from sklearn.preprocessing import StandardScaler\n",
        "\n",
        "class StandardScalerSelection(StandardScaler):\n",
        "    '''Solo funciona con pandas '''\n",
        "\n",
        "    def __init__(self, copy=True, with_mean=True, with_std=True, skip_cols=None):\n",
        "        self.skip_cols = np.array(skip_cols).flatten().tolist()\n",
        "        super().__init__(copy, with_mean, with_std)\n",
        "\n",
        "    def fit(self, X, y=None):\n",
        "        return super().fit(np.delete(X, self.skip_cols, axis=1))\n",
        "\n",
        "    def transform(self, X):\n",
        "        X_scl = super().transform(np.delete(X, self.skip_cols, axis=1))\n",
        "        # Restar uno por cada indice anterior para que asi se inserte en su posición\n",
        "        idx = np.array(skip_cols)-np.arange(len(skip_cols))\n",
        "        return np.insert(X_scl, idx, X[:,self.skip_cols], axis=1)"
      ]
    },
    {
      "cell_type": "code",
      "execution_count": 34,
      "metadata": {
        "id": "o-FbYa49Jx-8",
        "colab": {
          "base_uri": "https://localhost:8080/",
          "height": 356
        },
        "outputId": "46f9b0ce-5315-4c0f-cb74-a9ef212a774e"
      },
      "outputs": [
        {
          "output_type": "error",
          "ename": "TypeError",
          "evalue": "ignored",
          "traceback": [
            "\u001b[0;31m---------------------------------------------------------------------------\u001b[0m",
            "\u001b[0;31mTypeError\u001b[0m                                 Traceback (most recent call last)",
            "\u001b[0;32m<ipython-input-34-07de4ee4b111>\u001b[0m in \u001b[0;36m<cell line: 2>\u001b[0;34m()\u001b[0m\n\u001b[1;32m      1\u001b[0m \u001b[0mskip_cols\u001b[0m \u001b[0;34m=\u001b[0m \u001b[0msorted\u001b[0m\u001b[0;34m(\u001b[0m\u001b[0;34m[\u001b[0m\u001b[0mdiabetes\u001b[0m\u001b[0;34m.\u001b[0m\u001b[0mcolumns\u001b[0m\u001b[0;34m.\u001b[0m\u001b[0mget_loc\u001b[0m\u001b[0;34m(\u001b[0m\u001b[0mc\u001b[0m\u001b[0;34m)\u001b[0m \u001b[0;32mfor\u001b[0m \u001b[0mc\u001b[0m \u001b[0;32min\u001b[0m \u001b[0;34m[\u001b[0m\u001b[0;34m'SEX'\u001b[0m\u001b[0;34m]\u001b[0m \u001b[0;32mif\u001b[0m \u001b[0mc\u001b[0m \u001b[0;32min\u001b[0m \u001b[0mdiabetes\u001b[0m\u001b[0;34m]\u001b[0m\u001b[0;34m)\u001b[0m\u001b[0;34m\u001b[0m\u001b[0;34m\u001b[0m\u001b[0m\n\u001b[0;32m----> 2\u001b[0;31m \u001b[0mscaler\u001b[0m \u001b[0;34m=\u001b[0m \u001b[0mStandardScalerSelection\u001b[0m\u001b[0;34m(\u001b[0m\u001b[0mskip_cols\u001b[0m\u001b[0;34m=\u001b[0m\u001b[0mskip_cols\u001b[0m\u001b[0;34m)\u001b[0m\u001b[0;34m\u001b[0m\u001b[0;34m\u001b[0m\u001b[0m\n\u001b[0m\u001b[1;32m      3\u001b[0m \u001b[0mX_train\u001b[0m \u001b[0;34m=\u001b[0m \u001b[0mscaler\u001b[0m\u001b[0;34m.\u001b[0m\u001b[0mfit_transform\u001b[0m\u001b[0;34m(\u001b[0m\u001b[0mX_train\u001b[0m\u001b[0;34m)\u001b[0m\u001b[0;34m\u001b[0m\u001b[0;34m\u001b[0m\u001b[0m\n\u001b[1;32m      4\u001b[0m \u001b[0mX_test\u001b[0m \u001b[0;34m=\u001b[0m \u001b[0mscaler\u001b[0m\u001b[0;34m.\u001b[0m\u001b[0mtransform\u001b[0m\u001b[0;34m(\u001b[0m\u001b[0mX_test\u001b[0m\u001b[0;34m)\u001b[0m\u001b[0;34m\u001b[0m\u001b[0;34m\u001b[0m\u001b[0m\n\u001b[1;32m      5\u001b[0m \u001b[0my_train\u001b[0m \u001b[0;34m=\u001b[0m \u001b[0my_train\u001b[0m\u001b[0;34m.\u001b[0m\u001b[0mastype\u001b[0m\u001b[0;34m(\u001b[0m\u001b[0mnp\u001b[0m\u001b[0;34m.\u001b[0m\u001b[0mfloat64\u001b[0m\u001b[0;34m)\u001b[0m\u001b[0;34m\u001b[0m\u001b[0;34m\u001b[0m\u001b[0m\n",
            "\u001b[0;32m<ipython-input-33-7477f09f053a>\u001b[0m in \u001b[0;36m__init__\u001b[0;34m(self, copy, with_mean, with_std, skip_cols)\u001b[0m\n\u001b[1;32m      6\u001b[0m     \u001b[0;32mdef\u001b[0m \u001b[0m__init__\u001b[0m\u001b[0;34m(\u001b[0m\u001b[0mself\u001b[0m\u001b[0;34m,\u001b[0m \u001b[0mcopy\u001b[0m\u001b[0;34m=\u001b[0m\u001b[0;32mTrue\u001b[0m\u001b[0;34m,\u001b[0m \u001b[0mwith_mean\u001b[0m\u001b[0;34m=\u001b[0m\u001b[0;32mTrue\u001b[0m\u001b[0;34m,\u001b[0m \u001b[0mwith_std\u001b[0m\u001b[0;34m=\u001b[0m\u001b[0;32mTrue\u001b[0m\u001b[0;34m,\u001b[0m \u001b[0mskip_cols\u001b[0m\u001b[0;34m=\u001b[0m\u001b[0;32mNone\u001b[0m\u001b[0;34m)\u001b[0m\u001b[0;34m:\u001b[0m\u001b[0;34m\u001b[0m\u001b[0;34m\u001b[0m\u001b[0m\n\u001b[1;32m      7\u001b[0m         \u001b[0mself\u001b[0m\u001b[0;34m.\u001b[0m\u001b[0mskip_cols\u001b[0m \u001b[0;34m=\u001b[0m \u001b[0mnp\u001b[0m\u001b[0;34m.\u001b[0m\u001b[0marray\u001b[0m\u001b[0;34m(\u001b[0m\u001b[0mskip_cols\u001b[0m\u001b[0;34m)\u001b[0m\u001b[0;34m.\u001b[0m\u001b[0mflatten\u001b[0m\u001b[0;34m(\u001b[0m\u001b[0;34m)\u001b[0m\u001b[0;34m.\u001b[0m\u001b[0mtolist\u001b[0m\u001b[0;34m(\u001b[0m\u001b[0;34m)\u001b[0m\u001b[0;34m\u001b[0m\u001b[0;34m\u001b[0m\u001b[0m\n\u001b[0;32m----> 8\u001b[0;31m         \u001b[0msuper\u001b[0m\u001b[0;34m(\u001b[0m\u001b[0;34m)\u001b[0m\u001b[0;34m.\u001b[0m\u001b[0m__init__\u001b[0m\u001b[0;34m(\u001b[0m\u001b[0mcopy\u001b[0m\u001b[0;34m,\u001b[0m \u001b[0mwith_mean\u001b[0m\u001b[0;34m,\u001b[0m \u001b[0mwith_std\u001b[0m\u001b[0;34m)\u001b[0m\u001b[0;34m\u001b[0m\u001b[0;34m\u001b[0m\u001b[0m\n\u001b[0m\u001b[1;32m      9\u001b[0m \u001b[0;34m\u001b[0m\u001b[0m\n\u001b[1;32m     10\u001b[0m     \u001b[0;32mdef\u001b[0m \u001b[0mfit\u001b[0m\u001b[0;34m(\u001b[0m\u001b[0mself\u001b[0m\u001b[0;34m,\u001b[0m \u001b[0mX\u001b[0m\u001b[0;34m,\u001b[0m \u001b[0my\u001b[0m\u001b[0;34m=\u001b[0m\u001b[0;32mNone\u001b[0m\u001b[0;34m)\u001b[0m\u001b[0;34m:\u001b[0m\u001b[0;34m\u001b[0m\u001b[0;34m\u001b[0m\u001b[0m\n",
            "\u001b[0;31mTypeError\u001b[0m: StandardScaler.__init__() takes 1 positional argument but 4 were given"
          ]
        }
      ],
      "source": [
        "skip_cols = sorted([diabetes.columns.get_loc(c) for c in ['SEX'] if c in diabetes])\n",
        "scaler = StandardScalerSelection(skip_cols=skip_cols)\n",
        "X_train = scaler.fit_transform(X_train)\n",
        "X_test = scaler.transform(X_test)\n",
        "y_train = y_train.astype(np.float64)\n",
        "y_test = y_test.astype(np.float64)"
      ]
    },
    {
      "cell_type": "markdown",
      "metadata": {
        "id": "b760dkpvJx-8"
      },
      "source": [
        "### TensorFlow"
      ]
    },
    {
      "cell_type": "code",
      "execution_count": null,
      "metadata": {
        "id": "sp9TxN1LJx-8"
      },
      "outputs": [],
      "source": [
        "#TODO\n",
        "# Pesos del perceptrón multicapa\n",
        "Wh1 = #TODO\n",
        "bh1 = #TODO\n",
        "\n",
        "Wh2 = #TODO\n",
        "bh2 = #TODO\n",
        "\n",
        "Wo = #TODO\n",
        "bo = #TODO\n",
        "\n",
        "#Definimos las funciones de coste\n",
        "train_cost = #TODO\n",
        "train_r2 = #TODO\n",
        "test_cost = #TODO\n",
        "test_r2 = #TODO\n",
        "\n",
        "\n",
        "#Definimos el optimizador (Adam)\n",
        "optimizer = #TODO\n",
        "\n",
        "@tf.function\n",
        "def train_step(X, y):\n",
        "    #TODO\n",
        "\n",
        "# Función para obtener la precision y coste en test\n",
        "@tf.function\n",
        "def test(X, y):\n",
        "    # Perceptrón multicapa\n",
        "    #TODO\n",
        "    # Funcion de perdida\n",
        "    #TODO\n",
        "    #Calculamos las métricas\n",
        "    #TODO"
      ]
    },
    {
      "cell_type": "code",
      "execution_count": null,
      "metadata": {
        "id": "_61hNDVgJx-8"
      },
      "outputs": [],
      "source": [
        "EPOCHS = 100\n",
        "\n",
        "for epoch in range(EPOCHS):\n",
        "    # Reset the metrics at the start of the next epoch\n",
        "    train_cost.reset_states()\n",
        "    train_r2.reset_states()\n",
        "    test_cost.reset_states()\n",
        "    test_r2.reset_states()\n",
        "\n",
        "    train_step(X_train, y_train)\n",
        "    test(X_test, y_test)\n",
        "    if epoch%10==0:\n",
        "        template = 'Epoch {:}, Train cost: {:.4f}, Train R2: {:.4f}, Test cost: {:.4f}, Test R2: {:.4f}'\n",
        "        print(template.format(epoch+1,\n",
        "                            train_cost.result(),\n",
        "                            train_r2.result(),\n",
        "                            train_cost.result(),\n",
        "                            test_r2.result()))"
      ]
    },
    {
      "cell_type": "markdown",
      "metadata": {
        "id": "7zYq8UtUJx-8"
      },
      "source": [
        "## Keras"
      ]
    },
    {
      "cell_type": "code",
      "execution_count": 36,
      "metadata": {
        "id": "bgcGI2pzJx-8",
        "colab": {
          "base_uri": "https://localhost:8080/"
        },
        "outputId": "d470e006-72d8-4e11-9d82-fd6fcc13be83"
      },
      "outputs": [
        {
          "output_type": "stream",
          "name": "stdout",
          "text": [
            "Model: \"sequential\"\n",
            "_________________________________________________________________\n",
            " Layer (type)                Output Shape              Param #   \n",
            "=================================================================\n",
            " h1 (Dense)                  (None, 64)                704       \n",
            "                                                                 \n",
            " h2 (Dense)                  (None, 32)                2080      \n",
            "                                                                 \n",
            " o (Dense)                   (None, 1)                 33        \n",
            "                                                                 \n",
            "=================================================================\n",
            "Total params: 2,817\n",
            "Trainable params: 2,817\n",
            "Non-trainable params: 0\n",
            "_________________________________________________________________\n"
          ]
        }
      ],
      "source": [
        "#Modelo\n",
        "#64 es el número de neuronas en la primera capa oculta, input_shape es la cantidad de variables que van a entrar, es decir, el número de columnas que tenga X_train\n",
        "model = keras.Sequential([\n",
        "    layers.Dense(64, activation=tf.nn.tanh, input_shape=[X_train.shape[1]], name='h1'),\n",
        "    layers.Dense(32, activation=tf.nn.tanh, name='h2'),\n",
        "    layers.Dense(1, name='o'),\n",
        "  ])\n",
        "#loss es la funcion de perdida,\n",
        "model.compile(loss = 'mean_squared_error',\n",
        "              optimizer=tf.keras.optimizers.Adam(0.1),\n",
        "              metrics=['mean_absolPrecisionte_rror','mean_squared_error'])\n",
        "\n",
        "model.summary()"
      ]
    },
    {
      "cell_type": "code",
      "execution_count": 38,
      "metadata": {
        "id": "NYL2V_07Jx-8",
        "colab": {
          "base_uri": "https://localhost:8080/"
        },
        "outputId": "be0ca2e4-f441-43d3-f4c1-1fd871db1c9b"
      },
      "outputs": [
        {
          "output_type": "stream",
          "name": "stdout",
          "text": [
            "Epoch 1/100\n",
            "9/9 [==============================] - 0s 23ms/step - loss: 5889.2832 - mean_absolute_error: 65.8391 - mean_squared_error: 5889.2832 - val_loss: 7125.3281 - val_mean_absolute_error: 72.8104 - val_mean_squared_error: 7125.3281\n",
            "Epoch 2/100\n",
            "9/9 [==============================] - 0s 14ms/step - loss: 5885.7241 - mean_absolute_error: 65.7584 - mean_squared_error: 5885.7241 - val_loss: 7128.2163 - val_mean_absolute_error: 72.7745 - val_mean_squared_error: 7128.2163\n",
            "Epoch 3/100\n",
            "9/9 [==============================] - 0s 23ms/step - loss: 5892.6465 - mean_absolute_error: 65.9631 - mean_squared_error: 5892.6465 - val_loss: 7112.1851 - val_mean_absolute_error: 73.0374 - val_mean_squared_error: 7112.1851\n",
            "Epoch 4/100\n",
            "9/9 [==============================] - 0s 13ms/step - loss: 5887.0732 - mean_absolute_error: 65.9308 - mean_squared_error: 5887.0732 - val_loss: 7120.9443 - val_mean_absolute_error: 72.8692 - val_mean_squared_error: 7120.9443\n",
            "Epoch 5/100\n",
            "9/9 [==============================] - 0s 13ms/step - loss: 5916.9194 - mean_absolute_error: 65.7731 - mean_squared_error: 5916.9194 - val_loss: 7155.4878 - val_mean_absolute_error: 72.5010 - val_mean_squared_error: 7155.4878\n",
            "Epoch 6/100\n",
            "9/9 [==============================] - 0s 14ms/step - loss: 5885.3936 - mean_absolute_error: 65.7450 - mean_squared_error: 5885.3936 - val_loss: 7122.1670 - val_mean_absolute_error: 72.8522 - val_mean_squared_error: 7122.1670\n",
            "Epoch 7/100\n",
            "9/9 [==============================] - 0s 16ms/step - loss: 5893.1177 - mean_absolute_error: 66.0176 - mean_squared_error: 5893.1177 - val_loss: 7106.4854 - val_mean_absolute_error: 73.1901 - val_mean_squared_error: 7106.4854\n",
            "Epoch 8/100\n",
            "9/9 [==============================] - 0s 14ms/step - loss: 5886.8872 - mean_absolute_error: 66.0420 - mean_squared_error: 5886.8872 - val_loss: 7119.0249 - val_mean_absolute_error: 72.8990 - val_mean_squared_error: 7119.0249\n",
            "Epoch 9/100\n",
            "9/9 [==============================] - 0s 13ms/step - loss: 5885.2925 - mean_absolute_error: 65.7992 - mean_squared_error: 5885.2925 - val_loss: 7132.0054 - val_mean_absolute_error: 72.7302 - val_mean_squared_error: 7132.0054\n",
            "Epoch 10/100\n",
            "9/9 [==============================] - 0s 13ms/step - loss: 5887.2471 - mean_absolute_error: 65.7617 - mean_squared_error: 5887.2471 - val_loss: 7133.8047 - val_mean_absolute_error: 72.7100 - val_mean_squared_error: 7133.8047\n",
            "Epoch 11/100\n",
            "9/9 [==============================] - 0s 21ms/step - loss: 5891.7446 - mean_absolute_error: 65.9130 - mean_squared_error: 5891.7446 - val_loss: 7112.5542 - val_mean_absolute_error: 73.0290 - val_mean_squared_error: 7112.5542\n",
            "Epoch 12/100\n",
            "9/9 [==============================] - 0s 14ms/step - loss: 5884.7212 - mean_absolute_error: 65.8754 - mean_squared_error: 5884.7212 - val_loss: 7121.6641 - val_mean_absolute_error: 72.8591 - val_mean_squared_error: 7121.6641\n",
            "Epoch 13/100\n",
            "9/9 [==============================] - 0s 15ms/step - loss: 5883.7236 - mean_absolute_error: 65.8439 - mean_squared_error: 5883.7236 - val_loss: 7124.5117 - val_mean_absolute_error: 72.8209 - val_mean_squared_error: 7124.5117\n",
            "Epoch 14/100\n",
            "9/9 [==============================] - 0s 14ms/step - loss: 5891.1997 - mean_absolute_error: 65.7826 - mean_squared_error: 5891.1997 - val_loss: 7129.5542 - val_mean_absolute_error: 72.7585 - val_mean_squared_error: 7129.5542\n",
            "Epoch 15/100\n",
            "9/9 [==============================] - 0s 15ms/step - loss: 5885.9292 - mean_absolute_error: 65.8460 - mean_squared_error: 5885.9292 - val_loss: 7115.0566 - val_mean_absolute_error: 72.9753 - val_mean_squared_error: 7115.0566\n",
            "Epoch 16/100\n",
            "9/9 [==============================] - 0s 10ms/step - loss: 5897.1138 - mean_absolute_error: 65.8151 - mean_squared_error: 5897.1138 - val_loss: 7134.7021 - val_mean_absolute_error: 72.7002 - val_mean_squared_error: 7134.7021\n",
            "Epoch 17/100\n",
            "9/9 [==============================] - 0s 10ms/step - loss: 5902.8604 - mean_absolute_error: 66.0744 - mean_squared_error: 5902.8604 - val_loss: 7107.9150 - val_mean_absolute_error: 73.1464 - val_mean_squared_error: 7107.9155\n",
            "Epoch 18/100\n",
            "9/9 [==============================] - 0s 9ms/step - loss: 5905.1074 - mean_absolute_error: 65.9610 - mean_squared_error: 5905.1074 - val_loss: 7118.4971 - val_mean_absolute_error: 72.9086 - val_mean_squared_error: 7118.4971\n",
            "Epoch 19/100\n",
            "9/9 [==============================] - 0s 11ms/step - loss: 5881.3242 - mean_absolute_error: 65.8225 - mean_squared_error: 5881.3242 - val_loss: 7128.4917 - val_mean_absolute_error: 72.7712 - val_mean_squared_error: 7128.4917\n",
            "Epoch 20/100\n",
            "9/9 [==============================] - 0s 10ms/step - loss: 5889.3486 - mean_absolute_error: 65.7952 - mean_squared_error: 5889.3486 - val_loss: 7124.8047 - val_mean_absolute_error: 72.8171 - val_mean_squared_error: 7124.8047\n",
            "Epoch 21/100\n",
            "9/9 [==============================] - 0s 9ms/step - loss: 5882.6953 - mean_absolute_error: 65.7705 - mean_squared_error: 5882.6953 - val_loss: 7130.4546 - val_mean_absolute_error: 72.7480 - val_mean_squared_error: 7130.4546\n",
            "Epoch 22/100\n",
            "9/9 [==============================] - 0s 10ms/step - loss: 5885.7754 - mean_absolute_error: 65.8024 - mean_squared_error: 5885.7754 - val_loss: 7125.0635 - val_mean_absolute_error: 72.8138 - val_mean_squared_error: 7125.0635\n",
            "Epoch 23/100\n",
            "9/9 [==============================] - 0s 7ms/step - loss: 5885.5161 - mean_absolute_error: 65.8564 - mean_squared_error: 5885.5161 - val_loss: 7121.7002 - val_mean_absolute_error: 72.8586 - val_mean_squared_error: 7121.7002\n",
            "Epoch 24/100\n",
            "9/9 [==============================] - 0s 7ms/step - loss: 5884.5674 - mean_absolute_error: 65.7819 - mean_squared_error: 5884.5674 - val_loss: 7129.9175 - val_mean_absolute_error: 72.7542 - val_mean_squared_error: 7129.9175\n",
            "Epoch 25/100\n",
            "9/9 [==============================] - 0s 7ms/step - loss: 5892.0522 - mean_absolute_error: 65.7905 - mean_squared_error: 5892.0522 - val_loss: 7136.6948 - val_mean_absolute_error: 72.6789 - val_mean_squared_error: 7136.6948\n",
            "Epoch 26/100\n",
            "9/9 [==============================] - 0s 8ms/step - loss: 5890.5049 - mean_absolute_error: 65.8675 - mean_squared_error: 5890.5049 - val_loss: 7110.8716 - val_mean_absolute_error: 73.0683 - val_mean_squared_error: 7110.8716\n",
            "Epoch 27/100\n",
            "9/9 [==============================] - 0s 8ms/step - loss: 5890.2446 - mean_absolute_error: 66.0097 - mean_squared_error: 5890.2446 - val_loss: 7115.0615 - val_mean_absolute_error: 72.9752 - val_mean_squared_error: 7115.0610\n",
            "Epoch 28/100\n",
            "9/9 [==============================] - 0s 7ms/step - loss: 5890.1904 - mean_absolute_error: 65.8587 - mean_squared_error: 5890.1904 - val_loss: 7130.7212 - val_mean_absolute_error: 72.7449 - val_mean_squared_error: 7130.7212\n",
            "Epoch 29/100\n",
            "9/9 [==============================] - 0s 9ms/step - loss: 5884.3369 - mean_absolute_error: 65.8149 - mean_squared_error: 5884.3369 - val_loss: 7121.4175 - val_mean_absolute_error: 72.8625 - val_mean_squared_error: 7121.4175\n",
            "Epoch 30/100\n",
            "9/9 [==============================] - 0s 10ms/step - loss: 5890.0435 - mean_absolute_error: 65.8257 - mean_squared_error: 5890.0435 - val_loss: 7121.8682 - val_mean_absolute_error: 72.8563 - val_mean_squared_error: 7121.8682\n",
            "Epoch 31/100\n",
            "9/9 [==============================] - 0s 7ms/step - loss: 5885.0659 - mean_absolute_error: 65.8024 - mean_squared_error: 5885.0659 - val_loss: 7122.5962 - val_mean_absolute_error: 72.8463 - val_mean_squared_error: 7122.5962\n",
            "Epoch 32/100\n",
            "9/9 [==============================] - 0s 11ms/step - loss: 5886.8232 - mean_absolute_error: 65.9261 - mean_squared_error: 5886.8232 - val_loss: 7117.4644 - val_mean_absolute_error: 72.9279 - val_mean_squared_error: 7117.4644\n",
            "Epoch 33/100\n",
            "9/9 [==============================] - 0s 10ms/step - loss: 5888.7710 - mean_absolute_error: 65.8875 - mean_squared_error: 5888.7710 - val_loss: 7119.5874 - val_mean_absolute_error: 72.8889 - val_mean_squared_error: 7119.5874\n",
            "Epoch 34/100\n",
            "9/9 [==============================] - 0s 9ms/step - loss: 5888.6709 - mean_absolute_error: 65.8498 - mean_squared_error: 5888.6709 - val_loss: 7127.5845 - val_mean_absolute_error: 72.7822 - val_mean_squared_error: 7127.5845\n",
            "Epoch 35/100\n",
            "9/9 [==============================] - 0s 9ms/step - loss: 5887.8398 - mean_absolute_error: 65.9380 - mean_squared_error: 5887.8398 - val_loss: 7116.1743 - val_mean_absolute_error: 72.9528 - val_mean_squared_error: 7116.1743\n",
            "Epoch 36/100\n",
            "9/9 [==============================] - 0s 11ms/step - loss: 5887.9326 - mean_absolute_error: 65.9623 - mean_squared_error: 5887.9326 - val_loss: 7113.6855 - val_mean_absolute_error: 73.0041 - val_mean_squared_error: 7113.6855\n",
            "Epoch 37/100\n",
            "9/9 [==============================] - 0s 9ms/step - loss: 5905.7715 - mean_absolute_error: 66.1774 - mean_squared_error: 5905.7715 - val_loss: 7107.8423 - val_mean_absolute_error: 73.1485 - val_mean_squared_error: 7107.8423\n",
            "Epoch 38/100\n",
            "9/9 [==============================] - 0s 10ms/step - loss: 5879.2231 - mean_absolute_error: 65.9728 - mean_squared_error: 5879.2231 - val_loss: 7121.3984 - val_mean_absolute_error: 72.8628 - val_mean_squared_error: 7121.3984\n",
            "Epoch 39/100\n",
            "9/9 [==============================] - 0s 9ms/step - loss: 5899.7656 - mean_absolute_error: 65.7013 - mean_squared_error: 5899.7656 - val_loss: 7177.3423 - val_mean_absolute_error: 72.3408 - val_mean_squared_error: 7177.3423\n",
            "Epoch 40/100\n",
            "9/9 [==============================] - 0s 9ms/step - loss: 5909.8857 - mean_absolute_error: 65.7727 - mean_squared_error: 5909.8857 - val_loss: 7121.9976 - val_mean_absolute_error: 72.8545 - val_mean_squared_error: 7121.9976\n",
            "Epoch 41/100\n",
            "9/9 [==============================] - 0s 9ms/step - loss: 5885.1064 - mean_absolute_error: 65.8937 - mean_squared_error: 5885.1064 - val_loss: 7115.4644 - val_mean_absolute_error: 72.9670 - val_mean_squared_error: 7115.4644\n",
            "Epoch 42/100\n",
            "9/9 [==============================] - 0s 8ms/step - loss: 5887.7969 - mean_absolute_error: 65.8262 - mean_squared_error: 5887.7969 - val_loss: 7127.2383 - val_mean_absolute_error: 72.7864 - val_mean_squared_error: 7127.2383\n",
            "Epoch 43/100\n",
            "9/9 [==============================] - 0s 8ms/step - loss: 5889.6787 - mean_absolute_error: 65.8448 - mean_squared_error: 5889.6787 - val_loss: 7121.7412 - val_mean_absolute_error: 72.8580 - val_mean_squared_error: 7121.7412\n",
            "Epoch 44/100\n",
            "9/9 [==============================] - 0s 11ms/step - loss: 5890.1641 - mean_absolute_error: 65.7767 - mean_squared_error: 5890.1641 - val_loss: 7135.4883 - val_mean_absolute_error: 72.6917 - val_mean_squared_error: 7135.4883\n",
            "Epoch 45/100\n",
            "9/9 [==============================] - 0s 7ms/step - loss: 5883.7939 - mean_absolute_error: 65.7535 - mean_squared_error: 5883.7939 - val_loss: 7119.5107 - val_mean_absolute_error: 72.8903 - val_mean_squared_error: 7119.5107\n",
            "Epoch 46/100\n",
            "9/9 [==============================] - 0s 10ms/step - loss: 5886.2886 - mean_absolute_error: 65.8291 - mean_squared_error: 5886.2886 - val_loss: 7122.6274 - val_mean_absolute_error: 72.8459 - val_mean_squared_error: 7122.6274\n",
            "Epoch 47/100\n",
            "9/9 [==============================] - 0s 10ms/step - loss: 5889.7388 - mean_absolute_error: 65.8000 - mean_squared_error: 5889.7388 - val_loss: 7121.6270 - val_mean_absolute_error: 72.8596 - val_mean_squared_error: 7121.6270\n",
            "Epoch 48/100\n",
            "9/9 [==============================] - 0s 10ms/step - loss: 5899.1533 - mean_absolute_error: 66.0809 - mean_squared_error: 5899.1533 - val_loss: 7111.1948 - val_mean_absolute_error: 73.0605 - val_mean_squared_error: 7111.1948\n",
            "Epoch 49/100\n",
            "9/9 [==============================] - 0s 9ms/step - loss: 5885.9082 - mean_absolute_error: 65.8899 - mean_squared_error: 5885.9082 - val_loss: 7127.9307 - val_mean_absolute_error: 72.7780 - val_mean_squared_error: 7127.9307\n",
            "Epoch 50/100\n",
            "9/9 [==============================] - 0s 10ms/step - loss: 5888.6372 - mean_absolute_error: 65.8352 - mean_squared_error: 5888.6372 - val_loss: 7120.6943 - val_mean_absolute_error: 72.8727 - val_mean_squared_error: 7120.6943\n",
            "Epoch 51/100\n",
            "9/9 [==============================] - 0s 7ms/step - loss: 5888.5161 - mean_absolute_error: 65.9262 - mean_squared_error: 5888.5161 - val_loss: 7124.7300 - val_mean_absolute_error: 72.8181 - val_mean_squared_error: 7124.7300\n",
            "Epoch 52/100\n",
            "9/9 [==============================] - 0s 9ms/step - loss: 5888.1064 - mean_absolute_error: 65.7895 - mean_squared_error: 5888.1064 - val_loss: 7141.0469 - val_mean_absolute_error: 72.6342 - val_mean_squared_error: 7141.0469\n",
            "Epoch 53/100\n",
            "9/9 [==============================] - 0s 9ms/step - loss: 5886.6792 - mean_absolute_error: 65.7407 - mean_squared_error: 5886.6792 - val_loss: 7130.2622 - val_mean_absolute_error: 72.7502 - val_mean_squared_error: 7130.2622\n",
            "Epoch 54/100\n",
            "9/9 [==============================] - 0s 10ms/step - loss: 5901.1128 - mean_absolute_error: 66.0226 - mean_squared_error: 5901.1128 - val_loss: 7112.0796 - val_mean_absolute_error: 73.0398 - val_mean_squared_error: 7112.0791\n",
            "Epoch 55/100\n",
            "9/9 [==============================] - 0s 8ms/step - loss: 5886.6387 - mean_absolute_error: 65.8663 - mean_squared_error: 5886.6387 - val_loss: 7129.0825 - val_mean_absolute_error: 72.7641 - val_mean_squared_error: 7129.0825\n",
            "Epoch 56/100\n",
            "9/9 [==============================] - 0s 9ms/step - loss: 5884.6084 - mean_absolute_error: 65.7614 - mean_squared_error: 5884.6084 - val_loss: 7126.9570 - val_mean_absolute_error: 72.7899 - val_mean_squared_error: 7126.9570\n",
            "Epoch 57/100\n",
            "9/9 [==============================] - 0s 9ms/step - loss: 5898.7681 - mean_absolute_error: 66.0476 - mean_squared_error: 5898.7681 - val_loss: 7109.1455 - val_mean_absolute_error: 73.1123 - val_mean_squared_error: 7109.1455\n",
            "Epoch 58/100\n",
            "9/9 [==============================] - 0s 8ms/step - loss: 5898.6992 - mean_absolute_error: 66.0758 - mean_squared_error: 5898.6992 - val_loss: 7115.2817 - val_mean_absolute_error: 72.9707 - val_mean_squared_error: 7115.2817\n",
            "Epoch 59/100\n",
            "9/9 [==============================] - 0s 9ms/step - loss: 5891.1367 - mean_absolute_error: 65.8213 - mean_squared_error: 5891.1367 - val_loss: 7127.7266 - val_mean_absolute_error: 72.7804 - val_mean_squared_error: 7127.7266\n",
            "Epoch 60/100\n",
            "9/9 [==============================] - 0s 9ms/step - loss: 5904.9707 - mean_absolute_error: 65.7050 - mean_squared_error: 5904.9707 - val_loss: 7156.9194 - val_mean_absolute_error: 72.4889 - val_mean_squared_error: 7156.9194\n",
            "Epoch 61/100\n",
            "9/9 [==============================] - 0s 10ms/step - loss: 5900.4956 - mean_absolute_error: 65.8712 - mean_squared_error: 5900.4956 - val_loss: 7110.6548 - val_mean_absolute_error: 73.0736 - val_mean_squared_error: 7110.6548\n",
            "Epoch 62/100\n",
            "9/9 [==============================] - 0s 10ms/step - loss: 5890.8887 - mean_absolute_error: 66.0942 - mean_squared_error: 5890.8887 - val_loss: 7113.1284 - val_mean_absolute_error: 73.0162 - val_mean_squared_error: 7113.1284\n",
            "Epoch 63/100\n",
            "9/9 [==============================] - 0s 9ms/step - loss: 5889.0073 - mean_absolute_error: 65.8832 - mean_squared_error: 5889.0073 - val_loss: 7136.3013 - val_mean_absolute_error: 72.6830 - val_mean_squared_error: 7136.3013\n",
            "Epoch 64/100\n",
            "9/9 [==============================] - 0s 10ms/step - loss: 5902.6909 - mean_absolute_error: 65.9504 - mean_squared_error: 5902.6909 - val_loss: 7114.2280 - val_mean_absolute_error: 72.9925 - val_mean_squared_error: 7114.2280\n",
            "Epoch 65/100\n",
            "9/9 [==============================] - 0s 8ms/step - loss: 5891.2505 - mean_absolute_error: 65.9378 - mean_squared_error: 5891.2505 - val_loss: 7129.3901 - val_mean_absolute_error: 72.7605 - val_mean_squared_error: 7129.3901\n",
            "Epoch 66/100\n",
            "9/9 [==============================] - 0s 8ms/step - loss: 5885.1211 - mean_absolute_error: 65.7374 - mean_squared_error: 5885.1211 - val_loss: 7138.5952 - val_mean_absolute_error: 72.6590 - val_mean_squared_error: 7138.5952\n",
            "Epoch 67/100\n",
            "9/9 [==============================] - 0s 11ms/step - loss: 5900.6025 - mean_absolute_error: 65.6702 - mean_squared_error: 5900.6025 - val_loss: 7150.9575 - val_mean_absolute_error: 72.5407 - val_mean_squared_error: 7150.9575\n",
            "Epoch 68/100\n",
            "9/9 [==============================] - 0s 8ms/step - loss: 5881.4824 - mean_absolute_error: 65.6735 - mean_squared_error: 5881.4824 - val_loss: 7120.0820 - val_mean_absolute_error: 72.8814 - val_mean_squared_error: 7120.0820\n",
            "Epoch 69/100\n",
            "9/9 [==============================] - 0s 9ms/step - loss: 5897.7437 - mean_absolute_error: 66.1127 - mean_squared_error: 5897.7437 - val_loss: 7103.2041 - val_mean_absolute_error: 73.3182 - val_mean_squared_error: 7103.2041\n",
            "Epoch 70/100\n",
            "9/9 [==============================] - 0s 10ms/step - loss: 5893.1909 - mean_absolute_error: 66.0519 - mean_squared_error: 5893.1909 - val_loss: 7130.5874 - val_mean_absolute_error: 72.7464 - val_mean_squared_error: 7130.5874\n",
            "Epoch 71/100\n",
            "9/9 [==============================] - 0s 9ms/step - loss: 5888.1895 - mean_absolute_error: 65.8273 - mean_squared_error: 5888.1895 - val_loss: 7127.6597 - val_mean_absolute_error: 72.7812 - val_mean_squared_error: 7127.6597\n",
            "Epoch 72/100\n",
            "9/9 [==============================] - 0s 9ms/step - loss: 5884.7476 - mean_absolute_error: 65.7802 - mean_squared_error: 5884.7476 - val_loss: 7130.1797 - val_mean_absolute_error: 72.7512 - val_mean_squared_error: 7130.1797\n",
            "Epoch 73/100\n",
            "9/9 [==============================] - 0s 9ms/step - loss: 5886.3960 - mean_absolute_error: 65.7766 - mean_squared_error: 5886.3960 - val_loss: 7125.7417 - val_mean_absolute_error: 72.8051 - val_mean_squared_error: 7125.7417\n",
            "Epoch 74/100\n",
            "9/9 [==============================] - 0s 12ms/step - loss: 5888.0923 - mean_absolute_error: 65.9233 - mean_squared_error: 5888.0923 - val_loss: 7119.8633 - val_mean_absolute_error: 72.8846 - val_mean_squared_error: 7119.8633\n",
            "Epoch 75/100\n",
            "9/9 [==============================] - 0s 11ms/step - loss: 5887.2485 - mean_absolute_error: 65.8028 - mean_squared_error: 5887.2485 - val_loss: 7134.0444 - val_mean_absolute_error: 72.7074 - val_mean_squared_error: 7134.0444\n",
            "Epoch 76/100\n",
            "9/9 [==============================] - 0s 12ms/step - loss: 5887.5522 - mean_absolute_error: 65.7407 - mean_squared_error: 5887.5522 - val_loss: 7124.9492 - val_mean_absolute_error: 72.8152 - val_mean_squared_error: 7124.9492\n",
            "Epoch 77/100\n",
            "9/9 [==============================] - 0s 11ms/step - loss: 5886.0791 - mean_absolute_error: 65.9068 - mean_squared_error: 5886.0791 - val_loss: 7113.1865 - val_mean_absolute_error: 73.0149 - val_mean_squared_error: 7113.1865\n",
            "Epoch 78/100\n",
            "9/9 [==============================] - 0s 13ms/step - loss: 5894.3691 - mean_absolute_error: 65.8943 - mean_squared_error: 5894.3691 - val_loss: 7127.9243 - val_mean_absolute_error: 72.7780 - val_mean_squared_error: 7127.9243\n",
            "Epoch 79/100\n",
            "9/9 [==============================] - 0s 14ms/step - loss: 5882.0156 - mean_absolute_error: 65.8071 - mean_squared_error: 5882.0156 - val_loss: 7118.1875 - val_mean_absolute_error: 72.9144 - val_mean_squared_error: 7118.1875\n",
            "Epoch 80/100\n",
            "9/9 [==============================] - 0s 13ms/step - loss: 5923.3179 - mean_absolute_error: 66.2847 - mean_squared_error: 5923.3179 - val_loss: 7101.7544 - val_mean_absolute_error: 73.4052 - val_mean_squared_error: 7101.7544\n",
            "Epoch 81/100\n",
            "9/9 [==============================] - 0s 13ms/step - loss: 5900.9712 - mean_absolute_error: 66.1259 - mean_squared_error: 5900.9712 - val_loss: 7141.9312 - val_mean_absolute_error: 72.6254 - val_mean_squared_error: 7141.9312\n",
            "Epoch 82/100\n",
            "9/9 [==============================] - 0s 13ms/step - loss: 5897.0889 - mean_absolute_error: 65.8213 - mean_squared_error: 5897.0889 - val_loss: 7134.4209 - val_mean_absolute_error: 72.7033 - val_mean_squared_error: 7134.4209\n",
            "Epoch 83/100\n",
            "9/9 [==============================] - 0s 12ms/step - loss: 5892.8848 - mean_absolute_error: 65.6744 - mean_squared_error: 5892.8848 - val_loss: 7138.4316 - val_mean_absolute_error: 72.6607 - val_mean_squared_error: 7138.4316\n",
            "Epoch 84/100\n",
            "9/9 [==============================] - 0s 12ms/step - loss: 5888.6943 - mean_absolute_error: 65.8379 - mean_squared_error: 5888.6943 - val_loss: 7114.9922 - val_mean_absolute_error: 72.9766 - val_mean_squared_error: 7114.9922\n",
            "Epoch 85/100\n",
            "9/9 [==============================] - 0s 13ms/step - loss: 5888.9111 - mean_absolute_error: 65.9748 - mean_squared_error: 5888.9111 - val_loss: 7117.3940 - val_mean_absolute_error: 72.9293 - val_mean_squared_error: 7117.3936\n",
            "Epoch 86/100\n",
            "9/9 [==============================] - 0s 11ms/step - loss: 5889.1304 - mean_absolute_error: 65.8990 - mean_squared_error: 5889.1304 - val_loss: 7124.2349 - val_mean_absolute_error: 72.8245 - val_mean_squared_error: 7124.2349\n",
            "Epoch 87/100\n",
            "9/9 [==============================] - 0s 15ms/step - loss: 5884.4238 - mean_absolute_error: 65.8054 - mean_squared_error: 5884.4238 - val_loss: 7126.4160 - val_mean_absolute_error: 72.7966 - val_mean_squared_error: 7126.4160\n",
            "Epoch 88/100\n",
            "9/9 [==============================] - 0s 11ms/step - loss: 5888.3857 - mean_absolute_error: 65.9169 - mean_squared_error: 5888.3857 - val_loss: 7115.5737 - val_mean_absolute_error: 72.9648 - val_mean_squared_error: 7115.5737\n",
            "Epoch 89/100\n",
            "9/9 [==============================] - 0s 13ms/step - loss: 5896.6382 - mean_absolute_error: 66.0703 - mean_squared_error: 5896.6382 - val_loss: 7109.0156 - val_mean_absolute_error: 73.1158 - val_mean_squared_error: 7109.0156\n",
            "Epoch 90/100\n",
            "9/9 [==============================] - 0s 11ms/step - loss: 5888.5264 - mean_absolute_error: 66.0581 - mean_squared_error: 5888.5264 - val_loss: 7121.6821 - val_mean_absolute_error: 72.8588 - val_mean_squared_error: 7121.6821\n",
            "Epoch 91/100\n",
            "9/9 [==============================] - 0s 13ms/step - loss: 5909.1587 - mean_absolute_error: 65.7601 - mean_squared_error: 5909.1587 - val_loss: 7166.8433 - val_mean_absolute_error: 72.4084 - val_mean_squared_error: 7166.8433\n",
            "Epoch 92/100\n",
            "9/9 [==============================] - 0s 12ms/step - loss: 5890.7407 - mean_absolute_error: 65.5888 - mean_squared_error: 5890.7407 - val_loss: 7143.4155 - val_mean_absolute_error: 72.6109 - val_mean_squared_error: 7143.4155\n",
            "Epoch 93/100\n",
            "9/9 [==============================] - 0s 13ms/step - loss: 5884.9868 - mean_absolute_error: 65.7982 - mean_squared_error: 5884.9868 - val_loss: 7111.4019 - val_mean_absolute_error: 73.0556 - val_mean_squared_error: 7111.4019\n",
            "Epoch 94/100\n",
            "9/9 [==============================] - 0s 13ms/step - loss: 5915.1006 - mean_absolute_error: 65.9250 - mean_squared_error: 5915.1006 - val_loss: 7127.4766 - val_mean_absolute_error: 72.7835 - val_mean_squared_error: 7127.4766\n",
            "Epoch 95/100\n",
            "9/9 [==============================] - 0s 13ms/step - loss: 5883.5791 - mean_absolute_error: 65.9147 - mean_squared_error: 5883.5791 - val_loss: 7108.3574 - val_mean_absolute_error: 73.1339 - val_mean_squared_error: 7108.3574\n",
            "Epoch 96/100\n",
            "9/9 [==============================] - 0s 15ms/step - loss: 5886.4971 - mean_absolute_error: 65.9783 - mean_squared_error: 5886.4971 - val_loss: 7116.7490 - val_mean_absolute_error: 72.9416 - val_mean_squared_error: 7116.7490\n",
            "Epoch 97/100\n",
            "9/9 [==============================] - 0s 14ms/step - loss: 5885.0024 - mean_absolute_error: 65.8883 - mean_squared_error: 5885.0024 - val_loss: 7124.4805 - val_mean_absolute_error: 72.8213 - val_mean_squared_error: 7124.4810\n",
            "Epoch 98/100\n",
            "9/9 [==============================] - 0s 14ms/step - loss: 5887.4160 - mean_absolute_error: 65.8199 - mean_squared_error: 5887.4160 - val_loss: 7130.2847 - val_mean_absolute_error: 72.7499 - val_mean_squared_error: 7130.2847\n",
            "Epoch 99/100\n",
            "9/9 [==============================] - 0s 14ms/step - loss: 5899.2622 - mean_absolute_error: 65.7604 - mean_squared_error: 5899.2622 - val_loss: 7137.1362 - val_mean_absolute_error: 72.6742 - val_mean_squared_error: 7137.1362\n",
            "Epoch 100/100\n",
            "9/9 [==============================] - 0s 13ms/step - loss: 5887.7319 - mean_absolute_error: 65.9300 - mean_squared_error: 5887.7319 - val_loss: 7106.4800 - val_mean_absolute_error: 73.1903 - val_mean_squared_error: 7106.4800\n"
          ]
        }
      ],
      "source": [
        "# Entrenar el modelo\n",
        "history = model.fit(X_train, y_train, epochs=100, validation_split=0.2, verbose=1)"
      ]
    },
    {
      "cell_type": "code",
      "execution_count": 39,
      "metadata": {
        "id": "2rFmARBpJx-9",
        "colab": {
          "base_uri": "https://localhost:8080/"
        },
        "outputId": "3d5668bc-ea32-4c9d-ae31-eb49d726331b"
      },
      "outputs": [
        {
          "output_type": "stream",
          "name": "stdout",
          "text": [
            "3/3 [==============================] - 0s 5ms/step - loss: 5129.5381 - mean_absolute_error: 59.3336 - mean_squared_error: 5129.5381\n"
          ]
        },
        {
          "output_type": "execute_result",
          "data": {
            "text/plain": [
              "[5129.5380859375, 59.33356857299805, 5129.5380859375]"
            ]
          },
          "metadata": {},
          "execution_count": 39
        }
      ],
      "source": [
        "# Obtener la precisión del modelo, evaluamos el modelo\n",
        "model.evaluate(X_test, y_test)"
      ]
    },
    {
      "cell_type": "code",
      "execution_count": 40,
      "metadata": {
        "id": "lZZR_KKuJx-9",
        "colab": {
          "base_uri": "https://localhost:8080/",
          "height": 493
        },
        "outputId": "fa6e48c2-c702-4242-e163-288b29af021b"
      },
      "outputs": [
        {
          "output_type": "stream",
          "name": "stdout",
          "text": [
            "Mean Absolute Error Train: 67.51\n",
            "Mean Absolute Error Test: 59.33\n"
          ]
        },
        {
          "output_type": "display_data",
          "data": {
            "text/plain": [
              "<Figure size 640x480 with 1 Axes>"
            ],
            "image/png": "[encoded data removed]"
          },
          "metadata": {}
        }
      ],
      "source": [
        "hist = pd.DataFrame(history.history)\n",
        "# Incluye la epoca para cada error\n",
        "hist['epoch'] = history.epoch\n",
        "\n",
        "# Colpasa los errores 'mean_absolute_error','val_mean_absolute_error' en una sola columna para sns\n",
        "df = hist.melt(id_vars='epoch', var_name='Type', value_name='Error',\n",
        "               value_vars=['mean_absolute_error','val_mean_absolute_error'])\n",
        "# Plot the responses for different events and regions\n",
        "_ = sns.lineplot(x='epoch', y='Error', hue='Type', data=df)\n",
        "\n",
        "\n",
        "print(\"Mean Absolute Error Train: %.2f\" % model.evaluate(X_train, y_train, verbose=0)[1])\n",
        "print(\"Mean Absolute Error Test: %.2f\" % model.evaluate(X_test, y_test, verbose=0)[1])"
      ]
    },
    {
      "cell_type": "markdown",
      "metadata": {
        "id": "4uUO9VNFJx-9"
      },
      "source": [
        "### Problema de clasificación: Breast Cancer\n",
        "# Es como la deteccion de fraude, y en la ultima capa vamos a necesitar una funcion de activacion sigmoide"
      ]
    },
    {
      "cell_type": "code",
      "execution_count": null,
      "metadata": {
        "id": "wUPPc1BvJx-9"
      },
      "outputs": [],
      "source": [
        "import io\n",
        "import requests\n",
        "\n",
        "# https://archive.ics.uci.edu/ml/datasets/Breast+Cancer+Wisconsin+(Diagnostic)\n",
        "url='https://archive.ics.uci.edu/ml/machine-learning-databases/breast-cancer-wisconsin/wdbc.data'\n",
        "c=requests.get(url).content\n",
        "cancer=pd.read_csv(io.StringIO(c.decode('utf-8')), header=None, index_col=0)"
      ]
    },
    {
      "cell_type": "code",
      "execution_count": null,
      "metadata": {
        "id": "qLN98IGeJx-9"
      },
      "outputs": [],
      "source": [
        "cancer.head()"
      ]
    },
    {
      "cell_type": "code",
      "execution_count": null,
      "metadata": {
        "id": "Y0Mj3NPqJx_I"
      },
      "outputs": [],
      "source": [
        "from sklearn.model_selection import train_test_split\n",
        "\n",
        "cancer[1] = list(map(float, cancer[1].values=='M'))\n",
        "X_train, X_test, y_train, y_test = train_test_split(cancer.drop(1, axis=1).values,\n",
        "                                                    #Aniadimos una dimension para que sea un vector columna\n",
        "                                                    cancer[1].values[..., np.newaxis],\n",
        "                                                    test_size=0.2, random_state=0)"
      ]
    },
    {
      "cell_type": "code",
      "execution_count": null,
      "metadata": {
        "id": "6S3M71k1Jx_I"
      },
      "outputs": [],
      "source": [
        "from sklearn.preprocessing import StandardScaler\n",
        "\n",
        "scaler = StandardScaler()\n",
        "X_train = scaler.fit_transform(X_train)\n",
        "X_test = scaler.transform(X_test)"
      ]
    },
    {
      "cell_type": "markdown",
      "metadata": {
        "id": "joPqd1AhJx_I"
      },
      "source": [
        "### TensorFlow\n",
        "Utilizar en este caso la métrica `AUC`\n",
        "\n",
        "Para la función de perdida, utilizar `binary_crossentropy` al ser un problema binario"
      ]
    },
    {
      "cell_type": "code",
      "execution_count": null,
      "metadata": {
        "id": "Zgc2BoUaJx_I"
      },
      "outputs": [],
      "source": [
        "#TODO\n",
        "# Pesos del perceptrón multicapa\n",
        "#TODO\n",
        "\n",
        "#Definimos las métricas\n",
        "train_cost = #TODO\n",
        "train_auc = #TODO\n",
        "test_cost = #TODO\n",
        "test_auc = #TODO\n",
        "\n",
        "\n",
        "#TODO...\n"
      ]
    },
    {
      "cell_type": "code",
      "execution_count": null,
      "metadata": {
        "id": "8GDzdodYJx_I"
      },
      "outputs": [],
      "source": [
        "EPOCHS = 100\n",
        "\n",
        "for epoch in range(EPOCHS):\n",
        "    # Reset the metrics at the start of the next epoch\n",
        "    train_cost.reset_states()\n",
        "    train_auc.reset_states()\n",
        "    test_cost.reset_states()\n",
        "    test_auc.reset_states()\n",
        "\n",
        "    train_step(X_train, y_train)\n",
        "    test(X_test, y_test)\n",
        "    if epoch%10==0:\n",
        "        template = 'Epoch {:}, Train Cost: {:.4f}, Train AUC: {:.2f}, Test Cost: {:.4f}, Test AUC: {:.2f}'\n",
        "        print(template.format(epoch+1,\n",
        "                            train_cost.result(),\n",
        "                            train_auc.result()*100,\n",
        "                            test_cost.result(),\n",
        "                            test_auc.result()*100))"
      ]
    },
    {
      "cell_type": "markdown",
      "metadata": {
        "id": "Bmq0A3GEJx_J"
      },
      "source": [
        "### Keras"
      ]
    },
    {
      "cell_type": "code",
      "execution_count": null,
      "metadata": {
        "id": "JQR1xPcEJx_J"
      },
      "outputs": [],
      "source": [
        "#TODO"
      ]
    },
    {
      "cell_type": "code",
      "execution_count": null,
      "metadata": {
        "id": "rdXCP7hBJx_J"
      },
      "outputs": [],
      "source": [
        "hist = pd.DataFrame(history.history)\n",
        "# Incluye la epoca para cada error\n",
        "hist['epoch'] = history.epoch\n",
        "\n",
        "# Colpasa los errores 'mean_absolute_error','val_mean_absolute_error' en una sola columna para sns\n",
        "df = hist.melt(id_vars='epoch', var_name='Type', value_name='Accuracy',\n",
        "               value_vars=['binary_accuracy','val_binary_accuracy'])\n",
        "# Plot the responses for different events and regions\n",
        "_ = sns.lineplot(x='epoch', y='Accuracy', hue='Type', data=df)\n",
        "\n",
        "print(\"Accuracy Train: %.2f\" % model.evaluate(X_train, y_train, verbose=0)[1])\n",
        "print(\"Accuracy Test: %.2f\" % model.evaluate(X_test, y_test, verbose=0)[1])"
      ]
    },
    {
      "cell_type": "markdown",
      "metadata": {
        "id": "Mkd0ReT1Jx_J"
      },
      "source": [
        "## Problema de clasificación multiclase: MNIST"
      ]
    },
    {
      "cell_type": "code",
      "execution_count": null,
      "metadata": {
        "id": "3i6qnVIHJx_J"
      },
      "outputs": [],
      "source": [
        "(train_images, train_labels), (test_images, test_labels) = keras.datasets.mnist.load_data()"
      ]
    },
    {
      "cell_type": "code",
      "execution_count": null,
      "metadata": {
        "id": "OLBhtA2yJx_J"
      },
      "outputs": [],
      "source": [
        "X_train = train_images / 255.0\n",
        "X_test = test_images / 255.0"
      ]
    },
    {
      "cell_type": "code",
      "execution_count": null,
      "metadata": {
        "id": "eBz8IHktJx_J"
      },
      "outputs": [],
      "source": [
        "# OneHotEncoding para AUC\n",
        "from sklearn.preprocessing import LabelBinarizer\n",
        "\n",
        "le = LabelBinarizer().fit(train_labels)\n",
        "y_train_label = le.transform(train_labels)\n",
        "y_test_label = le.transform(test_labels)"
      ]
    },
    {
      "cell_type": "code",
      "execution_count": null,
      "metadata": {
        "id": "vJ2CE6QrJx_K"
      },
      "outputs": [],
      "source": [
        "y_train = train_labels[..., np.newaxis]\n",
        "y_test = test_labels[..., np.newaxis]"
      ]
    },
    {
      "cell_type": "markdown",
      "metadata": {
        "id": "TryxkBJ2Jx_K"
      },
      "source": [
        "### Tensorflow"
      ]
    },
    {
      "cell_type": "markdown",
      "metadata": {
        "id": "KOqHEFH4Jx_K"
      },
      "source": [
        "`sparse_categorical_crossentropy` funciona mejor en problemas donde las clases son mutuamente excluyentes, es decir, solo hay una clase positiva en cada tupla. `categorical_crossentropy` permite trabajar con problemas donde más de una clase puede ser positiva."
      ]
    },
    {
      "cell_type": "code",
      "execution_count": null,
      "metadata": {
        "id": "41ovk4FqJx_K"
      },
      "outputs": [],
      "source": [
        "#TODO"
      ]
    },
    {
      "cell_type": "code",
      "execution_count": null,
      "metadata": {
        "id": "sWAVMfz1Jx_K"
      },
      "outputs": [],
      "source": [
        "EPOCHS = 10\n",
        "\n",
        "for epoch in range(EPOCHS):\n",
        "    # Reset the metrics at the start of the next epoch\n",
        "    train_cost.reset_states()\n",
        "    train_auc.reset_states()\n",
        "    test_cost.reset_states()\n",
        "    test_auc.reset_states()\n",
        "\n",
        "    train_step(X_train, y_train, y_train_label)\n",
        "    test(X_test, y_test, y_test_label)\n",
        "    if epoch%1==0:\n",
        "        template = 'Epoch {:}, Train Cost: {:.4f}, Train AUC: {:.2f}, Test Cost: {:.4f}, Test AUC: {:.2f}'\n",
        "        print(template.format(epoch+1,\n",
        "                            train_cost.result(),\n",
        "                            train_auc.result()*100,\n",
        "                            test_cost.result(),\n",
        "                            test_auc.result()*100))"
      ]
    },
    {
      "cell_type": "markdown",
      "metadata": {
        "id": "3LAO8OsqJx_K"
      },
      "source": [
        "### Keras\n",
        "Probar a crear el modelo con y sin dropout y batch normalization para comparar los resultados de validación"
      ]
    },
    {
      "cell_type": "code",
      "execution_count": null,
      "metadata": {
        "id": "RuGhHhmJJx_L"
      },
      "outputs": [],
      "source": [
        "#TODO"
      ]
    },
    {
      "cell_type": "code",
      "execution_count": null,
      "metadata": {
        "id": "QdLe5W-uJx_L"
      },
      "outputs": [],
      "source": [
        "hist = pd.DataFrame(history.history)\n",
        "# Incluye la epoca para cada error\n",
        "hist['epoch'] = history.epoch\n",
        "\n",
        "# Colpasa los errores 'mean_absolute_error','val_mean_absolute_error' en una sola columna para sns\n",
        "df = hist.melt(id_vars='epoch', var_name='Type', value_name='Accuracy',\n",
        "               value_vars=['accuracy','val_accuracy'])\n",
        "# Plot the responses for different events and regions\n",
        "_ = sns.lineplot(x='epoch', y='Accuracy', hue='Type', data=df)\n",
        "\n",
        "print(\"Accuracy Train: %.2f\" % model.evaluate(X_train, y_train, verbose=0)[1])\n",
        "print(\"Accuracy Test: %.2f\" % model.evaluate(X_test, y_test, verbose=0)[1])"
      ]
    }
  ],
  "metadata": {
    "kernelspec": {
      "display_name": "Python 3",
      "language": "python",
      "name": "python3"
    },
    "language_info": {
      "codemirror_mode": {
        "name": "ipython",
        "version": 3
      },
      "file_extension": ".py",
      "mimetype": "text/x-python",
      "name": "python",
      "nbconvert_exporter": "python",
      "pygments_lexer": "ipython3",
      "version": "3.6.10"
    },
    "colab": {
      "provenance": []
    }
  },
  "nbformat": 4,
  "nbformat_minor": 0
}