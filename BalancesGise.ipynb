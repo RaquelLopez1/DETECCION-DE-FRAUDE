{
 "cells": [
  {
   "cell_type": "code",
   "execution_count": 1,
   "id": "06bfc8e9",
   "metadata": {},
   "outputs": [],
   "source": [
    "import json\n",
    "import pandas as pd\n",
    "with open(\"C:/Users/maria/OneDrive/Escritorio/pontia/balances.json\") as f:\n",
    "    balances=json.load(f)"
   ]
  },
  {
   "cell_type": "code",
   "execution_count": 2,
   "id": "35c94fc2",
   "metadata": {},
   "outputs": [],
   "source": [
    "lista_balance = []\n",
    "for clave, datos_lista in balances.items():\n",
    "    for datos in datos_lista:\n",
    "        bal = {\n",
    "            'cliente': clave,\n",
    "            't_id': datos['t_id'],\n",
    "            'balance_prev': datos['balance_prev'],\n",
    "            'balance_post': datos['balance_post']\n",
    "        }\n",
    "        lista_balance.append(bal)"
   ]
  },
  {
   "cell_type": "code",
   "execution_count": 3,
   "id": "0a47316a",
   "metadata": {},
   "outputs": [],
   "source": [
    "df_balance=pd.DataFrame(lista_balance)"
   ]
  },
  {
   "cell_type": "code",
   "execution_count": 4,
   "id": "9b1c6aed",
   "metadata": {},
   "outputs": [
    {
     "data": {
      "text/html": [
       "<div>\n",
       "<style scoped>\n",
       "    .dataframe tbody tr th:only-of-type {\n",
       "        vertical-align: middle;\n",
       "    }\n",
       "\n",
       "    .dataframe tbody tr th {\n",
       "        vertical-align: top;\n",
       "    }\n",
       "\n",
       "    .dataframe thead th {\n",
       "        text-align: right;\n",
       "    }\n",
       "</style>\n",
       "<table border=\"1\" class=\"dataframe\">\n",
       "  <thead>\n",
       "    <tr style=\"text-align: right;\">\n",
       "      <th></th>\n",
       "      <th>cliente</th>\n",
       "      <th>t_id</th>\n",
       "      <th>balance_prev</th>\n",
       "      <th>balance_post</th>\n",
       "    </tr>\n",
       "  </thead>\n",
       "  <tbody>\n",
       "    <tr>\n",
       "      <th>0</th>\n",
       "      <td>C1231006815</td>\n",
       "      <td>0</td>\n",
       "      <td>170136.00</td>\n",
       "      <td>160296.36</td>\n",
       "    </tr>\n",
       "    <tr>\n",
       "      <th>1</th>\n",
       "      <td>M1979787155</td>\n",
       "      <td>0</td>\n",
       "      <td>0.00</td>\n",
       "      <td>0.00</td>\n",
       "    </tr>\n",
       "    <tr>\n",
       "      <th>2</th>\n",
       "      <td>C1666544295</td>\n",
       "      <td>1</td>\n",
       "      <td>21249.00</td>\n",
       "      <td>19384.72</td>\n",
       "    </tr>\n",
       "    <tr>\n",
       "      <th>3</th>\n",
       "      <td>M2044282225</td>\n",
       "      <td>1</td>\n",
       "      <td>0.00</td>\n",
       "      <td>0.00</td>\n",
       "    </tr>\n",
       "    <tr>\n",
       "      <th>4</th>\n",
       "      <td>C1305486145</td>\n",
       "      <td>2</td>\n",
       "      <td>181.00</td>\n",
       "      <td>0.00</td>\n",
       "    </tr>\n",
       "    <tr>\n",
       "      <th>5</th>\n",
       "      <td>C553264065</td>\n",
       "      <td>2</td>\n",
       "      <td>0.00</td>\n",
       "      <td>0.00</td>\n",
       "    </tr>\n",
       "    <tr>\n",
       "      <th>6</th>\n",
       "      <td>C553264065</td>\n",
       "      <td>6167</td>\n",
       "      <td>0.00</td>\n",
       "      <td>109985.65</td>\n",
       "    </tr>\n",
       "    <tr>\n",
       "      <th>7</th>\n",
       "      <td>C553264065</td>\n",
       "      <td>7903</td>\n",
       "      <td>109985.65</td>\n",
       "      <td>99729.44</td>\n",
       "    </tr>\n",
       "    <tr>\n",
       "      <th>8</th>\n",
       "      <td>C553264065</td>\n",
       "      <td>16381</td>\n",
       "      <td>99729.44</td>\n",
       "      <td>5254.44</td>\n",
       "    </tr>\n",
       "    <tr>\n",
       "      <th>9</th>\n",
       "      <td>C553264065</td>\n",
       "      <td>20003</td>\n",
       "      <td>211351.84</td>\n",
       "      <td>5254.44</td>\n",
       "    </tr>\n",
       "    <tr>\n",
       "      <th>10</th>\n",
       "      <td>C553264065</td>\n",
       "      <td>62736</td>\n",
       "      <td>5254.44</td>\n",
       "      <td>1317666.01</td>\n",
       "    </tr>\n",
       "    <tr>\n",
       "      <th>11</th>\n",
       "      <td>C553264065</td>\n",
       "      <td>91045</td>\n",
       "      <td>1452576.65</td>\n",
       "      <td>1317666.01</td>\n",
       "    </tr>\n",
       "    <tr>\n",
       "      <th>12</th>\n",
       "      <td>C553264065</td>\n",
       "      <td>113717</td>\n",
       "      <td>1317666.01</td>\n",
       "      <td>1303946.65</td>\n",
       "    </tr>\n",
       "    <tr>\n",
       "      <th>13</th>\n",
       "      <td>C553264065</td>\n",
       "      <td>227904</td>\n",
       "      <td>1303946.65</td>\n",
       "      <td>1384840.44</td>\n",
       "    </tr>\n",
       "  </tbody>\n",
       "</table>\n",
       "</div>"
      ],
      "text/plain": [
       "        cliente    t_id  balance_prev  balance_post\n",
       "0   C1231006815       0     170136.00     160296.36\n",
       "1   M1979787155       0          0.00          0.00\n",
       "2   C1666544295       1      21249.00      19384.72\n",
       "3   M2044282225       1          0.00          0.00\n",
       "4   C1305486145       2        181.00          0.00\n",
       "5    C553264065       2          0.00          0.00\n",
       "6    C553264065    6167          0.00     109985.65\n",
       "7    C553264065    7903     109985.65      99729.44\n",
       "8    C553264065   16381      99729.44       5254.44\n",
       "9    C553264065   20003     211351.84       5254.44\n",
       "10   C553264065   62736       5254.44    1317666.01\n",
       "11   C553264065   91045    1452576.65    1317666.01\n",
       "12   C553264065  113717    1317666.01    1303946.65\n",
       "13   C553264065  227904    1303946.65    1384840.44"
      ]
     },
     "execution_count": 4,
     "metadata": {},
     "output_type": "execute_result"
    }
   ],
   "source": [
    "df_balance.head(14)"
   ]
  },
  {
   "cell_type": "code",
   "execution_count": 5,
   "id": "061dc3c4",
   "metadata": {},
   "outputs": [
    {
     "data": {
      "text/plain": [
       "cliente          object\n",
       "t_id              int64\n",
       "balance_prev    float64\n",
       "balance_post    float64\n",
       "dtype: object"
      ]
     },
     "execution_count": 5,
     "metadata": {},
     "output_type": "execute_result"
    }
   ],
   "source": [
    "tipob=df_balance.dtypes\n",
    "tipob"
   ]
  },
  {
   "cell_type": "code",
   "execution_count": null,
   "id": "82f2f06b",
   "metadata": {},
   "outputs": [],
   "source": []
  },
  {
   "cell_type": "code",
   "execution_count": null,
   "id": "3413e7c6",
   "metadata": {},
   "outputs": [],
   "source": []
  },
  {
   "cell_type": "code",
   "execution_count": null,
   "id": "54297dab",
   "metadata": {},
   "outputs": [],
   "source": []
  },
  {
   "cell_type": "code",
   "execution_count": null,
   "id": "b736761e",
   "metadata": {},
   "outputs": [],
   "source": []
  },
  {
   "cell_type": "code",
   "execution_count": null,
   "id": "4997730a",
   "metadata": {},
   "outputs": [],
   "source": []
  }
 ],
 "metadata": {
  "kernelspec": {
   "display_name": "Python 3 (ipykernel)",
   "language": "python",
   "name": "python3"
  },
  "language_info": {
   "codemirror_mode": {
    "name": "ipython",
    "version": 3
   },
   "file_extension": ".py",
   "mimetype": "text/x-python",
   "name": "python",
   "nbconvert_exporter": "python",
   "pygments_lexer": "ipython3",
   "version": "3.10.9"
  }
 },
 "nbformat": 4,
 "nbformat_minor": 5
}
