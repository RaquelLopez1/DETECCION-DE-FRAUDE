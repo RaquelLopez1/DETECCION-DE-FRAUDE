{
 "cells": [
  {
   "cell_type": "code",
   "execution_count": 2,
   "id": "8062a67d",
   "metadata": {},
   "outputs": [],
   "source": [
    "import json\n",
    "import pandas as pd\n",
    "with open(\"C:/Users/maria/OneDrive/Escritorio/pontia/clientes.json\") as f:\n",
    "    clientes=json.load(f)"
   ]
  },
  {
   "cell_type": "code",
   "execution_count": 3,
   "id": "0c2833e5",
   "metadata": {},
   "outputs": [],
   "source": [
    "lista_clientes=[]\n",
    "for t_id, datos in clientes.items():\n",
    "    cliente = {\n",
    "        't_id': t_id,\n",
    "        'origen': datos['origen'],\n",
    "        'destino': datos['destino']\n",
    "    }\n",
    "    lista_clientes.append(cliente)"
   ]
  },
  {
   "cell_type": "code",
   "execution_count": 4,
   "id": "575cbe4d",
   "metadata": {},
   "outputs": [],
   "source": [
    "df=pd.DataFrame(lista_clientes)"
   ]
  },
  {
   "cell_type": "code",
   "execution_count": 5,
   "id": "77769d93",
   "metadata": {},
   "outputs": [],
   "source": [
    "tipo=df.dtypes"
   ]
  },
  {
   "cell_type": "code",
   "execution_count": 6,
   "id": "90158c63",
   "metadata": {},
   "outputs": [
    {
     "data": {
      "text/plain": [
       "t_id       object\n",
       "origen     object\n",
       "destino    object\n",
       "dtype: object"
      ]
     },
     "execution_count": 6,
     "metadata": {},
     "output_type": "execute_result"
    }
   ],
   "source": [
    "tipo"
   ]
  },
  {
   "cell_type": "code",
   "execution_count": 7,
   "id": "95145f2f",
   "metadata": {},
   "outputs": [
    {
     "data": {
      "text/html": [
       "<div>\n",
       "<style scoped>\n",
       "    .dataframe tbody tr th:only-of-type {\n",
       "        vertical-align: middle;\n",
       "    }\n",
       "\n",
       "    .dataframe tbody tr th {\n",
       "        vertical-align: top;\n",
       "    }\n",
       "\n",
       "    .dataframe thead th {\n",
       "        text-align: right;\n",
       "    }\n",
       "</style>\n",
       "<table border=\"1\" class=\"dataframe\">\n",
       "  <thead>\n",
       "    <tr style=\"text-align: right;\">\n",
       "      <th></th>\n",
       "      <th>t_id</th>\n",
       "      <th>origen</th>\n",
       "      <th>destino</th>\n",
       "    </tr>\n",
       "  </thead>\n",
       "  <tbody>\n",
       "    <tr>\n",
       "      <th>0</th>\n",
       "      <td>0</td>\n",
       "      <td>C1231006815</td>\n",
       "      <td>M1979787155</td>\n",
       "    </tr>\n",
       "    <tr>\n",
       "      <th>1</th>\n",
       "      <td>1</td>\n",
       "      <td>C1666544295</td>\n",
       "      <td>M2044282225</td>\n",
       "    </tr>\n",
       "    <tr>\n",
       "      <th>2</th>\n",
       "      <td>2</td>\n",
       "      <td>C1305486145</td>\n",
       "      <td>C553264065</td>\n",
       "    </tr>\n",
       "    <tr>\n",
       "      <th>3</th>\n",
       "      <td>3</td>\n",
       "      <td>C840083671</td>\n",
       "      <td>C38997010</td>\n",
       "    </tr>\n",
       "    <tr>\n",
       "      <th>4</th>\n",
       "      <td>4</td>\n",
       "      <td>C2048537720</td>\n",
       "      <td>M1230701703</td>\n",
       "    </tr>\n",
       "    <tr>\n",
       "      <th>5</th>\n",
       "      <td>5</td>\n",
       "      <td>C90045638</td>\n",
       "      <td>M573487274</td>\n",
       "    </tr>\n",
       "    <tr>\n",
       "      <th>6</th>\n",
       "      <td>6</td>\n",
       "      <td>C154988899</td>\n",
       "      <td>M408069119</td>\n",
       "    </tr>\n",
       "    <tr>\n",
       "      <th>7</th>\n",
       "      <td>7</td>\n",
       "      <td>C1912850431</td>\n",
       "      <td>M633326333</td>\n",
       "    </tr>\n",
       "    <tr>\n",
       "      <th>8</th>\n",
       "      <td>8</td>\n",
       "      <td>C1265012928</td>\n",
       "      <td>M1176932104</td>\n",
       "    </tr>\n",
       "    <tr>\n",
       "      <th>9</th>\n",
       "      <td>9</td>\n",
       "      <td>C712410124</td>\n",
       "      <td>C195600860</td>\n",
       "    </tr>\n",
       "    <tr>\n",
       "      <th>10</th>\n",
       "      <td>10</td>\n",
       "      <td>C1900366749</td>\n",
       "      <td>C997608398</td>\n",
       "    </tr>\n",
       "    <tr>\n",
       "      <th>11</th>\n",
       "      <td>11</td>\n",
       "      <td>C249177573</td>\n",
       "      <td>M2096539129</td>\n",
       "    </tr>\n",
       "  </tbody>\n",
       "</table>\n",
       "</div>"
      ],
      "text/plain": [
       "   t_id       origen      destino\n",
       "0     0  C1231006815  M1979787155\n",
       "1     1  C1666544295  M2044282225\n",
       "2     2  C1305486145   C553264065\n",
       "3     3   C840083671    C38997010\n",
       "4     4  C2048537720  M1230701703\n",
       "5     5    C90045638   M573487274\n",
       "6     6   C154988899   M408069119\n",
       "7     7  C1912850431   M633326333\n",
       "8     8  C1265012928  M1176932104\n",
       "9     9   C712410124   C195600860\n",
       "10   10  C1900366749   C997608398\n",
       "11   11   C249177573  M2096539129"
      ]
     },
     "execution_count": 7,
     "metadata": {},
     "output_type": "execute_result"
    }
   ],
   "source": [
    "df.head(12)"
   ]
  },
  {
   "cell_type": "code",
   "execution_count": 8,
   "id": "0ad54350",
   "metadata": {},
   "outputs": [],
   "source": [
    "df['t_id'] = df['t_id'].astype(int)"
   ]
  },
  {
   "cell_type": "code",
   "execution_count": 9,
   "id": "8d3fba0d",
   "metadata": {},
   "outputs": [],
   "source": [
    "x=df.dtypes"
   ]
  },
  {
   "cell_type": "code",
   "execution_count": 10,
   "id": "5d67da4c",
   "metadata": {},
   "outputs": [
    {
     "data": {
      "text/plain": [
       "t_id        int32\n",
       "origen     object\n",
       "destino    object\n",
       "dtype: object"
      ]
     },
     "execution_count": 10,
     "metadata": {},
     "output_type": "execute_result"
    }
   ],
   "source": [
    "x"
   ]
  },
  {
   "cell_type": "code",
   "execution_count": null,
   "id": "00bb8d92",
   "metadata": {},
   "outputs": [],
   "source": []
  },
  {
   "cell_type": "code",
   "execution_count": null,
   "id": "19d018fc",
   "metadata": {},
   "outputs": [],
   "source": []
  },
  {
   "cell_type": "code",
   "execution_count": null,
   "id": "07402e62",
   "metadata": {},
   "outputs": [],
   "source": []
  }
 ],
 "metadata": {
  "kernelspec": {
   "display_name": "Python 3 (ipykernel)",
   "language": "python",
   "name": "python3"
  },
  "language_info": {
   "codemirror_mode": {
    "name": "ipython",
    "version": 3
   },
   "file_extension": ".py",
   "mimetype": "text/x-python",
   "name": "python",
   "nbconvert_exporter": "python",
   "pygments_lexer": "ipython3",
   "version": "3.10.9"
  }
 },
 "nbformat": 4,
 "nbformat_minor": 5
}
