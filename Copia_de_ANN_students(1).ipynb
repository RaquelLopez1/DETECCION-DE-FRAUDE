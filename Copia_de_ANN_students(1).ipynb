{
  "cells": [
    {
      "cell_type": "code",
      "execution_count": null,
      "metadata": {
        "id": "acYuyQ_hPe69"
      },
      "outputs": [],
      "source": [
        "# Solo en google colab\n",
        "#Cambia el entorno de ejecución a TPU"
      ]
    },
    {
      "cell_type": "code",
      "execution_count": 18,
      "metadata": {
        "id": "L1nloH-gPe7D",
        "colab": {
          "base_uri": "https://localhost:8080/"
        },
        "outputId": "6af3c464-e4c6-4d79-c0cc-6ca2a946ff77"
      },
      "outputs": [
        {
          "output_type": "stream",
          "name": "stdout",
          "text": [
            "Requirement already satisfied: tensorflow_addons in /usr/local/lib/python3.10/dist-packages (0.21.0)\n",
            "Requirement already satisfied: packaging in /usr/local/lib/python3.10/dist-packages (from tensorflow_addons) (23.1)\n",
            "Requirement already satisfied: typeguard<3.0.0,>=2.7 in /usr/local/lib/python3.10/dist-packages (from tensorflow_addons) (2.13.3)\n"
          ]
        }
      ],
      "source": [
        "# Solo en google colab\n",
        "# Instalar tensorflow_addons\n",
        "!pip install tensorflow_addons"
      ]
    },
    {
      "cell_type": "code",
      "execution_count": 19,
      "metadata": {
        "id": "ablGTCPgPe7F"
      },
      "outputs": [],
      "source": [
        "import numpy as np\n",
        "import pandas as pd\n",
        "import tensorflow as tf\n",
        "import tensorflow_addons as tfa\n",
        "from tensorflow import keras\n",
        "from tensorflow.keras import layers\n",
        "import matplotlib as plt\n",
        "import seaborn as sns\n",
        "sns.set(style=\"darkgrid\")"
      ]
    },
    {
      "cell_type": "markdown",
      "metadata": {
        "id": "PlMqwh1TPe7I"
      },
      "source": [
        "## Tensorflow\n",
        "\n",
        "¿Cuál es valor de $w$ que minimiza el valor de la siguiente función siendo $x = [100, -5, 2]$?\n",
        "\n",
        "$$x_0 + x_1w + x_2w^2$$\n",
        "\n",
        "#### Solución\n",
        "$w=5/4$\n",
        "\n",
        "### Definición del modelo"
      ]
    },
    {
      "cell_type": "code",
      "execution_count": null,
      "metadata": {
        "id": "IRs59B6FPe7Q"
      },
      "outputs": [],
      "source": [
        "# Coeficientes a optimizar\n",
        "w = tf.Variable(0, name='w', dtype=tf.float32)\n",
        "# Función a optimizar/minimizar\n",
        "f = lambda: w**2. -20.*w + 100.\n",
        "\n",
        "# Optimizador de tipo descenso de gradiente estocástico\n",
        "optimizer = #TODO\n",
        "\n",
        "# Iteramos 20 veces el optimizador\n",
        "for i in range(20):\n",
        "    optimizer.minimize(#TODO\n",
        "    print(\"iterations: \", i, \",\\f: \", f().numpy(), \",\\tw: \", w.numpy())"
      ]
    },
    {
      "cell_type": "markdown",
      "metadata": {
        "id": "RRRDCtpiPe7S"
      },
      "source": [
        "## Perceptrón simple: Compuertas AND, OR y XOR"
      ]
    },
    {
      "cell_type": "code",
      "execution_count": null,
      "metadata": {
        "id": "v2sny81OPe7U"
      },
      "outputs": [],
      "source": [
        "# Entradas a la compuerta\n",
        "X = np.array([[0.,0.],[0.,1.],[1.,0.],[1.,1.]], dtype=np.float32)\n",
        "\n",
        "y_and = np.array([[0.],[0.],[0.],[1.]], dtype=np.float32)\n",
        "\n",
        "y_or = np.array([[0.],[1.],[1.],[1.]], dtype=np.float32)\n",
        "\n",
        "y_xor = np.array([[0.],[1.],[1.],[0.]], dtype=np.float32)"
      ]
    },
    {
      "cell_type": "markdown",
      "metadata": {
        "id": "XWgM0V0VPe7W"
      },
      "source": [
        "#### Primero intentemos obtener los pesos manualmente. Define los pesos y el bías como constantes."
      ]
    },
    {
      "cell_type": "code",
      "execution_count": null,
      "metadata": {
        "id": "v7lfCURkPe7X"
      },
      "outputs": [],
      "source": [
        "# Definimos los pesos y bias\n",
        "W = tf.constant(#TODO\n",
        "b = tf.constant(#TODO\n",
        "\n",
        "# Perceptrón simple (con función de activación sigmoide)\n",
        "y_ = #TODO\n",
        "\n",
        "# Resultado\n",
        "print(\"Output\", np.round(y_.numpy()).reshape(4,))"
      ]
    },
    {
      "cell_type": "markdown",
      "metadata": {
        "id": "zZCvNKUVPe7Y"
      },
      "source": [
        "#### Probemos ahora optimizando con tensorflow"
      ]
    },
    {
      "cell_type": "code",
      "execution_count": null,
      "metadata": {
        "id": "MuvQz6lEPe7Z"
      },
      "outputs": [],
      "source": [
        "# Definimos los pesos, ahora son variables porque tenemos que optimizarlos\n",
        "W = tf.Variable(#TODO\n",
        "b = tf.Variable(#TODO\n",
        "\n",
        "#Definimos las métricas\n",
        "cost = tf.metrics.Mean(name='cost')\n",
        "accuracy = tf.metrics.BinaryAccuracy(name='accuracy')\n",
        "\n",
        "#Definimos el optimizador (SGD)\n",
        "optimizer = #TODO\n",
        "\n",
        "@tf.function\n",
        "def train_step(X, y):\n",
        "    with tf.GradientTape() as tape:\n",
        "        # Se registran las funciones a optimizar\n",
        "        y_ = #TODO\n",
        "        # Usar binary_crossentropy\n",
        "        loss = #TODO\n",
        "    #Obtenemos los gradientes\n",
        "    gradients = tape.gradient(#TODO\n",
        "    #Optimizamos (1 paso)\n",
        "    optimizer.apply_gradients(#TODO\n",
        "\n",
        "    #Calculamos las métricas\n",
        "    cost(#TODO\n",
        "    accuracy(#TODO"
      ]
    },
    {
      "cell_type": "markdown",
      "metadata": {
        "id": "J2d_LknaPe7a"
      },
      "source": [
        "Probemos el funcionamiento de nuetro perceptron simple con las tres compuertas\n",
        "#### AND"
      ]
    },
    {
      "cell_type": "code",
      "execution_count": null,
      "metadata": {
        "id": "QREdrR4gPe7b"
      },
      "outputs": [],
      "source": [
        "EPOCHS = 20\n",
        "\n",
        "for epoch in range(EPOCHS):\n",
        "    # Reset the metrics at the start of the next epoch\n",
        "    cost.reset_states()\n",
        "    accuracy.reset_states()\n",
        "\n",
        "    train_step(X, y_and)\n",
        "\n",
        "    template = 'Epoch {}, Cost: {}, Accuracy: {}'\n",
        "    print(template.format(epoch+1,\n",
        "                        cost.result(),\n",
        "                        accuracy.result()*100))\n",
        "\n",
        "y_ = tf.nn.sigmoid(tf.matmul(X, W, name='matmul') + b, name=\"sigmoid\")\n",
        "print(\"Output\", np.round(y_.numpy()).reshape(4,))"
      ]
    },
    {
      "cell_type": "markdown",
      "metadata": {
        "id": "uw61EgDCPe7c"
      },
      "source": [
        "#### OR\n",
        "Ejecutar primero el bloque donde se definen los pesos para reinicializar los valores"
      ]
    },
    {
      "cell_type": "code",
      "execution_count": null,
      "metadata": {
        "id": "fAmTHH2vPe7d"
      },
      "outputs": [],
      "source": [
        "EPOCHS = 20\n",
        "\n",
        "for epoch in range(EPOCHS):\n",
        "    # Reset the metrics at the start of the next epoch\n",
        "    cost.reset_states()\n",
        "    accuracy.reset_states()\n",
        "\n",
        "    train_step(X, y_or)\n",
        "\n",
        "    template = 'Epoch {}, Cost: {}, Accuracy: {}'\n",
        "    print(template.format(epoch+1,\n",
        "                        cost.result(),\n",
        "                        accuracy.result()*100))\n",
        "\n",
        "y_ = tf.nn.sigmoid(tf.matmul(X, W, name='matmul') + b, name=\"sigmoid\")\n",
        "print(\"Output\", np.round(y_.numpy()).reshape(4,))"
      ]
    },
    {
      "cell_type": "markdown",
      "metadata": {
        "id": "VMaDsraxPe7e"
      },
      "source": [
        "#### XOR\n",
        "Ejecutar primero el bloque donde se definen los pesos para reinicializar los valores"
      ]
    },
    {
      "cell_type": "code",
      "execution_count": null,
      "metadata": {
        "id": "_0EA9qpYPe7e"
      },
      "outputs": [],
      "source": [
        "EPOCHS = 20\n",
        "\n",
        "for epoch in range(EPOCHS):\n",
        "    # Reset the metrics at the start of the next epoch\n",
        "    cost.reset_states()\n",
        "    accuracy.reset_states()\n",
        "\n",
        "    train_step(X, y_xor)\n",
        "\n",
        "    template = 'Epoch {}, Cost: {}, Accuracy: {}'\n",
        "    print(template.format(epoch+1,\n",
        "                        cost.result(),\n",
        "                        accuracy.result()*100))\n",
        "\n",
        "y_ = tf.nn.sigmoid(tf.matmul(X, W, name='matmul') + b, name=\"sigmoid\")\n",
        "print(\"Output\", np.round(y_.numpy()).reshape(4,))"
      ]
    },
    {
      "cell_type": "markdown",
      "metadata": {
        "id": "cYJzmYqIPe7g"
      },
      "source": [
        "#### ¿Qué ha sucedido con la compuerta XOR?"
      ]
    },
    {
      "cell_type": "markdown",
      "metadata": {
        "id": "RsfiP0KMPe7g"
      },
      "source": [
        "## Perceptrón Multicapa: Compuerta XOR\n",
        "Crear un perceptron multicapa con topología 2-2-1 (2 entradas, 2 ocultas y una salida)"
      ]
    },
    {
      "cell_type": "code",
      "execution_count": null,
      "metadata": {
        "id": "m05NQhM2Pe7i"
      },
      "outputs": [],
      "source": [
        "# Pesos del perceptrón multicapa\n",
        "Wh = #TODO\n",
        "bh = #TODO\n",
        "\n",
        "Wo = #TODO\n",
        "bo = #TODO\n",
        "\n",
        "#Definimos las métricas\n",
        "cost = #TODO\n",
        "accuracy = #TODO\n",
        "\n",
        "#Definimos el optimizador (SGD)\n",
        "optimizer = #TODO\n",
        "\n",
        "@tf.function\n",
        "def train_step(X, y):\n",
        "    with tf.GradientTape() as tape:\n",
        "        # Se registran las funciones a optimizar\n",
        "        # Perceptrón multicapa\n",
        "        #Capa oculta\n",
        "        a_h = #TODO\n",
        "        #Capa de salida\n",
        "        y_ = #TODO\n",
        "        # Usar binary_crossentropy\n",
        "        loss = #TODO\n",
        "    #Obtenemos los gradientes\n",
        "    gradients = #TODO\n",
        "    #Optimizamos (1 paso)\n",
        "    optimizer.#TODO\n",
        "\n",
        "    #Calculamos las métricas\n",
        "    cost(#TODO\n",
        "    accuracy(#TODO"
      ]
    },
    {
      "cell_type": "markdown",
      "metadata": {
        "id": "NKTLou7wPe7j"
      },
      "source": [
        "Ejecuta varias veces junto al anterior, no encuentra siempre la solución"
      ]
    },
    {
      "cell_type": "code",
      "execution_count": null,
      "metadata": {
        "id": "f0_lZl1XPe7l"
      },
      "outputs": [],
      "source": [
        "EPOCHS = 100\n",
        "\n",
        "for epoch in range(EPOCHS):\n",
        "    # Reset the metrics at the start of the next epoch\n",
        "    cost.reset_states()\n",
        "    accuracy.reset_states()\n",
        "\n",
        "    train_step(X, y_xor)\n",
        "    if epoch%10==0:\n",
        "        template = 'Epoch {}, Cost: {}, Accuracy: {}'\n",
        "        print(template.format(epoch+1,\n",
        "                            cost.result(),\n",
        "                            accuracy.result()*100))\n",
        "\n",
        "y_ = tf.nn.sigmoid(tf.matmul(tf.nn.tanh(tf.matmul(X, Wh) + bh, name='a_h'), Wo) + bo, name='y_')\n",
        "print(\"Output\", np.round(y_.numpy()).reshape(4,))"
      ]
    },
    {
      "cell_type": "markdown",
      "metadata": {
        "id": "Zrm0wx1nPe7s"
      },
      "source": [
        "## Problema regresión: Diabetes"
      ]
    },
    {
      "cell_type": "code",
      "execution_count": null,
      "metadata": {
        "id": "_tviQ2xVPe7t"
      },
      "outputs": [],
      "source": [
        "import io\n",
        "import requests\n",
        "\n",
        "# https://www4.stat.ncsu.edu/~boos/var.select/diabetes.html\n",
        "# age, sex, body mass index, average blood pressure, and six blood serum measurements\n",
        "url=\"https://www4.stat.ncsu.edu/~boos/var.select/diabetes.tab.txt\"\n",
        "c=requests.get(url).content\n",
        "diabetes=pd.read_csv(io.StringIO(c.decode('utf-8')), sep='\\t')"
      ]
    },
    {
      "cell_type": "code",
      "execution_count": null,
      "metadata": {
        "id": "F3BYcAbXPe7u"
      },
      "outputs": [],
      "source": [
        "diabetes.head()"
      ]
    },
    {
      "cell_type": "code",
      "execution_count": null,
      "metadata": {
        "id": "YZgsci9fPe7u"
      },
      "outputs": [],
      "source": [
        "from sklearn.model_selection import train_test_split\n",
        "\n",
        "diabetes['SEX'] -= 1\n",
        "X_train, X_test, y_train, y_test = train_test_split(diabetes.drop('Y', axis=1).values,\n",
        "                                                    #Aniadimos una dimension para que sea un vector columna\n",
        "                                                    diabetes['Y'].values[..., np.newaxis],\n",
        "                                                    test_size=0.2, random_state=0)"
      ]
    },
    {
      "cell_type": "code",
      "execution_count": null,
      "metadata": {
        "id": "5ni3FAJvPe7u"
      },
      "outputs": [],
      "source": [
        "from sklearn.preprocessing import StandardScaler\n",
        "\n",
        "class StandardScalerSelection(StandardScaler):\n",
        "    '''Solo funciona con pandas '''\n",
        "\n",
        "    def __init__(self, copy=True, with_mean=True, with_std=True, skip_cols=None):\n",
        "        self.skip_cols = np.array(skip_cols).flatten().tolist()\n",
        "        super().__init__(copy, with_mean, with_std)\n",
        "\n",
        "    def fit(self, X, y=None):\n",
        "        return super().fit(np.delete(X, self.skip_cols, axis=1))\n",
        "\n",
        "    def transform(self, X):\n",
        "        X_scl = super().transform(np.delete(X, self.skip_cols, axis=1))\n",
        "        # Restar uno por cada indice anterior para que asi se inserte en su posición\n",
        "        idx = np.array(skip_cols)-np.arange(len(skip_cols))\n",
        "        return np.insert(X_scl, idx, X[:,self.skip_cols], axis=1)"
      ]
    },
    {
      "cell_type": "code",
      "execution_count": null,
      "metadata": {
        "id": "z5xHnmGWPe7v"
      },
      "outputs": [],
      "source": [
        "skip_cols = sorted([diabetes.columns.get_loc(c) for c in ['SEX'] if c in diabetes])\n",
        "scaler = StandardScalerSelection(skip_cols=skip_cols)\n",
        "X_train = scaler.fit_transform(X_train)\n",
        "X_test = scaler.transform(X_test)\n",
        "y_train = y_train.astype(np.float64)\n",
        "y_test = y_test.astype(np.float64)"
      ]
    },
    {
      "cell_type": "markdown",
      "metadata": {
        "id": "We0s8BfPPe7v"
      },
      "source": [
        "### TensorFlow"
      ]
    },
    {
      "cell_type": "code",
      "execution_count": null,
      "metadata": {
        "id": "PWzCaIgzPe7w"
      },
      "outputs": [],
      "source": [
        "#TODO\n",
        "# Pesos del perceptrón multicapa\n",
        "Wh1 = #TODO\n",
        "bh1 = #TODO\n",
        "\n",
        "Wh2 = #TODO\n",
        "bh2 = #TODO\n",
        "\n",
        "Wo = #TODO\n",
        "bo = #TODO\n",
        "\n",
        "#Definimos las funciones de coste\n",
        "train_cost = #TODO\n",
        "train_r2 = #TODO\n",
        "test_cost = #TODO\n",
        "test_r2 = #TODO\n",
        "\n",
        "\n",
        "#Definimos el optimizador (Adam)\n",
        "optimizer = #TODO\n",
        "\n",
        "@tf.function\n",
        "def train_step(X, y):\n",
        "    #TODO\n",
        "\n",
        "# Función para obtener la precision y coste en test\n",
        "@tf.function\n",
        "def test(X, y):\n",
        "    # Perceptrón multicapa\n",
        "    #TODO\n",
        "    # Funcion de perdida\n",
        "    #TODO\n",
        "    #Calculamos las métricas\n",
        "    #TODO"
      ]
    },
    {
      "cell_type": "code",
      "execution_count": null,
      "metadata": {
        "id": "jXMck-i7Pe7w"
      },
      "outputs": [],
      "source": [
        "EPOCHS = 100\n",
        "\n",
        "for epoch in range(EPOCHS):\n",
        "    # Reset the metrics at the start of the next epoch\n",
        "    train_cost.reset_states()\n",
        "    train_r2.reset_states()\n",
        "    test_cost.reset_states()\n",
        "    test_r2.reset_states()\n",
        "\n",
        "    train_step(X_train, y_train)\n",
        "    test(X_test, y_test)\n",
        "    if epoch%10==0:\n",
        "        template = 'Epoch {:}, Train cost: {:.4f}, Train R2: {:.4f}, Test cost: {:.4f}, Test R2: {:.4f}'\n",
        "        print(template.format(epoch+1,\n",
        "                            train_cost.result(),\n",
        "                            train_r2.result(),\n",
        "                            train_cost.result(),\n",
        "                            test_r2.result()))"
      ]
    },
    {
      "cell_type": "markdown",
      "metadata": {
        "id": "4sqIa3B6Pe7x"
      },
      "source": [
        "## Keras"
      ]
    },
    {
      "cell_type": "code",
      "execution_count": null,
      "metadata": {
        "id": "XY1rqNU1Pe7x"
      },
      "outputs": [],
      "source": [
        "#Modelo\n",
        "model = keras.Sequential([\n",
        "    #TODO\n",
        "  ])\n",
        "\n",
        "model.compile(#TODO\n",
        "\n",
        "                )\n",
        "\n",
        "model.summary()"
      ]
    },
    {
      "cell_type": "code",
      "execution_count": null,
      "metadata": {
        "id": "x8yvyZf-Pe7x"
      },
      "outputs": [],
      "source": [
        "# Entrenar el modelo\n",
        "history = model.fit(#TODO"
      ]
    },
    {
      "cell_type": "code",
      "execution_count": null,
      "metadata": {
        "id": "7rvO4Z-iPe7y"
      },
      "outputs": [],
      "source": [
        "# Obtener la precisión del modelo\n",
        "# TODO"
      ]
    },
    {
      "cell_type": "code",
      "execution_count": null,
      "metadata": {
        "id": "rLV5w7RXPe7y"
      },
      "outputs": [],
      "source": [
        "hist = pd.DataFrame(history.history)\n",
        "# Incluye la epoca para cada error\n",
        "hist['epoch'] = history.epoch\n",
        "\n",
        "# Colpasa los errores 'mean_absolute_error','val_mean_absolute_error' en una sola columna para sns\n",
        "df = hist.melt(id_vars='epoch', var_name='Type', value_name='Error',\n",
        "               value_vars=['mean_absolute_error','val_mean_absolute_error'])\n",
        "# Plot the responses for different events and regions\n",
        "_ = sns.lineplot(x='epoch', y='Error', hue='Type', data=df)\n",
        "\n",
        "\n",
        "print(\"Mean Absolute Error Train: %.2f\" % model.evaluate(X_train, y_train, verbose=0)[1])\n",
        "print(\"Mean Absolute Error Test: %.2f\" % model.evaluate(X_test, y_test, verbose=0)[1])"
      ]
    },
    {
      "cell_type": "markdown",
      "metadata": {
        "id": "B7-rcM82Pe7y"
      },
      "source": [
        "### Problema de clasificación: Breast Cancer"
      ]
    },
    {
      "cell_type": "code",
      "execution_count": null,
      "metadata": {
        "id": "WwQSk09pPe7z"
      },
      "outputs": [],
      "source": [
        "import io\n",
        "import requests\n",
        "\n",
        "# https://archive.ics.uci.edu/ml/datasets/Breast+Cancer+Wisconsin+(Diagnostic)\n",
        "url='https://archive.ics.uci.edu/ml/machine-learning-databases/breast-cancer-wisconsin/wdbc.data'\n",
        "c=requests.get(url).content\n",
        "cancer=pd.read_csv(io.StringIO(c.decode('utf-8')), header=None, index_col=0)"
      ]
    },
    {
      "cell_type": "code",
      "execution_count": null,
      "metadata": {
        "id": "iw7pnABTPe7z"
      },
      "outputs": [],
      "source": [
        "cancer.head()"
      ]
    },
    {
      "cell_type": "code",
      "execution_count": null,
      "metadata": {
        "id": "n2UJ9_qcPe79"
      },
      "outputs": [],
      "source": [
        "from sklearn.model_selection import train_test_split\n",
        "\n",
        "cancer[1] = list(map(float, cancer[1].values=='M'))\n",
        "X_train, X_test, y_train, y_test = train_test_split(cancer.drop(1, axis=1).values,\n",
        "                                                    #Aniadimos una dimension para que sea un vector columna\n",
        "                                                    cancer[1].values[..., np.newaxis],\n",
        "                                                    test_size=0.2, random_state=0)"
      ]
    },
    {
      "cell_type": "code",
      "execution_count": null,
      "metadata": {
        "id": "uQIyAnqbPe7-"
      },
      "outputs": [],
      "source": [
        "from sklearn.preprocessing import StandardScaler\n",
        "\n",
        "scaler = StandardScaler()\n",
        "X_train = scaler.fit_transform(X_train)\n",
        "X_test = scaler.transform(X_test)"
      ]
    },
    {
      "cell_type": "markdown",
      "metadata": {
        "id": "vqX2o8hwPe7_"
      },
      "source": [
        "### TensorFlow\n",
        "Utilizar en este caso la métrica `AUC`\n",
        "\n",
        "Para la función de perdida, utilizar `binary_crossentropy` al ser un problema binario"
      ]
    },
    {
      "cell_type": "code",
      "execution_count": null,
      "metadata": {
        "id": "yntDxHh-Pe7_"
      },
      "outputs": [],
      "source": [
        "#TODO\n",
        "# Pesos del perceptrón multicapa\n",
        "#TODO\n",
        "\n",
        "#Definimos las métricas\n",
        "train_cost = #TODO\n",
        "train_auc = #TODO\n",
        "test_cost = #TODO\n",
        "test_auc = #TODO\n",
        "\n",
        "\n",
        "#TODO...\n"
      ]
    },
    {
      "cell_type": "code",
      "execution_count": null,
      "metadata": {
        "id": "3jbT50RxPe8A"
      },
      "outputs": [],
      "source": [
        "EPOCHS = 100\n",
        "\n",
        "for epoch in range(EPOCHS):\n",
        "    # Reset the metrics at the start of the next epoch\n",
        "    train_cost.reset_states()\n",
        "    train_auc.reset_states()\n",
        "    test_cost.reset_states()\n",
        "    test_auc.reset_states()\n",
        "\n",
        "    train_step(X_train, y_train)\n",
        "    test(X_test, y_test)\n",
        "    if epoch%10==0:\n",
        "        template = 'Epoch {:}, Train Cost: {:.4f}, Train AUC: {:.2f}, Test Cost: {:.4f}, Test AUC: {:.2f}'\n",
        "        print(template.format(epoch+1,\n",
        "                            train_cost.result(),\n",
        "                            train_auc.result()*100,\n",
        "                            test_cost.result(),\n",
        "                            test_auc.result()*100))"
      ]
    },
    {
      "cell_type": "markdown",
      "metadata": {
        "id": "Lj_q2BjpPe8A"
      },
      "source": [
        "### Keras"
      ]
    },
    {
      "cell_type": "code",
      "execution_count": null,
      "metadata": {
        "id": "U9YsKNsdPe8B"
      },
      "outputs": [],
      "source": [
        "#TODO"
      ]
    },
    {
      "cell_type": "code",
      "execution_count": null,
      "metadata": {
        "id": "Y2AGc1IaPe8D"
      },
      "outputs": [],
      "source": [
        "hist = pd.DataFrame(history.history)\n",
        "# Incluye la epoca para cada error\n",
        "hist['epoch'] = history.epoch\n",
        "\n",
        "# Colpasa los errores 'mean_absolute_error','val_mean_absolute_error' en una sola columna para sns\n",
        "df = hist.melt(id_vars='epoch', var_name='Type', value_name='Accuracy',\n",
        "               value_vars=['binary_accuracy','val_binary_accuracy'])\n",
        "# Plot the responses for different events and regions\n",
        "_ = sns.lineplot(x='epoch', y='Accuracy', hue='Type', data=df)\n",
        "\n",
        "print(\"Accuracy Train: %.2f\" % model.evaluate(X_train, y_train, verbose=0)[1])\n",
        "print(\"Accuracy Test: %.2f\" % model.evaluate(X_test, y_test, verbose=0)[1])"
      ]
    },
    {
      "cell_type": "markdown",
      "metadata": {
        "id": "haKcT1WnPe8D"
      },
      "source": [
        "## Problema de clasificación multiclase: MNIST"
      ]
    },
    {
      "cell_type": "code",
      "execution_count": 20,
      "metadata": {
        "id": "G8yDY6ozPe8E"
      },
      "outputs": [],
      "source": [
        "# Cargo el data set que contiene imágenes con números entre el 0 y 9 (borrosas) y quiero una red neuronal que me clasifique cada imagen\n",
        "(train_images, train_labels), (test_images, test_labels) = keras.datasets.mnist.load_data()"
      ]
    },
    {
      "cell_type": "code",
      "execution_count": 21,
      "metadata": {
        "id": "DW1ycT40Pe8E"
      },
      "outputs": [],
      "source": [
        "# divido entre esa cantidad para obtener números entre 0 y 1\n",
        "X_train = train_images / 255.0\n",
        "X_test = test_images / 255.0"
      ]
    },
    {
      "cell_type": "code",
      "source": [
        "train_labels # Las etiquetas de los números que estoy metiendo"
      ],
      "metadata": {
        "colab": {
          "base_uri": "https://localhost:8080/"
        },
        "id": "8wQf4IEFRV0d",
        "outputId": "b031b896-a6c4-485a-967a-62dda4fc3d73"
      },
      "execution_count": 22,
      "outputs": [
        {
          "output_type": "execute_result",
          "data": {
            "text/plain": [
              "array([5, 0, 4, ..., 5, 6, 8], dtype=uint8)"
            ]
          },
          "metadata": {},
          "execution_count": 22
        }
      ]
    },
    {
      "cell_type": "code",
      "execution_count": 23,
      "metadata": {
        "id": "TdIlsohMPe8F",
        "colab": {
          "base_uri": "https://localhost:8080/"
        },
        "outputId": "1e9f05c0-fd18-4e54-b204-2257ac2a7f87"
      },
      "outputs": [
        {
          "output_type": "execute_result",
          "data": {
            "text/plain": [
              "array([[0, 0, 0, ..., 0, 0, 0],\n",
              "       [1, 0, 0, ..., 0, 0, 0],\n",
              "       [0, 0, 0, ..., 0, 0, 0],\n",
              "       ...,\n",
              "       [0, 0, 0, ..., 0, 0, 0],\n",
              "       [0, 0, 0, ..., 0, 0, 0],\n",
              "       [0, 0, 0, ..., 0, 1, 0]])"
            ]
          },
          "metadata": {},
          "execution_count": 23
        }
      ],
      "source": [
        "# OneHotEncoding para AUC\n",
        "from sklearn.preprocessing import LabelBinarizer\n",
        "\n",
        "le = LabelBinarizer().fit(train_labels)\n",
        "y_train_label = le.transform(train_labels)\n",
        "y_test_label = le.transform(test_labels)\n",
        "y_train_label"
      ]
    },
    {
      "cell_type": "code",
      "execution_count": 24,
      "metadata": {
        "id": "s_LK9J56Pe8F"
      },
      "outputs": [],
      "source": [
        "y_train = train_labels[..., np.newaxis]\n",
        "y_test = test_labels[..., np.newaxis]"
      ]
    },
    {
      "cell_type": "markdown",
      "metadata": {
        "id": "2KKNOTj1Pe8G"
      },
      "source": [
        "### Tensorflow"
      ]
    },
    {
      "cell_type": "markdown",
      "metadata": {
        "id": "aVjA971IPe8G"
      },
      "source": [
        "`sparse_categorical_crossentropy` funciona mejor en problemas donde las clases son mutuamente excluyentes, es decir, solo hay una clase positiva en cada tupla. `categorical_crossentropy` permite trabajar con problemas donde más de una clase puede ser positiva."
      ]
    },
    {
      "cell_type": "code",
      "execution_count": null,
      "metadata": {
        "id": "9tGopDK_Pe8I"
      },
      "outputs": [],
      "source": [
        "#TODO"
      ]
    },
    {
      "cell_type": "code",
      "source": [
        "X_train.shape #tengo 60.000 imágenes de 28 píxeles"
      ],
      "metadata": {
        "colab": {
          "base_uri": "https://localhost:8080/"
        },
        "id": "RNVdX07kUd5O",
        "outputId": "a501e821-23e1-4d6f-f11e-dcd283cee372"
      },
      "execution_count": 25,
      "outputs": [
        {
          "output_type": "execute_result",
          "data": {
            "text/plain": [
              "(60000, 28, 28)"
            ]
          },
          "metadata": {},
          "execution_count": 25
        }
      ]
    },
    {
      "cell_type": "code",
      "source": [
        "# Vamos a construir una red neuronal con capa oculta de 64 neuronas y capa de salida de 10 neuronas\n",
        "# (xq tengo 10 clases y quiero que cada neuronas me devuelvo la probabilidad de pertenencia a cada clase)\n",
        "\n",
        "numpix = X_train.shape[1] * X_train.shape[2] #nº total de píxeles. En este caso, 28*28 = 784\n",
        "\n",
        "Wh = tf.Variable(tf.random.truncated_normal(shape=[numpix,64], stddev=1./np.sqrt(numpix), dtype=tf.float64), name='Wh')\n",
        "# Defino los pesos y les doy valores aleatorios, así como la primera capa junto a la desviación estándar\n",
        "bh = tf.Variable(tf.zeros([64], dtype=tf.float64), name='bh')\n",
        "# Defino los 64 bias (uno por cada neurona, para la capa oculta) y los inicializo a 0\n",
        "\n",
        "Wo = tf.Variable(tf.random.truncated_normal(shape=[64,10], stddev=1./np.sqrt(64), dtype=tf.float64), name='Wo')\n",
        "bo = tf.Variable(tf.zeros([10], dtype=tf.float64), name='bo')\n",
        "# Lo mismo para la capa de salida. Tendré 10 neuronas, cada una recibe 64 entradas y devuelve una salida\n",
        "\n",
        "# Defino las métricas a usar tanto para el conjuntonde entrenamiento como de test (media y AUC por ej)\n",
        "train_cost = tf.metrics.Mean(name = 'cost')\n",
        "train_auc = tf.metrics.AUC(name = 'auc')\n",
        "test_cost = tf.metrics.Mean(name = 'cost')\n",
        "test_auc = tf.metrics.AUC(name = 'auc')\n"
      ],
      "metadata": {
        "id": "GrBkrysMUeAd"
      },
      "execution_count": 26,
      "outputs": []
    },
    {
      "cell_type": "code",
      "source": [
        "from tensorflow.python.eager.backprop import GradientTape\n",
        "optimizer = tf.optimizers.Adam(learning_rate=0.3)\n",
        "\n",
        "# Creo una función que se encargue de hacer cada iteración / Epoch\n",
        "@tf.function\n",
        "def train_step(X, y, y_label):\n",
        "  with tf.GradientTape() as tape:\n",
        "    X = tf.keras.layers.Flatten(dtype='float64')(X)  # Tengo un vector de matrices, con lo que no puedo operar, por lo que aplano cada matriz para pasarla a un \"vector\"\n",
        "    a_h = tf.nn.tanh(tf.matmul(X, Wh) + bh, name='a_h') # F de activación tan hiberbólica para la capa oculta\n",
        "    y_ = tf.nn.softmax(tf.matmul(a_h, Wo) + bo, name='y_') # F de activación Softmax para capa de salida por ser problema de clasificación multiclase\n",
        "    loss = tf.losses.sparse_categorical_crossentropy(y, y_) # Cálculo de la función de pérdida\n",
        "  gradients = tape.gradient(loss, (Wh, bh, Wo, bo))\n",
        "  optimizer.apply_gradients(zip(gradients, (Wh, bh, Wo, bo)))\n",
        "  train_cost(loss) # A la función de coste le paso la función de pérdida, que en nuestro caso es la media\n",
        "  train_auc(y_label, y_)\n",
        "\n",
        "@tf.function\n",
        "def test(X, y, y_label):\n",
        "  X = tf.keras.layers.Flatten(dtype='float64')(X)\n",
        "  a_h = tf.nn.tanh(tf.matmul(X, Wh) + bh, name='a_h')\n",
        "  y_ = tf.nn.softmax(tf.matmul(a_h, Wo) + bo, name='y_')\n",
        "  loss = tf.losses.sparse_categorical_crossentropy(y, y_)\n",
        "  train_cost(loss)\n",
        "  train_auc(y_label, y_)\n",
        "\n"
      ],
      "metadata": {
        "id": "0ARdXRYHlvIE"
      },
      "execution_count": 27,
      "outputs": []
    },
    {
      "cell_type": "code",
      "execution_count": 28,
      "metadata": {
        "id": "10hwcjb-Pe8J",
        "colab": {
          "base_uri": "https://localhost:8080/"
        },
        "outputId": "d7268678-0f52-430d-ca32-81f82ac611eb"
      },
      "outputs": [
        {
          "output_type": "stream",
          "name": "stdout",
          "text": [
            "Epoch 1, Train Cost: 2.3319, Train AUC: 57.69, Test Cost: 0.0000, Test AUC: 0.00\n",
            "Epoch 2, Train Cost: 2.9776, Train AUC: 75.54, Test Cost: 0.0000, Test AUC: 0.00\n",
            "Epoch 3, Train Cost: 5.4591, Train AUC: 73.32, Test Cost: 0.0000, Test AUC: 0.00\n",
            "Epoch 4, Train Cost: 5.8851, Train AUC: 74.92, Test Cost: 0.0000, Test AUC: 0.00\n",
            "Epoch 5, Train Cost: 3.7121, Train AUC: 79.68, Test Cost: 0.0000, Test AUC: 0.00\n",
            "Epoch 6, Train Cost: 2.6600, Train AUC: 84.94, Test Cost: 0.0000, Test AUC: 0.00\n",
            "Epoch 7, Train Cost: 2.2563, Train AUC: 88.16, Test Cost: 0.0000, Test AUC: 0.00\n",
            "Epoch 8, Train Cost: 1.7462, Train AUC: 91.53, Test Cost: 0.0000, Test AUC: 0.00\n",
            "Epoch 9, Train Cost: 1.5754, Train AUC: 92.89, Test Cost: 0.0000, Test AUC: 0.00\n",
            "Epoch 10, Train Cost: 1.6391, Train AUC: 92.61, Test Cost: 0.0000, Test AUC: 0.00\n",
            "Epoch 11, Train Cost: 1.4246, Train AUC: 93.61, Test Cost: 0.0000, Test AUC: 0.00\n",
            "Epoch 12, Train Cost: 1.4021, Train AUC: 93.64, Test Cost: 0.0000, Test AUC: 0.00\n",
            "Epoch 13, Train Cost: 1.2573, Train AUC: 94.34, Test Cost: 0.0000, Test AUC: 0.00\n",
            "Epoch 14, Train Cost: 1.0615, Train AUC: 95.35, Test Cost: 0.0000, Test AUC: 0.00\n",
            "Epoch 15, Train Cost: 1.0083, Train AUC: 95.64, Test Cost: 0.0000, Test AUC: 0.00\n"
          ]
        }
      ],
      "source": [
        "# Ahora, en cada epoch va a llamar a entrenar, calcula el test como lo estaba haciendo e imprime valores\n",
        "EPOCHS = 15\n",
        "\n",
        "for epoch in range(EPOCHS):\n",
        "    # Reset the metrics at the start of the next epoch\n",
        "    train_cost.reset_states()\n",
        "    train_auc.reset_states()\n",
        "    test_cost.reset_states()\n",
        "    test_auc.reset_states()\n",
        "\n",
        "    train_step(X_train, y_train, y_train_label)\n",
        "    test(X_test, y_test, y_test_label)\n",
        "    if epoch%1==0:\n",
        "        template = 'Epoch {:}, Train Cost: {:.4f}, Train AUC: {:.2f}, Test Cost: {:.4f}, Test AUC: {:.2f}'\n",
        "        print(template.format(epoch+1,\n",
        "                            train_cost.result(),\n",
        "                            train_auc.result()*100,\n",
        "                            test_cost.result(),\n",
        "                            test_auc.result()*100))"
      ]
    },
    {
      "cell_type": "markdown",
      "metadata": {
        "id": "IzXWTmtwPe8J"
      },
      "source": [
        "### Keras\n",
        "Probar a crear el modelo con y sin dropout y batch normalization para comparar los resultados de validación"
      ]
    },
    {
      "cell_type": "code",
      "execution_count": 30,
      "metadata": {
        "id": "YLcxHtTOPe8K",
        "colab": {
          "base_uri": "https://localhost:8080/"
        },
        "outputId": "dc72f1c7-569e-47d9-bdd0-b5daf7021a53"
      },
      "outputs": [
        {
          "output_type": "stream",
          "name": "stdout",
          "text": [
            "Model: \"sequential\"\n",
            "_________________________________________________________________\n",
            " Layer (type)                Output Shape              Param #   \n",
            "=================================================================\n",
            " flatten (Flatten)           (None, 784)               0         \n",
            "                                                                 \n",
            " dropout (Dropout)           (None, 784)               0         \n",
            "                                                                 \n",
            " dense (Dense)               (None, 128)               100480    \n",
            "                                                                 \n",
            " batch_normalization (BatchN  (None, 128)              512       \n",
            " ormalization)                                                   \n",
            "                                                                 \n",
            " dropout_1 (Dropout)         (None, 128)               0         \n",
            "                                                                 \n",
            " dense_1 (Dense)             (None, 128)               16512     \n",
            "                                                                 \n",
            " batch_normalization_1 (Batc  (None, 128)              512       \n",
            " hNormalization)                                                 \n",
            "                                                                 \n",
            " dense_2 (Dense)             (None, 10)                1290      \n",
            "                                                                 \n",
            "=================================================================\n",
            "Total params: 119,306\n",
            "Trainable params: 118,794\n",
            "Non-trainable params: 512\n",
            "_________________________________________________________________\n"
          ]
        }
      ],
      "source": [
        "#TODO\n",
        "model = keras.Sequential([\n",
        "    keras.layers.Flatten(input_shape=(28,28)),\n",
        "    keras.layers.Dropout(0.2),\n",
        "    keras.layers.Dense(128, activation=tf.nn.relu),\n",
        "    keras.layers.BatchNormalization(),\n",
        "    keras.layers.Dropout(0.15),\n",
        "    keras.layers.Dense(128, activation=tf.nn.relu),\n",
        "    keras.layers.BatchNormalization(),\n",
        "    keras.layers.Dense(10, activation=tf.nn.softmax)\n",
        " ])\n",
        "\n",
        "model.summary()"
      ]
    },
    {
      "cell_type": "code",
      "source": [
        "model.compile(optimizer=tf.keras.optimizers.Adam(0.01),\n",
        "              loss='sparse_categorical_crossentropy',\n",
        "              metrics=['accuracy'])"
      ],
      "metadata": {
        "id": "7l9WlswdubD9"
      },
      "execution_count": 31,
      "outputs": []
    },
    {
      "cell_type": "code",
      "source": [
        "history = model.fit(X_train, y_train, epochs=5, validation_split=0.2)"
      ],
      "metadata": {
        "colab": {
          "base_uri": "https://localhost:8080/"
        },
        "id": "nGQDE5KEuvvP",
        "outputId": "964c03f9-daeb-437c-8982-4684f838c2f7"
      },
      "execution_count": 32,
      "outputs": [
        {
          "output_type": "stream",
          "name": "stdout",
          "text": [
            "Epoch 1/5\n",
            "1500/1500 [==============================] - 13s 8ms/step - loss: 0.3502 - accuracy: 0.8892 - val_loss: 0.1543 - val_accuracy: 0.9542\n",
            "Epoch 2/5\n",
            "1500/1500 [==============================] - 10s 7ms/step - loss: 0.2324 - accuracy: 0.9281 - val_loss: 0.1464 - val_accuracy: 0.9563\n",
            "Epoch 3/5\n",
            "1500/1500 [==============================] - 10s 7ms/step - loss: 0.2025 - accuracy: 0.9370 - val_loss: 0.1137 - val_accuracy: 0.9654\n",
            "Epoch 4/5\n",
            "1500/1500 [==============================] - 11s 8ms/step - loss: 0.1843 - accuracy: 0.9429 - val_loss: 0.1136 - val_accuracy: 0.9643\n",
            "Epoch 5/5\n",
            "1500/1500 [==============================] - 11s 8ms/step - loss: 0.1724 - accuracy: 0.9474 - val_loss: 0.1155 - val_accuracy: 0.9650\n"
          ]
        }
      ]
    },
    {
      "cell_type": "code",
      "execution_count": 33,
      "metadata": {
        "id": "nxRpwuyZPe8L",
        "colab": {
          "base_uri": "https://localhost:8080/",
          "height": 493
        },
        "outputId": "e495b149-d47e-40c2-c978-ad669a8eedef"
      },
      "outputs": [
        {
          "output_type": "stream",
          "name": "stdout",
          "text": [
            "Accuracy Train: 0.97\n",
            "Accuracy Test: 0.96\n"
          ]
        },
        {
          "output_type": "display_data",
          "data": {
            "text/plain": [
              "<Figure size 640x480 with 1 Axes>"
            ],
            "image/png": "[encoded data removed]"
          },
          "metadata": {}
        }
      ],
      "source": [
        "hist = pd.DataFrame(history.history)\n",
        "# Incluye la epoca para cada error\n",
        "hist['epoch'] = history.epoch\n",
        "\n",
        "# Colpasa los errores 'mean_absolute_error','val_mean_absolute_error' en una sola columna para sns\n",
        "df = hist.melt(id_vars='epoch', var_name='Type', value_name='Accuracy',\n",
        "               value_vars=['accuracy','val_accuracy'])\n",
        "# Plot the responses for different events and regions\n",
        "_ = sns.lineplot(x='epoch', y='Accuracy', hue='Type', data=df)\n",
        "\n",
        "print(\"Accuracy Train: %.2f\" % model.evaluate(X_train, y_train, verbose=0)[1])\n",
        "print(\"Accuracy Test: %.2f\" % model.evaluate(X_test, y_test, verbose=0)[1])"
      ]
    }
  ],
  "metadata": {
    "kernelspec": {
      "display_name": "Python 3",
      "name": "python3"
    },
    "language_info": {
      "codemirror_mode": {
        "name": "ipython",
        "version": 3
      },
      "file_extension": ".py",
      "mimetype": "text/x-python",
      "name": "python",
      "nbconvert_exporter": "python",
      "pygments_lexer": "ipython3",
      "version": "3.6.10"
    },
    "colab": {
      "provenance": []
    },
    "accelerator": "TPU"
  },
  "nbformat": 4,
  "nbformat_minor": 0
}