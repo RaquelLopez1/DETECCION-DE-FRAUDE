{
 "cells": [
  {
   "cell_type": "code",
   "execution_count": null,
   "id": "fdb5087b",
   "metadata": {},
   "outputs": [],
   "source": [
    "import pandas as pd\n",
    "import matplotlib.pyplot as plt\n",
    "import seaborn as sns"
   ]
  },
  {
   "cell_type": "code",
   "execution_count": null,
   "id": "ede6d10c",
   "metadata": {},
   "outputs": [],
   "source": [
    "dec_fraude = pd.read_csv('C:/Users/maria/OneDrive/Escritorio/pontia/Final/dec_fraude.csv')"
   ]
  },
  {
   "cell_type": "code",
   "execution_count": null,
   "id": "b629a024",
   "metadata": {},
   "outputs": [],
   "source": [
    "dec_fraude.drop('Unnamed: 0', axis=1, inplace=True)"
   ]
  },
  {
   "cell_type": "code",
   "execution_count": null,
   "id": "528af3ff",
   "metadata": {},
   "outputs": [],
   "source": [
    "dec_fraude.head(5)"
   ]
  },
  {
   "cell_type": "code",
   "execution_count": null,
   "id": "f8768f2e",
   "metadata": {},
   "outputs": [],
   "source": [
    "dec_fraude['tipo'].unique()"
   ]
  },
  {
   "cell_type": "code",
   "execution_count": null,
   "id": "f5be625c",
   "metadata": {},
   "outputs": [],
   "source": [
    "# Categorizamos la columna tipo\n",
    "mapeo = {'PAYMENT': 0, 'TRANSFER': 1, 'CASH_OUT': 2, 'DEBIT': 3, 'CASH_IN': 4}\n",
    "dec_fraude['tipo_cod'] = dec_fraude['tipo'].map(mapeo)"
   ]
  },
  {
   "cell_type": "code",
   "execution_count": null,
   "id": "cc9a001f",
   "metadata": {},
   "outputs": [],
   "source": [
    "# Hacemos un estudio de correlacion\n",
    "corr_matrix = dec_fraude.corr()"
   ]
  },
  {
   "cell_type": "code",
   "execution_count": null,
   "id": "10373d90",
   "metadata": {},
   "outputs": [],
   "source": [
    "sns.heatmap(corr_matrix, annot=True, cmap='coolwarm')\n",
    "plt.title('Correlation Matrix')\n",
    "plt.show()"
   ]
  },
  {
   "cell_type": "code",
   "execution_count": null,
   "id": "43d882b1",
   "metadata": {},
   "outputs": [],
   "source": []
  }
 ],
 "metadata": {
  "kernelspec": {
   "display_name": "Python 3 (ipykernel)",
   "language": "python",
   "name": "python3"
  },
  "language_info": {
   "codemirror_mode": {
    "name": "ipython",
    "version": 3
   },
   "file_extension": ".py",
   "mimetype": "text/x-python",
   "name": "python",
   "nbconvert_exporter": "python",
   "pygments_lexer": "ipython3",
   "version": "3.10.9"
  }
 },
 "nbformat": 4,
 "nbformat_minor": 5
}
