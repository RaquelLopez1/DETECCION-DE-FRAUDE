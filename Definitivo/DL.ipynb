{
 "cells": [
  {
   "cell_type": "code",
   "execution_count": 1,
   "id": "6aeeefd1",
   "metadata": {},
   "outputs": [],
   "source": [
    "import pandas as pd\n",
    "import matplotlib.pyplot as plt\n",
    "import seaborn as sns"
   ]
  },
  {
   "cell_type": "code",
   "execution_count": 2,
   "id": "0bf4c972",
   "metadata": {},
   "outputs": [],
   "source": [
    "dec_fraude = pd.read_csv('C:/Users/maria/OneDrive/Escritorio/pontia/Final/dec_fraude.csv')"
   ]
  },
  {
   "cell_type": "code",
   "execution_count": 3,
   "id": "9bbca33b",
   "metadata": {},
   "outputs": [],
   "source": [
    "dec_fraude.drop('Unnamed: 0', axis=1, inplace=True)"
   ]
  },
  {
   "cell_type": "code",
   "execution_count": 4,
   "id": "dd162cf5",
   "metadata": {},
   "outputs": [
    {
     "data": {
      "text/html": [
       "<div>\n",
       "<style scoped>\n",
       "    .dataframe tbody tr th:only-of-type {\n",
       "        vertical-align: middle;\n",
       "    }\n",
       "\n",
       "    .dataframe tbody tr th {\n",
       "        vertical-align: top;\n",
       "    }\n",
       "\n",
       "    .dataframe thead th {\n",
       "        text-align: right;\n",
       "    }\n",
       "</style>\n",
       "<table border=\"1\" class=\"dataframe\">\n",
       "  <thead>\n",
       "    <tr style=\"text-align: right;\">\n",
       "      <th></th>\n",
       "      <th>t_id</th>\n",
       "      <th>tipo</th>\n",
       "      <th>tiempo</th>\n",
       "      <th>monto</th>\n",
       "      <th>cl_origen</th>\n",
       "      <th>cl_destino</th>\n",
       "      <th>es_fraude</th>\n",
       "      <th>mensaje_alarma</th>\n",
       "      <th>balance_prev_or</th>\n",
       "      <th>balance_post_or</th>\n",
       "      <th>balance_prev_des</th>\n",
       "      <th>balance_post_des</th>\n",
       "    </tr>\n",
       "  </thead>\n",
       "  <tbody>\n",
       "    <tr>\n",
       "      <th>0</th>\n",
       "      <td>0</td>\n",
       "      <td>PAYMENT</td>\n",
       "      <td>2022-09-01 07:00:00</td>\n",
       "      <td>9839.64</td>\n",
       "      <td>C1231006815</td>\n",
       "      <td>M1979787155</td>\n",
       "      <td>0</td>\n",
       "      <td>No</td>\n",
       "      <td>170136.0</td>\n",
       "      <td>160296.36</td>\n",
       "      <td>0.0</td>\n",
       "      <td>0.0</td>\n",
       "    </tr>\n",
       "    <tr>\n",
       "      <th>1</th>\n",
       "      <td>1</td>\n",
       "      <td>PAYMENT</td>\n",
       "      <td>2022-09-01 07:00:00</td>\n",
       "      <td>1864.28</td>\n",
       "      <td>C1666544295</td>\n",
       "      <td>M2044282225</td>\n",
       "      <td>0</td>\n",
       "      <td>No</td>\n",
       "      <td>21249.0</td>\n",
       "      <td>19384.72</td>\n",
       "      <td>0.0</td>\n",
       "      <td>0.0</td>\n",
       "    </tr>\n",
       "    <tr>\n",
       "      <th>2</th>\n",
       "      <td>2</td>\n",
       "      <td>TRANSFER</td>\n",
       "      <td>2022-09-01 07:00:00</td>\n",
       "      <td>181.00</td>\n",
       "      <td>C1305486145</td>\n",
       "      <td>C553264065</td>\n",
       "      <td>1</td>\n",
       "      <td>No</td>\n",
       "      <td>181.0</td>\n",
       "      <td>0.00</td>\n",
       "      <td>0.0</td>\n",
       "      <td>0.0</td>\n",
       "    </tr>\n",
       "    <tr>\n",
       "      <th>3</th>\n",
       "      <td>3</td>\n",
       "      <td>CASH_OUT</td>\n",
       "      <td>2022-09-01 07:00:00</td>\n",
       "      <td>181.00</td>\n",
       "      <td>C840083671</td>\n",
       "      <td>C38997010</td>\n",
       "      <td>1</td>\n",
       "      <td>No</td>\n",
       "      <td>181.0</td>\n",
       "      <td>0.00</td>\n",
       "      <td>21182.0</td>\n",
       "      <td>0.0</td>\n",
       "    </tr>\n",
       "    <tr>\n",
       "      <th>4</th>\n",
       "      <td>4</td>\n",
       "      <td>PAYMENT</td>\n",
       "      <td>2022-09-01 07:00:00</td>\n",
       "      <td>11668.14</td>\n",
       "      <td>C2048537720</td>\n",
       "      <td>M1230701703</td>\n",
       "      <td>0</td>\n",
       "      <td>No</td>\n",
       "      <td>41554.0</td>\n",
       "      <td>29885.86</td>\n",
       "      <td>0.0</td>\n",
       "      <td>0.0</td>\n",
       "    </tr>\n",
       "  </tbody>\n",
       "</table>\n",
       "</div>"
      ],
      "text/plain": [
       "   t_id      tipo               tiempo     monto    cl_origen   cl_destino  \\\n",
       "0     0   PAYMENT  2022-09-01 07:00:00   9839.64  C1231006815  M1979787155   \n",
       "1     1   PAYMENT  2022-09-01 07:00:00   1864.28  C1666544295  M2044282225   \n",
       "2     2  TRANSFER  2022-09-01 07:00:00    181.00  C1305486145   C553264065   \n",
       "3     3  CASH_OUT  2022-09-01 07:00:00    181.00   C840083671    C38997010   \n",
       "4     4   PAYMENT  2022-09-01 07:00:00  11668.14  C2048537720  M1230701703   \n",
       "\n",
       "   es_fraude mensaje_alarma  balance_prev_or  balance_post_or  \\\n",
       "0          0             No         170136.0        160296.36   \n",
       "1          0             No          21249.0         19384.72   \n",
       "2          1             No            181.0             0.00   \n",
       "3          1             No            181.0             0.00   \n",
       "4          0             No          41554.0         29885.86   \n",
       "\n",
       "   balance_prev_des  balance_post_des  \n",
       "0               0.0               0.0  \n",
       "1               0.0               0.0  \n",
       "2               0.0               0.0  \n",
       "3           21182.0               0.0  \n",
       "4               0.0               0.0  "
      ]
     },
     "execution_count": 4,
     "metadata": {},
     "output_type": "execute_result"
    }
   ],
   "source": [
    "dec_fraude.head(5)"
   ]
  },
  {
   "cell_type": "code",
   "execution_count": 19,
   "id": "8d39c96e",
   "metadata": {},
   "outputs": [
    {
     "data": {
      "text/plain": [
       "array(['PAYMENT', 'TRANSFER', 'CASH_OUT', 'DEBIT', 'CASH_IN'],\n",
       "      dtype=object)"
      ]
     },
     "execution_count": 19,
     "metadata": {},
     "output_type": "execute_result"
    }
   ],
   "source": [
    "dec_fraude['tipo'].unique()"
   ]
  },
  {
   "cell_type": "code",
   "execution_count": 21,
   "id": "5a6296da",
   "metadata": {},
   "outputs": [],
   "source": [
    "# Categorizamos la columna tipo\n",
    "mapeo = {'PAYMENT': 0, 'TRANSFER': 1, 'CASH_OUT': 2, 'DEBIT': 3, 'CASH_IN': 4}\n",
    "dec_fraude['tipo_cod'] = dec_fraude['tipo'].map(mapeo)"
   ]
  },
  {
   "cell_type": "code",
   "execution_count": 26,
   "id": "7663eeb3",
   "metadata": {
    "scrolled": true
   },
   "outputs": [
    {
     "name": "stderr",
     "output_type": "stream",
     "text": [
      "C:\\Users\\maria\\AppData\\Local\\Temp\\ipykernel_25524\\1524513944.py:1: FutureWarning: The default value of numeric_only in DataFrame.corr is deprecated. In a future version, it will default to False. Select only valid columns or specify the value of numeric_only to silence this warning.\n",
      "  corr_matrix = dec_fraude.corr()\n"
     ]
    }
   ],
   "source": [
    "# Hacemos un estudio de correlacion\n",
    "corr_matrix = dec_fraude.corr()"
   ]
  },
  {
   "cell_type": "code",
   "execution_count": 23,
   "id": "f1a98031",
   "metadata": {},
   "outputs": [
    {
     "data": {
      "image/png": "[encoded data removed]",
      "text/plain": [
       "<Figure size 640x480 with 2 Axes>"
      ]
     },
     "metadata": {},
     "output_type": "display_data"
    }
   ],
   "source": [
    "sns.heatmap(corr_matrix, annot=True, cmap='coolwarm')\n",
    "plt.title('Correlation Matrix')\n",
    "plt.show()"
   ]
  },
  {
   "cell_type": "code",
   "execution_count": 32,
   "id": "e0035993",
   "metadata": {},
   "outputs": [],
   "source": [
    "# Seleccionamos las columnas que vamos a introducir al dataset y el ground truth\n",
    "X = dec_fraude[['monto','balance_prev_or','balance_post_des', 'tipo_cod']]\n",
    "Y = dec_fraude[['es_fraude']]"
   ]
  },
  {
   "cell_type": "code",
   "execution_count": 33,
   "id": "352e46d1",
   "metadata": {},
   "outputs": [],
   "source": [
    "# Modelo supervisado\n",
    "# Normalizar datos\n",
    "# Particion train y test\n",
    "# Diseño del algoritmo\n",
    "# Evaluacion del modelo"
   ]
  },
  {
   "cell_type": "code",
   "execution_count": 34,
   "id": "0d7e95ca",
   "metadata": {},
   "outputs": [
    {
     "data": {
      "text/html": [
       "<div>\n",
       "<style scoped>\n",
       "    .dataframe tbody tr th:only-of-type {\n",
       "        vertical-align: middle;\n",
       "    }\n",
       "\n",
       "    .dataframe tbody tr th {\n",
       "        vertical-align: top;\n",
       "    }\n",
       "\n",
       "    .dataframe thead th {\n",
       "        text-align: right;\n",
       "    }\n",
       "</style>\n",
       "<table border=\"1\" class=\"dataframe\">\n",
       "  <thead>\n",
       "    <tr style=\"text-align: right;\">\n",
       "      <th></th>\n",
       "      <th>0</th>\n",
       "      <th>1</th>\n",
       "      <th>2</th>\n",
       "      <th>3</th>\n",
       "    </tr>\n",
       "  </thead>\n",
       "  <tbody>\n",
       "    <tr>\n",
       "      <th>0</th>\n",
       "      <td>0.000106</td>\n",
       "      <td>0.002855</td>\n",
       "      <td>0.0</td>\n",
       "      <td>0.00</td>\n",
       "    </tr>\n",
       "    <tr>\n",
       "      <th>1</th>\n",
       "      <td>0.000020</td>\n",
       "      <td>0.000357</td>\n",
       "      <td>0.0</td>\n",
       "      <td>0.00</td>\n",
       "    </tr>\n",
       "    <tr>\n",
       "      <th>2</th>\n",
       "      <td>0.000002</td>\n",
       "      <td>0.000003</td>\n",
       "      <td>0.0</td>\n",
       "      <td>0.25</td>\n",
       "    </tr>\n",
       "    <tr>\n",
       "      <th>3</th>\n",
       "      <td>0.000002</td>\n",
       "      <td>0.000003</td>\n",
       "      <td>0.0</td>\n",
       "      <td>0.50</td>\n",
       "    </tr>\n",
       "    <tr>\n",
       "      <th>4</th>\n",
       "      <td>0.000126</td>\n",
       "      <td>0.000697</td>\n",
       "      <td>0.0</td>\n",
       "      <td>0.00</td>\n",
       "    </tr>\n",
       "  </tbody>\n",
       "</table>\n",
       "</div>"
      ],
      "text/plain": [
       "          0         1    2     3\n",
       "0  0.000106  0.002855  0.0  0.00\n",
       "1  0.000020  0.000357  0.0  0.00\n",
       "2  0.000002  0.000003  0.0  0.25\n",
       "3  0.000002  0.000003  0.0  0.50\n",
       "4  0.000126  0.000697  0.0  0.00"
      ]
     },
     "execution_count": 34,
     "metadata": {},
     "output_type": "execute_result"
    }
   ],
   "source": [
    "# Aplicamos la normalizacion min-max\n",
    "from sklearn.preprocessing import MinMaxScaler\n",
    "min_max_scaler = MinMaxScaler()\n",
    "X_norm = min_max_scaler.fit_transform(X.values)\n",
    "X_norm = pd.DataFrame(X_norm)\n",
    "X_norm.head()"
   ]
  },
  {
   "cell_type": "code",
   "execution_count": 138,
   "id": "b20c51b2",
   "metadata": {},
   "outputs": [
    {
     "data": {
      "text/html": [
       "<div>\n",
       "<style scoped>\n",
       "    .dataframe tbody tr th:only-of-type {\n",
       "        vertical-align: middle;\n",
       "    }\n",
       "\n",
       "    .dataframe tbody tr th {\n",
       "        vertical-align: top;\n",
       "    }\n",
       "\n",
       "    .dataframe thead th {\n",
       "        text-align: right;\n",
       "    }\n",
       "</style>\n",
       "<table border=\"1\" class=\"dataframe\">\n",
       "  <thead>\n",
       "    <tr style=\"text-align: right;\">\n",
       "      <th></th>\n",
       "      <th>0</th>\n",
       "      <th>1</th>\n",
       "      <th>2</th>\n",
       "      <th>3</th>\n",
       "      <th>es_fraude</th>\n",
       "    </tr>\n",
       "  </thead>\n",
       "  <tbody>\n",
       "    <tr>\n",
       "      <th>0</th>\n",
       "      <td>0.000106</td>\n",
       "      <td>0.002855</td>\n",
       "      <td>0.000000</td>\n",
       "      <td>0.00</td>\n",
       "      <td>0</td>\n",
       "    </tr>\n",
       "    <tr>\n",
       "      <th>1</th>\n",
       "      <td>0.000020</td>\n",
       "      <td>0.000357</td>\n",
       "      <td>0.000000</td>\n",
       "      <td>0.00</td>\n",
       "      <td>0</td>\n",
       "    </tr>\n",
       "    <tr>\n",
       "      <th>2</th>\n",
       "      <td>0.000002</td>\n",
       "      <td>0.000003</td>\n",
       "      <td>0.000000</td>\n",
       "      <td>0.25</td>\n",
       "      <td>1</td>\n",
       "    </tr>\n",
       "    <tr>\n",
       "      <th>3</th>\n",
       "      <td>0.000002</td>\n",
       "      <td>0.000003</td>\n",
       "      <td>0.000000</td>\n",
       "      <td>0.50</td>\n",
       "      <td>1</td>\n",
       "    </tr>\n",
       "    <tr>\n",
       "      <th>4</th>\n",
       "      <td>0.000126</td>\n",
       "      <td>0.000697</td>\n",
       "      <td>0.000000</td>\n",
       "      <td>0.00</td>\n",
       "      <td>0</td>\n",
       "    </tr>\n",
       "    <tr>\n",
       "      <th>...</th>\n",
       "      <td>...</td>\n",
       "      <td>...</td>\n",
       "      <td>...</td>\n",
       "      <td>...</td>\n",
       "      <td>...</td>\n",
       "    </tr>\n",
       "    <tr>\n",
       "      <th>6362515</th>\n",
       "      <td>0.003674</td>\n",
       "      <td>0.005701</td>\n",
       "      <td>0.000954</td>\n",
       "      <td>0.50</td>\n",
       "      <td>1</td>\n",
       "    </tr>\n",
       "    <tr>\n",
       "      <th>6362516</th>\n",
       "      <td>0.068272</td>\n",
       "      <td>0.105923</td>\n",
       "      <td>0.000000</td>\n",
       "      <td>0.25</td>\n",
       "      <td>1</td>\n",
       "    </tr>\n",
       "    <tr>\n",
       "      <th>6362517</th>\n",
       "      <td>0.068272</td>\n",
       "      <td>0.105923</td>\n",
       "      <td>0.017912</td>\n",
       "      <td>0.50</td>\n",
       "      <td>1</td>\n",
       "    </tr>\n",
       "    <tr>\n",
       "      <th>6362518</th>\n",
       "      <td>0.009195</td>\n",
       "      <td>0.014265</td>\n",
       "      <td>0.000000</td>\n",
       "      <td>0.25</td>\n",
       "      <td>1</td>\n",
       "    </tr>\n",
       "    <tr>\n",
       "      <th>6362519</th>\n",
       "      <td>0.009195</td>\n",
       "      <td>0.014265</td>\n",
       "      <td>0.020664</td>\n",
       "      <td>0.50</td>\n",
       "      <td>1</td>\n",
       "    </tr>\n",
       "  </tbody>\n",
       "</table>\n",
       "<p>6362520 rows × 5 columns</p>\n",
       "</div>"
      ],
      "text/plain": [
       "                0         1         2     3  es_fraude\n",
       "0        0.000106  0.002855  0.000000  0.00          0\n",
       "1        0.000020  0.000357  0.000000  0.00          0\n",
       "2        0.000002  0.000003  0.000000  0.25          1\n",
       "3        0.000002  0.000003  0.000000  0.50          1\n",
       "4        0.000126  0.000697  0.000000  0.00          0\n",
       "...           ...       ...       ...   ...        ...\n",
       "6362515  0.003674  0.005701  0.000954  0.50          1\n",
       "6362516  0.068272  0.105923  0.000000  0.25          1\n",
       "6362517  0.068272  0.105923  0.017912  0.50          1\n",
       "6362518  0.009195  0.014265  0.000000  0.25          1\n",
       "6362519  0.009195  0.014265  0.020664  0.50          1\n",
       "\n",
       "[6362520 rows x 5 columns]"
      ]
     },
     "execution_count": 138,
     "metadata": {},
     "output_type": "execute_result"
    }
   ],
   "source": [
    "new_dat = pd.concat([X_norm, Y], axis=1)\n",
    "new_dat"
   ]
  },
  {
   "cell_type": "code",
   "execution_count": 200,
   "id": "2003cdaa",
   "metadata": {},
   "outputs": [],
   "source": [
    "# Dividir los datos en conjuntos de entrenamiento y prueba\n",
    "# Probar con 50000 datos sin fraude y 6000 con fraude\n",
    "train = new_dat.groupby('es_fraude').apply(lambda x: x.sample(n=6000, random_state=42)).reset_index(drop=True)\n",
    "test = pd.concat([new_dat, train]).drop_duplicates(keep=False).reset_index(drop=True)"
   ]
  },
  {
   "cell_type": "code",
   "execution_count": 201,
   "id": "541ba5d6",
   "metadata": {},
   "outputs": [],
   "source": [
    "u_train_x = train[[0, 1, 2, 3]]\n",
    "u_test_x = test[[0, 1, 2, 3]]\n",
    "u_train_y = train['es_fraude']\n",
    "u_test_y = test['es_fraude']"
   ]
  },
  {
   "cell_type": "code",
   "execution_count": 202,
   "id": "85711e1e",
   "metadata": {},
   "outputs": [],
   "source": [
    "# Estrategias para balancear las clases\n",
    "# Undersampling\n",
    "# Aplicar pesos a la red (Redes de neuronas)\n",
    "# Aplicar validacion cruzada\n",
    "# Reducir el threshold de clase (regresion logistica)\n",
    "# Aplicar SMOTE\n",
    "# https://academic.oup.com/bib/article/14/1/13/304457?login=false"
   ]
  },
  {
   "cell_type": "code",
   "execution_count": 203,
   "id": "10da1ad1",
   "metadata": {},
   "outputs": [],
   "source": [
    "import tensorflow as tf\n",
    "from tensorflow.keras.models import Sequential\n",
    "from tensorflow.keras.layers import Dense \n",
    "import matplotlib.pyplot as plt\n",
    "import seaborn as sns\n",
    "import numpy as np"
   ]
  },
  {
   "cell_type": "code",
   "execution_count": 204,
   "id": "683dd4c5",
   "metadata": {},
   "outputs": [],
   "source": [
    "# Creamos el modelo (perceptron multicapa)\n",
    "model = Sequential(\n",
    "    [\n",
    "    Dense(4, input_dim=X_train.shape[1], activation='selu'),\n",
    "    Dense(16 , activation='selu'), \n",
    "    Dense(8, activation='selu'),\n",
    "    Dense(4, activation='selu'),\n",
    "    Dense(1, activation='sigmoid')\n",
    "    ]\n",
    ")\n",
    "\n",
    "model.compile(optimizer='adam', loss='binary_crossentropy', metrics=['accuracy'])"
   ]
  },
  {
   "cell_type": "code",
   "execution_count": 205,
   "id": "dd46f1c2",
   "metadata": {},
   "outputs": [
    {
     "name": "stdout",
     "output_type": "stream",
     "text": [
      "Model: \"sequential_10\"\n",
      "_________________________________________________________________\n",
      " Layer (type)                Output Shape              Param #   \n",
      "=================================================================\n",
      " dense_52 (Dense)            (None, 4)                 20        \n",
      "                                                                 \n",
      " dense_53 (Dense)            (None, 16)                80        \n",
      "                                                                 \n",
      " dense_54 (Dense)            (None, 8)                 136       \n",
      "                                                                 \n",
      " dense_55 (Dense)            (None, 4)                 36        \n",
      "                                                                 \n",
      " dense_56 (Dense)            (None, 1)                 5         \n",
      "                                                                 \n",
      "=================================================================\n",
      "Total params: 277\n",
      "Trainable params: 277\n",
      "Non-trainable params: 0\n",
      "_________________________________________________________________\n"
     ]
    }
   ],
   "source": [
    "model.summary()"
   ]
  },
  {
   "cell_type": "code",
   "execution_count": 207,
   "id": "f8af6634",
   "metadata": {},
   "outputs": [
    {
     "name": "stdout",
     "output_type": "stream",
     "text": [
      "Epoch 1/100\n",
      "750/750 [==============================] - 0s 480us/step - loss: 0.1518 - accuracy: 0.9385\n",
      "Epoch 2/100\n",
      "750/750 [==============================] - 0s 462us/step - loss: 0.1510 - accuracy: 0.9374\n",
      "Epoch 3/100\n",
      "750/750 [==============================] - 0s 482us/step - loss: 0.1442 - accuracy: 0.9421\n",
      "Epoch 4/100\n",
      "750/750 [==============================] - 0s 462us/step - loss: 0.1435 - accuracy: 0.9409\n",
      "Epoch 5/100\n",
      "750/750 [==============================] - 0s 462us/step - loss: 0.1386 - accuracy: 0.9451\n",
      "Epoch 6/100\n",
      "750/750 [==============================] - 0s 457us/step - loss: 0.1351 - accuracy: 0.9470\n",
      "Epoch 7/100\n",
      "750/750 [==============================] - 0s 479us/step - loss: 0.1383 - accuracy: 0.9447\n",
      "Epoch 8/100\n",
      "750/750 [==============================] - 0s 475us/step - loss: 0.1323 - accuracy: 0.9488\n",
      "Epoch 9/100\n",
      "750/750 [==============================] - 0s 477us/step - loss: 0.1289 - accuracy: 0.9494\n",
      "Epoch 10/100\n",
      "750/750 [==============================] - 0s 485us/step - loss: 0.1334 - accuracy: 0.9472\n",
      "Epoch 11/100\n",
      "750/750 [==============================] - 0s 486us/step - loss: 0.1270 - accuracy: 0.9517\n",
      "Epoch 12/100\n",
      "750/750 [==============================] - 0s 459us/step - loss: 0.1256 - accuracy: 0.9523\n",
      "Epoch 13/100\n",
      "750/750 [==============================] - 0s 457us/step - loss: 0.1259 - accuracy: 0.9501\n",
      "Epoch 14/100\n",
      "750/750 [==============================] - 0s 461us/step - loss: 0.1219 - accuracy: 0.9519\n",
      "Epoch 15/100\n",
      "750/750 [==============================] - 0s 463us/step - loss: 0.1235 - accuracy: 0.9512\n",
      "Epoch 16/100\n",
      "750/750 [==============================] - 0s 459us/step - loss: 0.1165 - accuracy: 0.9557\n",
      "Epoch 17/100\n",
      "750/750 [==============================] - 0s 461us/step - loss: 0.1163 - accuracy: 0.9563\n",
      "Epoch 18/100\n",
      "750/750 [==============================] - 0s 463us/step - loss: 0.1138 - accuracy: 0.9582\n",
      "Epoch 19/100\n",
      "750/750 [==============================] - 0s 476us/step - loss: 0.1139 - accuracy: 0.9572\n",
      "Epoch 20/100\n",
      "750/750 [==============================] - 0s 470us/step - loss: 0.1122 - accuracy: 0.9573\n",
      "Epoch 21/100\n",
      "750/750 [==============================] - 0s 475us/step - loss: 0.1078 - accuracy: 0.9610\n",
      "Epoch 22/100\n",
      "750/750 [==============================] - 0s 483us/step - loss: 0.1086 - accuracy: 0.9604\n",
      "Epoch 23/100\n",
      "750/750 [==============================] - 0s 459us/step - loss: 0.1089 - accuracy: 0.9585\n",
      "Epoch 24/100\n",
      "750/750 [==============================] - 0s 459us/step - loss: 0.1017 - accuracy: 0.9643\n",
      "Epoch 25/100\n",
      "750/750 [==============================] - 0s 471us/step - loss: 0.1031 - accuracy: 0.9622\n",
      "Epoch 26/100\n",
      "750/750 [==============================] - 0s 454us/step - loss: 0.1015 - accuracy: 0.9635\n",
      "Epoch 27/100\n",
      "750/750 [==============================] - 0s 451us/step - loss: 0.1031 - accuracy: 0.9627\n",
      "Epoch 28/100\n",
      "750/750 [==============================] - 0s 453us/step - loss: 0.1020 - accuracy: 0.9605\n",
      "Epoch 29/100\n",
      "750/750 [==============================] - 0s 453us/step - loss: 0.0977 - accuracy: 0.9650\n",
      "Epoch 30/100\n",
      "750/750 [==============================] - 0s 457us/step - loss: 0.0987 - accuracy: 0.9626\n",
      "Epoch 31/100\n",
      "750/750 [==============================] - 0s 451us/step - loss: 0.1024 - accuracy: 0.9618\n",
      "Epoch 32/100\n",
      "750/750 [==============================] - 0s 451us/step - loss: 0.0967 - accuracy: 0.9633\n",
      "Epoch 33/100\n",
      "750/750 [==============================] - 0s 459us/step - loss: 0.0975 - accuracy: 0.9636\n",
      "Epoch 34/100\n",
      "750/750 [==============================] - 0s 489us/step - loss: 0.0989 - accuracy: 0.9610\n",
      "Epoch 35/100\n",
      "750/750 [==============================] - 0s 468us/step - loss: 0.0927 - accuracy: 0.9657\n",
      "Epoch 36/100\n",
      "750/750 [==============================] - 0s 459us/step - loss: 0.1046 - accuracy: 0.9562\n",
      "Epoch 37/100\n",
      "750/750 [==============================] - 0s 458us/step - loss: 0.0933 - accuracy: 0.9655\n",
      "Epoch 38/100\n",
      "750/750 [==============================] - 0s 461us/step - loss: 0.0925 - accuracy: 0.9665\n",
      "Epoch 39/100\n",
      "750/750 [==============================] - 0s 459us/step - loss: 0.0887 - accuracy: 0.9673\n",
      "Epoch 40/100\n",
      "750/750 [==============================] - 0s 465us/step - loss: 0.0894 - accuracy: 0.9673\n",
      "Epoch 41/100\n",
      "750/750 [==============================] - 0s 458us/step - loss: 0.0908 - accuracy: 0.9675\n",
      "Epoch 42/100\n",
      "750/750 [==============================] - 0s 468us/step - loss: 0.0906 - accuracy: 0.9667\n",
      "Epoch 43/100\n",
      "750/750 [==============================] - 0s 467us/step - loss: 0.0916 - accuracy: 0.9664\n",
      "Epoch 44/100\n",
      "750/750 [==============================] - 0s 466us/step - loss: 0.0864 - accuracy: 0.9671\n",
      "Epoch 45/100\n",
      "750/750 [==============================] - 0s 482us/step - loss: 0.0827 - accuracy: 0.9715\n",
      "Epoch 46/100\n",
      "750/750 [==============================] - 0s 473us/step - loss: 0.0860 - accuracy: 0.9676\n",
      "Epoch 47/100\n",
      "750/750 [==============================] - 0s 457us/step - loss: 0.0907 - accuracy: 0.9663\n",
      "Epoch 48/100\n",
      "750/750 [==============================] - 0s 453us/step - loss: 0.0820 - accuracy: 0.9708\n",
      "Epoch 49/100\n",
      "750/750 [==============================] - 0s 481us/step - loss: 0.0834 - accuracy: 0.9711\n",
      "Epoch 50/100\n",
      "750/750 [==============================] - 0s 475us/step - loss: 0.0883 - accuracy: 0.9678\n",
      "Epoch 51/100\n",
      "750/750 [==============================] - 0s 452us/step - loss: 0.0806 - accuracy: 0.9722\n",
      "Epoch 52/100\n",
      "750/750 [==============================] - 0s 459us/step - loss: 0.0885 - accuracy: 0.9655\n",
      "Epoch 53/100\n",
      "750/750 [==============================] - 0s 455us/step - loss: 0.0806 - accuracy: 0.9715\n",
      "Epoch 54/100\n",
      "750/750 [==============================] - 0s 457us/step - loss: 0.0811 - accuracy: 0.9718\n",
      "Epoch 55/100\n",
      "750/750 [==============================] - 0s 474us/step - loss: 0.0838 - accuracy: 0.9707\n",
      "Epoch 56/100\n",
      "750/750 [==============================] - 0s 483us/step - loss: 0.0830 - accuracy: 0.9689\n",
      "Epoch 57/100\n",
      "750/750 [==============================] - 0s 470us/step - loss: 0.0870 - accuracy: 0.9696\n",
      "Epoch 58/100\n",
      "750/750 [==============================] - 0s 479us/step - loss: 0.0817 - accuracy: 0.9718\n",
      "Epoch 59/100\n",
      "750/750 [==============================] - 0s 480us/step - loss: 0.0790 - accuracy: 0.9725\n",
      "Epoch 60/100\n",
      "750/750 [==============================] - 0s 467us/step - loss: 0.0835 - accuracy: 0.9688\n",
      "Epoch 61/100\n",
      "750/750 [==============================] - 0s 464us/step - loss: 0.0869 - accuracy: 0.9672\n",
      "Epoch 62/100\n",
      "750/750 [==============================] - 0s 461us/step - loss: 0.0836 - accuracy: 0.9702\n",
      "Epoch 63/100\n",
      "750/750 [==============================] - 0s 484us/step - loss: 0.0767 - accuracy: 0.9737\n",
      "Epoch 64/100\n",
      "750/750 [==============================] - 0s 477us/step - loss: 0.0829 - accuracy: 0.9700\n",
      "Epoch 65/100\n",
      "750/750 [==============================] - 0s 477us/step - loss: 0.0855 - accuracy: 0.9685\n",
      "Epoch 66/100\n",
      "750/750 [==============================] - 0s 466us/step - loss: 0.0746 - accuracy: 0.9744\n",
      "Epoch 67/100\n",
      "750/750 [==============================] - 0s 467us/step - loss: 0.0847 - accuracy: 0.9709\n",
      "Epoch 68/100\n",
      "750/750 [==============================] - 0s 475us/step - loss: 0.0735 - accuracy: 0.9742\n",
      "Epoch 69/100\n",
      "750/750 [==============================] - 0s 501us/step - loss: 0.0757 - accuracy: 0.9741\n",
      "Epoch 70/100\n",
      "750/750 [==============================] - 0s 495us/step - loss: 0.0783 - accuracy: 0.9732\n",
      "Epoch 71/100\n",
      "750/750 [==============================] - 0s 478us/step - loss: 0.0770 - accuracy: 0.9731\n",
      "Epoch 72/100\n",
      "750/750 [==============================] - 0s 462us/step - loss: 0.0815 - accuracy: 0.9705\n",
      "Epoch 73/100\n",
      "750/750 [==============================] - 0s 499us/step - loss: 0.0805 - accuracy: 0.9719\n",
      "Epoch 74/100\n",
      "750/750 [==============================] - 0s 471us/step - loss: 0.0707 - accuracy: 0.9769\n",
      "Epoch 75/100\n",
      "750/750 [==============================] - 0s 498us/step - loss: 0.0782 - accuracy: 0.9725\n",
      "Epoch 76/100\n",
      "750/750 [==============================] - 0s 478us/step - loss: 0.0875 - accuracy: 0.9688\n",
      "Epoch 77/100\n",
      "750/750 [==============================] - 0s 473us/step - loss: 0.0712 - accuracy: 0.9762\n",
      "Epoch 78/100\n",
      "750/750 [==============================] - 0s 471us/step - loss: 0.0753 - accuracy: 0.9751\n",
      "Epoch 79/100\n",
      "750/750 [==============================] - 0s 467us/step - loss: 0.0730 - accuracy: 0.9747\n",
      "Epoch 80/100\n",
      "750/750 [==============================] - 0s 466us/step - loss: 0.0764 - accuracy: 0.9734\n",
      "Epoch 81/100\n",
      "750/750 [==============================] - 0s 482us/step - loss: 0.0757 - accuracy: 0.9737\n",
      "Epoch 82/100\n",
      "750/750 [==============================] - 0s 458us/step - loss: 0.0677 - accuracy: 0.9780\n",
      "Epoch 83/100\n",
      "750/750 [==============================] - 0s 466us/step - loss: 0.0709 - accuracy: 0.9761\n",
      "Epoch 84/100\n",
      "750/750 [==============================] - 0s 455us/step - loss: 0.0766 - accuracy: 0.9725\n",
      "Epoch 85/100\n",
      "750/750 [==============================] - 0s 461us/step - loss: 0.0808 - accuracy: 0.9701\n",
      "Epoch 86/100\n",
      "750/750 [==============================] - 0s 533us/step - loss: 0.0821 - accuracy: 0.9693\n",
      "Epoch 87/100\n",
      "750/750 [==============================] - 0s 493us/step - loss: 0.0789 - accuracy: 0.9721\n",
      "Epoch 88/100\n",
      "750/750 [==============================] - 0s 466us/step - loss: 0.0713 - accuracy: 0.9764\n",
      "Epoch 89/100\n",
      "750/750 [==============================] - 0s 461us/step - loss: 0.0823 - accuracy: 0.9704\n",
      "Epoch 90/100\n",
      "750/750 [==============================] - 0s 457us/step - loss: 0.0769 - accuracy: 0.9728\n",
      "Epoch 91/100\n",
      "750/750 [==============================] - 0s 471us/step - loss: 0.0670 - accuracy: 0.9783\n",
      "Epoch 92/100\n",
      "750/750 [==============================] - 0s 463us/step - loss: 0.0778 - accuracy: 0.9722\n",
      "Epoch 93/100\n",
      "750/750 [==============================] - 0s 474us/step - loss: 0.0674 - accuracy: 0.9778\n",
      "Epoch 94/100\n",
      "750/750 [==============================] - 0s 476us/step - loss: 0.0728 - accuracy: 0.9744\n",
      "Epoch 95/100\n",
      "750/750 [==============================] - 0s 471us/step - loss: 0.0716 - accuracy: 0.9759\n",
      "Epoch 96/100\n",
      "750/750 [==============================] - 0s 466us/step - loss: 0.0749 - accuracy: 0.9743\n",
      "Epoch 97/100\n",
      "750/750 [==============================] - 0s 481us/step - loss: 0.0677 - accuracy: 0.9777\n",
      "Epoch 98/100\n",
      "750/750 [==============================] - 0s 473us/step - loss: 0.0735 - accuracy: 0.9743\n",
      "Epoch 99/100\n",
      "750/750 [==============================] - 0s 475us/step - loss: 0.0736 - accuracy: 0.9757\n",
      "Epoch 100/100\n",
      "750/750 [==============================] - 0s 458us/step - loss: 0.0694 - accuracy: 0.9771\n"
     ]
    }
   ],
   "source": [
    "# Entrenamos el modelo\n",
    "history = model.fit(u_train_x, u_train_y, shuffle=True, epochs=100, batch_size=16)"
   ]
  },
  {
   "cell_type": "code",
   "execution_count": 208,
   "id": "7d4f3b9f",
   "metadata": {},
   "outputs": [
    {
     "name": "stdout",
     "output_type": "stream",
     "text": [
      "59649/59649 [==============================] - 19s 318us/step\n"
     ]
    }
   ],
   "source": [
    "prediction = model.predict(X_test)\n",
    "prediction = np.round(prediction)"
   ]
  },
  {
   "cell_type": "code",
   "execution_count": 209,
   "id": "57527d58",
   "metadata": {
    "scrolled": true
   },
   "outputs": [],
   "source": [
    "def plot_curves(history):\n",
    "    accuracy = history.history['accuracy']\n",
    "    val_accuracy = history.history['val_accuracy']\n",
    "    loss = history.history['loss']\n",
    "    val_loss = history.history['val_loss']\n",
    "\n",
    "    epochs = range(1, len(accuracy) + 1)\n",
    "\n",
    "    # Grafica de la precisión de entrenamiento y validación\n",
    "    plt.figure(figsize=(12, 4))\n",
    "    plt.subplot(1, 2, 1)\n",
    "    plt.plot(epochs, accuracy, 'b', label='Training Accuracy')\n",
    "    plt.plot(epochs, val_accuracy, 'r', label='Validation Accuracy')\n",
    "    plt.title('Training and Validation Accuracy')\n",
    "    plt.xlabel('Epochs')\n",
    "    plt.ylabel('Accuracy')\n",
    "    plt.legend()\n",
    "\n",
    "    # Grafica de la pérdida de entrenamiento y validación\n",
    "    plt.subplot(1, 2, 2)\n",
    "    plt.plot(epochs, loss, 'b', label='Training Loss')\n",
    "    plt.plot(epochs, val_loss, 'r', label='Validation Loss')\n",
    "    plt.title('Training and Validation Loss')\n",
    "    plt.xlabel('Epochs')\n",
    "    plt.ylabel('Loss')\n",
    "    plt.legend()\n",
    "\n",
    "    plt.tight_layout()\n",
    "    plt.show()"
   ]
  },
  {
   "cell_type": "code",
   "execution_count": 173,
   "id": "462c4f21",
   "metadata": {},
   "outputs": [
    {
     "ename": "KeyError",
     "evalue": "'val_accuracy'",
     "output_type": "error",
     "traceback": [
      "\u001b[1;31m---------------------------------------------------------------------------\u001b[0m",
      "\u001b[1;31mKeyError\u001b[0m                                  Traceback (most recent call last)",
      "Cell \u001b[1;32mIn[173], line 1\u001b[0m\n\u001b[1;32m----> 1\u001b[0m \u001b[43mplot_curves\u001b[49m\u001b[43m(\u001b[49m\u001b[43mhistory\u001b[49m\u001b[43m)\u001b[49m\n",
      "Cell \u001b[1;32mIn[172], line 3\u001b[0m, in \u001b[0;36mplot_curves\u001b[1;34m(history)\u001b[0m\n\u001b[0;32m      1\u001b[0m \u001b[38;5;28;01mdef\u001b[39;00m \u001b[38;5;21mplot_curves\u001b[39m(history):\n\u001b[0;32m      2\u001b[0m     accuracy \u001b[38;5;241m=\u001b[39m history\u001b[38;5;241m.\u001b[39mhistory[\u001b[38;5;124m'\u001b[39m\u001b[38;5;124maccuracy\u001b[39m\u001b[38;5;124m'\u001b[39m]\n\u001b[1;32m----> 3\u001b[0m     val_accuracy \u001b[38;5;241m=\u001b[39m \u001b[43mhistory\u001b[49m\u001b[38;5;241;43m.\u001b[39;49m\u001b[43mhistory\u001b[49m\u001b[43m[\u001b[49m\u001b[38;5;124;43m'\u001b[39;49m\u001b[38;5;124;43mval_accuracy\u001b[39;49m\u001b[38;5;124;43m'\u001b[39;49m\u001b[43m]\u001b[49m\n\u001b[0;32m      4\u001b[0m     loss \u001b[38;5;241m=\u001b[39m history\u001b[38;5;241m.\u001b[39mhistory[\u001b[38;5;124m'\u001b[39m\u001b[38;5;124mloss\u001b[39m\u001b[38;5;124m'\u001b[39m]\n\u001b[0;32m      5\u001b[0m     val_loss \u001b[38;5;241m=\u001b[39m history\u001b[38;5;241m.\u001b[39mhistory[\u001b[38;5;124m'\u001b[39m\u001b[38;5;124mval_loss\u001b[39m\u001b[38;5;124m'\u001b[39m]\n",
      "\u001b[1;31mKeyError\u001b[0m: 'val_accuracy'"
     ]
    }
   ],
   "source": [
    "plot_curves(history)"
   ]
  },
  {
   "cell_type": "code",
   "execution_count": 210,
   "id": "a599904f",
   "metadata": {},
   "outputs": [],
   "source": [
    "from sklearn.metrics import confusion_matrix\n",
    "def metrics(y_true, y_pred):\n",
    "    tn, fp, fn, tp = confusion_matrix(y_true, y_pred).ravel()\n",
    "    specificity = tn / (tn+fp)\n",
    "    sensitivity = tp / (tp+fn)\n",
    "    precision = tp / (tp+fp)\n",
    "    print('Especificidad: {:.2f}'.format(specificity))\n",
    "    print('Sensibilidad: {:.2f}'.format(sensitivity))\n",
    "    print('Precision: {:.2f}'.format(precision))\n",
    "    cm = confusion_matrix(y_true, y_pred)\n",
    "    plt.figure(figsize=(10, 10))\n",
    "    sns.heatmap(cm, annot=True, fmt=\"d\", cmap='RdPu')\n",
    "    plt.title(\"Confusion matrix\")\n",
    "    plt.ylabel('True label')\n",
    "    plt.xlabel('Predicted label')"
   ]
  },
  {
   "cell_type": "code",
   "execution_count": 211,
   "id": "955aa792",
   "metadata": {},
   "outputs": [
    {
     "name": "stdout",
     "output_type": "stream",
     "text": [
      "Especificidad: 0.96\n",
      "Sensibilidad: 1.00\n",
      "Precision: 0.03\n"
     ]
    },
    {
     "data": {
      "image/png": "[encoded data removed]",
      "text/plain": [
       "<Figure size 1000x1000 with 2 Axes>"
      ]
     },
     "metadata": {},
     "output_type": "display_data"
    }
   ],
   "source": [
    "metrics(y_test, prediction)"
   ]
  },
  {
   "cell_type": "code",
   "execution_count": 176,
   "id": "776e4066",
   "metadata": {},
   "outputs": [
    {
     "name": "stderr",
     "output_type": "stream",
     "text": [
      "C:\\Users\\maria\\anaconda3\\lib\\site-packages\\sklearn\\utils\\validation.py:1143: DataConversionWarning: A column-vector y was passed when a 1d array was expected. Please change the shape of y to (n_samples, ), for example using ravel().\n",
      "  y = column_or_1d(y, warn=True)\n"
     ]
    },
    {
     "name": "stdout",
     "output_type": "stream",
     "text": [
      "Training Accuracy: 0.9986996766480367\n"
     ]
    }
   ],
   "source": [
    "from sklearn.linear_model import LogisticRegression\n",
    "\n",
    "# Crear una instancia del modelo de regresión logística\n",
    "model = LogisticRegression()\n",
    "\n",
    "# Entrenar el modelo\n",
    "model.fit(X_train, y_train)\n",
    "\n",
    "# Modificar el umbral de clasificación de la clase 1 (por ejemplo, a 0.7)\n",
    "class_threshold = 0.95\n",
    "model.classes_ = [0, 1]\n",
    "model.coef_ = model.coef_\n",
    "model.intercept_ = model.intercept_\n",
    "model.threshold_ = class_threshold\n",
    "\n",
    "# Predecir las etiquetas de los datos de entrenamiento\n",
    "y_pred = model.predict(X_test)\n",
    "y_pred = (y_pred > class_threshold).astype(int)\n",
    "\n",
    "# Calcular el accuracy en el conjunto de entrenamiento\n",
    "accuracy = model.score(X_test, y_test)\n",
    "\n",
    "# Imprimir el accuracy\n",
    "print(\"Training Accuracy:\", accuracy)\n",
    "\n"
   ]
  },
  {
   "cell_type": "code",
   "execution_count": 177,
   "id": "bd5e2183",
   "metadata": {},
   "outputs": [
    {
     "name": "stdout",
     "output_type": "stream",
     "text": [
      "Especificidad: 1.00\n",
      "Sensibilidad: 0.00\n",
      "Precision: 0.12\n"
     ]
    },
    {
     "data": {
      "image/png": "[encoded data removed]",
      "text/plain": [
       "<Figure size 1000x1000 with 2 Axes>"
      ]
     },
     "metadata": {},
     "output_type": "display_data"
    }
   ],
   "source": [
    "metrics(y_test, y_pred)"
   ]
  },
  {
   "cell_type": "code",
   "execution_count": 117,
   "id": "70adea07",
   "metadata": {},
   "outputs": [
    {
     "data": {
      "text/plain": [
       "1.3097535777228729e-05"
      ]
     },
     "execution_count": 117,
     "metadata": {},
     "output_type": "execute_result"
    }
   ],
   "source": []
  },
  {
   "cell_type": "code",
   "execution_count": null,
   "id": "fa15289d",
   "metadata": {},
   "outputs": [],
   "source": []
  }
 ],
 "metadata": {
  "kernelspec": {
   "display_name": "Python 3 (ipykernel)",
   "language": "python",
   "name": "python3"
  },
  "language_info": {
   "codemirror_mode": {
    "name": "ipython",
    "version": 3
   },
   "file_extension": ".py",
   "mimetype": "text/x-python",
   "name": "python",
   "nbconvert_exporter": "python",
   "pygments_lexer": "ipython3",
   "version": "3.10.9"
  }
 },
 "nbformat": 4,
 "nbformat_minor": 5
}
