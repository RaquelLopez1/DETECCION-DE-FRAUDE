# ERRORES E INCIDENCIAS
# Veamos si el balance del cliente aumenta, o disminuye, con la misma cantidad que indica la cuantía
# Unión de tabla balances, transaccion y clientes
SELECT *
FROM balances b
INNER JOIN transaccion t
ON b.t_id=t.t_id
INNER JOIN clientes c
ON t.t_id=c.t_id;

# El límite de la retirada de efectivo es de 2000€ al día
# b.balance_prev_or, b.balance_post_or, b.balance_prev_des, b.balance_post_des
SELECT SUM(t.monto) as total_retirada_efectivo , c.cl_origen, day(tiempo) as día
FROM transaccion t
INNER JOIN clientes c
ON t.t_id=c.t_id
WHERE tipo = 'CASH_OUT'
GROUP BY c.cl_origen, day(tiempo)
HAVING SUM(t.monto) > 2000;

# El límite de pago con tarjeta de débito al mes es de 5000€
# Para visualizar la situación
SELECT t.t_id, c.cl_origen, c.cl_destino, t.monto, t.tiempo, b.balance_prev_or, b.balance_post_or, b.balance_prev_des, b.balance_post_des
FROM transaccion t
INNER JOIN clientes c
ON t.t_id=c.t_id
INNER JOIN balances b
ON b.t_id=c.t_id
WHERE tipo = 'DEBIT';

# Lo calculamos
SELECT SUM(t.monto) AS total_pago_tarjeta, c.cl_origen, month(tiempo) as mes
FROM transaccion t
INNER JOIN clientes c
ON t.t_id=c.t_id
WHERE tipo = 'DEBIT'
GROUP BY c.cl_origen, month(tiempo)
HAVING SUM(t.monto) > 5000;


#  No se pueden producir tres transferencias en una misma hora
# Para visualizar la situación
SELECT t.t_id, c.cl_origen, c.cl_destino, t.monto, t.tiempo, b.balance_prev_or, b.balance_post_or, b.balance_prev_des, b.balance_post_des, t.tipo
FROM transaccion t
INNER JOIN clientes c
ON t.t_id=c.t_id
INNER JOIN balances b
ON b.t_id=c.t_id
WHERE tipo = 'TRANSFER';

# Lo calculamos
SELECT COUNT(*) as num_transferencias, c.cl_origen, t.tiempo
FROM transaccion t
INNER JOIN clientes c
ON t.t_id=c.t_id
#INNER JOIN balances b
#ON b.t_id=c.t_id
WHERE tipo = 'TRANSFERENCIA' # AND (b.balance_prev_or != 0 and b.balance_post_or != 0)
GROUP BY c.cl_origen, t.tiempo
HAVING num_transferencias > 2;
# Sale que no hay ningún cliente que lo cumpla

# No se pueden producir varias transferencias que juntas sumen más de 3000€ en una misma hora
SELECT SUM(t.monto) AS total_transferencias, c.cl_origen, tiempo
FROM transaccion t
INNER JOIN clientes c
ON t.t_id=c.t_id
WHERE tipo = 'TRANSFER'
GROUP BY c.cl_origen, tiempo
HAVING SUM(t.monto) > 3000;