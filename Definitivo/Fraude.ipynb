{
 "cells": [
  {
   "cell_type": "code",
   "execution_count": 50,
   "id": "8bbd21e0",
   "metadata": {},
   "outputs": [],
   "source": [
    "import json\n",
    "import pandas as pd\n",
    "with open(\"C:/Users/maria/OneDrive/Escritorio/pontia/Proyecto/es_fraude.json\") as f:\n",
    "    es_fraude=json.load(f)"
   ]
  },
  {
   "cell_type": "code",
   "execution_count": 51,
   "id": "dd0458f3",
   "metadata": {},
   "outputs": [],
   "source": [
    "lista_efraude=[]\n",
    "for clave in es_fraude:\n",
    "    fraude={\n",
    "        't_id':clave,\n",
    "        'Resultado': es_fraude[clave]\n",
    "    }\n",
    "    lista_efraude.append(fraude)"
   ]
  },
  {
   "cell_type": "code",
   "execution_count": 52,
   "id": "2894fc93",
   "metadata": {},
   "outputs": [],
   "source": [
    "fraude = pd.DataFrame(lista_efraude)"
   ]
  },
  {
   "cell_type": "code",
   "execution_count": 53,
   "id": "40bc1c0d",
   "metadata": {
    "scrolled": true
   },
   "outputs": [
    {
     "data": {
      "text/plain": [
       "t_id         0\n",
       "Resultado    0\n",
       "dtype: int64"
      ]
     },
     "execution_count": 53,
     "metadata": {},
     "output_type": "execute_result"
    }
   ],
   "source": [
    "fraude.isna().sum()"
   ]
  },
  {
   "cell_type": "code",
   "execution_count": 54,
   "id": "a50e98ba",
   "metadata": {
    "scrolled": true
   },
   "outputs": [
    {
     "data": {
      "text/html": [
       "<div>\n",
       "<style scoped>\n",
       "    .dataframe tbody tr th:only-of-type {\n",
       "        vertical-align: middle;\n",
       "    }\n",
       "\n",
       "    .dataframe tbody tr th {\n",
       "        vertical-align: top;\n",
       "    }\n",
       "\n",
       "    .dataframe thead th {\n",
       "        text-align: right;\n",
       "    }\n",
       "</style>\n",
       "<table border=\"1\" class=\"dataframe\">\n",
       "  <thead>\n",
       "    <tr style=\"text-align: right;\">\n",
       "      <th></th>\n",
       "      <th>t_id</th>\n",
       "      <th>Resultado</th>\n",
       "    </tr>\n",
       "  </thead>\n",
       "  <tbody>\n",
       "    <tr>\n",
       "      <th>0</th>\n",
       "      <td>0</td>\n",
       "      <td>False</td>\n",
       "    </tr>\n",
       "    <tr>\n",
       "      <th>1</th>\n",
       "      <td>1</td>\n",
       "      <td>False</td>\n",
       "    </tr>\n",
       "    <tr>\n",
       "      <th>2</th>\n",
       "      <td>2</td>\n",
       "      <td>True</td>\n",
       "    </tr>\n",
       "    <tr>\n",
       "      <th>3</th>\n",
       "      <td>3</td>\n",
       "      <td>True</td>\n",
       "    </tr>\n",
       "    <tr>\n",
       "      <th>4</th>\n",
       "      <td>4</td>\n",
       "      <td>False</td>\n",
       "    </tr>\n",
       "  </tbody>\n",
       "</table>\n",
       "</div>"
      ],
      "text/plain": [
       "  t_id  Resultado\n",
       "0    0      False\n",
       "1    1      False\n",
       "2    2       True\n",
       "3    3       True\n",
       "4    4      False"
      ]
     },
     "execution_count": 54,
     "metadata": {},
     "output_type": "execute_result"
    }
   ],
   "source": [
    "fraude.head(5)"
   ]
  },
  {
   "cell_type": "code",
   "execution_count": 55,
   "id": "50977035",
   "metadata": {},
   "outputs": [],
   "source": [
    "fraude['t_id'] = fraude['t_id'].astype(int)\n",
    "fraude['Resultado'] = fraude['Resultado'].astype('string')"
   ]
  },
  {
   "cell_type": "code",
   "execution_count": 56,
   "id": "1978cb61",
   "metadata": {
    "scrolled": true
   },
   "outputs": [
    {
     "data": {
      "text/plain": [
       "t_id          int32\n",
       "Resultado    string\n",
       "dtype: object"
      ]
     },
     "execution_count": 56,
     "metadata": {},
     "output_type": "execute_result"
    }
   ],
   "source": [
    "fraude.dtypes"
   ]
  },
  {
   "cell_type": "code",
   "execution_count": 57,
   "id": "714cbe89",
   "metadata": {},
   "outputs": [
    {
     "name": "stdout",
     "output_type": "stream",
     "text": [
      "Número de filas duplicadas: 0\n"
     ]
    }
   ],
   "source": [
    "cantidad_duplicados = fraude['t_id'].duplicated().sum()\n",
    "print(\"Número de filas duplicadas:\", cantidad_duplicados)"
   ]
  },
  {
   "cell_type": "code",
   "execution_count": null,
   "id": "48bbfc07",
   "metadata": {},
   "outputs": [],
   "source": []
  },
  {
   "cell_type": "markdown",
   "id": "5705852b",
   "metadata": {},
   "source": [
    "# Alarma"
   ]
  },
  {
   "cell_type": "code",
   "execution_count": 58,
   "id": "1d752d95",
   "metadata": {},
   "outputs": [],
   "source": [
    "import numpy as np"
   ]
  },
  {
   "cell_type": "code",
   "execution_count": 59,
   "id": "b05f3d9c",
   "metadata": {},
   "outputs": [],
   "source": [
    "fraude['fraude_dummy'] = np.where( fraude['Resultado'] == 'False' , 0, 1)"
   ]
  },
  {
   "cell_type": "code",
   "execution_count": 60,
   "id": "8b23ecd0",
   "metadata": {},
   "outputs": [],
   "source": [
    "fraude= fraude.drop('Resultado', axis=1)"
   ]
  },
  {
   "cell_type": "code",
   "execution_count": 61,
   "id": "4e2337e2",
   "metadata": {},
   "outputs": [],
   "source": [
    "with open(\"C:/Users/maria/OneDrive/Escritorio/pontia/Proyecto/alarma_fraude.json\") as f:\n",
    "    alarma=json.load(f)"
   ]
  },
  {
   "cell_type": "code",
   "execution_count": 62,
   "id": "0373dd9b",
   "metadata": {},
   "outputs": [],
   "source": [
    "lista_alfraude=[]\n",
    "for clave, datos in alarma.items():\n",
    "        alarma={\n",
    "            't_id':datos['t_id'],\n",
    "            'mensaje_alarma':datos['mensaje_alarma']\n",
    "        }\n",
    "        lista_alfraude.append(alarma)"
   ]
  },
  {
   "cell_type": "code",
   "execution_count": 63,
   "id": "811306fc",
   "metadata": {},
   "outputs": [],
   "source": [
    "alarma = pd.DataFrame(lista_alfraude)"
   ]
  },
  {
   "cell_type": "code",
   "execution_count": 64,
   "id": "b161971b",
   "metadata": {
    "scrolled": true
   },
   "outputs": [
    {
     "data": {
      "text/html": [
       "<div>\n",
       "<style scoped>\n",
       "    .dataframe tbody tr th:only-of-type {\n",
       "        vertical-align: middle;\n",
       "    }\n",
       "\n",
       "    .dataframe tbody tr th {\n",
       "        vertical-align: top;\n",
       "    }\n",
       "\n",
       "    .dataframe thead th {\n",
       "        text-align: right;\n",
       "    }\n",
       "</style>\n",
       "<table border=\"1\" class=\"dataframe\">\n",
       "  <thead>\n",
       "    <tr style=\"text-align: right;\">\n",
       "      <th></th>\n",
       "      <th>t_id</th>\n",
       "      <th>mensaje_alarma</th>\n",
       "    </tr>\n",
       "  </thead>\n",
       "  <tbody>\n",
       "    <tr>\n",
       "      <th>0</th>\n",
       "      <td>2736446</td>\n",
       "      <td>Detectado_fraude</td>\n",
       "    </tr>\n",
       "    <tr>\n",
       "      <th>1</th>\n",
       "      <td>3247297</td>\n",
       "      <td>Detectado_fraude</td>\n",
       "    </tr>\n",
       "    <tr>\n",
       "      <th>2</th>\n",
       "      <td>3760288</td>\n",
       "      <td>Detectado_fraude</td>\n",
       "    </tr>\n",
       "    <tr>\n",
       "      <th>3</th>\n",
       "      <td>5563713</td>\n",
       "      <td>Detectado_fraude</td>\n",
       "    </tr>\n",
       "    <tr>\n",
       "      <th>4</th>\n",
       "      <td>5996407</td>\n",
       "      <td>Detectado_fraude</td>\n",
       "    </tr>\n",
       "    <tr>\n",
       "      <th>5</th>\n",
       "      <td>5996409</td>\n",
       "      <td>Detectado_fraude</td>\n",
       "    </tr>\n",
       "    <tr>\n",
       "      <th>6</th>\n",
       "      <td>6168499</td>\n",
       "      <td>Detectado_fraude</td>\n",
       "    </tr>\n",
       "    <tr>\n",
       "      <th>7</th>\n",
       "      <td>6205439</td>\n",
       "      <td>Detectado_fraude</td>\n",
       "    </tr>\n",
       "    <tr>\n",
       "      <th>8</th>\n",
       "      <td>6266413</td>\n",
       "      <td>Detectado_fraude</td>\n",
       "    </tr>\n",
       "    <tr>\n",
       "      <th>9</th>\n",
       "      <td>6281482</td>\n",
       "      <td>Detectado_fraude</td>\n",
       "    </tr>\n",
       "    <tr>\n",
       "      <th>10</th>\n",
       "      <td>6281484</td>\n",
       "      <td>Detectado_fraude</td>\n",
       "    </tr>\n",
       "    <tr>\n",
       "      <th>11</th>\n",
       "      <td>6296014</td>\n",
       "      <td>Detectado_fraude</td>\n",
       "    </tr>\n",
       "    <tr>\n",
       "      <th>12</th>\n",
       "      <td>6351225</td>\n",
       "      <td>Detectado_fraude</td>\n",
       "    </tr>\n",
       "    <tr>\n",
       "      <th>13</th>\n",
       "      <td>6362460</td>\n",
       "      <td>Detectado_fraude</td>\n",
       "    </tr>\n",
       "    <tr>\n",
       "      <th>14</th>\n",
       "      <td>6362462</td>\n",
       "      <td>Detectado_fraude</td>\n",
       "    </tr>\n",
       "    <tr>\n",
       "      <th>15</th>\n",
       "      <td>6362584</td>\n",
       "      <td>Detectado_fraude</td>\n",
       "    </tr>\n",
       "  </tbody>\n",
       "</table>\n",
       "</div>"
      ],
      "text/plain": [
       "       t_id    mensaje_alarma\n",
       "0   2736446  Detectado_fraude\n",
       "1   3247297  Detectado_fraude\n",
       "2   3760288  Detectado_fraude\n",
       "3   5563713  Detectado_fraude\n",
       "4   5996407  Detectado_fraude\n",
       "5   5996409  Detectado_fraude\n",
       "6   6168499  Detectado_fraude\n",
       "7   6205439  Detectado_fraude\n",
       "8   6266413  Detectado_fraude\n",
       "9   6281482  Detectado_fraude\n",
       "10  6281484  Detectado_fraude\n",
       "11  6296014  Detectado_fraude\n",
       "12  6351225  Detectado_fraude\n",
       "13  6362460  Detectado_fraude\n",
       "14  6362462  Detectado_fraude\n",
       "15  6362584  Detectado_fraude"
      ]
     },
     "execution_count": 64,
     "metadata": {},
     "output_type": "execute_result"
    }
   ],
   "source": [
    "alarma"
   ]
  },
  {
   "cell_type": "code",
   "execution_count": 65,
   "id": "1759e1c1",
   "metadata": {},
   "outputs": [
    {
     "name": "stdout",
     "output_type": "stream",
     "text": [
      "Número de filas duplicadas: 15\n"
     ]
    }
   ],
   "source": [
    "cantidad_duplicados = alarma['mensaje_alarma'].duplicated().sum()\n",
    "print(\"Número de filas duplicadas:\", cantidad_duplicados)"
   ]
  },
  {
   "cell_type": "markdown",
   "id": "c468dfc1",
   "metadata": {},
   "source": [
    "# Unir dataframe"
   ]
  },
  {
   "cell_type": "code",
   "execution_count": 66,
   "id": "821a943c",
   "metadata": {},
   "outputs": [],
   "source": [
    "Fraude= pd.merge(fraude,alarma,on='t_id', how='left')"
   ]
  },
  {
   "cell_type": "code",
   "execution_count": 67,
   "id": "1856a8d9",
   "metadata": {
    "scrolled": true
   },
   "outputs": [
    {
     "data": {
      "text/html": [
       "<div>\n",
       "<style scoped>\n",
       "    .dataframe tbody tr th:only-of-type {\n",
       "        vertical-align: middle;\n",
       "    }\n",
       "\n",
       "    .dataframe tbody tr th {\n",
       "        vertical-align: top;\n",
       "    }\n",
       "\n",
       "    .dataframe thead th {\n",
       "        text-align: right;\n",
       "    }\n",
       "</style>\n",
       "<table border=\"1\" class=\"dataframe\">\n",
       "  <thead>\n",
       "    <tr style=\"text-align: right;\">\n",
       "      <th></th>\n",
       "      <th>t_id</th>\n",
       "      <th>fraude_dummy</th>\n",
       "      <th>mensaje_alarma</th>\n",
       "    </tr>\n",
       "  </thead>\n",
       "  <tbody>\n",
       "    <tr>\n",
       "      <th>0</th>\n",
       "      <td>0</td>\n",
       "      <td>0</td>\n",
       "      <td>NaN</td>\n",
       "    </tr>\n",
       "    <tr>\n",
       "      <th>1</th>\n",
       "      <td>1</td>\n",
       "      <td>0</td>\n",
       "      <td>NaN</td>\n",
       "    </tr>\n",
       "    <tr>\n",
       "      <th>2</th>\n",
       "      <td>2</td>\n",
       "      <td>1</td>\n",
       "      <td>NaN</td>\n",
       "    </tr>\n",
       "    <tr>\n",
       "      <th>3</th>\n",
       "      <td>3</td>\n",
       "      <td>1</td>\n",
       "      <td>NaN</td>\n",
       "    </tr>\n",
       "    <tr>\n",
       "      <th>4</th>\n",
       "      <td>4</td>\n",
       "      <td>0</td>\n",
       "      <td>NaN</td>\n",
       "    </tr>\n",
       "  </tbody>\n",
       "</table>\n",
       "</div>"
      ],
      "text/plain": [
       "   t_id  fraude_dummy mensaje_alarma\n",
       "0     0             0            NaN\n",
       "1     1             0            NaN\n",
       "2     2             1            NaN\n",
       "3     3             1            NaN\n",
       "4     4             0            NaN"
      ]
     },
     "execution_count": 67,
     "metadata": {},
     "output_type": "execute_result"
    }
   ],
   "source": [
    "Fraude.head(5)"
   ]
  },
  {
   "cell_type": "code",
   "execution_count": 83,
   "id": "a977c476",
   "metadata": {},
   "outputs": [],
   "source": [
    "Fraude['mensaje_alarma']=Fraude['mensaje_alarma'].fillna(\"No\")\n",
    "Fraude=Fraude.rename(columns={'fraude_dummy': 'es_fraude'})"
   ]
  },
  {
   "cell_type": "code",
   "execution_count": 85,
   "id": "95e6625c",
   "metadata": {},
   "outputs": [
    {
     "data": {
      "text/html": [
       "<div>\n",
       "<style scoped>\n",
       "    .dataframe tbody tr th:only-of-type {\n",
       "        vertical-align: middle;\n",
       "    }\n",
       "\n",
       "    .dataframe tbody tr th {\n",
       "        vertical-align: top;\n",
       "    }\n",
       "\n",
       "    .dataframe thead th {\n",
       "        text-align: right;\n",
       "    }\n",
       "</style>\n",
       "<table border=\"1\" class=\"dataframe\">\n",
       "  <thead>\n",
       "    <tr style=\"text-align: right;\">\n",
       "      <th></th>\n",
       "      <th>t_id</th>\n",
       "      <th>es_fraude</th>\n",
       "      <th>mensaje_alarma</th>\n",
       "    </tr>\n",
       "  </thead>\n",
       "  <tbody>\n",
       "    <tr>\n",
       "      <th>0</th>\n",
       "      <td>0</td>\n",
       "      <td>0</td>\n",
       "      <td>No</td>\n",
       "    </tr>\n",
       "    <tr>\n",
       "      <th>1</th>\n",
       "      <td>1</td>\n",
       "      <td>0</td>\n",
       "      <td>No</td>\n",
       "    </tr>\n",
       "    <tr>\n",
       "      <th>2</th>\n",
       "      <td>2</td>\n",
       "      <td>1</td>\n",
       "      <td>No</td>\n",
       "    </tr>\n",
       "    <tr>\n",
       "      <th>3</th>\n",
       "      <td>3</td>\n",
       "      <td>1</td>\n",
       "      <td>No</td>\n",
       "    </tr>\n",
       "    <tr>\n",
       "      <th>4</th>\n",
       "      <td>4</td>\n",
       "      <td>0</td>\n",
       "      <td>No</td>\n",
       "    </tr>\n",
       "    <tr>\n",
       "      <th>5</th>\n",
       "      <td>5</td>\n",
       "      <td>0</td>\n",
       "      <td>No</td>\n",
       "    </tr>\n",
       "    <tr>\n",
       "      <th>6</th>\n",
       "      <td>6</td>\n",
       "      <td>0</td>\n",
       "      <td>No</td>\n",
       "    </tr>\n",
       "    <tr>\n",
       "      <th>7</th>\n",
       "      <td>7</td>\n",
       "      <td>0</td>\n",
       "      <td>No</td>\n",
       "    </tr>\n",
       "    <tr>\n",
       "      <th>8</th>\n",
       "      <td>8</td>\n",
       "      <td>0</td>\n",
       "      <td>No</td>\n",
       "    </tr>\n",
       "    <tr>\n",
       "      <th>9</th>\n",
       "      <td>9</td>\n",
       "      <td>0</td>\n",
       "      <td>No</td>\n",
       "    </tr>\n",
       "  </tbody>\n",
       "</table>\n",
       "</div>"
      ],
      "text/plain": [
       "   t_id  es_fraude mensaje_alarma\n",
       "0     0          0             No\n",
       "1     1          0             No\n",
       "2     2          1             No\n",
       "3     3          1             No\n",
       "4     4          0             No\n",
       "5     5          0             No\n",
       "6     6          0             No\n",
       "7     7          0             No\n",
       "8     8          0             No\n",
       "9     9          0             No"
      ]
     },
     "execution_count": 85,
     "metadata": {},
     "output_type": "execute_result"
    }
   ],
   "source": [
    "Fraude.head(10)"
   ]
  },
  {
   "cell_type": "code",
   "execution_count": null,
   "id": "3fc46a8d",
   "metadata": {},
   "outputs": [],
   "source": []
  },
  {
   "cell_type": "code",
   "execution_count": null,
   "id": "5b83a8b7",
   "metadata": {},
   "outputs": [],
   "source": []
  },
  {
   "cell_type": "markdown",
   "id": "c86c132d",
   "metadata": {},
   "source": [
    "# comprobar que esta correcto las detección de fraude con sus respectivos t_id"
   ]
  },
  {
   "cell_type": "code",
   "execution_count": 68,
   "id": "21974b2e",
   "metadata": {},
   "outputs": [],
   "source": [
    "string_buscar = 'Detectado_fraude'\n",
    "resultados = Fraude.loc[Fraude['mensaje_alarma'] == string_buscar, 't_id']"
   ]
  },
  {
   "cell_type": "code",
   "execution_count": 69,
   "id": "59f51d31",
   "metadata": {},
   "outputs": [
    {
     "data": {
      "text/plain": [
       "2736399    2736446\n",
       "3247240    3247297\n",
       "3760224    3760288\n",
       "5563622    5563713\n",
       "5996313    5996407\n",
       "5996315    5996409\n",
       "6168403    6168499\n",
       "6205342    6205439\n",
       "6266315    6266413\n",
       "6281382    6281482\n",
       "6281384    6281484\n",
       "6295914    6296014\n",
       "6351125    6351225\n",
       "6362360    6362460\n",
       "6362362    6362462\n",
       "6362484    6362584\n",
       "Name: t_id, dtype: int32"
      ]
     },
     "execution_count": 69,
     "metadata": {},
     "output_type": "execute_result"
    }
   ],
   "source": [
    "resultados"
   ]
  },
  {
   "cell_type": "code",
   "execution_count": 70,
   "id": "5059e72a",
   "metadata": {},
   "outputs": [
    {
     "name": "stdout",
     "output_type": "stream",
     "text": [
      "0    1\n",
      "2    3\n",
      "Name: t_id, dtype: int64\n"
     ]
    }
   ],
   "source": [
    "import pandas as pd\n",
    "\n",
    "# Crear un DataFrame de ejemplo\n",
    "data = {'columna_string': ['ejemplo_string', 'otro_string', 'ejemplo_string', 'tercer_string'],\n",
    "        't_id': [1, 2, 3, 4]}\n",
    "df = pd.DataFrame(data)\n",
    "\n",
    "# Mostrar t_id correspondiente a un determinado string en columna_string\n",
    "string_buscar = 'ejemplo_string'\n",
    "resultados = df.loc[df['columna_string'] == string_buscar, 't_id']\n",
    "\n",
    "# Imprimir los resultados\n",
    "print(resultados)\n"
   ]
  },
  {
   "cell_type": "code",
   "execution_count": null,
   "id": "46c58776",
   "metadata": {},
   "outputs": [],
   "source": []
  },
  {
   "cell_type": "code",
   "execution_count": null,
   "id": "eb0b244e",
   "metadata": {},
   "outputs": [],
   "source": []
  },
  {
   "cell_type": "code",
   "execution_count": null,
   "id": "aa5a2ce9",
   "metadata": {},
   "outputs": [],
   "source": []
  }
 ],
 "metadata": {
  "kernelspec": {
   "display_name": "Python 3 (ipykernel)",
   "language": "python",
   "name": "python3"
  },
  "language_info": {
   "codemirror_mode": {
    "name": "ipython",
    "version": 3
   },
   "file_extension": ".py",
   "mimetype": "text/x-python",
   "name": "python",
   "nbconvert_exporter": "python",
   "pygments_lexer": "ipython3",
   "version": "3.10.9"
  }
 },
 "nbformat": 4,
 "nbformat_minor": 5
}
