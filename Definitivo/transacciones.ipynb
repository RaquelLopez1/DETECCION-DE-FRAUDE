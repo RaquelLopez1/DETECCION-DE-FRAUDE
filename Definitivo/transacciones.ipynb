{
 "cells": [
  {
   "cell_type": "code",
   "execution_count": 57,
   "id": "e60a5cd3",
   "metadata": {
    "scrolled": true
   },
   "outputs": [],
   "source": [
    "import json\n",
    "import pandas as pd\n",
    "with open(\"C:/Users/maria/OneDrive/Escritorio/pontia/Proyecto/clientes (1).json\") as f:\n",
    "    clientes=json.load(f)"
   ]
  },
  {
   "cell_type": "code",
   "execution_count": 58,
   "id": "a1a1acf5",
   "metadata": {},
   "outputs": [],
   "source": [
    "lista_clientes=[]\n",
    "for t_id, datos in clientes.items():\n",
    "    cliente = {\n",
    "        't_id': t_id,\n",
    "        'origen': datos['origen'],\n",
    "        'destino': datos['destino']\n",
    "    }\n",
    "    lista_clientes.append(cliente)"
   ]
  },
  {
   "cell_type": "code",
   "execution_count": 59,
   "id": "d82f6006",
   "metadata": {},
   "outputs": [],
   "source": [
    "df=pd.DataFrame(lista_clientes)"
   ]
  },
  {
   "cell_type": "code",
   "execution_count": 60,
   "id": "c56ffa7e",
   "metadata": {},
   "outputs": [
    {
     "data": {
      "text/plain": [
       "t_id       object\n",
       "origen     object\n",
       "destino    object\n",
       "dtype: object"
      ]
     },
     "execution_count": 60,
     "metadata": {},
     "output_type": "execute_result"
    }
   ],
   "source": [
    "tipo=df.dtypes\n",
    "tipo"
   ]
  },
  {
   "cell_type": "code",
   "execution_count": 61,
   "id": "36bc08fa",
   "metadata": {},
   "outputs": [
    {
     "data": {
      "text/html": [
       "<div>\n",
       "<style scoped>\n",
       "    .dataframe tbody tr th:only-of-type {\n",
       "        vertical-align: middle;\n",
       "    }\n",
       "\n",
       "    .dataframe tbody tr th {\n",
       "        vertical-align: top;\n",
       "    }\n",
       "\n",
       "    .dataframe thead th {\n",
       "        text-align: right;\n",
       "    }\n",
       "</style>\n",
       "<table border=\"1\" class=\"dataframe\">\n",
       "  <thead>\n",
       "    <tr style=\"text-align: right;\">\n",
       "      <th></th>\n",
       "      <th>t_id</th>\n",
       "      <th>origen</th>\n",
       "      <th>destino</th>\n",
       "    </tr>\n",
       "  </thead>\n",
       "  <tbody>\n",
       "    <tr>\n",
       "      <th>0</th>\n",
       "      <td>0</td>\n",
       "      <td>C1231006815</td>\n",
       "      <td>M1979787155</td>\n",
       "    </tr>\n",
       "    <tr>\n",
       "      <th>1</th>\n",
       "      <td>1</td>\n",
       "      <td>C1666544295</td>\n",
       "      <td>M2044282225</td>\n",
       "    </tr>\n",
       "    <tr>\n",
       "      <th>2</th>\n",
       "      <td>2</td>\n",
       "      <td>C1305486145</td>\n",
       "      <td>C553264065</td>\n",
       "    </tr>\n",
       "    <tr>\n",
       "      <th>3</th>\n",
       "      <td>3</td>\n",
       "      <td>C840083671</td>\n",
       "      <td>C38997010</td>\n",
       "    </tr>\n",
       "    <tr>\n",
       "      <th>4</th>\n",
       "      <td>4</td>\n",
       "      <td>C2048537720</td>\n",
       "      <td>M1230701703</td>\n",
       "    </tr>\n",
       "    <tr>\n",
       "      <th>5</th>\n",
       "      <td>5</td>\n",
       "      <td>C90045638</td>\n",
       "      <td>M573487274</td>\n",
       "    </tr>\n",
       "    <tr>\n",
       "      <th>6</th>\n",
       "      <td>6</td>\n",
       "      <td>C154988899</td>\n",
       "      <td>M408069119</td>\n",
       "    </tr>\n",
       "    <tr>\n",
       "      <th>7</th>\n",
       "      <td>7</td>\n",
       "      <td>C1912850431</td>\n",
       "      <td>M633326333</td>\n",
       "    </tr>\n",
       "    <tr>\n",
       "      <th>8</th>\n",
       "      <td>8</td>\n",
       "      <td>C1265012928</td>\n",
       "      <td>M1176932104</td>\n",
       "    </tr>\n",
       "    <tr>\n",
       "      <th>9</th>\n",
       "      <td>9</td>\n",
       "      <td>C712410124</td>\n",
       "      <td>C195600860</td>\n",
       "    </tr>\n",
       "    <tr>\n",
       "      <th>10</th>\n",
       "      <td>10</td>\n",
       "      <td>C1900366749</td>\n",
       "      <td>C997608398</td>\n",
       "    </tr>\n",
       "    <tr>\n",
       "      <th>11</th>\n",
       "      <td>11</td>\n",
       "      <td>C249177573</td>\n",
       "      <td>M2096539129</td>\n",
       "    </tr>\n",
       "  </tbody>\n",
       "</table>\n",
       "</div>"
      ],
      "text/plain": [
       "   t_id       origen      destino\n",
       "0     0  C1231006815  M1979787155\n",
       "1     1  C1666544295  M2044282225\n",
       "2     2  C1305486145   C553264065\n",
       "3     3   C840083671    C38997010\n",
       "4     4  C2048537720  M1230701703\n",
       "5     5    C90045638   M573487274\n",
       "6     6   C154988899   M408069119\n",
       "7     7  C1912850431   M633326333\n",
       "8     8  C1265012928  M1176932104\n",
       "9     9   C712410124   C195600860\n",
       "10   10  C1900366749   C997608398\n",
       "11   11   C249177573  M2096539129"
      ]
     },
     "execution_count": 61,
     "metadata": {},
     "output_type": "execute_result"
    }
   ],
   "source": [
    "df.head(12)"
   ]
  },
  {
   "cell_type": "code",
   "execution_count": 62,
   "id": "22e088a8",
   "metadata": {},
   "outputs": [
    {
     "data": {
      "text/plain": [
       "(6362620, 3)"
      ]
     },
     "execution_count": 62,
     "metadata": {},
     "output_type": "execute_result"
    }
   ],
   "source": [
    "df.shape"
   ]
  },
  {
   "cell_type": "code",
   "execution_count": 63,
   "id": "5cefcdd4",
   "metadata": {},
   "outputs": [],
   "source": [
    "df['t_id'] = df['t_id'].astype(int)"
   ]
  },
  {
   "cell_type": "code",
   "execution_count": 64,
   "id": "de063505",
   "metadata": {},
   "outputs": [
    {
     "data": {
      "text/plain": [
       "t_id        int32\n",
       "origen     object\n",
       "destino    object\n",
       "dtype: object"
      ]
     },
     "execution_count": 64,
     "metadata": {},
     "output_type": "execute_result"
    }
   ],
   "source": [
    "df.dtypes"
   ]
  },
  {
   "cell_type": "code",
   "execution_count": 65,
   "id": "c4362fac",
   "metadata": {},
   "outputs": [],
   "source": [
    "cliente=df['t_id']"
   ]
  },
  {
   "cell_type": "code",
   "execution_count": 66,
   "id": "5a1be7c1",
   "metadata": {},
   "outputs": [],
   "source": [
    "clientes=pd.DataFrame(cliente)"
   ]
  },
  {
   "cell_type": "code",
   "execution_count": 68,
   "id": "7aa1da4e",
   "metadata": {},
   "outputs": [],
   "source": [
    "import json\n",
    "import pandas as pd\n",
    "with open(\"C:/Users/maria/OneDrive/Escritorio/pontia/Proyecto/tipo.json\") as f:\n",
    "    tipo=json.load(f)"
   ]
  },
  {
   "cell_type": "code",
   "execution_count": 69,
   "id": "236d78f0",
   "metadata": {},
   "outputs": [],
   "source": [
    "lista_tipo = []\n",
    "for clave, datos in tipo.items():\n",
    "    for t_id in datos['t_id']:\n",
    "        lista_tipo.append([t_id, datos['tipo']])"
   ]
  },
  {
   "cell_type": "code",
   "execution_count": 70,
   "id": "236eb13f",
   "metadata": {},
   "outputs": [],
   "source": [
    "dft = pd.DataFrame(lista_tipo,columns=['t_id', 'tipo'])"
   ]
  },
  {
   "cell_type": "code",
   "execution_count": 72,
   "id": "2da3a686",
   "metadata": {},
   "outputs": [
    {
     "data": {
      "text/plain": [
       "t_id    0\n",
       "tipo    0\n",
       "dtype: int64"
      ]
     },
     "execution_count": 72,
     "metadata": {},
     "output_type": "execute_result"
    }
   ],
   "source": [
    "dft.isnull().sum()"
   ]
  },
  {
   "cell_type": "code",
   "execution_count": 73,
   "id": "6d4e89c0",
   "metadata": {},
   "outputs": [],
   "source": [
    "nuevo_df= clientes.merge(dft,left_on='t_id', right_on='t_id')"
   ]
  },
  {
   "cell_type": "code",
   "execution_count": 75,
   "id": "1a128514",
   "metadata": {},
   "outputs": [
    {
     "data": {
      "text/plain": [
       "t_id    0\n",
       "tipo    0\n",
       "dtype: int64"
      ]
     },
     "execution_count": 75,
     "metadata": {},
     "output_type": "execute_result"
    }
   ],
   "source": [
    "nuevo_df.isnull().sum()"
   ]
  },
  {
   "cell_type": "code",
   "execution_count": 76,
   "id": "e3a583db",
   "metadata": {},
   "outputs": [],
   "source": [
    "import json\n",
    "import pandas as pd\n",
    "with open(\"C:/Users/maria/OneDrive/Escritorio/pontia/Proyecto/tiempo.json\") as f:\n",
    "    tiempo=json.load(f)"
   ]
  },
  {
   "cell_type": "code",
   "execution_count": 77,
   "id": "f18964ee",
   "metadata": {},
   "outputs": [],
   "source": [
    "lista_tiempo = []\n",
    "for clave in tiempo:\n",
    "    for t_id in tiempo[clave]:\n",
    "        lista_tiempo.append([clave, t_id])"
   ]
  },
  {
   "cell_type": "code",
   "execution_count": 78,
   "id": "ac379c69",
   "metadata": {},
   "outputs": [],
   "source": [
    "d=pd.DataFrame(lista_tiempo,columns=['tiempo', 't_id'])"
   ]
  },
  {
   "cell_type": "code",
   "execution_count": 80,
   "id": "814528d1",
   "metadata": {},
   "outputs": [
    {
     "data": {
      "text/plain": [
       "tiempo    object\n",
       "t_id       int64\n",
       "dtype: object"
      ]
     },
     "execution_count": 80,
     "metadata": {},
     "output_type": "execute_result"
    }
   ],
   "source": [
    "d.dtypes"
   ]
  },
  {
   "cell_type": "code",
   "execution_count": 81,
   "id": "fff84c6d",
   "metadata": {},
   "outputs": [],
   "source": [
    "d['tiempo'] = d['tiempo'].astype(int)"
   ]
  },
  {
   "cell_type": "code",
   "execution_count": 82,
   "id": "8d9b9597",
   "metadata": {},
   "outputs": [
    {
     "data": {
      "text/plain": [
       "tiempo    int32\n",
       "t_id      int64\n",
       "dtype: object"
      ]
     },
     "execution_count": 82,
     "metadata": {},
     "output_type": "execute_result"
    }
   ],
   "source": [
    "d.dtypes"
   ]
  },
  {
   "cell_type": "markdown",
   "id": "b0f56ceb",
   "metadata": {},
   "source": [
    "# Creando tabla de tiempo"
   ]
  },
  {
   "cell_type": "code",
   "execution_count": 83,
   "id": "a53ef3ca",
   "metadata": {},
   "outputs": [],
   "source": [
    "from datetime import datetime, timedelta\n",
    "start_date = datetime(2022, 9, 1, 7)\n",
    "dates=[]\n",
    "for i in range(1,744):\n",
    "    dates.append(start_date + timedelta(hours=i-1))\n",
    "date=pd.DataFrame(dates,columns=['fecha y hora'])\n",
    "date.index = [i+1 for i in range(len(date))]\n",
    "datefinal=date.reset_index()"
   ]
  },
  {
   "cell_type": "code",
   "execution_count": 85,
   "id": "73dbf41b",
   "metadata": {},
   "outputs": [],
   "source": [
    "nuevo_dataframe = d.merge(datefinal,left_on='tiempo', right_on='index')"
   ]
  },
  {
   "cell_type": "code",
   "execution_count": 87,
   "id": "8759f877",
   "metadata": {},
   "outputs": [],
   "source": [
    "dfinal=nuevo_dataframe[['t_id', 'fecha y hora']]"
   ]
  },
  {
   "cell_type": "code",
   "execution_count": 89,
   "id": "014dabd0",
   "metadata": {},
   "outputs": [],
   "source": [
    "nuevo_df1= nuevo_df.merge(dfinal,left_on='t_id', right_on='t_id')"
   ]
  },
  {
   "cell_type": "markdown",
   "id": "3fc19e98",
   "metadata": {},
   "source": [
    "# Tabla Final"
   ]
  },
  {
   "cell_type": "code",
   "execution_count": 91,
   "id": "ca7d2788",
   "metadata": {},
   "outputs": [],
   "source": [
    "import json\n",
    "import pandas as pd\n",
    "with open(\"C:/Users/maria/OneDrive/Escritorio/pontia/Proyecto/cuantiafinal.json\") as f:\n",
    "    cuantia=json.load(f)"
   ]
  },
  {
   "cell_type": "code",
   "execution_count": 92,
   "id": "6b299366",
   "metadata": {},
   "outputs": [],
   "source": [
    "lista_cuantia = []\n",
    "for clave, valor in cuantia.items():\n",
    "        cuantia = {\n",
    "            't_id': clave,\n",
    "            'monto': valor['cuantia']\n",
    "        }\n",
    "        lista_cuantia.append(cuantia)"
   ]
  },
  {
   "cell_type": "code",
   "execution_count": 94,
   "id": "e9021402",
   "metadata": {},
   "outputs": [],
   "source": [
    "dfc=pd.DataFrame(lista_cuantia)"
   ]
  },
  {
   "cell_type": "code",
   "execution_count": 95,
   "id": "47057060",
   "metadata": {},
   "outputs": [
    {
     "data": {
      "text/plain": [
       "t_id     0\n",
       "monto    0\n",
       "dtype: int64"
      ]
     },
     "execution_count": 95,
     "metadata": {},
     "output_type": "execute_result"
    }
   ],
   "source": [
    "dfc.isnull().sum()"
   ]
  },
  {
   "cell_type": "code",
   "execution_count": 97,
   "id": "b199158d",
   "metadata": {},
   "outputs": [
    {
     "data": {
      "text/plain": [
       "t_id      object\n",
       "monto    float64\n",
       "dtype: object"
      ]
     },
     "execution_count": 97,
     "metadata": {},
     "output_type": "execute_result"
    }
   ],
   "source": [
    "dfc.dtypes"
   ]
  },
  {
   "cell_type": "code",
   "execution_count": 98,
   "id": "915a9169",
   "metadata": {},
   "outputs": [],
   "source": [
    "dfc['t_id'] = dfc['t_id'].astype(int)"
   ]
  },
  {
   "cell_type": "code",
   "execution_count": 99,
   "id": "11b83229",
   "metadata": {},
   "outputs": [
    {
     "data": {
      "text/plain": [
       "t_id       int32\n",
       "monto    float64\n",
       "dtype: object"
      ]
     },
     "execution_count": 99,
     "metadata": {},
     "output_type": "execute_result"
    }
   ],
   "source": [
    "dfc.dtypes"
   ]
  },
  {
   "cell_type": "code",
   "execution_count": 100,
   "id": "797f5868",
   "metadata": {},
   "outputs": [],
   "source": [
    "transacciones= nuevo_df1.merge(dfc,left_on='t_id', right_on='t_id')"
   ]
  },
  {
   "cell_type": "code",
   "execution_count": 102,
   "id": "c1de68b8",
   "metadata": {
    "scrolled": true
   },
   "outputs": [],
   "source": [
    "prueba=transacciones.sample(5)"
   ]
  },
  {
   "cell_type": "code",
   "execution_count": 103,
   "id": "4d97ac90",
   "metadata": {},
   "outputs": [],
   "source": [
    "transacciones= transacciones.rename(columns={'fecha y hora': 'tiempo'})"
   ]
  },
  {
   "cell_type": "code",
   "execution_count": 104,
   "id": "0235e31c",
   "metadata": {},
   "outputs": [
    {
     "name": "stdout",
     "output_type": "stream",
     "text": [
      "<class 'pandas.core.frame.DataFrame'>\n",
      "Int64Index: 6362620 entries, 0 to 6362619\n",
      "Data columns (total 4 columns):\n",
      " #   Column  Dtype         \n",
      "---  ------  -----         \n",
      " 0   t_id    int32         \n",
      " 1   tipo    object        \n",
      " 2   tiempo  datetime64[ns]\n",
      " 3   monto   float64       \n",
      "dtypes: datetime64[ns](1), float64(1), int32(1), object(1)\n",
      "memory usage: 218.4+ MB\n"
     ]
    }
   ],
   "source": [
    "transacciones.info()"
   ]
  },
  {
   "cell_type": "markdown",
   "id": "09b8064d",
   "metadata": {},
   "source": [
    "# El límite de pago con tarjeta de débito al mes es de 5000€."
   ]
  },
  {
   "cell_type": "code",
   "execution_count": 105,
   "id": "65eb6a16",
   "metadata": {},
   "outputs": [],
   "source": [
    "tlimit = transacciones[(transacciones['tipo'] == 'DEBIT') & (transacciones['monto'] > 5000)]"
   ]
  },
  {
   "cell_type": "code",
   "execution_count": 1,
   "id": "17956a6e",
   "metadata": {
    "scrolled": true
   },
   "outputs": [
    {
     "ename": "NameError",
     "evalue": "name 'tlimit' is not defined",
     "output_type": "error",
     "traceback": [
      "\u001b[1;31m---------------------------------------------------------------------------\u001b[0m",
      "\u001b[1;31mNameError\u001b[0m                                 Traceback (most recent call last)",
      "Cell \u001b[1;32mIn[1], line 1\u001b[0m\n\u001b[1;32m----> 1\u001b[0m tlimit[\u001b[38;5;124m'\u001b[39m\u001b[38;5;124mmes\u001b[39m\u001b[38;5;124m'\u001b[39m] \u001b[38;5;241m=\u001b[39m \u001b[43mtlimit\u001b[49m[\u001b[38;5;124m'\u001b[39m\u001b[38;5;124mtiempo\u001b[39m\u001b[38;5;124m'\u001b[39m]\u001b[38;5;241m.\u001b[39mdt\u001b[38;5;241m.\u001b[39mmonth\n",
      "\u001b[1;31mNameError\u001b[0m: name 'tlimit' is not defined"
     ]
    }
   ],
   "source": [
    "tlimit['mes'] = tlimit['tiempo'].dt.month\n"
   ]
  },
  {
   "cell_type": "code",
   "execution_count": 108,
   "id": "17eb8c99",
   "metadata": {},
   "outputs": [],
   "source": [
    "t_id_por_mes = tlimit.groupby('mes')['t_id'].unique()"
   ]
  },
  {
   "cell_type": "code",
   "execution_count": 109,
   "id": "94a7f54d",
   "metadata": {},
   "outputs": [
    {
     "data": {
      "text/plain": [
       "mes\n",
       "9     [9, 10, 21, 41, 59, 62, 68, 306, 326, 330, 517...\n",
       "10    [6358229, 6358348, 6358366, 6358416, 6358986, ...\n",
       "Name: t_id, dtype: object"
      ]
     },
     "execution_count": 109,
     "metadata": {},
     "output_type": "execute_result"
    }
   ],
   "source": [
    "t_id_por_mes "
   ]
  },
  {
   "cell_type": "code",
   "execution_count": null,
   "id": "43ef3b3a",
   "metadata": {},
   "outputs": [],
   "source": []
  },
  {
   "cell_type": "code",
   "execution_count": null,
   "id": "40aabf5f",
   "metadata": {},
   "outputs": [],
   "source": []
  },
  {
   "cell_type": "code",
   "execution_count": null,
   "id": "fd745e61",
   "metadata": {},
   "outputs": [],
   "source": []
  },
  {
   "cell_type": "code",
   "execution_count": null,
   "id": "08e481cc",
   "metadata": {},
   "outputs": [],
   "source": []
  },
  {
   "cell_type": "code",
   "execution_count": null,
   "id": "d64776f5",
   "metadata": {},
   "outputs": [],
   "source": []
  },
  {
   "cell_type": "code",
   "execution_count": null,
   "id": "ac288295",
   "metadata": {},
   "outputs": [],
   "source": []
  },
  {
   "cell_type": "code",
   "execution_count": null,
   "id": "38592fdc",
   "metadata": {},
   "outputs": [],
   "source": []
  },
  {
   "cell_type": "code",
   "execution_count": null,
   "id": "6c1ec5f9",
   "metadata": {},
   "outputs": [],
   "source": [
    "#transacciones.to_csv('C:/Users/maria/OneDrive/Escritorio/pontia/Proyecto/transacciones.csv', index=False)"
   ]
  }
 ],
 "metadata": {
  "kernelspec": {
   "display_name": "Python 3 (ipykernel)",
   "language": "python",
   "name": "python3"
  },
  "language_info": {
   "codemirror_mode": {
    "name": "ipython",
    "version": 3
   },
   "file_extension": ".py",
   "mimetype": "text/x-python",
   "name": "python",
   "nbconvert_exporter": "python",
   "pygments_lexer": "ipython3",
   "version": "3.10.9"
  }
 },
 "nbformat": 4,
 "nbformat_minor": 5
}
