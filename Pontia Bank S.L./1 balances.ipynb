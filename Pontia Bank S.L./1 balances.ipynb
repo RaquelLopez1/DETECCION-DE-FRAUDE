{
 "cells": [
  {
   "cell_type": "code",
   "execution_count": 1,
   "metadata": {},
   "outputs": [],
   "source": [
    "import json\n",
    "import pandas as pd"
   ]
  },
  {
   "cell_type": "code",
   "execution_count": 2,
   "metadata": {},
   "outputs": [],
   "source": [
    "with open('C:/Users/Pc/Desktop/Máster/Data Science (Pontia)/Proyecto Jupyter/Data/balances.json') as f:\n",
    "    d = json.load(f)"
   ]
  },
  {
   "cell_type": "code",
   "execution_count": 3,
   "metadata": {},
   "outputs": [],
   "source": [
    "#Transformación de los datos\n",
    "data={'cliente': [], 't_id':[], 'balance_prev':[], 'balance_post':[]}\n",
    "\n",
    "for clave in d:\n",
    "    for i in range(len(d[clave])):\n",
    "        data['cliente'].append(clave)\n",
    "        data['t_id'].append(d[clave][i]['t_id'])\n",
    "        data['balance_prev'].append(d[clave][i]['balance_prev'])\n",
    "        data['balance_post'].append(d[clave][i]['balance_post'])\n",
    "\n",
    "#print(data)"
   ]
  },
  {
   "cell_type": "code",
   "execution_count": 4,
   "metadata": {},
   "outputs": [
    {
     "data": {
      "text/html": [
       "<div>\n",
       "<style scoped>\n",
       "    .dataframe tbody tr th:only-of-type {\n",
       "        vertical-align: middle;\n",
       "    }\n",
       "\n",
       "    .dataframe tbody tr th {\n",
       "        vertical-align: top;\n",
       "    }\n",
       "\n",
       "    .dataframe thead th {\n",
       "        text-align: right;\n",
       "    }\n",
       "</style>\n",
       "<table border=\"1\" class=\"dataframe\">\n",
       "  <thead>\n",
       "    <tr style=\"text-align: right;\">\n",
       "      <th></th>\n",
       "      <th>cliente</th>\n",
       "      <th>t_id</th>\n",
       "      <th>balance_prev</th>\n",
       "      <th>balance_post</th>\n",
       "    </tr>\n",
       "  </thead>\n",
       "  <tbody>\n",
       "    <tr>\n",
       "      <th>0</th>\n",
       "      <td>C1231006815</td>\n",
       "      <td>0</td>\n",
       "      <td>170136.00</td>\n",
       "      <td>160296.36</td>\n",
       "    </tr>\n",
       "    <tr>\n",
       "      <th>1</th>\n",
       "      <td>M1979787155</td>\n",
       "      <td>0</td>\n",
       "      <td>0.00</td>\n",
       "      <td>0.00</td>\n",
       "    </tr>\n",
       "    <tr>\n",
       "      <th>2</th>\n",
       "      <td>C1666544295</td>\n",
       "      <td>1</td>\n",
       "      <td>21249.00</td>\n",
       "      <td>19384.72</td>\n",
       "    </tr>\n",
       "    <tr>\n",
       "      <th>3</th>\n",
       "      <td>M2044282225</td>\n",
       "      <td>1</td>\n",
       "      <td>0.00</td>\n",
       "      <td>0.00</td>\n",
       "    </tr>\n",
       "    <tr>\n",
       "      <th>4</th>\n",
       "      <td>C1305486145</td>\n",
       "      <td>2</td>\n",
       "      <td>181.00</td>\n",
       "      <td>0.00</td>\n",
       "    </tr>\n",
       "    <tr>\n",
       "      <th>5</th>\n",
       "      <td>C553264065</td>\n",
       "      <td>2</td>\n",
       "      <td>0.00</td>\n",
       "      <td>0.00</td>\n",
       "    </tr>\n",
       "    <tr>\n",
       "      <th>6</th>\n",
       "      <td>C553264065</td>\n",
       "      <td>6167</td>\n",
       "      <td>0.00</td>\n",
       "      <td>109985.65</td>\n",
       "    </tr>\n",
       "    <tr>\n",
       "      <th>7</th>\n",
       "      <td>C553264065</td>\n",
       "      <td>7903</td>\n",
       "      <td>109985.65</td>\n",
       "      <td>99729.44</td>\n",
       "    </tr>\n",
       "    <tr>\n",
       "      <th>8</th>\n",
       "      <td>C553264065</td>\n",
       "      <td>16381</td>\n",
       "      <td>99729.44</td>\n",
       "      <td>5254.44</td>\n",
       "    </tr>\n",
       "    <tr>\n",
       "      <th>9</th>\n",
       "      <td>C553264065</td>\n",
       "      <td>20003</td>\n",
       "      <td>211351.84</td>\n",
       "      <td>5254.44</td>\n",
       "    </tr>\n",
       "  </tbody>\n",
       "</table>\n",
       "</div>"
      ],
      "text/plain": [
       "       cliente   t_id  balance_prev  balance_post\n",
       "0  C1231006815      0     170136.00     160296.36\n",
       "1  M1979787155      0          0.00          0.00\n",
       "2  C1666544295      1      21249.00      19384.72\n",
       "3  M2044282225      1          0.00          0.00\n",
       "4  C1305486145      2        181.00          0.00\n",
       "5   C553264065      2          0.00          0.00\n",
       "6   C553264065   6167          0.00     109985.65\n",
       "7   C553264065   7903     109985.65      99729.44\n",
       "8   C553264065  16381      99729.44       5254.44\n",
       "9   C553264065  20003     211351.84       5254.44"
      ]
     },
     "execution_count": 4,
     "metadata": {},
     "output_type": "execute_result"
    }
   ],
   "source": [
    "df = pd.DataFrame(data)\n",
    "\n",
    "df.head(10)"
   ]
  },
  {
   "cell_type": "code",
   "execution_count": 5,
   "metadata": {},
   "outputs": [
    {
     "name": "stdout",
     "output_type": "stream",
     "text": [
      "       cliente  t_id  balance_prev  balance_post\n",
      "0  C1231006815     0      170136.0     160296.36\n",
      "1  M1979787155     0           0.0          0.00\n",
      "2  C1666544295     1       21249.0      19384.72\n",
      "3  M2044282225     1           0.0          0.00\n",
      "4  C1305486145     2         181.0          0.00\n"
     ]
    }
   ],
   "source": [
    "print(df.head())"
   ]
  },
  {
   "cell_type": "code",
   "execution_count": 6,
   "metadata": {},
   "outputs": [
    {
     "data": {
      "text/html": [
       "<div>\n",
       "<style scoped>\n",
       "    .dataframe tbody tr th:only-of-type {\n",
       "        vertical-align: middle;\n",
       "    }\n",
       "\n",
       "    .dataframe tbody tr th {\n",
       "        vertical-align: top;\n",
       "    }\n",
       "\n",
       "    .dataframe thead th {\n",
       "        text-align: right;\n",
       "    }\n",
       "</style>\n",
       "<table border=\"1\" class=\"dataframe\">\n",
       "  <thead>\n",
       "    <tr style=\"text-align: right;\">\n",
       "      <th></th>\n",
       "      <th>cliente</th>\n",
       "      <th>t_id</th>\n",
       "      <th>balance_prev</th>\n",
       "      <th>balance_post</th>\n",
       "    </tr>\n",
       "  </thead>\n",
       "  <tbody>\n",
       "    <tr>\n",
       "      <th>12725235</th>\n",
       "      <td>C1881841831</td>\n",
       "      <td>6362616</td>\n",
       "      <td>0.00</td>\n",
       "      <td>0.0</td>\n",
       "    </tr>\n",
       "    <tr>\n",
       "      <th>12725236</th>\n",
       "      <td>C1162922333</td>\n",
       "      <td>6362617</td>\n",
       "      <td>6311409.28</td>\n",
       "      <td>0.0</td>\n",
       "    </tr>\n",
       "    <tr>\n",
       "      <th>12725237</th>\n",
       "      <td>C1685995037</td>\n",
       "      <td>6362618</td>\n",
       "      <td>850002.52</td>\n",
       "      <td>0.0</td>\n",
       "    </tr>\n",
       "    <tr>\n",
       "      <th>12725238</th>\n",
       "      <td>C2080388513</td>\n",
       "      <td>6362618</td>\n",
       "      <td>0.00</td>\n",
       "      <td>0.0</td>\n",
       "    </tr>\n",
       "    <tr>\n",
       "      <th>12725239</th>\n",
       "      <td>C1280323807</td>\n",
       "      <td>6362619</td>\n",
       "      <td>850002.52</td>\n",
       "      <td>0.0</td>\n",
       "    </tr>\n",
       "  </tbody>\n",
       "</table>\n",
       "</div>"
      ],
      "text/plain": [
       "              cliente     t_id  balance_prev  balance_post\n",
       "12725235  C1881841831  6362616          0.00           0.0\n",
       "12725236  C1162922333  6362617    6311409.28           0.0\n",
       "12725237  C1685995037  6362618     850002.52           0.0\n",
       "12725238  C2080388513  6362618          0.00           0.0\n",
       "12725239  C1280323807  6362619     850002.52           0.0"
      ]
     },
     "execution_count": 6,
     "metadata": {},
     "output_type": "execute_result"
    }
   ],
   "source": [
    "df.tail()"
   ]
  },
  {
   "cell_type": "code",
   "execution_count": 7,
   "metadata": {},
   "outputs": [
    {
     "name": "stdout",
     "output_type": "stream",
     "text": [
      "<class 'pandas.core.frame.DataFrame'>\n",
      "RangeIndex: 12725240 entries, 0 to 12725239\n",
      "Data columns (total 4 columns):\n",
      " #   Column        Dtype  \n",
      "---  ------        -----  \n",
      " 0   cliente       object \n",
      " 1   t_id          int64  \n",
      " 2   balance_prev  float64\n",
      " 3   balance_post  float64\n",
      "dtypes: float64(2), int64(1), object(1)\n",
      "memory usage: 388.3+ MB\n"
     ]
    }
   ],
   "source": [
    "df.info()"
   ]
  },
  {
   "cell_type": "code",
   "execution_count": 8,
   "metadata": {},
   "outputs": [
    {
     "data": {
      "text/plain": [
       "cliente         0\n",
       "t_id            0\n",
       "balance_prev    0\n",
       "balance_post    0\n",
       "dtype: int64"
      ]
     },
     "execution_count": 8,
     "metadata": {},
     "output_type": "execute_result"
    }
   ],
   "source": [
    "#missing values\n",
    "df.isna().sum()"
   ]
  },
  {
   "cell_type": "code",
   "execution_count": 9,
   "metadata": {},
   "outputs": [
    {
     "data": {
      "text/plain": [
       "cliente         0\n",
       "t_id            0\n",
       "balance_prev    0\n",
       "balance_post    0\n",
       "dtype: int64"
      ]
     },
     "execution_count": 9,
     "metadata": {},
     "output_type": "execute_result"
    }
   ],
   "source": [
    "df.isnull().sum()"
   ]
  },
  {
   "cell_type": "code",
   "execution_count": 11,
   "metadata": {},
   "outputs": [
    {
     "data": {
      "text/plain": [
       "0.00          4806837\n",
       "184.00            934\n",
       "133.00            925\n",
       "164.00            925\n",
       "109.00            922\n",
       "               ...   \n",
       "537670.82           1\n",
       "92985.71            1\n",
       "65591.57            1\n",
       "374580.44           1\n",
       "1153042.12          1\n",
       "Name: balance_prev, Length: 5393616, dtype: int64"
      ]
     },
     "execution_count": 11,
     "metadata": {},
     "output_type": "execute_result"
    }
   ],
   "source": [
    "#Valores únicos\n",
    "df.balance_prev.value_counts()"
   ]
  },
  {
   "cell_type": "code",
   "execution_count": 12,
   "metadata": {},
   "outputs": [
    {
     "data": {
      "text/plain": [
       "0.00           6048999\n",
       "10000000.00         53\n",
       "971418.91           32\n",
       "19169204.93         29\n",
       "1254956.07          25\n",
       "                ...   \n",
       "345176.34            1\n",
       "110979.08            1\n",
       "216364.13            1\n",
       "444884.39            1\n",
       "1929841.08           1\n",
       "Name: balance_post, Length: 6167874, dtype: int64"
      ]
     },
     "execution_count": 12,
     "metadata": {},
     "output_type": "execute_result"
    }
   ],
   "source": [
    "df.balance_post.value_counts()"
   ]
  },
  {
   "cell_type": "code",
   "execution_count": 13,
   "metadata": {},
   "outputs": [
    {
     "data": {
      "text/plain": [
       "cliente         0\n",
       "t_id            0\n",
       "balance_prev    0\n",
       "balance_post    0\n",
       "dtype: int64"
      ]
     },
     "metadata": {},
     "output_type": "display_data"
    }
   ],
   "source": [
    "display(df.isna().sum(axis = 0))"
   ]
  },
  {
   "cell_type": "code",
   "execution_count": 6,
   "metadata": {},
   "outputs": [],
   "source": [
    "df.to_csv('balance.csv', sep= '|', index=False)"
   ]
  }
 ],
 "metadata": {
  "kernelspec": {
   "display_name": "Python 3 (ipykernel)",
   "language": "python",
   "name": "python3"
  },
  "language_info": {
   "codemirror_mode": {
    "name": "ipython",
    "version": 3
   },
   "file_extension": ".py",
   "mimetype": "text/x-python",
   "name": "python",
   "nbconvert_exporter": "python",
   "pygments_lexer": "ipython3",
   "version": "3.10.9"
  }
 },
 "nbformat": 4,
 "nbformat_minor": 2
}
