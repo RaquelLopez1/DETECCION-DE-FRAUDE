{
 "cells": [
  {
   "cell_type": "code",
   "execution_count": 1,
   "id": "55663398",
   "metadata": {},
   "outputs": [
    {
     "name": "stdout",
     "output_type": "stream",
     "text": [
      "Requirement already satisfied: pandas in c:\\users\\maria\\anaconda3\\lib\\site-packages (1.5.3)\n",
      "Requirement already satisfied: python-dateutil>=2.8.1 in c:\\users\\maria\\anaconda3\\lib\\site-packages (from pandas) (2.8.2)\n",
      "Requirement already satisfied: pytz>=2020.1 in c:\\users\\maria\\anaconda3\\lib\\site-packages (from pandas) (2022.7)\n",
      "Requirement already satisfied: numpy>=1.21.0 in c:\\users\\maria\\anaconda3\\lib\\site-packages (from pandas) (1.23.5)\n",
      "Requirement already satisfied: six>=1.5 in c:\\users\\maria\\anaconda3\\lib\\site-packages (from python-dateutil>=2.8.1->pandas) (1.16.0)\n",
      "Note: you may need to restart the kernel to use updated packages.\n"
     ]
    }
   ],
   "source": [
    "pip install pandas"
   ]
  },
  {
   "cell_type": "code",
   "execution_count": 1,
   "id": "d7f43a1e",
   "metadata": {},
   "outputs": [],
   "source": [
    "from pandas.io import sql"
   ]
  },
  {
   "cell_type": "code",
   "execution_count": 2,
   "id": "f9e6fd5e",
   "metadata": {},
   "outputs": [],
   "source": [
    "import pandas as pd"
   ]
  },
  {
   "cell_type": "code",
   "execution_count": 3,
   "id": "c093df9f",
   "metadata": {},
   "outputs": [],
   "source": [
    "import sqlalchemy as db"
   ]
  },
  {
   "cell_type": "code",
   "execution_count": 4,
   "id": "563679fb",
   "metadata": {},
   "outputs": [],
   "source": [
    "from datetime import datetime, date"
   ]
  },
  {
   "cell_type": "code",
   "execution_count": 5,
   "id": "c6c46045",
   "metadata": {},
   "outputs": [],
   "source": [
    "import numpy as np"
   ]
  },
  {
   "cell_type": "code",
   "execution_count": 6,
   "id": "80631918",
   "metadata": {},
   "outputs": [],
   "source": [
    "from scipy import stats"
   ]
  },
  {
   "cell_type": "code",
   "execution_count": 7,
   "id": "85fd1b00",
   "metadata": {},
   "outputs": [
    {
     "name": "stdout",
     "output_type": "stream",
     "text": [
      "Requirement already satisfied: pymysql in c:\\users\\maria\\anaconda3\\lib\\site-packages (1.0.3)\n",
      "Note: you may need to restart the kernel to use updated packages.\n"
     ]
    }
   ],
   "source": [
    "pip install pymysql"
   ]
  },
  {
   "cell_type": "code",
   "execution_count": 8,
   "id": "ccc99532",
   "metadata": {},
   "outputs": [],
   "source": [
    "import pymysql"
   ]
  },
  {
   "cell_type": "code",
   "execution_count": 9,
   "id": "176a100a",
   "metadata": {},
   "outputs": [],
   "source": [
    "database_username='root'\n",
    "database_password='vkD9aytJ'\n",
    "database_ip='localhost'\n",
    "database_name='banco'\n",
    "database_connection=db.create_engine('mysql+pymysql://{0}:{1}@{2}/{3}'.format(database_username,database_password,database_ip,database_name))\n",
    "connection=database_connection.connect()\n",
    "metadata=db.MetaData()"
   ]
  },
  {
   "cell_type": "code",
   "execution_count": 10,
   "id": "de53ee24",
   "metadata": {},
   "outputs": [],
   "source": [
    "transacciones=pd.read_csv('C:/Users/maria/OneDrive/Escritorio/pontia/Proyecto/Definitivo/transacciones.csv')"
   ]
  },
  {
   "cell_type": "code",
   "execution_count": 13,
   "id": "e993e413",
   "metadata": {},
   "outputs": [],
   "source": [
    "transacciones.to_sql('transaccion',connection)"
   ]
  },
  {
   "cell_type": "code",
   "execution_count": null,
   "id": "43c7296a",
   "metadata": {},
   "outputs": [],
   "source": [
    "clientes=pd.read_csv('C:/Users/maria/OneDrive/Escritorio/pontia/Proyecto/Definitivo/clientes.csv')"
   ]
  },
  {
   "cell_type": "code",
   "execution_count": null,
   "id": "fafdfb76",
   "metadata": {},
   "outputs": [],
   "source": [
    "clientes.to_sql('clientes',connection)"
   ]
  },
  {
   "cell_type": "code",
   "execution_count": null,
   "id": "aaa622b3",
   "metadata": {},
   "outputs": [],
   "source": [
    "fraude=pd.read_csv('C:/Users/maria/OneDrive/Escritorio/pontia/Proyecto/Definitivo/fraude.csv')"
   ]
  },
  {
   "cell_type": "code",
   "execution_count": null,
   "id": "43fb5530",
   "metadata": {},
   "outputs": [],
   "source": [
    "fraude.to_sql('fraude',connection)"
   ]
  },
  {
   "cell_type": "code",
   "execution_count": 10,
   "id": "b2c92043",
   "metadata": {},
   "outputs": [],
   "source": [
    "balances=pd.read_csv('C:/Users/maria/OneDrive/Escritorio/pontia/Proyecto/Definitivo/balances.csv')"
   ]
  },
  {
   "cell_type": "code",
   "execution_count": null,
   "id": "ff2131d5",
   "metadata": {},
   "outputs": [],
   "source": [
    "balances.to_sql('balances',connection)"
   ]
  }
 ],
 "metadata": {
  "kernelspec": {
   "display_name": "Python 3 (ipykernel)",
   "language": "python",
   "name": "python3"
  },
  "language_info": {
   "codemirror_mode": {
    "name": "ipython",
    "version": 3
   },
   "file_extension": ".py",
   "mimetype": "text/x-python",
   "name": "python",
   "nbconvert_exporter": "python",
   "pygments_lexer": "ipython3",
   "version": "3.10.9"
  }
 },
 "nbformat": 4,
 "nbformat_minor": 5
}
