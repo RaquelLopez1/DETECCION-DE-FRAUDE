{
 "cells": [
  {
   "cell_type": "code",
   "execution_count": 2,
   "id": "5b7fa2c5",
   "metadata": {},
   "outputs": [],
   "source": [
    "import pandas as pd\n",
    "import matplotlib.pyplot as plt\n",
    "import seaborn as sns\n",
    "import numpy as np\n",
    "sns.set(rc={'figure.figsize':(14,12)})\n",
    "\n",
    "# Para suprimir los warnings de scikitlearn por convergencia prematura\n",
    "from warnings import simplefilter\n",
    "from sklearn.exceptions import ConvergenceWarning\n",
    "simplefilter(\"ignore\", category=ConvergenceWarning)"
   ]
  },
  {
   "cell_type": "code",
   "execution_count": 3,
   "id": "d5290271",
   "metadata": {},
   "outputs": [],
   "source": [
    "dec_fraude = pd.read_csv('C:/Users/Pc/Desktop/Máster/Data Science (Pontia)/Proyecto Jupyter/Csv/dec_fraude.csv')"
   ]
  },
  {
   "cell_type": "code",
   "execution_count": 4,
   "id": "10952cb2",
   "metadata": {},
   "outputs": [],
   "source": [
    "dec_fraude.drop('Unnamed: 0', axis=1, inplace=True)"
   ]
  },
  {
   "cell_type": "code",
   "execution_count": 5,
   "id": "7b606d15",
   "metadata": {
    "scrolled": true
   },
   "outputs": [
    {
     "data": {
      "text/html": [
       "<div>\n",
       "<style scoped>\n",
       "    .dataframe tbody tr th:only-of-type {\n",
       "        vertical-align: middle;\n",
       "    }\n",
       "\n",
       "    .dataframe tbody tr th {\n",
       "        vertical-align: top;\n",
       "    }\n",
       "\n",
       "    .dataframe thead th {\n",
       "        text-align: right;\n",
       "    }\n",
       "</style>\n",
       "<table border=\"1\" class=\"dataframe\">\n",
       "  <thead>\n",
       "    <tr style=\"text-align: right;\">\n",
       "      <th></th>\n",
       "      <th>t_id</th>\n",
       "      <th>tipo</th>\n",
       "      <th>tiempo</th>\n",
       "      <th>monto</th>\n",
       "      <th>cl_origen</th>\n",
       "      <th>cl_destino</th>\n",
       "      <th>es_fraude</th>\n",
       "      <th>mensaje_alarma</th>\n",
       "      <th>balance_prev_or</th>\n",
       "      <th>balance_post_or</th>\n",
       "      <th>balance_prev_des</th>\n",
       "      <th>balance_post_des</th>\n",
       "    </tr>\n",
       "  </thead>\n",
       "  <tbody>\n",
       "    <tr>\n",
       "      <th>0</th>\n",
       "      <td>0</td>\n",
       "      <td>PAYMENT</td>\n",
       "      <td>2022-09-01 07:00:00</td>\n",
       "      <td>9839.64</td>\n",
       "      <td>C1231006815</td>\n",
       "      <td>M1979787155</td>\n",
       "      <td>0</td>\n",
       "      <td>No</td>\n",
       "      <td>170136.0</td>\n",
       "      <td>160296.36</td>\n",
       "      <td>0.0</td>\n",
       "      <td>0.0</td>\n",
       "    </tr>\n",
       "    <tr>\n",
       "      <th>1</th>\n",
       "      <td>1</td>\n",
       "      <td>PAYMENT</td>\n",
       "      <td>2022-09-01 07:00:00</td>\n",
       "      <td>1864.28</td>\n",
       "      <td>C1666544295</td>\n",
       "      <td>M2044282225</td>\n",
       "      <td>0</td>\n",
       "      <td>No</td>\n",
       "      <td>21249.0</td>\n",
       "      <td>19384.72</td>\n",
       "      <td>0.0</td>\n",
       "      <td>0.0</td>\n",
       "    </tr>\n",
       "    <tr>\n",
       "      <th>2</th>\n",
       "      <td>2</td>\n",
       "      <td>TRANSFER</td>\n",
       "      <td>2022-09-01 07:00:00</td>\n",
       "      <td>181.00</td>\n",
       "      <td>C1305486145</td>\n",
       "      <td>C553264065</td>\n",
       "      <td>1</td>\n",
       "      <td>No</td>\n",
       "      <td>181.0</td>\n",
       "      <td>0.00</td>\n",
       "      <td>0.0</td>\n",
       "      <td>0.0</td>\n",
       "    </tr>\n",
       "    <tr>\n",
       "      <th>3</th>\n",
       "      <td>3</td>\n",
       "      <td>CASH_OUT</td>\n",
       "      <td>2022-09-01 07:00:00</td>\n",
       "      <td>181.00</td>\n",
       "      <td>C840083671</td>\n",
       "      <td>C38997010</td>\n",
       "      <td>1</td>\n",
       "      <td>No</td>\n",
       "      <td>181.0</td>\n",
       "      <td>0.00</td>\n",
       "      <td>21182.0</td>\n",
       "      <td>0.0</td>\n",
       "    </tr>\n",
       "    <tr>\n",
       "      <th>4</th>\n",
       "      <td>4</td>\n",
       "      <td>PAYMENT</td>\n",
       "      <td>2022-09-01 07:00:00</td>\n",
       "      <td>11668.14</td>\n",
       "      <td>C2048537720</td>\n",
       "      <td>M1230701703</td>\n",
       "      <td>0</td>\n",
       "      <td>No</td>\n",
       "      <td>41554.0</td>\n",
       "      <td>29885.86</td>\n",
       "      <td>0.0</td>\n",
       "      <td>0.0</td>\n",
       "    </tr>\n",
       "  </tbody>\n",
       "</table>\n",
       "</div>"
      ],
      "text/plain": [
       "   t_id      tipo               tiempo     monto    cl_origen   cl_destino  \\\n",
       "0     0   PAYMENT  2022-09-01 07:00:00   9839.64  C1231006815  M1979787155   \n",
       "1     1   PAYMENT  2022-09-01 07:00:00   1864.28  C1666544295  M2044282225   \n",
       "2     2  TRANSFER  2022-09-01 07:00:00    181.00  C1305486145   C553264065   \n",
       "3     3  CASH_OUT  2022-09-01 07:00:00    181.00   C840083671    C38997010   \n",
       "4     4   PAYMENT  2022-09-01 07:00:00  11668.14  C2048537720  M1230701703   \n",
       "\n",
       "   es_fraude mensaje_alarma  balance_prev_or  balance_post_or  \\\n",
       "0          0             No         170136.0        160296.36   \n",
       "1          0             No          21249.0         19384.72   \n",
       "2          1             No            181.0             0.00   \n",
       "3          1             No            181.0             0.00   \n",
       "4          0             No          41554.0         29885.86   \n",
       "\n",
       "   balance_prev_des  balance_post_des  \n",
       "0               0.0               0.0  \n",
       "1               0.0               0.0  \n",
       "2               0.0               0.0  \n",
       "3           21182.0               0.0  \n",
       "4               0.0               0.0  "
      ]
     },
     "execution_count": 5,
     "metadata": {},
     "output_type": "execute_result"
    }
   ],
   "source": [
    "dec_fraude.head(5)"
   ]
  },
  {
   "cell_type": "code",
   "execution_count": 6,
   "id": "06d8698f",
   "metadata": {},
   "outputs": [],
   "source": [
    "dec_fraude['tiempo'] = pd.to_datetime(dec_fraude['tiempo'])"
   ]
  },
  {
   "cell_type": "code",
   "execution_count": 7,
   "id": "b5172a90",
   "metadata": {},
   "outputs": [],
   "source": [
    "dec_fraude['hora']=dec_fraude['tiempo'].dt.hour"
   ]
  },
  {
   "cell_type": "code",
   "execution_count": 8,
   "id": "4b0fc8c6",
   "metadata": {},
   "outputs": [
    {
     "data": {
      "text/plain": [
       "t_id                         int64\n",
       "tipo                        object\n",
       "tiempo              datetime64[ns]\n",
       "monto                      float64\n",
       "cl_origen                   object\n",
       "cl_destino                  object\n",
       "es_fraude                    int64\n",
       "mensaje_alarma              object\n",
       "balance_prev_or            float64\n",
       "balance_post_or            float64\n",
       "balance_prev_des           float64\n",
       "balance_post_des           float64\n",
       "hora                         int64\n",
       "dtype: object"
      ]
     },
     "execution_count": 8,
     "metadata": {},
     "output_type": "execute_result"
    }
   ],
   "source": [
    "dec_fraude.dtypes"
   ]
  },
  {
   "cell_type": "code",
   "execution_count": 6,
   "id": "032bcc78",
   "metadata": {},
   "outputs": [],
   "source": [
    "# VAMOS A CREAR EL DATAFRAME PARA ENTRENAR NUESTROS MODELOS"
   ]
  },
  {
   "cell_type": "code",
   "execution_count": 9,
   "id": "d46768e6",
   "metadata": {
    "scrolled": true
   },
   "outputs": [
    {
     "data": {
      "text/html": [
       "<div>\n",
       "<style scoped>\n",
       "    .dataframe tbody tr th:only-of-type {\n",
       "        vertical-align: middle;\n",
       "    }\n",
       "\n",
       "    .dataframe tbody tr th {\n",
       "        vertical-align: top;\n",
       "    }\n",
       "\n",
       "    .dataframe thead th {\n",
       "        text-align: right;\n",
       "    }\n",
       "</style>\n",
       "<table border=\"1\" class=\"dataframe\">\n",
       "  <thead>\n",
       "    <tr style=\"text-align: right;\">\n",
       "      <th></th>\n",
       "      <th>t_id</th>\n",
       "      <th>tipo</th>\n",
       "      <th>tiempo</th>\n",
       "      <th>monto</th>\n",
       "      <th>cl_origen</th>\n",
       "      <th>cl_destino</th>\n",
       "      <th>es_fraude</th>\n",
       "      <th>mensaje_alarma</th>\n",
       "      <th>balance_prev_or</th>\n",
       "      <th>balance_post_or</th>\n",
       "      <th>balance_prev_des</th>\n",
       "      <th>balance_post_des</th>\n",
       "      <th>hora</th>\n",
       "    </tr>\n",
       "  </thead>\n",
       "  <tbody>\n",
       "    <tr>\n",
       "      <th>0</th>\n",
       "      <td>0</td>\n",
       "      <td>PAYMENT</td>\n",
       "      <td>2022-09-01 07:00:00</td>\n",
       "      <td>9839.64</td>\n",
       "      <td>C1231006815</td>\n",
       "      <td>M1979787155</td>\n",
       "      <td>0</td>\n",
       "      <td>No</td>\n",
       "      <td>170136.0</td>\n",
       "      <td>160296.36</td>\n",
       "      <td>0.0</td>\n",
       "      <td>0.0</td>\n",
       "      <td>7</td>\n",
       "    </tr>\n",
       "    <tr>\n",
       "      <th>1</th>\n",
       "      <td>1</td>\n",
       "      <td>PAYMENT</td>\n",
       "      <td>2022-09-01 07:00:00</td>\n",
       "      <td>1864.28</td>\n",
       "      <td>C1666544295</td>\n",
       "      <td>M2044282225</td>\n",
       "      <td>0</td>\n",
       "      <td>No</td>\n",
       "      <td>21249.0</td>\n",
       "      <td>19384.72</td>\n",
       "      <td>0.0</td>\n",
       "      <td>0.0</td>\n",
       "      <td>7</td>\n",
       "    </tr>\n",
       "    <tr>\n",
       "      <th>2</th>\n",
       "      <td>2</td>\n",
       "      <td>TRANSFER</td>\n",
       "      <td>2022-09-01 07:00:00</td>\n",
       "      <td>181.00</td>\n",
       "      <td>C1305486145</td>\n",
       "      <td>C553264065</td>\n",
       "      <td>1</td>\n",
       "      <td>No</td>\n",
       "      <td>181.0</td>\n",
       "      <td>0.00</td>\n",
       "      <td>0.0</td>\n",
       "      <td>0.0</td>\n",
       "      <td>7</td>\n",
       "    </tr>\n",
       "    <tr>\n",
       "      <th>3</th>\n",
       "      <td>3</td>\n",
       "      <td>CASH_OUT</td>\n",
       "      <td>2022-09-01 07:00:00</td>\n",
       "      <td>181.00</td>\n",
       "      <td>C840083671</td>\n",
       "      <td>C38997010</td>\n",
       "      <td>1</td>\n",
       "      <td>No</td>\n",
       "      <td>181.0</td>\n",
       "      <td>0.00</td>\n",
       "      <td>21182.0</td>\n",
       "      <td>0.0</td>\n",
       "      <td>7</td>\n",
       "    </tr>\n",
       "    <tr>\n",
       "      <th>4</th>\n",
       "      <td>4</td>\n",
       "      <td>PAYMENT</td>\n",
       "      <td>2022-09-01 07:00:00</td>\n",
       "      <td>11668.14</td>\n",
       "      <td>C2048537720</td>\n",
       "      <td>M1230701703</td>\n",
       "      <td>0</td>\n",
       "      <td>No</td>\n",
       "      <td>41554.0</td>\n",
       "      <td>29885.86</td>\n",
       "      <td>0.0</td>\n",
       "      <td>0.0</td>\n",
       "      <td>7</td>\n",
       "    </tr>\n",
       "  </tbody>\n",
       "</table>\n",
       "</div>"
      ],
      "text/plain": [
       "   t_id      tipo              tiempo     monto    cl_origen   cl_destino  \\\n",
       "0     0   PAYMENT 2022-09-01 07:00:00   9839.64  C1231006815  M1979787155   \n",
       "1     1   PAYMENT 2022-09-01 07:00:00   1864.28  C1666544295  M2044282225   \n",
       "2     2  TRANSFER 2022-09-01 07:00:00    181.00  C1305486145   C553264065   \n",
       "3     3  CASH_OUT 2022-09-01 07:00:00    181.00   C840083671    C38997010   \n",
       "4     4   PAYMENT 2022-09-01 07:00:00  11668.14  C2048537720  M1230701703   \n",
       "\n",
       "   es_fraude mensaje_alarma  balance_prev_or  balance_post_or  \\\n",
       "0          0             No         170136.0        160296.36   \n",
       "1          0             No          21249.0         19384.72   \n",
       "2          1             No            181.0             0.00   \n",
       "3          1             No            181.0             0.00   \n",
       "4          0             No          41554.0         29885.86   \n",
       "\n",
       "   balance_prev_des  balance_post_des  hora  \n",
       "0               0.0               0.0     7  \n",
       "1               0.0               0.0     7  \n",
       "2               0.0               0.0     7  \n",
       "3           21182.0               0.0     7  \n",
       "4               0.0               0.0     7  "
      ]
     },
     "execution_count": 9,
     "metadata": {},
     "output_type": "execute_result"
    }
   ],
   "source": [
    "dec_fraude.head()"
   ]
  },
  {
   "cell_type": "code",
   "execution_count": 10,
   "id": "24ecaa98",
   "metadata": {},
   "outputs": [],
   "source": [
    "dec_fraude.drop('tiempo', axis=1, inplace=True)"
   ]
  },
  {
   "cell_type": "code",
   "execution_count": 11,
   "id": "7952d7dd",
   "metadata": {},
   "outputs": [
    {
     "data": {
      "text/plain": [
       "array(['PAYMENT', 'TRANSFER', 'CASH_OUT', 'DEBIT', 'CASH_IN'],\n",
       "      dtype=object)"
      ]
     },
     "execution_count": 11,
     "metadata": {},
     "output_type": "execute_result"
    }
   ],
   "source": [
    "dec_fraude['tipo'].unique()"
   ]
  },
  {
   "cell_type": "code",
   "execution_count": 12,
   "id": "d3fd0a6b",
   "metadata": {},
   "outputs": [
    {
     "data": {
      "text/plain": [
       "(6362520, 12)"
      ]
     },
     "execution_count": 12,
     "metadata": {},
     "output_type": "execute_result"
    }
   ],
   "source": [
    "dec_fraude.shape"
   ]
  },
  {
   "cell_type": "code",
   "execution_count": 13,
   "id": "9099bd8c",
   "metadata": {},
   "outputs": [],
   "source": [
    "dec_fraude_tc = dec_fraude.loc[(dec_fraude['tipo'] == 'TRANSFER') | (dec_fraude['tipo'] == 'CASH_OUT')].copy()"
   ]
  },
  {
   "cell_type": "code",
   "execution_count": 14,
   "id": "846c355c",
   "metadata": {},
   "outputs": [],
   "source": [
    "dec_fraude_tc.reset_index(drop=True,inplace=True)"
   ]
  },
  {
   "cell_type": "code",
   "execution_count": 16,
   "id": "09e05dcc",
   "metadata": {},
   "outputs": [
    {
     "data": {
      "text/html": [
       "<div>\n",
       "<style scoped>\n",
       "    .dataframe tbody tr th:only-of-type {\n",
       "        vertical-align: middle;\n",
       "    }\n",
       "\n",
       "    .dataframe tbody tr th {\n",
       "        vertical-align: top;\n",
       "    }\n",
       "\n",
       "    .dataframe thead th {\n",
       "        text-align: right;\n",
       "    }\n",
       "</style>\n",
       "<table border=\"1\" class=\"dataframe\">\n",
       "  <thead>\n",
       "    <tr style=\"text-align: right;\">\n",
       "      <th></th>\n",
       "      <th>t_id</th>\n",
       "      <th>tipo</th>\n",
       "      <th>monto</th>\n",
       "      <th>cl_origen</th>\n",
       "      <th>cl_destino</th>\n",
       "      <th>es_fraude</th>\n",
       "      <th>mensaje_alarma</th>\n",
       "      <th>balance_prev_or</th>\n",
       "      <th>balance_post_or</th>\n",
       "      <th>balance_prev_des</th>\n",
       "      <th>balance_post_des</th>\n",
       "      <th>hora</th>\n",
       "    </tr>\n",
       "  </thead>\n",
       "  <tbody>\n",
       "    <tr>\n",
       "      <th>0</th>\n",
       "      <td>2</td>\n",
       "      <td>TRANSFER</td>\n",
       "      <td>181.00</td>\n",
       "      <td>C1305486145</td>\n",
       "      <td>C553264065</td>\n",
       "      <td>1</td>\n",
       "      <td>No</td>\n",
       "      <td>181.0</td>\n",
       "      <td>0.0</td>\n",
       "      <td>0.0</td>\n",
       "      <td>0.00</td>\n",
       "      <td>7</td>\n",
       "    </tr>\n",
       "    <tr>\n",
       "      <th>1</th>\n",
       "      <td>3</td>\n",
       "      <td>CASH_OUT</td>\n",
       "      <td>181.00</td>\n",
       "      <td>C840083671</td>\n",
       "      <td>C38997010</td>\n",
       "      <td>1</td>\n",
       "      <td>No</td>\n",
       "      <td>181.0</td>\n",
       "      <td>0.0</td>\n",
       "      <td>21182.0</td>\n",
       "      <td>0.00</td>\n",
       "      <td>7</td>\n",
       "    </tr>\n",
       "    <tr>\n",
       "      <th>2</th>\n",
       "      <td>15</td>\n",
       "      <td>CASH_OUT</td>\n",
       "      <td>229133.94</td>\n",
       "      <td>C905080434</td>\n",
       "      <td>C476402209</td>\n",
       "      <td>0</td>\n",
       "      <td>No</td>\n",
       "      <td>15325.0</td>\n",
       "      <td>0.0</td>\n",
       "      <td>5083.0</td>\n",
       "      <td>51513.44</td>\n",
       "      <td>7</td>\n",
       "    </tr>\n",
       "    <tr>\n",
       "      <th>3</th>\n",
       "      <td>19</td>\n",
       "      <td>TRANSFER</td>\n",
       "      <td>215310.30</td>\n",
       "      <td>C1670993182</td>\n",
       "      <td>C1100439041</td>\n",
       "      <td>0</td>\n",
       "      <td>No</td>\n",
       "      <td>705.0</td>\n",
       "      <td>0.0</td>\n",
       "      <td>22425.0</td>\n",
       "      <td>0.00</td>\n",
       "      <td>7</td>\n",
       "    </tr>\n",
       "    <tr>\n",
       "      <th>4</th>\n",
       "      <td>24</td>\n",
       "      <td>TRANSFER</td>\n",
       "      <td>311685.89</td>\n",
       "      <td>C1984094095</td>\n",
       "      <td>C932583850</td>\n",
       "      <td>0</td>\n",
       "      <td>No</td>\n",
       "      <td>10835.0</td>\n",
       "      <td>0.0</td>\n",
       "      <td>6267.0</td>\n",
       "      <td>2719172.89</td>\n",
       "      <td>7</td>\n",
       "    </tr>\n",
       "  </tbody>\n",
       "</table>\n",
       "</div>"
      ],
      "text/plain": [
       "   t_id      tipo      monto    cl_origen   cl_destino  es_fraude  \\\n",
       "0     2  TRANSFER     181.00  C1305486145   C553264065          1   \n",
       "1     3  CASH_OUT     181.00   C840083671    C38997010          1   \n",
       "2    15  CASH_OUT  229133.94   C905080434   C476402209          0   \n",
       "3    19  TRANSFER  215310.30  C1670993182  C1100439041          0   \n",
       "4    24  TRANSFER  311685.89  C1984094095   C932583850          0   \n",
       "\n",
       "  mensaje_alarma  balance_prev_or  balance_post_or  balance_prev_des  \\\n",
       "0             No            181.0              0.0               0.0   \n",
       "1             No            181.0              0.0           21182.0   \n",
       "2             No          15325.0              0.0            5083.0   \n",
       "3             No            705.0              0.0           22425.0   \n",
       "4             No          10835.0              0.0            6267.0   \n",
       "\n",
       "   balance_post_des  hora  \n",
       "0              0.00     7  \n",
       "1              0.00     7  \n",
       "2          51513.44     7  \n",
       "3              0.00     7  \n",
       "4        2719172.89     7  "
      ]
     },
     "execution_count": 16,
     "metadata": {},
     "output_type": "execute_result"
    }
   ],
   "source": [
    "dec_fraude_tc.head()"
   ]
  },
  {
   "cell_type": "code",
   "execution_count": 17,
   "id": "61428335",
   "metadata": {},
   "outputs": [
    {
     "data": {
      "text/plain": [
       "array(['TRANSFER', 'CASH_OUT'], dtype=object)"
      ]
     },
     "execution_count": 17,
     "metadata": {},
     "output_type": "execute_result"
    }
   ],
   "source": [
    "dec_fraude_tc['tipo'].unique()"
   ]
  },
  {
   "cell_type": "code",
   "execution_count": 18,
   "id": "7653bb6d",
   "metadata": {},
   "outputs": [
    {
     "data": {
      "text/plain": [
       "(2770360, 12)"
      ]
     },
     "execution_count": 18,
     "metadata": {},
     "output_type": "execute_result"
    }
   ],
   "source": [
    "dec_fraude_tc.shape"
   ]
  },
  {
   "cell_type": "code",
   "execution_count": 19,
   "id": "44620a33",
   "metadata": {},
   "outputs": [],
   "source": [
    "from sklearn.preprocessing import LabelBinarizer\n",
    "\n",
    "lb = LabelBinarizer()\n",
    "dec_fraude_tc['tipo_binario'] = lb.fit_transform(dec_fraude_tc['tipo'])"
   ]
  },
  {
   "cell_type": "code",
   "execution_count": 20,
   "id": "82c3096c",
   "metadata": {},
   "outputs": [],
   "source": [
    "dec_fraude_tc.drop('tipo', axis=1, inplace=True)"
   ]
  },
  {
   "cell_type": "code",
   "execution_count": 21,
   "id": "b32d0fc9",
   "metadata": {},
   "outputs": [],
   "source": [
    "dec_fraude_tc.drop('t_id', axis=1, inplace=True)"
   ]
  },
  {
   "cell_type": "code",
   "execution_count": 22,
   "id": "737168b4",
   "metadata": {},
   "outputs": [],
   "source": [
    "dec_fraude_tc.drop('cl_origen', axis=1, inplace=True)"
   ]
  },
  {
   "cell_type": "code",
   "execution_count": 23,
   "id": "402ec66c",
   "metadata": {},
   "outputs": [],
   "source": [
    "dec_fraude_tc.drop('cl_destino', axis=1, inplace=True)"
   ]
  },
  {
   "cell_type": "code",
   "execution_count": 24,
   "id": "7c5102af",
   "metadata": {},
   "outputs": [],
   "source": [
    "dec_fraude_tc.drop('mensaje_alarma', axis=1, inplace=True)"
   ]
  },
  {
   "cell_type": "code",
   "execution_count": 27,
   "id": "0df9d73f",
   "metadata": {},
   "outputs": [],
   "source": [
    "dec_fraude_tc.drop('balance_post_or', axis=1, inplace=True)"
   ]
  },
  {
   "cell_type": "code",
   "execution_count": 28,
   "id": "37460370",
   "metadata": {},
   "outputs": [],
   "source": [
    "dec_fraude_tc.drop('balance_post_des', axis=1, inplace=True)"
   ]
  },
  {
   "cell_type": "code",
   "execution_count": 29,
   "id": "baa84018",
   "metadata": {},
   "outputs": [
    {
     "data": {
      "text/html": [
       "<div>\n",
       "<style scoped>\n",
       "    .dataframe tbody tr th:only-of-type {\n",
       "        vertical-align: middle;\n",
       "    }\n",
       "\n",
       "    .dataframe tbody tr th {\n",
       "        vertical-align: top;\n",
       "    }\n",
       "\n",
       "    .dataframe thead th {\n",
       "        text-align: right;\n",
       "    }\n",
       "</style>\n",
       "<table border=\"1\" class=\"dataframe\">\n",
       "  <thead>\n",
       "    <tr style=\"text-align: right;\">\n",
       "      <th></th>\n",
       "      <th>monto</th>\n",
       "      <th>es_fraude</th>\n",
       "      <th>balance_prev_or</th>\n",
       "      <th>balance_prev_des</th>\n",
       "      <th>hora</th>\n",
       "      <th>tipo_binario</th>\n",
       "    </tr>\n",
       "  </thead>\n",
       "  <tbody>\n",
       "    <tr>\n",
       "      <th>0</th>\n",
       "      <td>181.00</td>\n",
       "      <td>1</td>\n",
       "      <td>181.00</td>\n",
       "      <td>0.0</td>\n",
       "      <td>7</td>\n",
       "      <td>1</td>\n",
       "    </tr>\n",
       "    <tr>\n",
       "      <th>1</th>\n",
       "      <td>181.00</td>\n",
       "      <td>1</td>\n",
       "      <td>181.00</td>\n",
       "      <td>21182.0</td>\n",
       "      <td>7</td>\n",
       "      <td>0</td>\n",
       "    </tr>\n",
       "    <tr>\n",
       "      <th>2</th>\n",
       "      <td>229133.94</td>\n",
       "      <td>0</td>\n",
       "      <td>15325.00</td>\n",
       "      <td>5083.0</td>\n",
       "      <td>7</td>\n",
       "      <td>0</td>\n",
       "    </tr>\n",
       "    <tr>\n",
       "      <th>3</th>\n",
       "      <td>215310.30</td>\n",
       "      <td>0</td>\n",
       "      <td>705.00</td>\n",
       "      <td>22425.0</td>\n",
       "      <td>7</td>\n",
       "      <td>1</td>\n",
       "    </tr>\n",
       "    <tr>\n",
       "      <th>4</th>\n",
       "      <td>311685.89</td>\n",
       "      <td>0</td>\n",
       "      <td>10835.00</td>\n",
       "      <td>6267.0</td>\n",
       "      <td>7</td>\n",
       "      <td>1</td>\n",
       "    </tr>\n",
       "    <tr>\n",
       "      <th>5</th>\n",
       "      <td>110414.71</td>\n",
       "      <td>0</td>\n",
       "      <td>26845.41</td>\n",
       "      <td>288800.0</td>\n",
       "      <td>7</td>\n",
       "      <td>0</td>\n",
       "    </tr>\n",
       "    <tr>\n",
       "      <th>6</th>\n",
       "      <td>56953.90</td>\n",
       "      <td>0</td>\n",
       "      <td>1942.02</td>\n",
       "      <td>70253.0</td>\n",
       "      <td>7</td>\n",
       "      <td>0</td>\n",
       "    </tr>\n",
       "    <tr>\n",
       "      <th>7</th>\n",
       "      <td>5346.89</td>\n",
       "      <td>0</td>\n",
       "      <td>0.00</td>\n",
       "      <td>652637.0</td>\n",
       "      <td>7</td>\n",
       "      <td>0</td>\n",
       "    </tr>\n",
       "  </tbody>\n",
       "</table>\n",
       "</div>"
      ],
      "text/plain": [
       "       monto  es_fraude  balance_prev_or  balance_prev_des  hora  tipo_binario\n",
       "0     181.00          1           181.00               0.0     7             1\n",
       "1     181.00          1           181.00           21182.0     7             0\n",
       "2  229133.94          0         15325.00            5083.0     7             0\n",
       "3  215310.30          0           705.00           22425.0     7             1\n",
       "4  311685.89          0         10835.00            6267.0     7             1\n",
       "5  110414.71          0         26845.41          288800.0     7             0\n",
       "6   56953.90          0          1942.02           70253.0     7             0\n",
       "7    5346.89          0             0.00          652637.0     7             0"
      ]
     },
     "execution_count": 29,
     "metadata": {},
     "output_type": "execute_result"
    }
   ],
   "source": [
    "dec_fraude_tc.head(8)"
   ]
  },
  {
   "cell_type": "code",
   "execution_count": 33,
   "id": "fb611816",
   "metadata": {},
   "outputs": [],
   "source": [
    "dec_fraude_tc.to_csv('C:/Users/maria/OneDrive/Escritorio/pontia/Proyecto/Definitivo/DDF.csv', sep= '|', index=False)"
   ]
  }
 ],
 "metadata": {
  "kernelspec": {
   "display_name": "Python 3 (ipykernel)",
   "language": "python",
   "name": "python3"
  },
  "language_info": {
   "codemirror_mode": {
    "name": "ipython",
    "version": 3
   },
   "file_extension": ".py",
   "mimetype": "text/x-python",
   "name": "python",
   "nbconvert_exporter": "python",
   "pygments_lexer": "ipython3",
   "version": "3.10.9"
  }
 },
 "nbformat": 4,
 "nbformat_minor": 5
}
