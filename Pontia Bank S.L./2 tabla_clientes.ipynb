{
 "cells": [
  {
   "cell_type": "code",
   "execution_count": 1,
   "id": "b569fe06",
   "metadata": {},
   "outputs": [],
   "source": [
    "import json\n",
    "import pandas as pd\n",
    "with open(\"C:/Users/Pc/Desktop/Máster/Data Science (Pontia)/Proyecto Jupyter/Data/clientes.json\") as f:\n",
    "    clientes=json.load(f)"
   ]
  },
  {
   "cell_type": "code",
   "execution_count": 2,
   "id": "b45e8902",
   "metadata": {},
   "outputs": [],
   "source": [
    "lista_clientes=[]\n",
    "for t_id, datos in clientes.items():\n",
    "    cliente = {\n",
    "        't_id': t_id,\n",
    "        'origen': datos['origen'],\n",
    "        'destino': datos['destino']\n",
    "    }\n",
    "    lista_clientes.append(cliente)"
   ]
  },
  {
   "cell_type": "code",
   "execution_count": 9,
   "id": "881479d4",
   "metadata": {},
   "outputs": [],
   "source": [
    "clientes=pd.DataFrame(lista_clientes)"
   ]
  },
  {
   "cell_type": "code",
   "execution_count": 10,
   "id": "9e253e96",
   "metadata": {},
   "outputs": [
    {
     "data": {
      "text/html": [
       "<div>\n",
       "<style scoped>\n",
       "    .dataframe tbody tr th:only-of-type {\n",
       "        vertical-align: middle;\n",
       "    }\n",
       "\n",
       "    .dataframe tbody tr th {\n",
       "        vertical-align: top;\n",
       "    }\n",
       "\n",
       "    .dataframe thead th {\n",
       "        text-align: right;\n",
       "    }\n",
       "</style>\n",
       "<table border=\"1\" class=\"dataframe\">\n",
       "  <thead>\n",
       "    <tr style=\"text-align: right;\">\n",
       "      <th></th>\n",
       "      <th>t_id</th>\n",
       "      <th>origen</th>\n",
       "      <th>destino</th>\n",
       "    </tr>\n",
       "  </thead>\n",
       "  <tbody>\n",
       "    <tr>\n",
       "      <th>0</th>\n",
       "      <td>0</td>\n",
       "      <td>C1231006815</td>\n",
       "      <td>M1979787155</td>\n",
       "    </tr>\n",
       "    <tr>\n",
       "      <th>1</th>\n",
       "      <td>1</td>\n",
       "      <td>C1666544295</td>\n",
       "      <td>M2044282225</td>\n",
       "    </tr>\n",
       "    <tr>\n",
       "      <th>2</th>\n",
       "      <td>2</td>\n",
       "      <td>C1305486145</td>\n",
       "      <td>C553264065</td>\n",
       "    </tr>\n",
       "    <tr>\n",
       "      <th>3</th>\n",
       "      <td>3</td>\n",
       "      <td>C840083671</td>\n",
       "      <td>C38997010</td>\n",
       "    </tr>\n",
       "    <tr>\n",
       "      <th>4</th>\n",
       "      <td>4</td>\n",
       "      <td>C2048537720</td>\n",
       "      <td>M1230701703</td>\n",
       "    </tr>\n",
       "    <tr>\n",
       "      <th>5</th>\n",
       "      <td>5</td>\n",
       "      <td>C90045638</td>\n",
       "      <td>M573487274</td>\n",
       "    </tr>\n",
       "    <tr>\n",
       "      <th>6</th>\n",
       "      <td>6</td>\n",
       "      <td>C154988899</td>\n",
       "      <td>M408069119</td>\n",
       "    </tr>\n",
       "    <tr>\n",
       "      <th>7</th>\n",
       "      <td>7</td>\n",
       "      <td>C1912850431</td>\n",
       "      <td>M633326333</td>\n",
       "    </tr>\n",
       "    <tr>\n",
       "      <th>8</th>\n",
       "      <td>8</td>\n",
       "      <td>C1265012928</td>\n",
       "      <td>M1176932104</td>\n",
       "    </tr>\n",
       "    <tr>\n",
       "      <th>9</th>\n",
       "      <td>9</td>\n",
       "      <td>C712410124</td>\n",
       "      <td>C195600860</td>\n",
       "    </tr>\n",
       "  </tbody>\n",
       "</table>\n",
       "</div>"
      ],
      "text/plain": [
       "  t_id       origen      destino\n",
       "0    0  C1231006815  M1979787155\n",
       "1    1  C1666544295  M2044282225\n",
       "2    2  C1305486145   C553264065\n",
       "3    3   C840083671    C38997010\n",
       "4    4  C2048537720  M1230701703\n",
       "5    5    C90045638   M573487274\n",
       "6    6   C154988899   M408069119\n",
       "7    7  C1912850431   M633326333\n",
       "8    8  C1265012928  M1176932104\n",
       "9    9   C712410124   C195600860"
      ]
     },
     "execution_count": 10,
     "metadata": {},
     "output_type": "execute_result"
    }
   ],
   "source": [
    "clientes.head(10)"
   ]
  },
  {
   "cell_type": "code",
   "execution_count": 11,
   "id": "9ec669bc",
   "metadata": {},
   "outputs": [],
   "source": [
    "clientes['t_id'] = clientes['t_id'].astype(int)\n",
    "clientes['origen'] = clientes['origen'].astype('string')\n",
    "clientes['destino'] = clientes['destino'].astype('string')"
   ]
  },
  {
   "cell_type": "code",
   "execution_count": 12,
   "id": "b5f721db",
   "metadata": {},
   "outputs": [
    {
     "data": {
      "text/plain": [
       "t_id        int32\n",
       "origen     string\n",
       "destino    string\n",
       "dtype: object"
      ]
     },
     "execution_count": 12,
     "metadata": {},
     "output_type": "execute_result"
    }
   ],
   "source": [
    "clientes.dtypes"
   ]
  },
  {
   "cell_type": "code",
   "execution_count": 13,
   "id": "1dac1d84",
   "metadata": {},
   "outputs": [],
   "source": [
    "clientes= clientes.rename(columns={'origen': 'cl_origen','destino':'cl_destino'})"
   ]
  },
  {
   "cell_type": "code",
   "execution_count": 14,
   "id": "d8918e79",
   "metadata": {
    "scrolled": false
   },
   "outputs": [
    {
     "data": {
      "text/html": [
       "<div>\n",
       "<style scoped>\n",
       "    .dataframe tbody tr th:only-of-type {\n",
       "        vertical-align: middle;\n",
       "    }\n",
       "\n",
       "    .dataframe tbody tr th {\n",
       "        vertical-align: top;\n",
       "    }\n",
       "\n",
       "    .dataframe thead th {\n",
       "        text-align: right;\n",
       "    }\n",
       "</style>\n",
       "<table border=\"1\" class=\"dataframe\">\n",
       "  <thead>\n",
       "    <tr style=\"text-align: right;\">\n",
       "      <th></th>\n",
       "      <th>t_id</th>\n",
       "      <th>cl_origen</th>\n",
       "      <th>cl_destino</th>\n",
       "    </tr>\n",
       "  </thead>\n",
       "  <tbody>\n",
       "    <tr>\n",
       "      <th>0</th>\n",
       "      <td>0</td>\n",
       "      <td>C1231006815</td>\n",
       "      <td>M1979787155</td>\n",
       "    </tr>\n",
       "    <tr>\n",
       "      <th>1</th>\n",
       "      <td>1</td>\n",
       "      <td>C1666544295</td>\n",
       "      <td>M2044282225</td>\n",
       "    </tr>\n",
       "    <tr>\n",
       "      <th>2</th>\n",
       "      <td>2</td>\n",
       "      <td>C1305486145</td>\n",
       "      <td>C553264065</td>\n",
       "    </tr>\n",
       "    <tr>\n",
       "      <th>3</th>\n",
       "      <td>3</td>\n",
       "      <td>C840083671</td>\n",
       "      <td>C38997010</td>\n",
       "    </tr>\n",
       "    <tr>\n",
       "      <th>4</th>\n",
       "      <td>4</td>\n",
       "      <td>C2048537720</td>\n",
       "      <td>M1230701703</td>\n",
       "    </tr>\n",
       "    <tr>\n",
       "      <th>5</th>\n",
       "      <td>5</td>\n",
       "      <td>C90045638</td>\n",
       "      <td>M573487274</td>\n",
       "    </tr>\n",
       "    <tr>\n",
       "      <th>6</th>\n",
       "      <td>6</td>\n",
       "      <td>C154988899</td>\n",
       "      <td>M408069119</td>\n",
       "    </tr>\n",
       "    <tr>\n",
       "      <th>7</th>\n",
       "      <td>7</td>\n",
       "      <td>C1912850431</td>\n",
       "      <td>M633326333</td>\n",
       "    </tr>\n",
       "    <tr>\n",
       "      <th>8</th>\n",
       "      <td>8</td>\n",
       "      <td>C1265012928</td>\n",
       "      <td>M1176932104</td>\n",
       "    </tr>\n",
       "    <tr>\n",
       "      <th>9</th>\n",
       "      <td>9</td>\n",
       "      <td>C712410124</td>\n",
       "      <td>C195600860</td>\n",
       "    </tr>\n",
       "  </tbody>\n",
       "</table>\n",
       "</div>"
      ],
      "text/plain": [
       "   t_id    cl_origen   cl_destino\n",
       "0     0  C1231006815  M1979787155\n",
       "1     1  C1666544295  M2044282225\n",
       "2     2  C1305486145   C553264065\n",
       "3     3   C840083671    C38997010\n",
       "4     4  C2048537720  M1230701703\n",
       "5     5    C90045638   M573487274\n",
       "6     6   C154988899   M408069119\n",
       "7     7  C1912850431   M633326333\n",
       "8     8  C1265012928  M1176932104\n",
       "9     9   C712410124   C195600860"
      ]
     },
     "execution_count": 14,
     "metadata": {},
     "output_type": "execute_result"
    }
   ],
   "source": [
    "clientes.head(10)"
   ]
  },
  {
   "cell_type": "code",
   "execution_count": 15,
   "id": "b09c2d43",
   "metadata": {},
   "outputs": [
    {
     "data": {
      "text/html": [
       "<div>\n",
       "<style scoped>\n",
       "    .dataframe tbody tr th:only-of-type {\n",
       "        vertical-align: middle;\n",
       "    }\n",
       "\n",
       "    .dataframe tbody tr th {\n",
       "        vertical-align: top;\n",
       "    }\n",
       "\n",
       "    .dataframe thead th {\n",
       "        text-align: right;\n",
       "    }\n",
       "</style>\n",
       "<table border=\"1\" class=\"dataframe\">\n",
       "  <thead>\n",
       "    <tr style=\"text-align: right;\">\n",
       "      <th></th>\n",
       "      <th>t_id</th>\n",
       "      <th>cl_origen</th>\n",
       "      <th>cl_destino</th>\n",
       "    </tr>\n",
       "  </thead>\n",
       "  <tbody>\n",
       "    <tr>\n",
       "      <th>6362615</th>\n",
       "      <td>6362615</td>\n",
       "      <td>C786484425</td>\n",
       "      <td>C776919290</td>\n",
       "    </tr>\n",
       "    <tr>\n",
       "      <th>6362616</th>\n",
       "      <td>6362616</td>\n",
       "      <td>C1529008245</td>\n",
       "      <td>C1881841831</td>\n",
       "    </tr>\n",
       "    <tr>\n",
       "      <th>6362617</th>\n",
       "      <td>6362617</td>\n",
       "      <td>C1162922333</td>\n",
       "      <td>C1365125890</td>\n",
       "    </tr>\n",
       "    <tr>\n",
       "      <th>6362618</th>\n",
       "      <td>6362618</td>\n",
       "      <td>C1685995037</td>\n",
       "      <td>C2080388513</td>\n",
       "    </tr>\n",
       "    <tr>\n",
       "      <th>6362619</th>\n",
       "      <td>6362619</td>\n",
       "      <td>C1280323807</td>\n",
       "      <td>C873221189</td>\n",
       "    </tr>\n",
       "  </tbody>\n",
       "</table>\n",
       "</div>"
      ],
      "text/plain": [
       "            t_id    cl_origen   cl_destino\n",
       "6362615  6362615   C786484425   C776919290\n",
       "6362616  6362616  C1529008245  C1881841831\n",
       "6362617  6362617  C1162922333  C1365125890\n",
       "6362618  6362618  C1685995037  C2080388513\n",
       "6362619  6362619  C1280323807   C873221189"
      ]
     },
     "execution_count": 15,
     "metadata": {},
     "output_type": "execute_result"
    }
   ],
   "source": [
    "clientes.tail()"
   ]
  },
  {
   "cell_type": "code",
   "execution_count": 16,
   "id": "4af10f23",
   "metadata": {},
   "outputs": [
    {
     "name": "stdout",
     "output_type": "stream",
     "text": [
      "<class 'pandas.core.frame.DataFrame'>\n",
      "RangeIndex: 6362620 entries, 0 to 6362619\n",
      "Data columns (total 3 columns):\n",
      " #   Column      Dtype \n",
      "---  ------      ----- \n",
      " 0   t_id        int32 \n",
      " 1   cl_origen   string\n",
      " 2   cl_destino  string\n",
      "dtypes: int32(1), string(2)\n",
      "memory usage: 121.4 MB\n"
     ]
    }
   ],
   "source": [
    "clientes.info()"
   ]
  },
  {
   "cell_type": "code",
   "execution_count": 18,
   "id": "1304cb20",
   "metadata": {},
   "outputs": [
    {
     "data": {
      "text/plain": [
       "t_id          0\n",
       "cl_origen     0\n",
       "cl_destino    0\n",
       "dtype: int64"
      ]
     },
     "execution_count": 18,
     "metadata": {},
     "output_type": "execute_result"
    }
   ],
   "source": [
    "#missing values\n",
    "clientes.isna().sum()"
   ]
  },
  {
   "cell_type": "code",
   "execution_count": 19,
   "id": "b9a33756",
   "metadata": {},
   "outputs": [
    {
     "data": {
      "text/plain": [
       "t_id          0\n",
       "cl_origen     0\n",
       "cl_destino    0\n",
       "dtype: int64"
      ]
     },
     "execution_count": 19,
     "metadata": {},
     "output_type": "execute_result"
    }
   ],
   "source": [
    "#nulos\n",
    "clientes.isnull().sum()"
   ]
  },
  {
   "cell_type": "code",
   "execution_count": 20,
   "id": "d43ac043",
   "metadata": {},
   "outputs": [
    {
     "data": {
      "text/plain": [
       "0          1\n",
       "4241732    1\n",
       "4241754    1\n",
       "4241753    1\n",
       "4241752    1\n",
       "          ..\n",
       "2120869    1\n",
       "2120868    1\n",
       "2120867    1\n",
       "2120866    1\n",
       "6362619    1\n",
       "Name: t_id, Length: 6362620, dtype: int64"
      ]
     },
     "execution_count": 20,
     "metadata": {},
     "output_type": "execute_result"
    }
   ],
   "source": [
    "#Valores únicos\n",
    "clientes.t_id.value_counts()"
   ]
  },
  {
   "cell_type": "code",
   "execution_count": 21,
   "id": "b7c78ed4",
   "metadata": {},
   "outputs": [
    {
     "data": {
      "text/plain": [
       "C1902386530    3\n",
       "C2098525306    3\n",
       "C363736674     3\n",
       "C1530544995    3\n",
       "C1065307291    3\n",
       "              ..\n",
       "C2043347152    1\n",
       "C1317912992    1\n",
       "C1896823979    1\n",
       "C95254583      1\n",
       "C1280323807    1\n",
       "Name: cl_origen, Length: 6353307, dtype: Int64"
      ]
     },
     "execution_count": 21,
     "metadata": {},
     "output_type": "execute_result"
    }
   ],
   "source": [
    "clientes.cl_origen.value_counts()"
   ]
  },
  {
   "cell_type": "code",
   "execution_count": 22,
   "id": "0d0e0404",
   "metadata": {},
   "outputs": [
    {
     "data": {
      "text/plain": [
       "C1286084959    113\n",
       "C985934102     109\n",
       "C665576141     105\n",
       "C2083562754    102\n",
       "C248609774     101\n",
       "              ... \n",
       "M1474061848      1\n",
       "M127209230       1\n",
       "M523536771       1\n",
       "M1872872398      1\n",
       "C2080388513      1\n",
       "Name: cl_destino, Length: 2722362, dtype: Int64"
      ]
     },
     "execution_count": 22,
     "metadata": {},
     "output_type": "execute_result"
    }
   ],
   "source": [
    "clientes.cl_destino.value_counts()"
   ]
  },
  {
   "cell_type": "code",
   "execution_count": 9,
   "id": "f28a309c",
   "metadata": {},
   "outputs": [],
   "source": [
    "clientes.to_csv('C:/Users/Pc/Desktop/Máster/Data Science (Pontia)/Proyecto Jupyter/Csv/clientes.csv', index=False)"
   ]
  },
  {
   "cell_type": "code",
   "execution_count": null,
   "id": "8bb08b93",
   "metadata": {},
   "outputs": [],
   "source": []
  }
 ],
 "metadata": {
  "kernelspec": {
   "display_name": "Python 3 (ipykernel)",
   "language": "python",
   "name": "python3"
  },
  "language_info": {
   "codemirror_mode": {
    "name": "ipython",
    "version": 3
   },
   "file_extension": ".py",
   "mimetype": "text/x-python",
   "name": "python",
   "nbconvert_exporter": "python",
   "pygments_lexer": "ipython3",
   "version": "3.10.9"
  }
 },
 "nbformat": 4,
 "nbformat_minor": 5
}
