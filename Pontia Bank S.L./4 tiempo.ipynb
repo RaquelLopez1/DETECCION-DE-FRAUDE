{
 "cells": [
  {
   "cell_type": "code",
   "execution_count": 1,
   "id": "e8d0d45e",
   "metadata": {},
   "outputs": [],
   "source": [
    "import json\n",
    "import pandas as pd"
   ]
  },
  {
   "cell_type": "code",
   "execution_count": 2,
   "id": "194797b9",
   "metadata": {},
   "outputs": [],
   "source": [
    "with open(\"C:/Users/Pc/Desktop/Máster/Data Science (Pontia)/Proyecto Jupyter/Data/tiempo.json\") as f:\n",
    "    d=json.load(f)"
   ]
  },
  {
   "cell_type": "code",
   "execution_count": 3,
   "id": "2050420c",
   "metadata": {},
   "outputs": [],
   "source": [
    "data={'t_id':[], 'tiempo':[]}\n",
    "\n",
    "for clave in d:\n",
    "    for i in range(len(d[clave])):\n",
    "        data['tiempo'].append(clave)\n",
    "        data['t_id'].append(d[clave][i])"
   ]
  },
  {
   "cell_type": "code",
   "execution_count": 4,
   "id": "b1ff8c97",
   "metadata": {},
   "outputs": [
    {
     "data": {
      "text/html": [
       "<div>\n",
       "<style scoped>\n",
       "    .dataframe tbody tr th:only-of-type {\n",
       "        vertical-align: middle;\n",
       "    }\n",
       "\n",
       "    .dataframe tbody tr th {\n",
       "        vertical-align: top;\n",
       "    }\n",
       "\n",
       "    .dataframe thead th {\n",
       "        text-align: right;\n",
       "    }\n",
       "</style>\n",
       "<table border=\"1\" class=\"dataframe\">\n",
       "  <thead>\n",
       "    <tr style=\"text-align: right;\">\n",
       "      <th></th>\n",
       "      <th>t_id</th>\n",
       "      <th>tiempo</th>\n",
       "    </tr>\n",
       "  </thead>\n",
       "  <tbody>\n",
       "    <tr>\n",
       "      <th>0</th>\n",
       "      <td>0</td>\n",
       "      <td>1</td>\n",
       "    </tr>\n",
       "    <tr>\n",
       "      <th>1</th>\n",
       "      <td>1</td>\n",
       "      <td>1</td>\n",
       "    </tr>\n",
       "    <tr>\n",
       "      <th>2</th>\n",
       "      <td>2</td>\n",
       "      <td>1</td>\n",
       "    </tr>\n",
       "    <tr>\n",
       "      <th>3</th>\n",
       "      <td>3</td>\n",
       "      <td>1</td>\n",
       "    </tr>\n",
       "    <tr>\n",
       "      <th>4</th>\n",
       "      <td>4</td>\n",
       "      <td>1</td>\n",
       "    </tr>\n",
       "  </tbody>\n",
       "</table>\n",
       "</div>"
      ],
      "text/plain": [
       "   t_id tiempo\n",
       "0     0      1\n",
       "1     1      1\n",
       "2     2      1\n",
       "3     3      1\n",
       "4     4      1"
      ]
     },
     "execution_count": 4,
     "metadata": {},
     "output_type": "execute_result"
    }
   ],
   "source": [
    "df = pd.DataFrame(data)\n",
    "df.head()"
   ]
  },
  {
   "cell_type": "code",
   "execution_count": 5,
   "id": "f0ec078f",
   "metadata": {},
   "outputs": [
    {
     "data": {
      "text/html": [
       "<div>\n",
       "<style scoped>\n",
       "    .dataframe tbody tr th:only-of-type {\n",
       "        vertical-align: middle;\n",
       "    }\n",
       "\n",
       "    .dataframe tbody tr th {\n",
       "        vertical-align: top;\n",
       "    }\n",
       "\n",
       "    .dataframe thead th {\n",
       "        text-align: right;\n",
       "    }\n",
       "</style>\n",
       "<table border=\"1\" class=\"dataframe\">\n",
       "  <thead>\n",
       "    <tr style=\"text-align: right;\">\n",
       "      <th></th>\n",
       "      <th>t_id</th>\n",
       "      <th>tiempo</th>\n",
       "    </tr>\n",
       "  </thead>\n",
       "  <tbody>\n",
       "    <tr>\n",
       "      <th>6362615</th>\n",
       "      <td>6362615</td>\n",
       "      <td>743</td>\n",
       "    </tr>\n",
       "    <tr>\n",
       "      <th>6362616</th>\n",
       "      <td>6362616</td>\n",
       "      <td>743</td>\n",
       "    </tr>\n",
       "    <tr>\n",
       "      <th>6362617</th>\n",
       "      <td>6362617</td>\n",
       "      <td>743</td>\n",
       "    </tr>\n",
       "    <tr>\n",
       "      <th>6362618</th>\n",
       "      <td>6362618</td>\n",
       "      <td>743</td>\n",
       "    </tr>\n",
       "    <tr>\n",
       "      <th>6362619</th>\n",
       "      <td>6362619</td>\n",
       "      <td>743</td>\n",
       "    </tr>\n",
       "  </tbody>\n",
       "</table>\n",
       "</div>"
      ],
      "text/plain": [
       "            t_id tiempo\n",
       "6362615  6362615    743\n",
       "6362616  6362616    743\n",
       "6362617  6362617    743\n",
       "6362618  6362618    743\n",
       "6362619  6362619    743"
      ]
     },
     "execution_count": 5,
     "metadata": {},
     "output_type": "execute_result"
    }
   ],
   "source": [
    "df.tail()"
   ]
  },
  {
   "cell_type": "code",
   "execution_count": 6,
   "id": "2a94f153",
   "metadata": {},
   "outputs": [],
   "source": [
    "df['tiempo'] = df['tiempo'].astype(int)"
   ]
  },
  {
   "cell_type": "code",
   "execution_count": 7,
   "id": "a5d014b2",
   "metadata": {},
   "outputs": [
    {
     "data": {
      "text/plain": [
       "t_id      int64\n",
       "tiempo    int32\n",
       "dtype: object"
      ]
     },
     "execution_count": 7,
     "metadata": {},
     "output_type": "execute_result"
    }
   ],
   "source": [
    "df.dtypes"
   ]
  },
  {
   "cell_type": "code",
   "execution_count": 8,
   "id": "a8fd1f1b",
   "metadata": {},
   "outputs": [],
   "source": [
    "from datetime import datetime, timedelta\n",
    "start_date = datetime(2022, 9, 1, 7)\n",
    "dates=[]\n",
    "for i in range(1,744):\n",
    "    dates.append(start_date + timedelta(hours=i-1))\n",
    "date=pd.DataFrame(dates,columns=['fecha y hora'])\n",
    "date.index = [i+1 for i in range(len(date))]\n",
    "datefinal=date.reset_index()"
   ]
  },
  {
   "cell_type": "code",
   "execution_count": 9,
   "id": "0b0b205a",
   "metadata": {},
   "outputs": [
    {
     "data": {
      "text/plain": [
       "Index(['index', 'fecha y hora'], dtype='object')"
      ]
     },
     "execution_count": 9,
     "metadata": {},
     "output_type": "execute_result"
    }
   ],
   "source": [
    "datefinal.columns"
   ]
  },
  {
   "cell_type": "code",
   "execution_count": 10,
   "id": "af3865d7",
   "metadata": {},
   "outputs": [],
   "source": [
    "nuevo_dataframe = df.merge(datefinal,left_on='tiempo', right_on='index')"
   ]
  },
  {
   "cell_type": "code",
   "execution_count": 11,
   "id": "41ede441",
   "metadata": {},
   "outputs": [],
   "source": [
    "dfinal=nuevo_dataframe[['t_id', 'fecha y hora']]"
   ]
  },
  {
   "cell_type": "code",
   "execution_count": 12,
   "id": "6ff06398",
   "metadata": {},
   "outputs": [
    {
     "data": {
      "text/plain": [
       "t_id                     int64\n",
       "fecha y hora    datetime64[ns]\n",
       "dtype: object"
      ]
     },
     "execution_count": 12,
     "metadata": {},
     "output_type": "execute_result"
    }
   ],
   "source": [
    "dfinal.dtypes"
   ]
  },
  {
   "cell_type": "code",
   "execution_count": 13,
   "id": "34ddf446",
   "metadata": {},
   "outputs": [
    {
     "data": {
      "text/html": [
       "<div>\n",
       "<style scoped>\n",
       "    .dataframe tbody tr th:only-of-type {\n",
       "        vertical-align: middle;\n",
       "    }\n",
       "\n",
       "    .dataframe tbody tr th {\n",
       "        vertical-align: top;\n",
       "    }\n",
       "\n",
       "    .dataframe thead th {\n",
       "        text-align: right;\n",
       "    }\n",
       "</style>\n",
       "<table border=\"1\" class=\"dataframe\">\n",
       "  <thead>\n",
       "    <tr style=\"text-align: right;\">\n",
       "      <th></th>\n",
       "      <th>t_id</th>\n",
       "      <th>fecha y hora</th>\n",
       "    </tr>\n",
       "  </thead>\n",
       "  <tbody>\n",
       "    <tr>\n",
       "      <th>1953400</th>\n",
       "      <td>1953400</td>\n",
       "      <td>2022-09-08 16:00:00</td>\n",
       "    </tr>\n",
       "    <tr>\n",
       "      <th>4970029</th>\n",
       "      <td>4970029</td>\n",
       "      <td>2022-09-15 21:00:00</td>\n",
       "    </tr>\n",
       "    <tr>\n",
       "      <th>5129207</th>\n",
       "      <td>5129207</td>\n",
       "      <td>2022-09-16 02:00:00</td>\n",
       "    </tr>\n",
       "    <tr>\n",
       "      <th>5025625</th>\n",
       "      <td>5025625</td>\n",
       "      <td>2022-09-15 23:00:00</td>\n",
       "    </tr>\n",
       "    <tr>\n",
       "      <th>1706310</th>\n",
       "      <td>1706310</td>\n",
       "      <td>2022-09-07 22:00:00</td>\n",
       "    </tr>\n",
       "  </tbody>\n",
       "</table>\n",
       "</div>"
      ],
      "text/plain": [
       "            t_id        fecha y hora\n",
       "1953400  1953400 2022-09-08 16:00:00\n",
       "4970029  4970029 2022-09-15 21:00:00\n",
       "5129207  5129207 2022-09-16 02:00:00\n",
       "5025625  5025625 2022-09-15 23:00:00\n",
       "1706310  1706310 2022-09-07 22:00:00"
      ]
     },
     "execution_count": 13,
     "metadata": {},
     "output_type": "execute_result"
    }
   ],
   "source": [
    "dfinal.sample(5)"
   ]
  },
  {
   "cell_type": "code",
   "execution_count": 14,
   "id": "86440cbc",
   "metadata": {},
   "outputs": [],
   "source": [
    "dfinal.to_csv('tiempo.csv', sep= '|', index=False)"
   ]
  },
  {
   "cell_type": "code",
   "execution_count": null,
   "id": "1b80ac3c",
   "metadata": {},
   "outputs": [],
   "source": []
  },
  {
   "cell_type": "code",
   "execution_count": null,
   "id": "7dcd1303",
   "metadata": {},
   "outputs": [],
   "source": []
  }
 ],
 "metadata": {
  "kernelspec": {
   "display_name": "Python 3 (ipykernel)",
   "language": "python",
   "name": "python3"
  },
  "language_info": {
   "codemirror_mode": {
    "name": "ipython",
    "version": 3
   },
   "file_extension": ".py",
   "mimetype": "text/x-python",
   "name": "python",
   "nbconvert_exporter": "python",
   "pygments_lexer": "ipython3",
   "version": "3.10.9"
  }
 },
 "nbformat": 4,
 "nbformat_minor": 5
}
