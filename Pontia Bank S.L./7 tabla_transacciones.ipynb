{
 "cells": [
  {
   "cell_type": "code",
   "execution_count": null,
   "id": "8d39cae9",
   "metadata": {},
   "outputs": [],
   "source": [
    "#subir csv cuantía\n",
    "#subir csv tiempo\n",
    "#subir csv tipo"
   ]
  },
  {
   "cell_type": "code",
   "execution_count": 1,
   "id": "68971aa5",
   "metadata": {},
   "outputs": [],
   "source": [
    "import pandas as pd\n",
    "import numpy as np"
   ]
  },
  {
   "cell_type": "code",
   "execution_count": 2,
   "id": "167c1d70",
   "metadata": {},
   "outputs": [],
   "source": [
    "cuantia = pd.read_csv('C:/Users/Pc/Desktop/Máster/Data Science (Pontia)/Proyecto Jupyter/Csv/cuantia.csv', sep='|')"
   ]
  },
  {
   "cell_type": "code",
   "execution_count": 3,
   "id": "22ffdce1",
   "metadata": {},
   "outputs": [],
   "source": [
    "tiempo = pd.read_csv('C:/Users/Pc/Desktop/Máster/Data Science (Pontia)/Proyecto Jupyter/Csv/tiempo.csv', sep='|')"
   ]
  },
  {
   "cell_type": "code",
   "execution_count": 4,
   "id": "304bc4a2",
   "metadata": {},
   "outputs": [],
   "source": [
    "tipo = pd.read_csv('C:/Users/Pc/Desktop/Máster/Data Science (Pontia)/Proyecto Jupyter/Csv/tipo.csv', sep='|')"
   ]
  },
  {
   "cell_type": "code",
   "execution_count": 5,
   "id": "48b93ad1",
   "metadata": {},
   "outputs": [],
   "source": [
    "df1= cuantia.merge(tiempo ,left_on='t_id', right_on='t_id')"
   ]
  },
  {
   "cell_type": "code",
   "execution_count": 6,
   "id": "475d11bd",
   "metadata": {},
   "outputs": [
    {
     "data": {
      "text/html": [
       "<div>\n",
       "<style scoped>\n",
       "    .dataframe tbody tr th:only-of-type {\n",
       "        vertical-align: middle;\n",
       "    }\n",
       "\n",
       "    .dataframe tbody tr th {\n",
       "        vertical-align: top;\n",
       "    }\n",
       "\n",
       "    .dataframe thead th {\n",
       "        text-align: right;\n",
       "    }\n",
       "</style>\n",
       "<table border=\"1\" class=\"dataframe\">\n",
       "  <thead>\n",
       "    <tr style=\"text-align: right;\">\n",
       "      <th></th>\n",
       "      <th>t_id</th>\n",
       "      <th>cuantia</th>\n",
       "      <th>fecha y hora</th>\n",
       "    </tr>\n",
       "  </thead>\n",
       "  <tbody>\n",
       "    <tr>\n",
       "      <th>0</th>\n",
       "      <td>0</td>\n",
       "      <td>9839.64</td>\n",
       "      <td>2022-09-01 07:00:00</td>\n",
       "    </tr>\n",
       "    <tr>\n",
       "      <th>1</th>\n",
       "      <td>1</td>\n",
       "      <td>1864.28</td>\n",
       "      <td>2022-09-01 07:00:00</td>\n",
       "    </tr>\n",
       "    <tr>\n",
       "      <th>2</th>\n",
       "      <td>2</td>\n",
       "      <td>181.00</td>\n",
       "      <td>2022-09-01 07:00:00</td>\n",
       "    </tr>\n",
       "    <tr>\n",
       "      <th>3</th>\n",
       "      <td>3</td>\n",
       "      <td>181.00</td>\n",
       "      <td>2022-09-01 07:00:00</td>\n",
       "    </tr>\n",
       "    <tr>\n",
       "      <th>4</th>\n",
       "      <td>4</td>\n",
       "      <td>11668.14</td>\n",
       "      <td>2022-09-01 07:00:00</td>\n",
       "    </tr>\n",
       "  </tbody>\n",
       "</table>\n",
       "</div>"
      ],
      "text/plain": [
       "   t_id   cuantia         fecha y hora\n",
       "0     0   9839.64  2022-09-01 07:00:00\n",
       "1     1   1864.28  2022-09-01 07:00:00\n",
       "2     2    181.00  2022-09-01 07:00:00\n",
       "3     3    181.00  2022-09-01 07:00:00\n",
       "4     4  11668.14  2022-09-01 07:00:00"
      ]
     },
     "execution_count": 6,
     "metadata": {},
     "output_type": "execute_result"
    }
   ],
   "source": [
    "df1.head()"
   ]
  },
  {
   "cell_type": "code",
   "execution_count": 7,
   "id": "5e9925db",
   "metadata": {},
   "outputs": [
    {
     "data": {
      "text/html": [
       "<div>\n",
       "<style scoped>\n",
       "    .dataframe tbody tr th:only-of-type {\n",
       "        vertical-align: middle;\n",
       "    }\n",
       "\n",
       "    .dataframe tbody tr th {\n",
       "        vertical-align: top;\n",
       "    }\n",
       "\n",
       "    .dataframe thead th {\n",
       "        text-align: right;\n",
       "    }\n",
       "</style>\n",
       "<table border=\"1\" class=\"dataframe\">\n",
       "  <thead>\n",
       "    <tr style=\"text-align: right;\">\n",
       "      <th></th>\n",
       "      <th>t_id</th>\n",
       "      <th>cuantia</th>\n",
       "      <th>fecha y hora</th>\n",
       "    </tr>\n",
       "  </thead>\n",
       "  <tbody>\n",
       "    <tr>\n",
       "      <th>6362615</th>\n",
       "      <td>6362615</td>\n",
       "      <td>339682.13</td>\n",
       "      <td>2022-10-02 05:00:00</td>\n",
       "    </tr>\n",
       "    <tr>\n",
       "      <th>6362616</th>\n",
       "      <td>6362616</td>\n",
       "      <td>6311409.28</td>\n",
       "      <td>2022-10-02 05:00:00</td>\n",
       "    </tr>\n",
       "    <tr>\n",
       "      <th>6362617</th>\n",
       "      <td>6362617</td>\n",
       "      <td>6311409.28</td>\n",
       "      <td>2022-10-02 05:00:00</td>\n",
       "    </tr>\n",
       "    <tr>\n",
       "      <th>6362618</th>\n",
       "      <td>6362618</td>\n",
       "      <td>850002.52</td>\n",
       "      <td>2022-10-02 05:00:00</td>\n",
       "    </tr>\n",
       "    <tr>\n",
       "      <th>6362619</th>\n",
       "      <td>6362619</td>\n",
       "      <td>850002.52</td>\n",
       "      <td>2022-10-02 05:00:00</td>\n",
       "    </tr>\n",
       "  </tbody>\n",
       "</table>\n",
       "</div>"
      ],
      "text/plain": [
       "            t_id     cuantia         fecha y hora\n",
       "6362615  6362615   339682.13  2022-10-02 05:00:00\n",
       "6362616  6362616  6311409.28  2022-10-02 05:00:00\n",
       "6362617  6362617  6311409.28  2022-10-02 05:00:00\n",
       "6362618  6362618   850002.52  2022-10-02 05:00:00\n",
       "6362619  6362619   850002.52  2022-10-02 05:00:00"
      ]
     },
     "execution_count": 7,
     "metadata": {},
     "output_type": "execute_result"
    }
   ],
   "source": [
    "df1.tail()"
   ]
  },
  {
   "cell_type": "code",
   "execution_count": 9,
   "id": "b80eb4f6",
   "metadata": {},
   "outputs": [
    {
     "data": {
      "text/html": [
       "<div>\n",
       "<style scoped>\n",
       "    .dataframe tbody tr th:only-of-type {\n",
       "        vertical-align: middle;\n",
       "    }\n",
       "\n",
       "    .dataframe tbody tr th {\n",
       "        vertical-align: top;\n",
       "    }\n",
       "\n",
       "    .dataframe thead th {\n",
       "        text-align: right;\n",
       "    }\n",
       "</style>\n",
       "<table border=\"1\" class=\"dataframe\">\n",
       "  <thead>\n",
       "    <tr style=\"text-align: right;\">\n",
       "      <th></th>\n",
       "      <th>t_id</th>\n",
       "      <th>cuantia</th>\n",
       "      <th>fecha y hora</th>\n",
       "    </tr>\n",
       "  </thead>\n",
       "  <tbody>\n",
       "    <tr>\n",
       "      <th>1717644</th>\n",
       "      <td>1717644</td>\n",
       "      <td>265538.61</td>\n",
       "      <td>2022-09-07 22:00:00</td>\n",
       "    </tr>\n",
       "    <tr>\n",
       "      <th>2714654</th>\n",
       "      <td>2714654</td>\n",
       "      <td>3503.33</td>\n",
       "      <td>2022-09-10 01:00:00</td>\n",
       "    </tr>\n",
       "    <tr>\n",
       "      <th>5224736</th>\n",
       "      <td>5224736</td>\n",
       "      <td>18205.95</td>\n",
       "      <td>2022-09-16 16:00:00</td>\n",
       "    </tr>\n",
       "    <tr>\n",
       "      <th>3798916</th>\n",
       "      <td>3798916</td>\n",
       "      <td>102094.94</td>\n",
       "      <td>2022-09-12 23:00:00</td>\n",
       "    </tr>\n",
       "    <tr>\n",
       "      <th>1350721</th>\n",
       "      <td>1350721</td>\n",
       "      <td>9652.94</td>\n",
       "      <td>2022-09-06 23:00:00</td>\n",
       "    </tr>\n",
       "  </tbody>\n",
       "</table>\n",
       "</div>"
      ],
      "text/plain": [
       "            t_id    cuantia         fecha y hora\n",
       "1717644  1717644  265538.61  2022-09-07 22:00:00\n",
       "2714654  2714654    3503.33  2022-09-10 01:00:00\n",
       "5224736  5224736   18205.95  2022-09-16 16:00:00\n",
       "3798916  3798916  102094.94  2022-09-12 23:00:00\n",
       "1350721  1350721    9652.94  2022-09-06 23:00:00"
      ]
     },
     "execution_count": 9,
     "metadata": {},
     "output_type": "execute_result"
    }
   ],
   "source": [
    "df1.sample(5)"
   ]
  },
  {
   "cell_type": "code",
   "execution_count": 10,
   "id": "3c5e710b",
   "metadata": {},
   "outputs": [],
   "source": [
    "df2= df1.merge(tipo ,left_on='t_id', right_on='t_id')"
   ]
  },
  {
   "cell_type": "code",
   "execution_count": 11,
   "id": "6753c16c",
   "metadata": {},
   "outputs": [
    {
     "data": {
      "text/html": [
       "<div>\n",
       "<style scoped>\n",
       "    .dataframe tbody tr th:only-of-type {\n",
       "        vertical-align: middle;\n",
       "    }\n",
       "\n",
       "    .dataframe tbody tr th {\n",
       "        vertical-align: top;\n",
       "    }\n",
       "\n",
       "    .dataframe thead th {\n",
       "        text-align: right;\n",
       "    }\n",
       "</style>\n",
       "<table border=\"1\" class=\"dataframe\">\n",
       "  <thead>\n",
       "    <tr style=\"text-align: right;\">\n",
       "      <th></th>\n",
       "      <th>t_id</th>\n",
       "      <th>cuantia</th>\n",
       "      <th>fecha y hora</th>\n",
       "      <th>tipo</th>\n",
       "    </tr>\n",
       "  </thead>\n",
       "  <tbody>\n",
       "    <tr>\n",
       "      <th>0</th>\n",
       "      <td>0</td>\n",
       "      <td>9839.64</td>\n",
       "      <td>2022-09-01 07:00:00</td>\n",
       "      <td>PAYMENT</td>\n",
       "    </tr>\n",
       "    <tr>\n",
       "      <th>1</th>\n",
       "      <td>1</td>\n",
       "      <td>1864.28</td>\n",
       "      <td>2022-09-01 07:00:00</td>\n",
       "      <td>PAYMENT</td>\n",
       "    </tr>\n",
       "    <tr>\n",
       "      <th>2</th>\n",
       "      <td>2</td>\n",
       "      <td>181.00</td>\n",
       "      <td>2022-09-01 07:00:00</td>\n",
       "      <td>TRANSFER</td>\n",
       "    </tr>\n",
       "    <tr>\n",
       "      <th>3</th>\n",
       "      <td>3</td>\n",
       "      <td>181.00</td>\n",
       "      <td>2022-09-01 07:00:00</td>\n",
       "      <td>CASH_OUT</td>\n",
       "    </tr>\n",
       "    <tr>\n",
       "      <th>4</th>\n",
       "      <td>4</td>\n",
       "      <td>11668.14</td>\n",
       "      <td>2022-09-01 07:00:00</td>\n",
       "      <td>PAYMENT</td>\n",
       "    </tr>\n",
       "  </tbody>\n",
       "</table>\n",
       "</div>"
      ],
      "text/plain": [
       "   t_id   cuantia         fecha y hora      tipo\n",
       "0     0   9839.64  2022-09-01 07:00:00   PAYMENT\n",
       "1     1   1864.28  2022-09-01 07:00:00   PAYMENT\n",
       "2     2    181.00  2022-09-01 07:00:00  TRANSFER\n",
       "3     3    181.00  2022-09-01 07:00:00  CASH_OUT\n",
       "4     4  11668.14  2022-09-01 07:00:00   PAYMENT"
      ]
     },
     "execution_count": 11,
     "metadata": {},
     "output_type": "execute_result"
    }
   ],
   "source": [
    "df2.head()"
   ]
  },
  {
   "cell_type": "code",
   "execution_count": 12,
   "id": "dbd8252d",
   "metadata": {},
   "outputs": [
    {
     "data": {
      "text/html": [
       "<div>\n",
       "<style scoped>\n",
       "    .dataframe tbody tr th:only-of-type {\n",
       "        vertical-align: middle;\n",
       "    }\n",
       "\n",
       "    .dataframe tbody tr th {\n",
       "        vertical-align: top;\n",
       "    }\n",
       "\n",
       "    .dataframe thead th {\n",
       "        text-align: right;\n",
       "    }\n",
       "</style>\n",
       "<table border=\"1\" class=\"dataframe\">\n",
       "  <thead>\n",
       "    <tr style=\"text-align: right;\">\n",
       "      <th></th>\n",
       "      <th>t_id</th>\n",
       "      <th>cuantia</th>\n",
       "      <th>fecha y hora</th>\n",
       "      <th>tipo</th>\n",
       "    </tr>\n",
       "  </thead>\n",
       "  <tbody>\n",
       "    <tr>\n",
       "      <th>6362615</th>\n",
       "      <td>6362615</td>\n",
       "      <td>339682.13</td>\n",
       "      <td>2022-10-02 05:00:00</td>\n",
       "      <td>CASH_OUT</td>\n",
       "    </tr>\n",
       "    <tr>\n",
       "      <th>6362616</th>\n",
       "      <td>6362616</td>\n",
       "      <td>6311409.28</td>\n",
       "      <td>2022-10-02 05:00:00</td>\n",
       "      <td>TRANSFER</td>\n",
       "    </tr>\n",
       "    <tr>\n",
       "      <th>6362617</th>\n",
       "      <td>6362617</td>\n",
       "      <td>6311409.28</td>\n",
       "      <td>2022-10-02 05:00:00</td>\n",
       "      <td>CASH_OUT</td>\n",
       "    </tr>\n",
       "    <tr>\n",
       "      <th>6362618</th>\n",
       "      <td>6362618</td>\n",
       "      <td>850002.52</td>\n",
       "      <td>2022-10-02 05:00:00</td>\n",
       "      <td>TRANSFER</td>\n",
       "    </tr>\n",
       "    <tr>\n",
       "      <th>6362619</th>\n",
       "      <td>6362619</td>\n",
       "      <td>850002.52</td>\n",
       "      <td>2022-10-02 05:00:00</td>\n",
       "      <td>CASH_OUT</td>\n",
       "    </tr>\n",
       "  </tbody>\n",
       "</table>\n",
       "</div>"
      ],
      "text/plain": [
       "            t_id     cuantia         fecha y hora      tipo\n",
       "6362615  6362615   339682.13  2022-10-02 05:00:00  CASH_OUT\n",
       "6362616  6362616  6311409.28  2022-10-02 05:00:00  TRANSFER\n",
       "6362617  6362617  6311409.28  2022-10-02 05:00:00  CASH_OUT\n",
       "6362618  6362618   850002.52  2022-10-02 05:00:00  TRANSFER\n",
       "6362619  6362619   850002.52  2022-10-02 05:00:00  CASH_OUT"
      ]
     },
     "execution_count": 12,
     "metadata": {},
     "output_type": "execute_result"
    }
   ],
   "source": [
    "df2.tail()"
   ]
  },
  {
   "cell_type": "code",
   "execution_count": 13,
   "id": "513f1893",
   "metadata": {},
   "outputs": [
    {
     "data": {
      "text/html": [
       "<div>\n",
       "<style scoped>\n",
       "    .dataframe tbody tr th:only-of-type {\n",
       "        vertical-align: middle;\n",
       "    }\n",
       "\n",
       "    .dataframe tbody tr th {\n",
       "        vertical-align: top;\n",
       "    }\n",
       "\n",
       "    .dataframe thead th {\n",
       "        text-align: right;\n",
       "    }\n",
       "</style>\n",
       "<table border=\"1\" class=\"dataframe\">\n",
       "  <thead>\n",
       "    <tr style=\"text-align: right;\">\n",
       "      <th></th>\n",
       "      <th>t_id</th>\n",
       "      <th>cuantia</th>\n",
       "      <th>fecha y hora</th>\n",
       "      <th>tipo</th>\n",
       "    </tr>\n",
       "  </thead>\n",
       "  <tbody>\n",
       "    <tr>\n",
       "      <th>661460</th>\n",
       "      <td>661460</td>\n",
       "      <td>310391.36</td>\n",
       "      <td>2022-09-02 18:00:00</td>\n",
       "      <td>CASH_OUT</td>\n",
       "    </tr>\n",
       "    <tr>\n",
       "      <th>578730</th>\n",
       "      <td>578730</td>\n",
       "      <td>191387.99</td>\n",
       "      <td>2022-09-02 15:00:00</td>\n",
       "      <td>CASH_IN</td>\n",
       "    </tr>\n",
       "    <tr>\n",
       "      <th>6220311</th>\n",
       "      <td>6220311</td>\n",
       "      <td>20757.08</td>\n",
       "      <td>2022-09-25 19:00:00</td>\n",
       "      <td>CASH_OUT</td>\n",
       "    </tr>\n",
       "    <tr>\n",
       "      <th>1667549</th>\n",
       "      <td>1667549</td>\n",
       "      <td>85921.61</td>\n",
       "      <td>2022-09-07 20:00:00</td>\n",
       "      <td>CASH_OUT</td>\n",
       "    </tr>\n",
       "    <tr>\n",
       "      <th>1859248</th>\n",
       "      <td>1859248</td>\n",
       "      <td>22171.33</td>\n",
       "      <td>2022-09-08 02:00:00</td>\n",
       "      <td>PAYMENT</td>\n",
       "    </tr>\n",
       "  </tbody>\n",
       "</table>\n",
       "</div>"
      ],
      "text/plain": [
       "            t_id    cuantia         fecha y hora      tipo\n",
       "661460    661460  310391.36  2022-09-02 18:00:00  CASH_OUT\n",
       "578730    578730  191387.99  2022-09-02 15:00:00   CASH_IN\n",
       "6220311  6220311   20757.08  2022-09-25 19:00:00  CASH_OUT\n",
       "1667549  1667549   85921.61  2022-09-07 20:00:00  CASH_OUT\n",
       "1859248  1859248   22171.33  2022-09-08 02:00:00   PAYMENT"
      ]
     },
     "execution_count": 13,
     "metadata": {},
     "output_type": "execute_result"
    }
   ],
   "source": [
    "df2.sample(5)"
   ]
  },
  {
   "cell_type": "code",
   "execution_count": 14,
   "id": "6be02fd0",
   "metadata": {},
   "outputs": [],
   "source": [
    "df2= df2.rename(columns={'fecha y hora': 'tiempo'})"
   ]
  },
  {
   "cell_type": "code",
   "execution_count": 15,
   "id": "2aac5b98",
   "metadata": {},
   "outputs": [],
   "source": [
    "df2= df2.rename(columns={'cuantia': 'monto'})"
   ]
  },
  {
   "cell_type": "code",
   "execution_count": 16,
   "id": "f5eee929",
   "metadata": {},
   "outputs": [
    {
     "name": "stdout",
     "output_type": "stream",
     "text": [
      "<class 'pandas.core.frame.DataFrame'>\n",
      "Int64Index: 6362620 entries, 0 to 6362619\n",
      "Data columns (total 4 columns):\n",
      " #   Column  Dtype  \n",
      "---  ------  -----  \n",
      " 0   t_id    int64  \n",
      " 1   monto   float64\n",
      " 2   tiempo  object \n",
      " 3   tipo    object \n",
      "dtypes: float64(1), int64(1), object(2)\n",
      "memory usage: 242.7+ MB\n"
     ]
    }
   ],
   "source": [
    "df2.info()"
   ]
  },
  {
   "cell_type": "code",
   "execution_count": 18,
   "id": "5ebfe73d",
   "metadata": {},
   "outputs": [],
   "source": [
    "df2['tiempo'] = df2['tiempo'].astype('datetime64')"
   ]
  },
  {
   "cell_type": "code",
   "execution_count": 19,
   "id": "ca2880f1",
   "metadata": {},
   "outputs": [],
   "source": [
    "df2['tipo'] = df2['tipo'].astype('string')"
   ]
  },
  {
   "cell_type": "code",
   "execution_count": 20,
   "id": "b63e183a",
   "metadata": {
    "scrolled": true
   },
   "outputs": [
    {
     "name": "stdout",
     "output_type": "stream",
     "text": [
      "<class 'pandas.core.frame.DataFrame'>\n",
      "Int64Index: 6362620 entries, 0 to 6362619\n",
      "Data columns (total 4 columns):\n",
      " #   Column  Dtype         \n",
      "---  ------  -----         \n",
      " 0   t_id    int64         \n",
      " 1   monto   float64       \n",
      " 2   tiempo  datetime64[ns]\n",
      " 3   tipo    string        \n",
      "dtypes: datetime64[ns](1), float64(1), int64(1), string(1)\n",
      "memory usage: 242.7 MB\n"
     ]
    }
   ],
   "source": [
    "df2.info()"
   ]
  },
  {
   "cell_type": "code",
   "execution_count": 21,
   "id": "f1ba03e0",
   "metadata": {},
   "outputs": [
    {
     "data": {
      "text/html": [
       "<div>\n",
       "<style scoped>\n",
       "    .dataframe tbody tr th:only-of-type {\n",
       "        vertical-align: middle;\n",
       "    }\n",
       "\n",
       "    .dataframe tbody tr th {\n",
       "        vertical-align: top;\n",
       "    }\n",
       "\n",
       "    .dataframe thead th {\n",
       "        text-align: right;\n",
       "    }\n",
       "</style>\n",
       "<table border=\"1\" class=\"dataframe\">\n",
       "  <thead>\n",
       "    <tr style=\"text-align: right;\">\n",
       "      <th></th>\n",
       "      <th>t_id</th>\n",
       "      <th>monto</th>\n",
       "      <th>tiempo</th>\n",
       "      <th>tipo</th>\n",
       "    </tr>\n",
       "  </thead>\n",
       "  <tbody>\n",
       "    <tr>\n",
       "      <th>0</th>\n",
       "      <td>0</td>\n",
       "      <td>9839.64</td>\n",
       "      <td>2022-09-01 07:00:00</td>\n",
       "      <td>PAYMENT</td>\n",
       "    </tr>\n",
       "    <tr>\n",
       "      <th>1</th>\n",
       "      <td>1</td>\n",
       "      <td>1864.28</td>\n",
       "      <td>2022-09-01 07:00:00</td>\n",
       "      <td>PAYMENT</td>\n",
       "    </tr>\n",
       "    <tr>\n",
       "      <th>2</th>\n",
       "      <td>2</td>\n",
       "      <td>181.00</td>\n",
       "      <td>2022-09-01 07:00:00</td>\n",
       "      <td>TRANSFER</td>\n",
       "    </tr>\n",
       "    <tr>\n",
       "      <th>3</th>\n",
       "      <td>3</td>\n",
       "      <td>181.00</td>\n",
       "      <td>2022-09-01 07:00:00</td>\n",
       "      <td>CASH_OUT</td>\n",
       "    </tr>\n",
       "    <tr>\n",
       "      <th>4</th>\n",
       "      <td>4</td>\n",
       "      <td>11668.14</td>\n",
       "      <td>2022-09-01 07:00:00</td>\n",
       "      <td>PAYMENT</td>\n",
       "    </tr>\n",
       "  </tbody>\n",
       "</table>\n",
       "</div>"
      ],
      "text/plain": [
       "   t_id     monto              tiempo      tipo\n",
       "0     0   9839.64 2022-09-01 07:00:00   PAYMENT\n",
       "1     1   1864.28 2022-09-01 07:00:00   PAYMENT\n",
       "2     2    181.00 2022-09-01 07:00:00  TRANSFER\n",
       "3     3    181.00 2022-09-01 07:00:00  CASH_OUT\n",
       "4     4  11668.14 2022-09-01 07:00:00   PAYMENT"
      ]
     },
     "execution_count": 21,
     "metadata": {},
     "output_type": "execute_result"
    }
   ],
   "source": [
    "df2.head()"
   ]
  },
  {
   "cell_type": "code",
   "execution_count": null,
   "id": "928ab5b5",
   "metadata": {},
   "outputs": [],
   "source": [
    "df2.to_csv('C:/Users/maria/OneDrive/Escritorio/pontia/Proyecto/transacciones.csv', sep='|', index=False)"
   ]
  }
 ],
 "metadata": {
  "kernelspec": {
   "display_name": "Python 3 (ipykernel)",
   "language": "python",
   "name": "python3"
  },
  "language_info": {
   "codemirror_mode": {
    "name": "ipython",
    "version": 3
   },
   "file_extension": ".py",
   "mimetype": "text/x-python",
   "name": "python",
   "nbconvert_exporter": "python",
   "pygments_lexer": "ipython3",
   "version": "3.10.9"
  }
 },
 "nbformat": 4,
 "nbformat_minor": 5
}
