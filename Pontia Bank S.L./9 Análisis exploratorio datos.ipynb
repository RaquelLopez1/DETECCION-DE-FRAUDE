{
 "cells": [
  {
   "cell_type": "code",
   "execution_count": 1,
   "id": "6a706d2f",
   "metadata": {},
   "outputs": [],
   "source": [
    "import pandas as pd\n",
    "import matplotlib.pyplot as plt\n",
    "import seaborn as sns\n",
    "import numpy as np\n",
    "from datetime import datetime"
   ]
  },
  {
   "cell_type": "code",
   "execution_count": 2,
   "id": "323a47ce",
   "metadata": {},
   "outputs": [],
   "source": [
    "dec_fraude = pd.read_csv('C:/Users/Pc/Desktop/Máster/Data Science (Pontia)/Proyecto Jupyter/Csv/dec_fraude.csv')"
   ]
  },
  {
   "cell_type": "code",
   "execution_count": 3,
   "id": "f8e73de0",
   "metadata": {},
   "outputs": [],
   "source": [
    "dec_fraude.drop('Unnamed: 0', axis=1, inplace=True)"
   ]
  },
  {
   "cell_type": "code",
   "execution_count": 4,
   "id": "dca30987",
   "metadata": {
    "scrolled": true
   },
   "outputs": [
    {
     "data": {
      "text/html": [
       "<div>\n",
       "<style scoped>\n",
       "    .dataframe tbody tr th:only-of-type {\n",
       "        vertical-align: middle;\n",
       "    }\n",
       "\n",
       "    .dataframe tbody tr th {\n",
       "        vertical-align: top;\n",
       "    }\n",
       "\n",
       "    .dataframe thead th {\n",
       "        text-align: right;\n",
       "    }\n",
       "</style>\n",
       "<table border=\"1\" class=\"dataframe\">\n",
       "  <thead>\n",
       "    <tr style=\"text-align: right;\">\n",
       "      <th></th>\n",
       "      <th>t_id</th>\n",
       "      <th>tipo</th>\n",
       "      <th>tiempo</th>\n",
       "      <th>monto</th>\n",
       "      <th>cl_origen</th>\n",
       "      <th>cl_destino</th>\n",
       "      <th>es_fraude</th>\n",
       "      <th>mensaje_alarma</th>\n",
       "      <th>balance_prev_or</th>\n",
       "      <th>balance_post_or</th>\n",
       "      <th>balance_prev_des</th>\n",
       "      <th>balance_post_des</th>\n",
       "    </tr>\n",
       "  </thead>\n",
       "  <tbody>\n",
       "    <tr>\n",
       "      <th>1114943</th>\n",
       "      <td>1114962</td>\n",
       "      <td>PAYMENT</td>\n",
       "      <td>2022-09-06 16:00:00</td>\n",
       "      <td>2626.21</td>\n",
       "      <td>C2068362068</td>\n",
       "      <td>M496570275</td>\n",
       "      <td>0</td>\n",
       "      <td>No</td>\n",
       "      <td>116434.16</td>\n",
       "      <td>113807.95</td>\n",
       "      <td>0.00</td>\n",
       "      <td>0.00</td>\n",
       "    </tr>\n",
       "    <tr>\n",
       "      <th>149871</th>\n",
       "      <td>149872</td>\n",
       "      <td>CASH_IN</td>\n",
       "      <td>2022-09-01 18:00:00</td>\n",
       "      <td>235440.68</td>\n",
       "      <td>C502911168</td>\n",
       "      <td>C1082992891</td>\n",
       "      <td>0</td>\n",
       "      <td>No</td>\n",
       "      <td>36762.00</td>\n",
       "      <td>272202.68</td>\n",
       "      <td>61821.60</td>\n",
       "      <td>0.00</td>\n",
       "    </tr>\n",
       "    <tr>\n",
       "      <th>3911945</th>\n",
       "      <td>3912011</td>\n",
       "      <td>CASH_IN</td>\n",
       "      <td>2022-09-13 02:00:00</td>\n",
       "      <td>386183.54</td>\n",
       "      <td>C1629545496</td>\n",
       "      <td>C1001242186</td>\n",
       "      <td>0</td>\n",
       "      <td>No</td>\n",
       "      <td>7478809.85</td>\n",
       "      <td>7864993.39</td>\n",
       "      <td>4039327.92</td>\n",
       "      <td>3653144.38</td>\n",
       "    </tr>\n",
       "    <tr>\n",
       "      <th>1731214</th>\n",
       "      <td>1731247</td>\n",
       "      <td>PAYMENT</td>\n",
       "      <td>2022-09-07 23:00:00</td>\n",
       "      <td>11330.14</td>\n",
       "      <td>C679192186</td>\n",
       "      <td>M1429391571</td>\n",
       "      <td>0</td>\n",
       "      <td>No</td>\n",
       "      <td>11413.00</td>\n",
       "      <td>82.86</td>\n",
       "      <td>0.00</td>\n",
       "      <td>0.00</td>\n",
       "    </tr>\n",
       "    <tr>\n",
       "      <th>5567947</th>\n",
       "      <td>5568038</td>\n",
       "      <td>CASH_IN</td>\n",
       "      <td>2022-09-17 15:00:00</td>\n",
       "      <td>259400.40</td>\n",
       "      <td>C1254638833</td>\n",
       "      <td>C1851490150</td>\n",
       "      <td>0</td>\n",
       "      <td>No</td>\n",
       "      <td>103266.00</td>\n",
       "      <td>362666.40</td>\n",
       "      <td>465560.77</td>\n",
       "      <td>206160.36</td>\n",
       "    </tr>\n",
       "  </tbody>\n",
       "</table>\n",
       "</div>"
      ],
      "text/plain": [
       "            t_id     tipo               tiempo      monto    cl_origen  \\\n",
       "1114943  1114962  PAYMENT  2022-09-06 16:00:00    2626.21  C2068362068   \n",
       "149871    149872  CASH_IN  2022-09-01 18:00:00  235440.68   C502911168   \n",
       "3911945  3912011  CASH_IN  2022-09-13 02:00:00  386183.54  C1629545496   \n",
       "1731214  1731247  PAYMENT  2022-09-07 23:00:00   11330.14   C679192186   \n",
       "5567947  5568038  CASH_IN  2022-09-17 15:00:00  259400.40  C1254638833   \n",
       "\n",
       "          cl_destino  es_fraude mensaje_alarma  balance_prev_or  \\\n",
       "1114943   M496570275          0             No        116434.16   \n",
       "149871   C1082992891          0             No         36762.00   \n",
       "3911945  C1001242186          0             No       7478809.85   \n",
       "1731214  M1429391571          0             No         11413.00   \n",
       "5567947  C1851490150          0             No        103266.00   \n",
       "\n",
       "         balance_post_or  balance_prev_des  balance_post_des  \n",
       "1114943        113807.95              0.00              0.00  \n",
       "149871         272202.68          61821.60              0.00  \n",
       "3911945       7864993.39        4039327.92        3653144.38  \n",
       "1731214            82.86              0.00              0.00  \n",
       "5567947        362666.40         465560.77         206160.36  "
      ]
     },
     "execution_count": 4,
     "metadata": {},
     "output_type": "execute_result"
    }
   ],
   "source": [
    "dec_fraude.sample(5)"
   ]
  },
  {
   "cell_type": "code",
   "execution_count": 5,
   "id": "a08f8cc6",
   "metadata": {},
   "outputs": [
    {
     "data": {
      "text/plain": [
       "array(['PAYMENT', 'TRANSFER', 'CASH_OUT', 'DEBIT', 'CASH_IN'],\n",
       "      dtype=object)"
      ]
     },
     "execution_count": 5,
     "metadata": {},
     "output_type": "execute_result"
    }
   ],
   "source": [
    "dec_fraude['tipo'].unique()"
   ]
  },
  {
   "cell_type": "code",
   "execution_count": 6,
   "id": "cde645a9",
   "metadata": {},
   "outputs": [],
   "source": [
    "# Categorizamos la columna tipo\n",
    "mapeo = {'PAYMENT': 0, 'TRANSFER': 1, 'CASH_OUT': 2, 'DEBIT': 3, 'CASH_IN': 4}\n",
    "dec_fraude['tipo_cod'] = dec_fraude['tipo'].map(mapeo)"
   ]
  },
  {
   "cell_type": "code",
   "execution_count": 7,
   "id": "0076aaad",
   "metadata": {},
   "outputs": [
    {
     "name": "stderr",
     "output_type": "stream",
     "text": [
      "C:\\Users\\Pc\\AppData\\Local\\Temp\\ipykernel_15276\\2039478174.py:2: FutureWarning: The default value of numeric_only in DataFrame.corr is deprecated. In a future version, it will default to False. Select only valid columns or specify the value of numeric_only to silence this warning.\n",
      "  corr_matrix = dec_fraude.corr()\n"
     ]
    }
   ],
   "source": [
    "# Hacemos un estudio de correlacion\n",
    "corr_matrix = dec_fraude.corr()"
   ]
  },
  {
   "cell_type": "code",
   "execution_count": 8,
   "id": "4476d6ac",
   "metadata": {},
   "outputs": [
    {
     "data": {
      "image/png": "[encoded data removed]",
      "text/plain": [
       "<Figure size 640x480 with 2 Axes>"
      ]
     },
     "metadata": {},
     "output_type": "display_data"
    }
   ],
   "source": [
    "sns.heatmap(corr_matrix, annot=True, cmap='coolwarm')\n",
    "plt.title('Correlation Matrix')\n",
    "plt.show()"
   ]
  },
  {
   "cell_type": "code",
   "execution_count": 26,
   "id": "71a329d0",
   "metadata": {},
   "outputs": [],
   "source": [
    "# Se aprecia una alta correlación entre los balances origen y posterior de cada cliente, como cabe esperar\n",
    "# Posteriormente para los modelos nos interesará seleccionar solo alguna de estas variables"
   ]
  },
  {
   "cell_type": "code",
   "execution_count": 9,
   "id": "5ecd7b52",
   "metadata": {},
   "outputs": [
    {
     "data": {
      "text/html": [
       "<div>\n",
       "<style scoped>\n",
       "    .dataframe tbody tr th:only-of-type {\n",
       "        vertical-align: middle;\n",
       "    }\n",
       "\n",
       "    .dataframe tbody tr th {\n",
       "        vertical-align: top;\n",
       "    }\n",
       "\n",
       "    .dataframe thead th {\n",
       "        text-align: right;\n",
       "    }\n",
       "</style>\n",
       "<table border=\"1\" class=\"dataframe\">\n",
       "  <thead>\n",
       "    <tr style=\"text-align: right;\">\n",
       "      <th></th>\n",
       "      <th>t_id</th>\n",
       "      <th>tipo</th>\n",
       "      <th>tiempo</th>\n",
       "      <th>monto</th>\n",
       "      <th>cl_origen</th>\n",
       "      <th>cl_destino</th>\n",
       "      <th>es_fraude</th>\n",
       "      <th>mensaje_alarma</th>\n",
       "      <th>balance_prev_or</th>\n",
       "      <th>balance_post_or</th>\n",
       "      <th>balance_prev_des</th>\n",
       "      <th>balance_post_des</th>\n",
       "      <th>tipo_cod</th>\n",
       "    </tr>\n",
       "  </thead>\n",
       "  <tbody>\n",
       "    <tr>\n",
       "      <th>6362515</th>\n",
       "      <td>6362615</td>\n",
       "      <td>CASH_OUT</td>\n",
       "      <td>2022-10-02 05:00:00</td>\n",
       "      <td>339682.13</td>\n",
       "      <td>C786484425</td>\n",
       "      <td>C776919290</td>\n",
       "      <td>1</td>\n",
       "      <td>No</td>\n",
       "      <td>339682.13</td>\n",
       "      <td>0.0</td>\n",
       "      <td>0.00</td>\n",
       "      <td>339682.13</td>\n",
       "      <td>2</td>\n",
       "    </tr>\n",
       "    <tr>\n",
       "      <th>6362516</th>\n",
       "      <td>6362616</td>\n",
       "      <td>TRANSFER</td>\n",
       "      <td>2022-10-02 05:00:00</td>\n",
       "      <td>6311409.28</td>\n",
       "      <td>C1529008245</td>\n",
       "      <td>C1881841831</td>\n",
       "      <td>1</td>\n",
       "      <td>No</td>\n",
       "      <td>6311409.28</td>\n",
       "      <td>0.0</td>\n",
       "      <td>0.00</td>\n",
       "      <td>0.00</td>\n",
       "      <td>1</td>\n",
       "    </tr>\n",
       "    <tr>\n",
       "      <th>6362517</th>\n",
       "      <td>6362617</td>\n",
       "      <td>CASH_OUT</td>\n",
       "      <td>2022-10-02 05:00:00</td>\n",
       "      <td>6311409.28</td>\n",
       "      <td>C1162922333</td>\n",
       "      <td>C1365125890</td>\n",
       "      <td>1</td>\n",
       "      <td>No</td>\n",
       "      <td>6311409.28</td>\n",
       "      <td>0.0</td>\n",
       "      <td>68488.84</td>\n",
       "      <td>6379898.11</td>\n",
       "      <td>2</td>\n",
       "    </tr>\n",
       "    <tr>\n",
       "      <th>6362518</th>\n",
       "      <td>6362618</td>\n",
       "      <td>TRANSFER</td>\n",
       "      <td>2022-10-02 05:00:00</td>\n",
       "      <td>850002.52</td>\n",
       "      <td>C1685995037</td>\n",
       "      <td>C2080388513</td>\n",
       "      <td>1</td>\n",
       "      <td>No</td>\n",
       "      <td>850002.52</td>\n",
       "      <td>0.0</td>\n",
       "      <td>0.00</td>\n",
       "      <td>0.00</td>\n",
       "      <td>1</td>\n",
       "    </tr>\n",
       "    <tr>\n",
       "      <th>6362519</th>\n",
       "      <td>6362619</td>\n",
       "      <td>CASH_OUT</td>\n",
       "      <td>2022-10-02 05:00:00</td>\n",
       "      <td>850002.52</td>\n",
       "      <td>C1280323807</td>\n",
       "      <td>C873221189</td>\n",
       "      <td>1</td>\n",
       "      <td>No</td>\n",
       "      <td>850002.52</td>\n",
       "      <td>0.0</td>\n",
       "      <td>6510099.11</td>\n",
       "      <td>7360101.63</td>\n",
       "      <td>2</td>\n",
       "    </tr>\n",
       "  </tbody>\n",
       "</table>\n",
       "</div>"
      ],
      "text/plain": [
       "            t_id      tipo               tiempo       monto    cl_origen  \\\n",
       "6362515  6362615  CASH_OUT  2022-10-02 05:00:00   339682.13   C786484425   \n",
       "6362516  6362616  TRANSFER  2022-10-02 05:00:00  6311409.28  C1529008245   \n",
       "6362517  6362617  CASH_OUT  2022-10-02 05:00:00  6311409.28  C1162922333   \n",
       "6362518  6362618  TRANSFER  2022-10-02 05:00:00   850002.52  C1685995037   \n",
       "6362519  6362619  CASH_OUT  2022-10-02 05:00:00   850002.52  C1280323807   \n",
       "\n",
       "          cl_destino  es_fraude mensaje_alarma  balance_prev_or  \\\n",
       "6362515   C776919290          1             No        339682.13   \n",
       "6362516  C1881841831          1             No       6311409.28   \n",
       "6362517  C1365125890          1             No       6311409.28   \n",
       "6362518  C2080388513          1             No        850002.52   \n",
       "6362519   C873221189          1             No        850002.52   \n",
       "\n",
       "         balance_post_or  balance_prev_des  balance_post_des  tipo_cod  \n",
       "6362515              0.0              0.00         339682.13         2  \n",
       "6362516              0.0              0.00              0.00         1  \n",
       "6362517              0.0          68488.84        6379898.11         2  \n",
       "6362518              0.0              0.00              0.00         1  \n",
       "6362519              0.0        6510099.11        7360101.63         2  "
      ]
     },
     "execution_count": 9,
     "metadata": {},
     "output_type": "execute_result"
    }
   ],
   "source": [
    "dec_fraude.tail(5)"
   ]
  },
  {
   "cell_type": "code",
   "execution_count": 10,
   "id": "5863c41c",
   "metadata": {},
   "outputs": [
    {
     "data": {
      "text/html": [
       "<div>\n",
       "<style scoped>\n",
       "    .dataframe tbody tr th:only-of-type {\n",
       "        vertical-align: middle;\n",
       "    }\n",
       "\n",
       "    .dataframe tbody tr th {\n",
       "        vertical-align: top;\n",
       "    }\n",
       "\n",
       "    .dataframe thead th {\n",
       "        text-align: right;\n",
       "    }\n",
       "</style>\n",
       "<table border=\"1\" class=\"dataframe\">\n",
       "  <thead>\n",
       "    <tr style=\"text-align: right;\">\n",
       "      <th></th>\n",
       "      <th>t_id</th>\n",
       "      <th>monto</th>\n",
       "      <th>es_fraude</th>\n",
       "      <th>balance_prev_or</th>\n",
       "      <th>balance_post_or</th>\n",
       "      <th>balance_prev_des</th>\n",
       "      <th>balance_post_des</th>\n",
       "      <th>tipo_cod</th>\n",
       "    </tr>\n",
       "  </thead>\n",
       "  <tbody>\n",
       "    <tr>\n",
       "      <th>count</th>\n",
       "      <td>6.362520e+06</td>\n",
       "      <td>6.362520e+06</td>\n",
       "      <td>6.362520e+06</td>\n",
       "      <td>6.362520e+06</td>\n",
       "      <td>6.362520e+06</td>\n",
       "      <td>6.362520e+06</td>\n",
       "      <td>6.362520e+06</td>\n",
       "      <td>6.362520e+06</td>\n",
       "    </tr>\n",
       "    <tr>\n",
       "      <th>mean</th>\n",
       "      <td>3.181312e+06</td>\n",
       "      <td>1.798620e+05</td>\n",
       "      <td>1.290212e-03</td>\n",
       "      <td>8.338892e+05</td>\n",
       "      <td>8.551206e+05</td>\n",
       "      <td>1.100707e+06</td>\n",
       "      <td>1.225002e+06</td>\n",
       "      <td>1.686313e+00</td>\n",
       "    </tr>\n",
       "    <tr>\n",
       "      <th>std</th>\n",
       "      <td>1.836730e+06</td>\n",
       "      <td>6.038617e+05</td>\n",
       "      <td>3.589635e-02</td>\n",
       "      <td>2.888257e+06</td>\n",
       "      <td>2.924063e+06</td>\n",
       "      <td>3.399201e+06</td>\n",
       "      <td>3.674152e+06</td>\n",
       "      <td>1.491357e+00</td>\n",
       "    </tr>\n",
       "    <tr>\n",
       "      <th>min</th>\n",
       "      <td>0.000000e+00</td>\n",
       "      <td>0.000000e+00</td>\n",
       "      <td>0.000000e+00</td>\n",
       "      <td>0.000000e+00</td>\n",
       "      <td>0.000000e+00</td>\n",
       "      <td>0.000000e+00</td>\n",
       "      <td>0.000000e+00</td>\n",
       "      <td>0.000000e+00</td>\n",
       "    </tr>\n",
       "    <tr>\n",
       "      <th>25%</th>\n",
       "      <td>1.590656e+06</td>\n",
       "      <td>1.338957e+04</td>\n",
       "      <td>0.000000e+00</td>\n",
       "      <td>0.000000e+00</td>\n",
       "      <td>0.000000e+00</td>\n",
       "      <td>0.000000e+00</td>\n",
       "      <td>0.000000e+00</td>\n",
       "      <td>0.000000e+00</td>\n",
       "    </tr>\n",
       "    <tr>\n",
       "      <th>50%</th>\n",
       "      <td>3.181316e+06</td>\n",
       "      <td>7.487271e+04</td>\n",
       "      <td>0.000000e+00</td>\n",
       "      <td>1.420800e+04</td>\n",
       "      <td>0.000000e+00</td>\n",
       "      <td>1.327077e+05</td>\n",
       "      <td>2.146622e+05</td>\n",
       "      <td>2.000000e+00</td>\n",
       "    </tr>\n",
       "    <tr>\n",
       "      <th>75%</th>\n",
       "      <td>4.771964e+06</td>\n",
       "      <td>2.087216e+05</td>\n",
       "      <td>0.000000e+00</td>\n",
       "      <td>1.073150e+05</td>\n",
       "      <td>1.442585e+05</td>\n",
       "      <td>9.430375e+05</td>\n",
       "      <td>1.111909e+06</td>\n",
       "      <td>2.000000e+00</td>\n",
       "    </tr>\n",
       "    <tr>\n",
       "      <th>max</th>\n",
       "      <td>6.362619e+06</td>\n",
       "      <td>9.244552e+07</td>\n",
       "      <td>1.000000e+00</td>\n",
       "      <td>5.958504e+07</td>\n",
       "      <td>4.958504e+07</td>\n",
       "      <td>3.560159e+08</td>\n",
       "      <td>3.561793e+08</td>\n",
       "      <td>4.000000e+00</td>\n",
       "    </tr>\n",
       "  </tbody>\n",
       "</table>\n",
       "</div>"
      ],
      "text/plain": [
       "               t_id         monto     es_fraude  balance_prev_or  \\\n",
       "count  6.362520e+06  6.362520e+06  6.362520e+06     6.362520e+06   \n",
       "mean   3.181312e+06  1.798620e+05  1.290212e-03     8.338892e+05   \n",
       "std    1.836730e+06  6.038617e+05  3.589635e-02     2.888257e+06   \n",
       "min    0.000000e+00  0.000000e+00  0.000000e+00     0.000000e+00   \n",
       "25%    1.590656e+06  1.338957e+04  0.000000e+00     0.000000e+00   \n",
       "50%    3.181316e+06  7.487271e+04  0.000000e+00     1.420800e+04   \n",
       "75%    4.771964e+06  2.087216e+05  0.000000e+00     1.073150e+05   \n",
       "max    6.362619e+06  9.244552e+07  1.000000e+00     5.958504e+07   \n",
       "\n",
       "       balance_post_or  balance_prev_des  balance_post_des      tipo_cod  \n",
       "count     6.362520e+06      6.362520e+06      6.362520e+06  6.362520e+06  \n",
       "mean      8.551206e+05      1.100707e+06      1.225002e+06  1.686313e+00  \n",
       "std       2.924063e+06      3.399201e+06      3.674152e+06  1.491357e+00  \n",
       "min       0.000000e+00      0.000000e+00      0.000000e+00  0.000000e+00  \n",
       "25%       0.000000e+00      0.000000e+00      0.000000e+00  0.000000e+00  \n",
       "50%       0.000000e+00      1.327077e+05      2.146622e+05  2.000000e+00  \n",
       "75%       1.442585e+05      9.430375e+05      1.111909e+06  2.000000e+00  \n",
       "max       4.958504e+07      3.560159e+08      3.561793e+08  4.000000e+00  "
      ]
     },
     "execution_count": 10,
     "metadata": {},
     "output_type": "execute_result"
    }
   ],
   "source": [
    "dec_fraude.describe()"
   ]
  },
  {
   "cell_type": "code",
   "execution_count": 11,
   "id": "f103a365",
   "metadata": {},
   "outputs": [],
   "source": [
    "dec_fraude['tiempo'] = pd.to_datetime(dec_fraude['tiempo'])\n",
    "dec_fraude[['t_id', 'es_fraude','tipo_cod']] = dec_fraude[['t_id', 'es_fraude','tipo_cod']].astype(int)"
   ]
  },
  {
   "cell_type": "code",
   "execution_count": 12,
   "id": "3c2c8844",
   "metadata": {},
   "outputs": [],
   "source": [
    "fraude = dec_fraude"
   ]
  },
  {
   "cell_type": "code",
   "execution_count": 13,
   "id": "0de50057",
   "metadata": {},
   "outputs": [
    {
     "data": {
      "text/plain": [
       "t_id                         int32\n",
       "tipo                        object\n",
       "tiempo              datetime64[ns]\n",
       "monto                      float64\n",
       "cl_origen                   object\n",
       "cl_destino                  object\n",
       "es_fraude                    int32\n",
       "mensaje_alarma              object\n",
       "balance_prev_or            float64\n",
       "balance_post_or            float64\n",
       "balance_prev_des           float64\n",
       "balance_post_des           float64\n",
       "tipo_cod                     int32\n",
       "dtype: object"
      ]
     },
     "execution_count": 13,
     "metadata": {},
     "output_type": "execute_result"
    }
   ],
   "source": [
    "fraude.dtypes"
   ]
  },
  {
   "cell_type": "code",
   "execution_count": 15,
   "id": "8d80f7d5",
   "metadata": {},
   "outputs": [
    {
     "name": "stdout",
     "output_type": "stream",
     "text": [
      "<class 'pandas.core.frame.DataFrame'>\n",
      "RangeIndex: 6362520 entries, 0 to 6362519\n",
      "Data columns (total 13 columns):\n",
      " #   Column            Dtype         \n",
      "---  ------            -----         \n",
      " 0   t_id              int32         \n",
      " 1   tipo              object        \n",
      " 2   tiempo            datetime64[ns]\n",
      " 3   monto             float64       \n",
      " 4   cl_origen         object        \n",
      " 5   cl_destino        object        \n",
      " 6   es_fraude         int32         \n",
      " 7   mensaje_alarma    object        \n",
      " 8   balance_prev_or   float64       \n",
      " 9   balance_post_or   float64       \n",
      " 10  balance_prev_des  float64       \n",
      " 11  balance_post_des  float64       \n",
      " 12  tipo_cod          int32         \n",
      "dtypes: datetime64[ns](1), float64(5), int32(3), object(4)\n",
      "memory usage: 558.2+ MB\n"
     ]
    }
   ],
   "source": [
    "fraude.info()"
   ]
  },
  {
   "cell_type": "code",
   "execution_count": 16,
   "id": "9fa14f93",
   "metadata": {},
   "outputs": [
    {
     "data": {
      "text/plain": [
       "CASH_OUT    2237463\n",
       "PAYMENT     2151458\n",
       "CASH_IN     1399270\n",
       "TRANSFER     532897\n",
       "DEBIT         41432\n",
       "Name: tipo, dtype: int64"
      ]
     },
     "execution_count": 16,
     "metadata": {},
     "output_type": "execute_result"
    }
   ],
   "source": [
    "fraude['tipo'].value_counts()"
   ]
  },
  {
   "cell_type": "code",
   "execution_count": 17,
   "id": "c45c5015",
   "metadata": {},
   "outputs": [
    {
     "data": {
      "text/plain": [
       "CASH_OUT    0.351663\n",
       "PAYMENT     0.338146\n",
       "CASH_IN     0.219924\n",
       "TRANSFER    0.083756\n",
       "DEBIT       0.006512\n",
       "Name: tipo, dtype: float64"
      ]
     },
     "execution_count": 17,
     "metadata": {},
     "output_type": "execute_result"
    }
   ],
   "source": [
    "fraude['tipo'].value_counts(normalize=True)"
   ]
  },
  {
   "cell_type": "code",
   "execution_count": 18,
   "id": "89899714",
   "metadata": {},
   "outputs": [
    {
     "data": {
      "text/plain": [
       "C1530544995    3\n",
       "C2051359467    3\n",
       "C1999539787    3\n",
       "C1784010646    3\n",
       "C1677795071    3\n",
       "              ..\n",
       "C126096820     1\n",
       "C1169783139    1\n",
       "C846974816     1\n",
       "C1625576299    1\n",
       "C1280323807    1\n",
       "Name: cl_origen, Length: 6353207, dtype: int64"
      ]
     },
     "execution_count": 18,
     "metadata": {},
     "output_type": "execute_result"
    }
   ],
   "source": [
    "fraude['cl_origen'].value_counts()"
   ]
  },
  {
   "cell_type": "code",
   "execution_count": 19,
   "id": "d6bc5912",
   "metadata": {},
   "outputs": [
    {
     "data": {
      "text/plain": [
       "C1286084959    113\n",
       "C985934102     109\n",
       "C665576141     105\n",
       "C248609774     101\n",
       "C1590550415    101\n",
       "              ... \n",
       "M736441915       1\n",
       "M822359294       1\n",
       "M1056764582      1\n",
       "M965053979       1\n",
       "C2080388513      1\n",
       "Name: cl_destino, Length: 2722322, dtype: int64"
      ]
     },
     "execution_count": 19,
     "metadata": {},
     "output_type": "execute_result"
    }
   ],
   "source": [
    "fraude['cl_destino'].value_counts()"
   ]
  },
  {
   "cell_type": "code",
   "execution_count": 20,
   "id": "977e3dc2",
   "metadata": {},
   "outputs": [
    {
     "data": {
      "text/plain": [
       "No                  6362504\n",
       "Detectado_fraude         16\n",
       "Name: mensaje_alarma, dtype: int64"
      ]
     },
     "execution_count": 20,
     "metadata": {},
     "output_type": "execute_result"
    }
   ],
   "source": [
    "fraude['mensaje_alarma'].value_counts()"
   ]
  },
  {
   "cell_type": "code",
   "execution_count": 21,
   "id": "a426348c",
   "metadata": {},
   "outputs": [
    {
     "data": {
      "text/plain": [
       "No                  0.999997\n",
       "Detectado_fraude    0.000003\n",
       "Name: mensaje_alarma, dtype: float64"
      ]
     },
     "execution_count": 21,
     "metadata": {},
     "output_type": "execute_result"
    }
   ],
   "source": [
    "fraude['mensaje_alarma'].value_counts(normalize=True)"
   ]
  },
  {
   "cell_type": "code",
   "execution_count": 23,
   "id": "e7307691",
   "metadata": {},
   "outputs": [],
   "source": [
    "%matplotlib inline"
   ]
  },
  {
   "cell_type": "code",
   "execution_count": 24,
   "id": "b4a1717d",
   "metadata": {},
   "outputs": [
    {
     "data": {
      "text/plain": [
       "t_id                0\n",
       "tipo                0\n",
       "tiempo              0\n",
       "monto               0\n",
       "cl_origen           0\n",
       "cl_destino          0\n",
       "es_fraude           0\n",
       "mensaje_alarma      0\n",
       "balance_prev_or     0\n",
       "balance_post_or     0\n",
       "balance_prev_des    0\n",
       "balance_post_des    0\n",
       "tipo_cod            0\n",
       "dtype: int64"
      ]
     },
     "execution_count": 24,
     "metadata": {},
     "output_type": "execute_result"
    }
   ],
   "source": [
    "# Cantidad de valores nulos por columna\n",
    "fraude.isnull().sum()"
   ]
  }
 ],
 "metadata": {
  "kernelspec": {
   "display_name": "Python 3 (ipykernel)",
   "language": "python",
   "name": "python3"
  },
  "language_info": {
   "codemirror_mode": {
    "name": "ipython",
    "version": 3
   },
   "file_extension": ".py",
   "mimetype": "text/x-python",
   "name": "python",
   "nbconvert_exporter": "python",
   "pygments_lexer": "ipython3",
   "version": "3.10.9"
  }
 },
 "nbformat": 4,
 "nbformat_minor": 5
}
