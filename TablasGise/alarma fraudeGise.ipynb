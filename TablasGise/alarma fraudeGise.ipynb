{
 "cells": [
  {
   "cell_type": "code",
   "execution_count": 8,
   "id": "42b64e57",
   "metadata": {},
   "outputs": [],
   "source": [
    "import json\n",
    "import pandas as pd\n",
    "with open(\"C:/Users/maria/OneDrive/Escritorio/pontia/alarma_fraude.json\") as f:\n",
    "    alarma_fraude=json.load(f)"
   ]
  },
  {
   "cell_type": "code",
   "execution_count": 9,
   "id": "b0bee2dc",
   "metadata": {},
   "outputs": [],
   "source": [
    "lista_alfraude=[]\n",
    "for clave, datos in alarma_fraude.items():\n",
    "        alarma={\n",
    "            't_id':datos['t_id'],\n",
    "            'mensaje_alarma':datos['mensaje_alarma']\n",
    "        }\n",
    "        lista_alfraude.append(alarma)"
   ]
  },
  {
   "cell_type": "code",
   "execution_count": 10,
   "id": "1d9ac87b",
   "metadata": {},
   "outputs": [
    {
     "data": {
      "text/plain": [
       "[{'t_id': 2736446, 'mensaje_alarma': 'Detectado_fraude'},\n",
       " {'t_id': 3247297, 'mensaje_alarma': 'Detectado_fraude'},\n",
       " {'t_id': 3760288, 'mensaje_alarma': 'Detectado_fraude'},\n",
       " {'t_id': 5563713, 'mensaje_alarma': 'Detectado_fraude'},\n",
       " {'t_id': 5996407, 'mensaje_alarma': 'Detectado_fraude'},\n",
       " {'t_id': 5996409, 'mensaje_alarma': 'Detectado_fraude'},\n",
       " {'t_id': 6168499, 'mensaje_alarma': 'Detectado_fraude'},\n",
       " {'t_id': 6205439, 'mensaje_alarma': 'Detectado_fraude'},\n",
       " {'t_id': 6266413, 'mensaje_alarma': 'Detectado_fraude'},\n",
       " {'t_id': 6281482, 'mensaje_alarma': 'Detectado_fraude'},\n",
       " {'t_id': 6281484, 'mensaje_alarma': 'Detectado_fraude'},\n",
       " {'t_id': 6296014, 'mensaje_alarma': 'Detectado_fraude'},\n",
       " {'t_id': 6351225, 'mensaje_alarma': 'Detectado_fraude'},\n",
       " {'t_id': 6362460, 'mensaje_alarma': 'Detectado_fraude'},\n",
       " {'t_id': 6362462, 'mensaje_alarma': 'Detectado_fraude'},\n",
       " {'t_id': 6362584, 'mensaje_alarma': 'Detectado_fraude'}]"
      ]
     },
     "execution_count": 10,
     "metadata": {},
     "output_type": "execute_result"
    }
   ],
   "source": [
    "lista_alfraude"
   ]
  },
  {
   "cell_type": "code",
   "execution_count": 3,
   "id": "4e1e5d51",
   "metadata": {},
   "outputs": [],
   "source": [
    "dfaf = pd.DataFrame(lista_alfraude)"
   ]
  },
  {
   "cell_type": "code",
   "execution_count": 4,
   "id": "a44449c2",
   "metadata": {},
   "outputs": [
    {
     "data": {
      "text/html": [
       "<div>\n",
       "<style scoped>\n",
       "    .dataframe tbody tr th:only-of-type {\n",
       "        vertical-align: middle;\n",
       "    }\n",
       "\n",
       "    .dataframe tbody tr th {\n",
       "        vertical-align: top;\n",
       "    }\n",
       "\n",
       "    .dataframe thead th {\n",
       "        text-align: right;\n",
       "    }\n",
       "</style>\n",
       "<table border=\"1\" class=\"dataframe\">\n",
       "  <thead>\n",
       "    <tr style=\"text-align: right;\">\n",
       "      <th></th>\n",
       "      <th>t_id</th>\n",
       "      <th>mensaje_alarma</th>\n",
       "    </tr>\n",
       "  </thead>\n",
       "  <tbody>\n",
       "    <tr>\n",
       "      <th>0</th>\n",
       "      <td>2736446</td>\n",
       "      <td>Detectado_fraude</td>\n",
       "    </tr>\n",
       "    <tr>\n",
       "      <th>1</th>\n",
       "      <td>3247297</td>\n",
       "      <td>Detectado_fraude</td>\n",
       "    </tr>\n",
       "    <tr>\n",
       "      <th>2</th>\n",
       "      <td>3760288</td>\n",
       "      <td>Detectado_fraude</td>\n",
       "    </tr>\n",
       "    <tr>\n",
       "      <th>3</th>\n",
       "      <td>5563713</td>\n",
       "      <td>Detectado_fraude</td>\n",
       "    </tr>\n",
       "    <tr>\n",
       "      <th>4</th>\n",
       "      <td>5996407</td>\n",
       "      <td>Detectado_fraude</td>\n",
       "    </tr>\n",
       "    <tr>\n",
       "      <th>5</th>\n",
       "      <td>5996409</td>\n",
       "      <td>Detectado_fraude</td>\n",
       "    </tr>\n",
       "    <tr>\n",
       "      <th>6</th>\n",
       "      <td>6168499</td>\n",
       "      <td>Detectado_fraude</td>\n",
       "    </tr>\n",
       "    <tr>\n",
       "      <th>7</th>\n",
       "      <td>6205439</td>\n",
       "      <td>Detectado_fraude</td>\n",
       "    </tr>\n",
       "    <tr>\n",
       "      <th>8</th>\n",
       "      <td>6266413</td>\n",
       "      <td>Detectado_fraude</td>\n",
       "    </tr>\n",
       "    <tr>\n",
       "      <th>9</th>\n",
       "      <td>6281482</td>\n",
       "      <td>Detectado_fraude</td>\n",
       "    </tr>\n",
       "    <tr>\n",
       "      <th>10</th>\n",
       "      <td>6281484</td>\n",
       "      <td>Detectado_fraude</td>\n",
       "    </tr>\n",
       "    <tr>\n",
       "      <th>11</th>\n",
       "      <td>6296014</td>\n",
       "      <td>Detectado_fraude</td>\n",
       "    </tr>\n",
       "    <tr>\n",
       "      <th>12</th>\n",
       "      <td>6351225</td>\n",
       "      <td>Detectado_fraude</td>\n",
       "    </tr>\n",
       "    <tr>\n",
       "      <th>13</th>\n",
       "      <td>6362460</td>\n",
       "      <td>Detectado_fraude</td>\n",
       "    </tr>\n",
       "    <tr>\n",
       "      <th>14</th>\n",
       "      <td>6362462</td>\n",
       "      <td>Detectado_fraude</td>\n",
       "    </tr>\n",
       "    <tr>\n",
       "      <th>15</th>\n",
       "      <td>6362584</td>\n",
       "      <td>Detectado_fraude</td>\n",
       "    </tr>\n",
       "  </tbody>\n",
       "</table>\n",
       "</div>"
      ],
      "text/plain": [
       "       t_id    mensaje_alarma\n",
       "0   2736446  Detectado_fraude\n",
       "1   3247297  Detectado_fraude\n",
       "2   3760288  Detectado_fraude\n",
       "3   5563713  Detectado_fraude\n",
       "4   5996407  Detectado_fraude\n",
       "5   5996409  Detectado_fraude\n",
       "6   6168499  Detectado_fraude\n",
       "7   6205439  Detectado_fraude\n",
       "8   6266413  Detectado_fraude\n",
       "9   6281482  Detectado_fraude\n",
       "10  6281484  Detectado_fraude\n",
       "11  6296014  Detectado_fraude\n",
       "12  6351225  Detectado_fraude\n",
       "13  6362460  Detectado_fraude\n",
       "14  6362462  Detectado_fraude\n",
       "15  6362584  Detectado_fraude"
      ]
     },
     "execution_count": 4,
     "metadata": {},
     "output_type": "execute_result"
    }
   ],
   "source": [
    "dfaf"
   ]
  },
  {
   "cell_type": "code",
   "execution_count": 5,
   "id": "456af8ac",
   "metadata": {},
   "outputs": [
    {
     "data": {
      "text/plain": [
       "t_id               int64\n",
       "mensaje_alarma    object\n",
       "dtype: object"
      ]
     },
     "execution_count": 5,
     "metadata": {},
     "output_type": "execute_result"
    }
   ],
   "source": [
    "dfaf.dtypes"
   ]
  }
 ],
 "metadata": {
  "kernelspec": {
   "display_name": "Python 3 (ipykernel)",
   "language": "python",
   "name": "python3"
  },
  "language_info": {
   "codemirror_mode": {
    "name": "ipython",
    "version": 3
   },
   "file_extension": ".py",
   "mimetype": "text/x-python",
   "name": "python",
   "nbconvert_exporter": "python",
   "pygments_lexer": "ipython3",
   "version": "3.10.9"
  }
 },
 "nbformat": 4,
 "nbformat_minor": 5
}
