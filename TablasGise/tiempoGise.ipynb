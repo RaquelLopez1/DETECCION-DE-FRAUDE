{
 "cells": [
  {
   "cell_type": "code",
   "execution_count": 7,
   "id": "5d4903a3",
   "metadata": {},
   "outputs": [],
   "source": [
    "import json\n",
    "import pandas as pd\n",
    "with open(\"C:/Users/maria/OneDrive/Escritorio/pontia/tiempo.json\") as f:\n",
    "    tiempo=json.load(f)"
   ]
  },
  {
   "cell_type": "code",
   "execution_count": 9,
   "id": "71d71671",
   "metadata": {},
   "outputs": [],
   "source": [
    "lista_tiempo = []\n",
    "for clave in tiempo:\n",
    "    for t_id in tiempo[clave]:\n",
    "        lista_tiempo.append([clave, t_id])"
   ]
  },
  {
   "cell_type": "code",
   "execution_count": 11,
   "id": "f88e34fc",
   "metadata": {},
   "outputs": [],
   "source": [
    "d= pd.DataFrame(lista_tiempo,columns=['tiempo', 't_id'])"
   ]
  },
  {
   "cell_type": "code",
   "execution_count": 18,
   "id": "ad3e8f79",
   "metadata": {},
   "outputs": [],
   "source": [
    "d['tiempo'] = d['tiempo'].astype(int)"
   ]
  },
  {
   "cell_type": "code",
   "execution_count": 19,
   "id": "95fecf25",
   "metadata": {},
   "outputs": [
    {
     "data": {
      "text/plain": [
       "tiempo    int32\n",
       "t_id      int64\n",
       "dtype: object"
      ]
     },
     "execution_count": 19,
     "metadata": {},
     "output_type": "execute_result"
    }
   ],
   "source": [
    "d.dtypes"
   ]
  },
  {
   "cell_type": "code",
   "execution_count": 20,
   "id": "4e1c1715",
   "metadata": {},
   "outputs": [],
   "source": [
    "from datetime import datetime, timedelta\n",
    "start_date = datetime(2022, 9, 1, 7)\n",
    "dates=[]\n",
    "for i in range(1,744):\n",
    "    dates.append(start_date + timedelta(hours=i-1))\n",
    "date=pd.DataFrame(dates,columns=['fecha y hora'])\n",
    "date.index = [i+1 for i in range(len(date))]\n",
    "datefinal=date.reset_index()"
   ]
  },
  {
   "cell_type": "code",
   "execution_count": 22,
   "id": "f1936a3b",
   "metadata": {},
   "outputs": [
    {
     "data": {
      "text/plain": [
       "Index(['index', 'fecha y hora'], dtype='object')"
      ]
     },
     "execution_count": 22,
     "metadata": {},
     "output_type": "execute_result"
    }
   ],
   "source": [
    "datefinal.columns"
   ]
  },
  {
   "cell_type": "code",
   "execution_count": 23,
   "id": "231d7aa9",
   "metadata": {},
   "outputs": [],
   "source": [
    "nuevo_dataframe = d.merge(datefinal,left_on='tiempo', right_on='index')"
   ]
  },
  {
   "cell_type": "code",
   "execution_count": 25,
   "id": "9c5a0d60",
   "metadata": {},
   "outputs": [],
   "source": [
    "dfinal=nuevo_dataframe[['t_id', 'fecha y hora']]"
   ]
  },
  {
   "cell_type": "code",
   "execution_count": 30,
   "id": "a1fddee1",
   "metadata": {},
   "outputs": [
    {
     "data": {
      "text/plain": [
       "t_id                     int64\n",
       "fecha y hora    datetime64[ns]\n",
       "dtype: object"
      ]
     },
     "execution_count": 30,
     "metadata": {},
     "output_type": "execute_result"
    }
   ],
   "source": [
    "dfinal.dtypes"
   ]
  },
  {
   "cell_type": "code",
   "execution_count": null,
   "id": "b5ef407f",
   "metadata": {},
   "outputs": [],
   "source": []
  },
  {
   "cell_type": "code",
   "execution_count": null,
   "id": "6801d57e",
   "metadata": {},
   "outputs": [],
   "source": []
  },
  {
   "cell_type": "code",
   "execution_count": null,
   "id": "e3d103cc",
   "metadata": {},
   "outputs": [],
   "source": []
  }
 ],
 "metadata": {
  "kernelspec": {
   "display_name": "Python 3 (ipykernel)",
   "language": "python",
   "name": "python3"
  },
  "language_info": {
   "codemirror_mode": {
    "name": "ipython",
    "version": 3
   },
   "file_extension": ".py",
   "mimetype": "text/x-python",
   "name": "python",
   "nbconvert_exporter": "python",
   "pygments_lexer": "ipython3",
   "version": "3.10.9"
  }
 },
 "nbformat": 4,
 "nbformat_minor": 5
}
