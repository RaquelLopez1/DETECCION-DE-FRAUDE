{
 "cells": [
  {
   "cell_type": "code",
   "execution_count": 1,
   "id": "5d4903a3",
   "metadata": {},
   "outputs": [],
   "source": [
    "import json\n",
    "import pandas as pd\n",
    "with open(\"C:/Users/maria/OneDrive/Escritorio/pontia/tiempo.json\") as f:\n",
    "    tiempo=json.load(f)"
   ]
  },
  {
   "cell_type": "code",
   "execution_count": 2,
   "id": "71d71671",
   "metadata": {},
   "outputs": [],
   "source": [
    "lista_tiempo = []\n",
    "for clave in tiempo:\n",
    "    for t_id in tiempo[clave]:\n",
    "        lista_tiempo.append([clave, t_id])"
   ]
  },
  {
   "cell_type": "code",
   "execution_count": 3,
   "id": "f88e34fc",
   "metadata": {},
   "outputs": [],
   "source": [
    "d= pd.DataFrame(lista_tiempo,columns=['tiempo', 't_id'])"
   ]
  },
  {
   "cell_type": "code",
   "execution_count": 4,
   "id": "6ddcae7e",
   "metadata": {},
   "outputs": [
    {
     "data": {
      "text/html": [
       "<div>\n",
       "<style scoped>\n",
       "    .dataframe tbody tr th:only-of-type {\n",
       "        vertical-align: middle;\n",
       "    }\n",
       "\n",
       "    .dataframe tbody tr th {\n",
       "        vertical-align: top;\n",
       "    }\n",
       "\n",
       "    .dataframe thead th {\n",
       "        text-align: right;\n",
       "    }\n",
       "</style>\n",
       "<table border=\"1\" class=\"dataframe\">\n",
       "  <thead>\n",
       "    <tr style=\"text-align: right;\">\n",
       "      <th></th>\n",
       "      <th>tiempo</th>\n",
       "      <th>t_id</th>\n",
       "    </tr>\n",
       "  </thead>\n",
       "  <tbody>\n",
       "    <tr>\n",
       "      <th>0</th>\n",
       "      <td>1</td>\n",
       "      <td>0</td>\n",
       "    </tr>\n",
       "    <tr>\n",
       "      <th>1</th>\n",
       "      <td>1</td>\n",
       "      <td>1</td>\n",
       "    </tr>\n",
       "    <tr>\n",
       "      <th>2</th>\n",
       "      <td>1</td>\n",
       "      <td>2</td>\n",
       "    </tr>\n",
       "    <tr>\n",
       "      <th>3</th>\n",
       "      <td>1</td>\n",
       "      <td>3</td>\n",
       "    </tr>\n",
       "    <tr>\n",
       "      <th>4</th>\n",
       "      <td>1</td>\n",
       "      <td>4</td>\n",
       "    </tr>\n",
       "    <tr>\n",
       "      <th>...</th>\n",
       "      <td>...</td>\n",
       "      <td>...</td>\n",
       "    </tr>\n",
       "    <tr>\n",
       "      <th>6362615</th>\n",
       "      <td>743</td>\n",
       "      <td>6362615</td>\n",
       "    </tr>\n",
       "    <tr>\n",
       "      <th>6362616</th>\n",
       "      <td>743</td>\n",
       "      <td>6362616</td>\n",
       "    </tr>\n",
       "    <tr>\n",
       "      <th>6362617</th>\n",
       "      <td>743</td>\n",
       "      <td>6362617</td>\n",
       "    </tr>\n",
       "    <tr>\n",
       "      <th>6362618</th>\n",
       "      <td>743</td>\n",
       "      <td>6362618</td>\n",
       "    </tr>\n",
       "    <tr>\n",
       "      <th>6362619</th>\n",
       "      <td>743</td>\n",
       "      <td>6362619</td>\n",
       "    </tr>\n",
       "  </tbody>\n",
       "</table>\n",
       "<p>6362620 rows × 2 columns</p>\n",
       "</div>"
      ],
      "text/plain": [
       "        tiempo     t_id\n",
       "0            1        0\n",
       "1            1        1\n",
       "2            1        2\n",
       "3            1        3\n",
       "4            1        4\n",
       "...        ...      ...\n",
       "6362615    743  6362615\n",
       "6362616    743  6362616\n",
       "6362617    743  6362617\n",
       "6362618    743  6362618\n",
       "6362619    743  6362619\n",
       "\n",
       "[6362620 rows x 2 columns]"
      ]
     },
     "execution_count": 4,
     "metadata": {},
     "output_type": "execute_result"
    }
   ],
   "source": [
    "d"
   ]
  },
  {
   "cell_type": "code",
   "execution_count": 5,
   "id": "ad3e8f79",
   "metadata": {},
   "outputs": [],
   "source": [
    "d['tiempo'] = d['tiempo'].astype(int)"
   ]
  },
  {
   "cell_type": "code",
   "execution_count": 6,
   "id": "95fecf25",
   "metadata": {},
   "outputs": [
    {
     "data": {
      "text/plain": [
       "tiempo    int32\n",
       "t_id      int64\n",
       "dtype: object"
      ]
     },
     "execution_count": 6,
     "metadata": {},
     "output_type": "execute_result"
    }
   ],
   "source": [
    "d.dtypes"
   ]
  },
  {
   "cell_type": "code",
   "execution_count": 7,
   "id": "4e1c1715",
   "metadata": {},
   "outputs": [],
   "source": [
    "from datetime import datetime, timedelta\n",
    "start_date = datetime(2022, 9, 1, 7)\n",
    "dates=[]\n",
    "for i in range(1,744):\n",
    "    dates.append(start_date + timedelta(hours=i-1))\n",
    "date=pd.DataFrame(dates,columns=['fecha y hora'])\n",
    "date.index = [i+1 for i in range(len(date))]\n",
    "datefinal=date.reset_index()"
   ]
  },
  {
   "cell_type": "code",
   "execution_count": 8,
   "id": "35adbafc",
   "metadata": {},
   "outputs": [
    {
     "data": {
      "text/html": [
       "<div>\n",
       "<style scoped>\n",
       "    .dataframe tbody tr th:only-of-type {\n",
       "        vertical-align: middle;\n",
       "    }\n",
       "\n",
       "    .dataframe tbody tr th {\n",
       "        vertical-align: top;\n",
       "    }\n",
       "\n",
       "    .dataframe thead th {\n",
       "        text-align: right;\n",
       "    }\n",
       "</style>\n",
       "<table border=\"1\" class=\"dataframe\">\n",
       "  <thead>\n",
       "    <tr style=\"text-align: right;\">\n",
       "      <th></th>\n",
       "      <th>index</th>\n",
       "      <th>fecha y hora</th>\n",
       "    </tr>\n",
       "  </thead>\n",
       "  <tbody>\n",
       "    <tr>\n",
       "      <th>733</th>\n",
       "      <td>734</td>\n",
       "      <td>2022-10-01 20:00:00</td>\n",
       "    </tr>\n",
       "    <tr>\n",
       "      <th>734</th>\n",
       "      <td>735</td>\n",
       "      <td>2022-10-01 21:00:00</td>\n",
       "    </tr>\n",
       "    <tr>\n",
       "      <th>735</th>\n",
       "      <td>736</td>\n",
       "      <td>2022-10-01 22:00:00</td>\n",
       "    </tr>\n",
       "    <tr>\n",
       "      <th>736</th>\n",
       "      <td>737</td>\n",
       "      <td>2022-10-01 23:00:00</td>\n",
       "    </tr>\n",
       "    <tr>\n",
       "      <th>737</th>\n",
       "      <td>738</td>\n",
       "      <td>2022-10-02 00:00:00</td>\n",
       "    </tr>\n",
       "    <tr>\n",
       "      <th>738</th>\n",
       "      <td>739</td>\n",
       "      <td>2022-10-02 01:00:00</td>\n",
       "    </tr>\n",
       "    <tr>\n",
       "      <th>739</th>\n",
       "      <td>740</td>\n",
       "      <td>2022-10-02 02:00:00</td>\n",
       "    </tr>\n",
       "    <tr>\n",
       "      <th>740</th>\n",
       "      <td>741</td>\n",
       "      <td>2022-10-02 03:00:00</td>\n",
       "    </tr>\n",
       "    <tr>\n",
       "      <th>741</th>\n",
       "      <td>742</td>\n",
       "      <td>2022-10-02 04:00:00</td>\n",
       "    </tr>\n",
       "    <tr>\n",
       "      <th>742</th>\n",
       "      <td>743</td>\n",
       "      <td>2022-10-02 05:00:00</td>\n",
       "    </tr>\n",
       "  </tbody>\n",
       "</table>\n",
       "</div>"
      ],
      "text/plain": [
       "     index        fecha y hora\n",
       "733    734 2022-10-01 20:00:00\n",
       "734    735 2022-10-01 21:00:00\n",
       "735    736 2022-10-01 22:00:00\n",
       "736    737 2022-10-01 23:00:00\n",
       "737    738 2022-10-02 00:00:00\n",
       "738    739 2022-10-02 01:00:00\n",
       "739    740 2022-10-02 02:00:00\n",
       "740    741 2022-10-02 03:00:00\n",
       "741    742 2022-10-02 04:00:00\n",
       "742    743 2022-10-02 05:00:00"
      ]
     },
     "execution_count": 8,
     "metadata": {},
     "output_type": "execute_result"
    }
   ],
   "source": [
    "datefinal.tail(10)"
   ]
  },
  {
   "cell_type": "code",
   "execution_count": 9,
   "id": "f1936a3b",
   "metadata": {},
   "outputs": [
    {
     "data": {
      "text/plain": [
       "Index(['index', 'fecha y hora'], dtype='object')"
      ]
     },
     "execution_count": 9,
     "metadata": {},
     "output_type": "execute_result"
    }
   ],
   "source": [
    "datefinal.columns"
   ]
  },
  {
   "cell_type": "code",
   "execution_count": 10,
   "id": "231d7aa9",
   "metadata": {},
   "outputs": [],
   "source": [
    "nuevo_dataframe = d.merge(datefinal,left_on='tiempo', right_on='index')"
   ]
  },
  {
   "cell_type": "code",
   "execution_count": 11,
   "id": "8e40dd41",
   "metadata": {},
   "outputs": [
    {
     "data": {
      "text/html": [
       "<div>\n",
       "<style scoped>\n",
       "    .dataframe tbody tr th:only-of-type {\n",
       "        vertical-align: middle;\n",
       "    }\n",
       "\n",
       "    .dataframe tbody tr th {\n",
       "        vertical-align: top;\n",
       "    }\n",
       "\n",
       "    .dataframe thead th {\n",
       "        text-align: right;\n",
       "    }\n",
       "</style>\n",
       "<table border=\"1\" class=\"dataframe\">\n",
       "  <thead>\n",
       "    <tr style=\"text-align: right;\">\n",
       "      <th></th>\n",
       "      <th>tiempo</th>\n",
       "      <th>t_id</th>\n",
       "      <th>index</th>\n",
       "      <th>fecha y hora</th>\n",
       "    </tr>\n",
       "  </thead>\n",
       "  <tbody>\n",
       "    <tr>\n",
       "      <th>6362610</th>\n",
       "      <td>742</td>\n",
       "      <td>6362610</td>\n",
       "      <td>742</td>\n",
       "      <td>2022-10-02 04:00:00</td>\n",
       "    </tr>\n",
       "    <tr>\n",
       "      <th>6362611</th>\n",
       "      <td>742</td>\n",
       "      <td>6362611</td>\n",
       "      <td>742</td>\n",
       "      <td>2022-10-02 04:00:00</td>\n",
       "    </tr>\n",
       "    <tr>\n",
       "      <th>6362612</th>\n",
       "      <td>743</td>\n",
       "      <td>6362612</td>\n",
       "      <td>743</td>\n",
       "      <td>2022-10-02 05:00:00</td>\n",
       "    </tr>\n",
       "    <tr>\n",
       "      <th>6362613</th>\n",
       "      <td>743</td>\n",
       "      <td>6362613</td>\n",
       "      <td>743</td>\n",
       "      <td>2022-10-02 05:00:00</td>\n",
       "    </tr>\n",
       "    <tr>\n",
       "      <th>6362614</th>\n",
       "      <td>743</td>\n",
       "      <td>6362614</td>\n",
       "      <td>743</td>\n",
       "      <td>2022-10-02 05:00:00</td>\n",
       "    </tr>\n",
       "    <tr>\n",
       "      <th>6362615</th>\n",
       "      <td>743</td>\n",
       "      <td>6362615</td>\n",
       "      <td>743</td>\n",
       "      <td>2022-10-02 05:00:00</td>\n",
       "    </tr>\n",
       "    <tr>\n",
       "      <th>6362616</th>\n",
       "      <td>743</td>\n",
       "      <td>6362616</td>\n",
       "      <td>743</td>\n",
       "      <td>2022-10-02 05:00:00</td>\n",
       "    </tr>\n",
       "    <tr>\n",
       "      <th>6362617</th>\n",
       "      <td>743</td>\n",
       "      <td>6362617</td>\n",
       "      <td>743</td>\n",
       "      <td>2022-10-02 05:00:00</td>\n",
       "    </tr>\n",
       "    <tr>\n",
       "      <th>6362618</th>\n",
       "      <td>743</td>\n",
       "      <td>6362618</td>\n",
       "      <td>743</td>\n",
       "      <td>2022-10-02 05:00:00</td>\n",
       "    </tr>\n",
       "    <tr>\n",
       "      <th>6362619</th>\n",
       "      <td>743</td>\n",
       "      <td>6362619</td>\n",
       "      <td>743</td>\n",
       "      <td>2022-10-02 05:00:00</td>\n",
       "    </tr>\n",
       "  </tbody>\n",
       "</table>\n",
       "</div>"
      ],
      "text/plain": [
       "         tiempo     t_id  index        fecha y hora\n",
       "6362610     742  6362610    742 2022-10-02 04:00:00\n",
       "6362611     742  6362611    742 2022-10-02 04:00:00\n",
       "6362612     743  6362612    743 2022-10-02 05:00:00\n",
       "6362613     743  6362613    743 2022-10-02 05:00:00\n",
       "6362614     743  6362614    743 2022-10-02 05:00:00\n",
       "6362615     743  6362615    743 2022-10-02 05:00:00\n",
       "6362616     743  6362616    743 2022-10-02 05:00:00\n",
       "6362617     743  6362617    743 2022-10-02 05:00:00\n",
       "6362618     743  6362618    743 2022-10-02 05:00:00\n",
       "6362619     743  6362619    743 2022-10-02 05:00:00"
      ]
     },
     "execution_count": 11,
     "metadata": {},
     "output_type": "execute_result"
    }
   ],
   "source": [
    "nuevo_dataframe.tail(10)"
   ]
  },
  {
   "cell_type": "code",
   "execution_count": 12,
   "id": "9c5a0d60",
   "metadata": {},
   "outputs": [],
   "source": [
    "dfinal=nuevo_dataframe[['t_id', 'fecha y hora']]"
   ]
  },
  {
   "cell_type": "code",
   "execution_count": 13,
   "id": "668cf401",
   "metadata": {},
   "outputs": [
    {
     "data": {
      "text/html": [
       "<div>\n",
       "<style scoped>\n",
       "    .dataframe tbody tr th:only-of-type {\n",
       "        vertical-align: middle;\n",
       "    }\n",
       "\n",
       "    .dataframe tbody tr th {\n",
       "        vertical-align: top;\n",
       "    }\n",
       "\n",
       "    .dataframe thead th {\n",
       "        text-align: right;\n",
       "    }\n",
       "</style>\n",
       "<table border=\"1\" class=\"dataframe\">\n",
       "  <thead>\n",
       "    <tr style=\"text-align: right;\">\n",
       "      <th></th>\n",
       "      <th>t_id</th>\n",
       "      <th>fecha y hora</th>\n",
       "    </tr>\n",
       "  </thead>\n",
       "  <tbody>\n",
       "    <tr>\n",
       "      <th>0</th>\n",
       "      <td>0</td>\n",
       "      <td>2022-09-01 07:00:00</td>\n",
       "    </tr>\n",
       "    <tr>\n",
       "      <th>1</th>\n",
       "      <td>1</td>\n",
       "      <td>2022-09-01 07:00:00</td>\n",
       "    </tr>\n",
       "    <tr>\n",
       "      <th>2</th>\n",
       "      <td>2</td>\n",
       "      <td>2022-09-01 07:00:00</td>\n",
       "    </tr>\n",
       "    <tr>\n",
       "      <th>3</th>\n",
       "      <td>3</td>\n",
       "      <td>2022-09-01 07:00:00</td>\n",
       "    </tr>\n",
       "    <tr>\n",
       "      <th>4</th>\n",
       "      <td>4</td>\n",
       "      <td>2022-09-01 07:00:00</td>\n",
       "    </tr>\n",
       "    <tr>\n",
       "      <th>...</th>\n",
       "      <td>...</td>\n",
       "      <td>...</td>\n",
       "    </tr>\n",
       "    <tr>\n",
       "      <th>6362615</th>\n",
       "      <td>6362615</td>\n",
       "      <td>2022-10-02 05:00:00</td>\n",
       "    </tr>\n",
       "    <tr>\n",
       "      <th>6362616</th>\n",
       "      <td>6362616</td>\n",
       "      <td>2022-10-02 05:00:00</td>\n",
       "    </tr>\n",
       "    <tr>\n",
       "      <th>6362617</th>\n",
       "      <td>6362617</td>\n",
       "      <td>2022-10-02 05:00:00</td>\n",
       "    </tr>\n",
       "    <tr>\n",
       "      <th>6362618</th>\n",
       "      <td>6362618</td>\n",
       "      <td>2022-10-02 05:00:00</td>\n",
       "    </tr>\n",
       "    <tr>\n",
       "      <th>6362619</th>\n",
       "      <td>6362619</td>\n",
       "      <td>2022-10-02 05:00:00</td>\n",
       "    </tr>\n",
       "  </tbody>\n",
       "</table>\n",
       "<p>6362620 rows × 2 columns</p>\n",
       "</div>"
      ],
      "text/plain": [
       "            t_id        fecha y hora\n",
       "0              0 2022-09-01 07:00:00\n",
       "1              1 2022-09-01 07:00:00\n",
       "2              2 2022-09-01 07:00:00\n",
       "3              3 2022-09-01 07:00:00\n",
       "4              4 2022-09-01 07:00:00\n",
       "...          ...                 ...\n",
       "6362615  6362615 2022-10-02 05:00:00\n",
       "6362616  6362616 2022-10-02 05:00:00\n",
       "6362617  6362617 2022-10-02 05:00:00\n",
       "6362618  6362618 2022-10-02 05:00:00\n",
       "6362619  6362619 2022-10-02 05:00:00\n",
       "\n",
       "[6362620 rows x 2 columns]"
      ]
     },
     "execution_count": 13,
     "metadata": {},
     "output_type": "execute_result"
    }
   ],
   "source": [
    "dfinal"
   ]
  },
  {
   "cell_type": "code",
   "execution_count": 14,
   "id": "a1fddee1",
   "metadata": {},
   "outputs": [
    {
     "data": {
      "text/plain": [
       "t_id                     int64\n",
       "fecha y hora    datetime64[ns]\n",
       "dtype: object"
      ]
     },
     "execution_count": 14,
     "metadata": {},
     "output_type": "execute_result"
    }
   ],
   "source": [
    "dfinal.dtypes"
   ]
  },
  {
   "cell_type": "code",
   "execution_count": null,
   "id": "b5ef407f",
   "metadata": {},
   "outputs": [],
   "source": []
  }
 ],
 "metadata": {
  "kernelspec": {
   "display_name": "Python 3 (ipykernel)",
   "language": "python",
   "name": "python3"
  },
  "language_info": {
   "codemirror_mode": {
    "name": "ipython",
    "version": 3
   },
   "file_extension": ".py",
   "mimetype": "text/x-python",
   "name": "python",
   "nbconvert_exporter": "python",
   "pygments_lexer": "ipython3",
   "version": "3.10.9"
  }
 },
 "nbformat": 4,
 "nbformat_minor": 5
}
