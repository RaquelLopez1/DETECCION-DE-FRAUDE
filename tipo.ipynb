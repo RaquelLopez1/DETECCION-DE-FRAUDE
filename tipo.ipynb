{
 "cells": [
  {
   "cell_type": "code",
   "execution_count": 1,
   "metadata": {},
   "outputs": [],
   "source": [
    "import json\n",
    "import pandas as pd"
   ]
  },
  {
   "cell_type": "code",
   "execution_count": 2,
   "metadata": {},
   "outputs": [],
   "source": [
    "#importamos json:\n",
    "with open('tipo.json') as f:\n",
    "    data=json.load(f)"
   ]
  },
  {
   "cell_type": "code",
   "execution_count": 3,
   "metadata": {},
   "outputs": [],
   "source": [
    "#Pasamos json a dataframe:\n",
    "df=pd.DataFrame.from_dict(data, orient=\"index\")"
   ]
  },
  {
   "cell_type": "code",
   "execution_count": 6,
   "metadata": {},
   "outputs": [
    {
     "data": {
      "text/html": [
       "<div>\n",
       "<style scoped>\n",
       "    .dataframe tbody tr th:only-of-type {\n",
       "        vertical-align: middle;\n",
       "    }\n",
       "\n",
       "    .dataframe tbody tr th {\n",
       "        vertical-align: top;\n",
       "    }\n",
       "\n",
       "    .dataframe thead th {\n",
       "        text-align: right;\n",
       "    }\n",
       "</style>\n",
       "<table border=\"1\" class=\"dataframe\">\n",
       "  <thead>\n",
       "    <tr style=\"text-align: right;\">\n",
       "      <th></th>\n",
       "      <th>tipo</th>\n",
       "      <th>t_id</th>\n",
       "    </tr>\n",
       "  </thead>\n",
       "  <tbody>\n",
       "    <tr>\n",
       "      <th>PAYMENT</th>\n",
       "      <td>PAYMENT</td>\n",
       "      <td>[0, 1, 4, 5, 6, 7, 8, 11, 12, 13, 14, 16, 17, ...</td>\n",
       "    </tr>\n",
       "    <tr>\n",
       "      <th>TRANSFER</th>\n",
       "      <td>TRANSFER</td>\n",
       "      <td>[2, 19, 24, 58, 78, 79, 80, 81, 82, 83, 84, 85...</td>\n",
       "    </tr>\n",
       "    <tr>\n",
       "      <th>CASH_OUT</th>\n",
       "      <td>CASH_OUT</td>\n",
       "      <td>[3, 15, 42, 47, 48, 51, 60, 70, 71, 72, 106, 1...</td>\n",
       "    </tr>\n",
       "    <tr>\n",
       "      <th>DEBIT</th>\n",
       "      <td>DEBIT</td>\n",
       "      <td>[9, 10, 21, 22, 41, 59, 61, 62, 64, 68, 121, 1...</td>\n",
       "    </tr>\n",
       "    <tr>\n",
       "      <th>CASH_IN</th>\n",
       "      <td>CASH_IN</td>\n",
       "      <td>[389, 390, 391, 392, 393, 394, 395, 396, 397, ...</td>\n",
       "    </tr>\n",
       "  </tbody>\n",
       "</table>\n",
       "</div>"
      ],
      "text/plain": [
       "              tipo                                               t_id\n",
       "PAYMENT    PAYMENT  [0, 1, 4, 5, 6, 7, 8, 11, 12, 13, 14, 16, 17, ...\n",
       "TRANSFER  TRANSFER  [2, 19, 24, 58, 78, 79, 80, 81, 82, 83, 84, 85...\n",
       "CASH_OUT  CASH_OUT  [3, 15, 42, 47, 48, 51, 60, 70, 71, 72, 106, 1...\n",
       "DEBIT        DEBIT  [9, 10, 21, 22, 41, 59, 61, 62, 64, 68, 121, 1...\n",
       "CASH_IN    CASH_IN  [389, 390, 391, 392, 393, 394, 395, 396, 397, ..."
      ]
     },
     "execution_count": 6,
     "metadata": {},
     "output_type": "execute_result"
    }
   ],
   "source": [
    "df.head(20)"
   ]
  },
  {
   "cell_type": "code",
   "execution_count": 7,
   "metadata": {},
   "outputs": [],
   "source": [
    "#exportamos a csv:\n",
    "#df.to_csv('D:/JUPITER/data/tipo.csv',index=False)"
   ]
  }
 ],
 "metadata": {
  "kernelspec": {
   "display_name": "Python 3",
   "language": "python",
   "name": "python3"
  },
  "language_info": {
   "codemirror_mode": {
    "name": "ipython",
    "version": 3
   },
   "file_extension": ".py",
   "mimetype": "text/x-python",
   "name": "python",
   "nbconvert_exporter": "python",
   "pygments_lexer": "ipython3",
   "version": "3.11.3"
  },
  "orig_nbformat": 4
 },
 "nbformat": 4,
 "nbformat_minor": 2
}
