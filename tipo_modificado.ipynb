{
 "cells": [
  {
   "cell_type": "code",
   "execution_count": 1,
   "metadata": {},
   "outputs": [],
   "source": [
    "import json\n",
    "import pandas as pd"
   ]
  },
  {
   "cell_type": "code",
   "execution_count": 2,
   "metadata": {},
   "outputs": [],
   "source": [
    "with open('C:/Users/Pc/Desktop/Máster/Data Science (Pontia)/Proyecto Jupyter/tipo.json') as f:\n",
    "    d = json.load(f)"
   ]
  },
  {
   "cell_type": "code",
   "execution_count": 3,
   "metadata": {},
   "outputs": [],
   "source": [
    "data={'t_id':[], 'tipo':[]}\n",
    "\n",
    "for elemento in d[\"PAYMENT\"][\"t_id\"]:\n",
    "    data['t_id'].append(elemento)\n",
    "    data['tipo'].append(\"PAYMENT\")\n",
    "\n",
    "for elemento in d[\"TRANSFER\"][\"t_id\"]:\n",
    "    data['t_id'].append(elemento)\n",
    "    data['tipo'].append(\"TRANSFER\")\n",
    "\n",
    "for elemento in d[\"CASH_OUT\"][\"t_id\"]:\n",
    "    data['t_id'].append(elemento)\n",
    "    data['tipo'].append(\"CASH_OUT\")\n",
    "\n",
    "for elemento in d[\"DEBIT\"][\"t_id\"]:\n",
    "    data['t_id'].append(elemento)\n",
    "    data['tipo'].append(\"DEBIT\")\n",
    "\n",
    "for elemento in d[\"CASH_IN\"][\"t_id\"]:\n",
    "    data['t_id'].append(elemento)\n",
    "    data['tipo'].append(\"CASH_IN\")"
   ]
  },
  {
   "cell_type": "code",
   "execution_count": 4,
   "metadata": {},
   "outputs": [
    {
     "name": "stdout",
     "output_type": "stream",
     "text": [
      "   t_id     tipo\n",
      "0     0  PAYMENT\n",
      "1     1  PAYMENT\n",
      "2     4  PAYMENT\n",
      "3     5  PAYMENT\n",
      "4     6  PAYMENT\n"
     ]
    }
   ],
   "source": [
    "df = pd.DataFrame(data)\n",
    "print(df.head(5))"
   ]
  },
  {
   "cell_type": "code",
   "execution_count": null,
   "metadata": {},
   "outputs": [],
   "source": [
    "df.to_csv('tipo.csv', sep= '|')"
   ]
  }
 ],
 "metadata": {
  "kernelspec": {
   "display_name": "Python 3",
   "language": "python",
   "name": "python3"
  },
  "language_info": {
   "codemirror_mode": {
    "name": "ipython",
    "version": 3
   },
   "file_extension": ".py",
   "mimetype": "text/x-python",
   "name": "python",
   "nbconvert_exporter": "python",
   "pygments_lexer": "ipython3",
   "version": "3.11.2"
  },
  "orig_nbformat": 4
 },
 "nbformat": 4,
 "nbformat_minor": 2
}
